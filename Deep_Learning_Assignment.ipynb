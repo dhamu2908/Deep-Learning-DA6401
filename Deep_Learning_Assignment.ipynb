{
  "nbformat": 4,
  "nbformat_minor": 0,
  "metadata": {
    "colab": {
      "provenance": [],
      "authorship_tag": "ABX9TyOfX4He5iM+4S+S50A/6bns",
      "include_colab_link": true
    },
    "kernelspec": {
      "name": "python3",
      "display_name": "Python 3"
    },
    "language_info": {
      "name": "python"
    }
  },
  "cells": [
    {
      "cell_type": "markdown",
      "metadata": {
        "id": "view-in-github",
        "colab_type": "text"
      },
      "source": [
        "<a href=\"https://colab.research.google.com/github/dhamu2908/Deep-Learning-DA6401/blob/main/Deep_Learning_Assignment.ipynb\" target=\"_parent\"><img src=\"https://colab.research.google.com/assets/colab-badge.svg\" alt=\"Open In Colab\"/></a>"
      ]
    },
    {
      "cell_type": "code",
      "execution_count": 3,
      "metadata": {
        "id": "gy9sTrQH8P_B"
      },
      "outputs": [],
      "source": [
        "#importing packages\n",
        "from keras.datasets import fashion_mnist\n",
        "from keras.datasets import mnist\n",
        "import pandas as pd\n",
        "import numpy as np\n",
        "import wandb\n",
        "import math\n",
        "import matplotlib.pyplot as plt\n",
        "import seaborn as sns\n",
        "import numpy as np\n",
        "from sklearn.model_selection import train_test_split\n",
        "from tensorflow.keras.datasets import fashion_mnist"
      ]
    },
    {
      "cell_type": "code",
      "source": [
        "# Loading the Fashion MNIST dataset\n",
        "(train_data, train_labels), (test_data , test_labels) = fashion_mnist.load_data()\n",
        "\n",
        "# Defining class names\n",
        "fashion_classes = ['Ankle boot', 'Sandal', 'Trouser', 'Shirt', 'Coat', 'Bag', 'T-shirt/top', 'Dress', 'Pullover', 'Sneaker']\n",
        "\n",
        "# Function to select one image for one class\n",
        "def select_images_per_class(images, labels, num_classes=10):\n",
        "    selected_images = []\n",
        "    for class_id in range(num_classes):\n",
        "        # Find the first image that belongs to the current class\n",
        "        first_image_index = np.where(labels == class_id)[0][0]\n",
        "        selected_images.append(images[first_image_index])\n",
        "    return selected_images\n",
        "\n",
        "# Selecting one image for one class\n",
        "selected_images = select_images_per_class(train_data, train_labels)\n",
        "\n",
        "# Function to visualize\n",
        "def visualize_and_log_images(images, class_names, save_filename='fashion_mnist_samples.png'):\n",
        "    plt.figure(figsize=(10, 5))\n",
        "    for i in range(len(images)):\n",
        "        plt.subplot(2, 5, i + 1)\n",
        "        plt.imshow(images[i], cmap='gray')\n",
        "        plt.title(class_names[i])\n",
        "        plt.axis('off')\n",
        "    plt.tight_layout()\n",
        "    plt.savefig(save_filename)\n",
        "\n",
        "    wandb.login()\n",
        "    wandb.init(project='Deep_Learning_Assignment', name = \"Fashion-Images\")\n",
        "    wandb.log({\"Fashion MNIST Samples\": wandb.Image(save_filename)})\n",
        "\n",
        "    plt.show()\n",
        "\n",
        "visualize_and_log_images(selected_images, fashion_classes)"
      ],
      "metadata": {
        "colab": {
          "base_uri": "https://localhost:8080/",
          "height": 872
        },
        "collapsed": true,
        "id": "j7cgtvvV8X7M",
        "outputId": "31ce2aad-b9fc-4476-90a1-081a8e63977e"
      },
      "execution_count": 2,
      "outputs": [
        {
          "output_type": "stream",
          "name": "stdout",
          "text": [
            "Downloading data from https://storage.googleapis.com/tensorflow/tf-keras-datasets/train-labels-idx1-ubyte.gz\n",
            "\u001b[1m29515/29515\u001b[0m \u001b[32m━━━━━━━━━━━━━━━━━━━━\u001b[0m\u001b[37m\u001b[0m \u001b[1m0s\u001b[0m 0us/step\n",
            "Downloading data from https://storage.googleapis.com/tensorflow/tf-keras-datasets/train-images-idx3-ubyte.gz\n",
            "\u001b[1m26421880/26421880\u001b[0m \u001b[32m━━━━━━━━━━━━━━━━━━━━\u001b[0m\u001b[37m\u001b[0m \u001b[1m0s\u001b[0m 0us/step\n",
            "Downloading data from https://storage.googleapis.com/tensorflow/tf-keras-datasets/t10k-labels-idx1-ubyte.gz\n",
            "\u001b[1m5148/5148\u001b[0m \u001b[32m━━━━━━━━━━━━━━━━━━━━\u001b[0m\u001b[37m\u001b[0m \u001b[1m0s\u001b[0m 0us/step\n",
            "Downloading data from https://storage.googleapis.com/tensorflow/tf-keras-datasets/t10k-images-idx3-ubyte.gz\n",
            "\u001b[1m4422102/4422102\u001b[0m \u001b[32m━━━━━━━━━━━━━━━━━━━━\u001b[0m\u001b[37m\u001b[0m \u001b[1m0s\u001b[0m 0us/step\n"
          ]
        },
        {
          "output_type": "stream",
          "name": "stderr",
          "text": [
            "\u001b[34m\u001b[1mwandb\u001b[0m: Using wandb-core as the SDK backend.  Please refer to https://wandb.me/wandb-core for more information.\n"
          ]
        },
        {
          "output_type": "display_data",
          "data": {
            "text/plain": [
              "<IPython.core.display.Javascript object>"
            ],
            "application/javascript": [
              "\n",
              "        window._wandbApiKey = new Promise((resolve, reject) => {\n",
              "            function loadScript(url) {\n",
              "            return new Promise(function(resolve, reject) {\n",
              "                let newScript = document.createElement(\"script\");\n",
              "                newScript.onerror = reject;\n",
              "                newScript.onload = resolve;\n",
              "                document.body.appendChild(newScript);\n",
              "                newScript.src = url;\n",
              "            });\n",
              "            }\n",
              "            loadScript(\"https://cdn.jsdelivr.net/npm/postmate/build/postmate.min.js\").then(() => {\n",
              "            const iframe = document.createElement('iframe')\n",
              "            iframe.style.cssText = \"width:0;height:0;border:none\"\n",
              "            document.body.appendChild(iframe)\n",
              "            const handshake = new Postmate({\n",
              "                container: iframe,\n",
              "                url: 'https://wandb.ai/authorize'\n",
              "            });\n",
              "            const timeout = setTimeout(() => reject(\"Couldn't auto authenticate\"), 5000)\n",
              "            handshake.then(function(child) {\n",
              "                child.on('authorize', data => {\n",
              "                    clearTimeout(timeout)\n",
              "                    resolve(data)\n",
              "                });\n",
              "            });\n",
              "            })\n",
              "        });\n",
              "    "
            ]
          },
          "metadata": {}
        },
        {
          "output_type": "stream",
          "name": "stderr",
          "text": [
            "\u001b[34m\u001b[1mwandb\u001b[0m: Logging into wandb.ai. (Learn how to deploy a W&B server locally: https://wandb.me/wandb-server)\n",
            "\u001b[34m\u001b[1mwandb\u001b[0m: You can find your API key in your browser here: https://wandb.ai/authorize\n",
            "wandb: Paste an API key from your profile and hit enter:"
          ]
        },
        {
          "name": "stdout",
          "output_type": "stream",
          "text": [
            " ··········\n"
          ]
        },
        {
          "output_type": "stream",
          "name": "stderr",
          "text": [
            "\u001b[34m\u001b[1mwandb\u001b[0m: \u001b[33mWARNING\u001b[0m If you're specifying your api key in code, ensure this code is not shared publicly.\n",
            "\u001b[34m\u001b[1mwandb\u001b[0m: \u001b[33mWARNING\u001b[0m Consider setting the WANDB_API_KEY environment variable, or running `wandb login` from the command line.\n",
            "\u001b[34m\u001b[1mwandb\u001b[0m: No netrc file found, creating one.\n",
            "\u001b[34m\u001b[1mwandb\u001b[0m: Appending key for api.wandb.ai to your netrc file: /root/.netrc\n",
            "\u001b[34m\u001b[1mwandb\u001b[0m: Currently logged in as: \u001b[33mdhamu2908\u001b[0m (\u001b[33mm_dhamu2908\u001b[0m) to \u001b[32mhttps://api.wandb.ai\u001b[0m. Use \u001b[1m`wandb login --relogin`\u001b[0m to force relogin\n"
          ]
        },
        {
          "output_type": "display_data",
          "data": {
            "text/plain": [
              "<IPython.core.display.HTML object>"
            ],
            "text/html": [
              "Tracking run with wandb version 0.19.7"
            ]
          },
          "metadata": {}
        },
        {
          "output_type": "display_data",
          "data": {
            "text/plain": [
              "<IPython.core.display.HTML object>"
            ],
            "text/html": [
              "Run data is saved locally in <code>/content/wandb/run-20250316_123530-oe1o8u23</code>"
            ]
          },
          "metadata": {}
        },
        {
          "output_type": "display_data",
          "data": {
            "text/plain": [
              "<IPython.core.display.HTML object>"
            ],
            "text/html": [
              "Syncing run <strong><a href='https://wandb.ai/m_dhamu2908/Deep_Learning_Assignment/runs/oe1o8u23' target=\"_blank\">Fashion-Images</a></strong> to <a href='https://wandb.ai/m_dhamu2908/Deep_Learning_Assignment' target=\"_blank\">Weights & Biases</a> (<a href='https://wandb.me/developer-guide' target=\"_blank\">docs</a>)<br>"
            ]
          },
          "metadata": {}
        },
        {
          "output_type": "display_data",
          "data": {
            "text/plain": [
              "<IPython.core.display.HTML object>"
            ],
            "text/html": [
              " View project at <a href='https://wandb.ai/m_dhamu2908/Deep_Learning_Assignment' target=\"_blank\">https://wandb.ai/m_dhamu2908/Deep_Learning_Assignment</a>"
            ]
          },
          "metadata": {}
        },
        {
          "output_type": "display_data",
          "data": {
            "text/plain": [
              "<IPython.core.display.HTML object>"
            ],
            "text/html": [
              " View run at <a href='https://wandb.ai/m_dhamu2908/Deep_Learning_Assignment/runs/oe1o8u23' target=\"_blank\">https://wandb.ai/m_dhamu2908/Deep_Learning_Assignment/runs/oe1o8u23</a>"
            ]
          },
          "metadata": {}
        },
        {
          "output_type": "display_data",
          "data": {
            "text/plain": [
              "<Figure size 1000x500 with 10 Axes>"
            ],
            "image/png": "[encoded data removed]"
          },
          "metadata": {}
        }
      ]
    },
    {
      "cell_type": "code",
      "source": [
        "# Function to preprocess\n",
        "def preprocess_image_data(images):\n",
        "    return np.array([img.flatten() / 255.0 for img in images])\n",
        "\n",
        "# Loading the Fashion MNIST dataset\n",
        "(train_data, train_labels), (test_data, y_test_data) = fashion_mnist.load_data()\n",
        "\n",
        "# Preprocessing the training and test datasets\n",
        "x_total_train_processed = preprocess_image_data(train_data)\n",
        "x_test_processed = preprocess_image_data(test_data)\n",
        "\n",
        "# Split the training data into training and validation sets randomly\n",
        "train_validation_split_ratio = 0.9  # 90% training, 10% validation\n",
        "x_train_final, x_validation_final, y_train_final, y_validation_final = train_test_split(\n",
        "    x_total_train_processed, train_labels, train_size=train_validation_split_ratio, random_state=42\n",
        ")\n",
        "\n",
        "flattened_test_data = []\n",
        "\n",
        "\n",
        "for i in range(0, len(test_data)):\n",
        "    flattened_test_data.append(test_data[i].flatten()/255.0)\n",
        "\n",
        "split_index = int(len(x_total_train_processed) * train_validation_split_ratio)\n",
        "\n",
        "x_train_final = x_total_train_processed[:split_index]\n",
        "y_train_final = train_labels[:split_index]\n",
        "x_validation_final = x_total_train_processed[split_index:]\n",
        "y_validation_final = train_labels[split_index:]\n"
      ],
      "metadata": {
        "id": "UIfpLxH38uao"
      },
      "execution_count": 5,
      "outputs": []
    },
    {
      "cell_type": "code",
      "source": [],
      "metadata": {
        "id": "3k3fOHoQ_Qkz"
      },
      "execution_count": null,
      "outputs": []
    }
  ]
}