{
  "nbformat": 4,
  "nbformat_minor": 0,
  "metadata": {
    "colab": {
      "provenance": [],
      "authorship_tag": "ABX9TyN6kWnjzOHtu3AveHCBbTzz",
      "include_colab_link": true
    },
    "kernelspec": {
      "name": "python3",
      "display_name": "Python 3"
    },
    "language_info": {
      "name": "python"
    }
  },
  "cells": [
    {
      "cell_type": "markdown",
      "metadata": {
        "id": "view-in-github",
        "colab_type": "text"
      },
      "source": [
        "<a href=\"https://colab.research.google.com/github/dhamu2908/Deep-Learning-DA6401/blob/main/Deep_Learning_Assignment.ipynb\" target=\"_parent\"><img src=\"https://colab.research.google.com/assets/colab-badge.svg\" alt=\"Open In Colab\"/></a>"
      ]
    },
    {
      "cell_type": "code",
      "execution_count": 1,
      "metadata": {
        "id": "gy9sTrQH8P_B"
      },
      "outputs": [],
      "source": [
        "#importing packages\n",
        "from keras.datasets import fashion_mnist\n",
        "from keras.datasets import mnist\n",
        "import pandas as pd\n",
        "import numpy as np\n",
        "import wandb\n",
        "import math\n",
        "import matplotlib.pyplot as plt\n",
        "import seaborn as sns\n",
        "import numpy as np\n",
        "from sklearn.model_selection import train_test_split\n",
        "from tensorflow.keras.datasets import fashion_mnist"
      ]
    },
    {
      "cell_type": "code",
      "source": [
        "# Loading the Fashion MNIST dataset\n",
        "(train_data, train_labels), (test_data , test_labels) = fashion_mnist.load_data()\n",
        "\n",
        "# Defining class names\n",
        "fashion_classes = ['Ankle boot', 'Sandal', 'Trouser', 'Shirt', 'Coat', 'Bag', 'T-shirt/top', 'Dress', 'Pullover', 'Sneaker']\n",
        "\n",
        "# Function to select one image for one class\n",
        "def select_images_per_class(images, labels, num_classes=10):\n",
        "    selected_images = []\n",
        "    for class_id in range(num_classes):\n",
        "        # Find the first image that belongs to the current class\n",
        "        first_image_index = np.where(labels == class_id)[0][0]\n",
        "        selected_images.append(images[first_image_index])\n",
        "    return selected_images\n",
        "\n",
        "# Selecting one image for one class\n",
        "selected_images = select_images_per_class(train_data, train_labels)\n",
        "\n",
        "# Function to visualize\n",
        "def visualize_and_log_images(images, class_names, save_filename='fashion_mnist_samples.png'):\n",
        "    plt.figure(figsize=(10, 5))\n",
        "    for i in range(len(images)):\n",
        "        plt.subplot(2, 5, i + 1)\n",
        "        plt.imshow(images[i], cmap='gray')\n",
        "        plt.title(class_names[i])\n",
        "        plt.axis('off')\n",
        "    plt.tight_layout()\n",
        "    plt.savefig(save_filename)\n",
        "\n",
        "    wandb.login()\n",
        "    wandb.init(project='Deep_Learning_Assignment', name = \"Fashion-Images\")\n",
        "    wandb.log({\"Fashion MNIST Samples\": wandb.Image(save_filename)})\n",
        "\n",
        "    plt.show()\n",
        "\n",
        "visualize_and_log_images(selected_images, fashion_classes)"
      ],
      "metadata": {
        "colab": {
          "base_uri": "https://localhost:8080/",
          "height": 0
        },
        "collapsed": true,
        "id": "j7cgtvvV8X7M",
        "outputId": "31ce2aad-b9fc-4476-90a1-081a8e63977e"
      },
      "execution_count": 2,
      "outputs": [
        {
          "output_type": "stream",
          "name": "stdout",
          "text": [
            "Downloading data from https://storage.googleapis.com/tensorflow/tf-keras-datasets/train-labels-idx1-ubyte.gz\n",
            "\u001b[1m29515/29515\u001b[0m \u001b[32m━━━━━━━━━━━━━━━━━━━━\u001b[0m\u001b[37m\u001b[0m \u001b[1m0s\u001b[0m 0us/step\n",
            "Downloading data from https://storage.googleapis.com/tensorflow/tf-keras-datasets/train-images-idx3-ubyte.gz\n",
            "\u001b[1m26421880/26421880\u001b[0m \u001b[32m━━━━━━━━━━━━━━━━━━━━\u001b[0m\u001b[37m\u001b[0m \u001b[1m0s\u001b[0m 0us/step\n",
            "Downloading data from https://storage.googleapis.com/tensorflow/tf-keras-datasets/t10k-labels-idx1-ubyte.gz\n",
            "\u001b[1m5148/5148\u001b[0m \u001b[32m━━━━━━━━━━━━━━━━━━━━\u001b[0m\u001b[37m\u001b[0m \u001b[1m0s\u001b[0m 0us/step\n",
            "Downloading data from https://storage.googleapis.com/tensorflow/tf-keras-datasets/t10k-images-idx3-ubyte.gz\n",
            "\u001b[1m4422102/4422102\u001b[0m \u001b[32m━━━━━━━━━━━━━━━━━━━━\u001b[0m\u001b[37m\u001b[0m \u001b[1m0s\u001b[0m 0us/step\n"
          ]
        },
        {
          "output_type": "stream",
          "name": "stderr",
          "text": [
            "\u001b[34m\u001b[1mwandb\u001b[0m: Using wandb-core as the SDK backend.  Please refer to https://wandb.me/wandb-core for more information.\n"
          ]
        },
        {
          "output_type": "display_data",
          "data": {
            "text/plain": [
              "<IPython.core.display.Javascript object>"
            ],
            "application/javascript": [
              "\n",
              "        window._wandbApiKey = new Promise((resolve, reject) => {\n",
              "            function loadScript(url) {\n",
              "            return new Promise(function(resolve, reject) {\n",
              "                let newScript = document.createElement(\"script\");\n",
              "                newScript.onerror = reject;\n",
              "                newScript.onload = resolve;\n",
              "                document.body.appendChild(newScript);\n",
              "                newScript.src = url;\n",
              "            });\n",
              "            }\n",
              "            loadScript(\"https://cdn.jsdelivr.net/npm/postmate/build/postmate.min.js\").then(() => {\n",
              "            const iframe = document.createElement('iframe')\n",
              "            iframe.style.cssText = \"width:0;height:0;border:none\"\n",
              "            document.body.appendChild(iframe)\n",
              "            const handshake = new Postmate({\n",
              "                container: iframe,\n",
              "                url: 'https://wandb.ai/authorize'\n",
              "            });\n",
              "            const timeout = setTimeout(() => reject(\"Couldn't auto authenticate\"), 5000)\n",
              "            handshake.then(function(child) {\n",
              "                child.on('authorize', data => {\n",
              "                    clearTimeout(timeout)\n",
              "                    resolve(data)\n",
              "                });\n",
              "            });\n",
              "            })\n",
              "        });\n",
              "    "
            ]
          },
          "metadata": {}
        },
        {
          "output_type": "stream",
          "name": "stderr",
          "text": [
            "\u001b[34m\u001b[1mwandb\u001b[0m: Logging into wandb.ai. (Learn how to deploy a W&B server locally: https://wandb.me/wandb-server)\n",
            "\u001b[34m\u001b[1mwandb\u001b[0m: You can find your API key in your browser here: https://wandb.ai/authorize\n",
            "wandb: Paste an API key from your profile and hit enter:"
          ]
        },
        {
          "name": "stdout",
          "output_type": "stream",
          "text": [
            " ··········\n"
          ]
        },
        {
          "output_type": "stream",
          "name": "stderr",
          "text": [
            "\u001b[34m\u001b[1mwandb\u001b[0m: \u001b[33mWARNING\u001b[0m If you're specifying your api key in code, ensure this code is not shared publicly.\n",
            "\u001b[34m\u001b[1mwandb\u001b[0m: \u001b[33mWARNING\u001b[0m Consider setting the WANDB_API_KEY environment variable, or running `wandb login` from the command line.\n",
            "\u001b[34m\u001b[1mwandb\u001b[0m: No netrc file found, creating one.\n",
            "\u001b[34m\u001b[1mwandb\u001b[0m: Appending key for api.wandb.ai to your netrc file: /root/.netrc\n",
            "\u001b[34m\u001b[1mwandb\u001b[0m: Currently logged in as: \u001b[33mdhamu2908\u001b[0m (\u001b[33mm_dhamu2908\u001b[0m) to \u001b[32mhttps://api.wandb.ai\u001b[0m. Use \u001b[1m`wandb login --relogin`\u001b[0m to force relogin\n"
          ]
        },
        {
          "output_type": "display_data",
          "data": {
            "text/plain": [
              "<IPython.core.display.HTML object>"
            ],
            "text/html": [
              "Tracking run with wandb version 0.19.7"
            ]
          },
          "metadata": {}
        },
        {
          "output_type": "display_data",
          "data": {
            "text/plain": [
              "<IPython.core.display.HTML object>"
            ],
            "text/html": [
              "Run data is saved locally in <code>/content/wandb/run-20250316_123530-oe1o8u23</code>"
            ]
          },
          "metadata": {}
        },
        {
          "output_type": "display_data",
          "data": {
            "text/plain": [
              "<IPython.core.display.HTML object>"
            ],
            "text/html": [
              "Syncing run <strong><a href='https://wandb.ai/m_dhamu2908/Deep_Learning_Assignment/runs/oe1o8u23' target=\"_blank\">Fashion-Images</a></strong> to <a href='https://wandb.ai/m_dhamu2908/Deep_Learning_Assignment' target=\"_blank\">Weights & Biases</a> (<a href='https://wandb.me/developer-guide' target=\"_blank\">docs</a>)<br>"
            ]
          },
          "metadata": {}
        },
        {
          "output_type": "display_data",
          "data": {
            "text/plain": [
              "<IPython.core.display.HTML object>"
            ],
            "text/html": [
              " View project at <a href='https://wandb.ai/m_dhamu2908/Deep_Learning_Assignment' target=\"_blank\">https://wandb.ai/m_dhamu2908/Deep_Learning_Assignment</a>"
            ]
          },
          "metadata": {}
        },
        {
          "output_type": "display_data",
          "data": {
            "text/plain": [
              "<IPython.core.display.HTML object>"
            ],
            "text/html": [
              " View run at <a href='https://wandb.ai/m_dhamu2908/Deep_Learning_Assignment/runs/oe1o8u23' target=\"_blank\">https://wandb.ai/m_dhamu2908/Deep_Learning_Assignment/runs/oe1o8u23</a>"
            ]
          },
          "metadata": {}
        },
        {
          "output_type": "display_data",
          "data": {
            "text/plain": [
              "<Figure size 1000x500 with 10 Axes>"
            ],
            "image/png": "[encoded data removed]"
          },
          "metadata": {}
        }
      ]
    },
    {
      "cell_type": "code",
      "source": [
        "# Function to preprocess\n",
        "def preprocess_image_data(images):\n",
        "    return np.array([img.flatten() / 255.0 for img in images])\n",
        "\n",
        "# Loading the Fashion MNIST dataset\n",
        "(train_data, train_labels), (test_data, y_test_data) = fashion_mnist.load_data()\n",
        "\n",
        "# Preprocessing the training and test datasets\n",
        "x_total_train_processed = preprocess_image_data(train_data)\n",
        "x_test_processed = preprocess_image_data(test_data)\n",
        "\n",
        "# Split the training data into training and validation sets randomly\n",
        "train_validation_split_ratio = 0.9  # 90% training, 10% validation\n",
        "x_train_final, x_validation_final, y_train_final, y_validation_final = train_test_split(\n",
        "    x_total_train_processed, train_labels, train_size=train_validation_split_ratio, random_state=42\n",
        ")\n",
        "\n",
        "flattened_test_data = []\n",
        "\n",
        "\n",
        "for i in range(0, len(test_data)):\n",
        "    flattened_test_data.append(test_data[i].flatten()/255.0)\n",
        "\n",
        "split_index = int(len(x_total_train_processed) * train_validation_split_ratio)\n",
        "\n",
        "x_train_final = x_total_train_processed[:split_index]\n",
        "y_train_final = train_labels[:split_index]\n",
        "x_validation_final = x_total_train_processed[split_index:]\n",
        "y_validation_final = train_labels[split_index:]\n"
      ],
      "metadata": {
        "colab": {
          "base_uri": "https://localhost:8080/"
        },
        "id": "UIfpLxH38uao",
        "outputId": "c5732cbc-7864-4e82-acf4-4f4574580601"
      },
      "execution_count": 2,
      "outputs": [
        {
          "output_type": "stream",
          "name": "stdout",
          "text": [
            "Downloading data from https://storage.googleapis.com/tensorflow/tf-keras-datasets/train-labels-idx1-ubyte.gz\n",
            "\u001b[1m29515/29515\u001b[0m \u001b[32m━━━━━━━━━━━━━━━━━━━━\u001b[0m\u001b[37m\u001b[0m \u001b[1m0s\u001b[0m 0us/step\n",
            "Downloading data from https://storage.googleapis.com/tensorflow/tf-keras-datasets/train-images-idx3-ubyte.gz\n",
            "\u001b[1m26421880/26421880\u001b[0m \u001b[32m━━━━━━━━━━━━━━━━━━━━\u001b[0m\u001b[37m\u001b[0m \u001b[1m0s\u001b[0m 0us/step\n",
            "Downloading data from https://storage.googleapis.com/tensorflow/tf-keras-datasets/t10k-labels-idx1-ubyte.gz\n",
            "\u001b[1m5148/5148\u001b[0m \u001b[32m━━━━━━━━━━━━━━━━━━━━\u001b[0m\u001b[37m\u001b[0m \u001b[1m0s\u001b[0m 1us/step\n",
            "Downloading data from https://storage.googleapis.com/tensorflow/tf-keras-datasets/t10k-images-idx3-ubyte.gz\n",
            "\u001b[1m4422102/4422102\u001b[0m \u001b[32m━━━━━━━━━━━━━━━━━━━━\u001b[0m\u001b[37m\u001b[0m \u001b[1m0s\u001b[0m 0us/step\n"
          ]
        }
      ]
    },
    {
      "cell_type": "code",
      "source": [
        "class NeuralNetwork:\n",
        "    def __init__(self, input_neurons, output_neurons, config):\n",
        "\n",
        "        self.hidden_layers = config[\"hidden_layers\"]\n",
        "        self.hidden_neurons = config[\"hl_size\"]\n",
        "        self.input_neurons = input_neurons\n",
        "        self.output_neurons = output_neurons\n",
        "        self.total_layers = self.hidden_layers + 1\n",
        "        self.output_layer_index = self.total_layers - 1\n",
        "        self.config = config\n",
        "        self.input_layer_neurons = input_neurons\n",
        "        self.output_layer_neurons = output_neurons\n",
        "\n",
        "        # Initialize weights and biases\n",
        "        self.weights = []\n",
        "        self.biases = []\n",
        "\n",
        "        if self.config[\"initialization\"] == \"random\":\n",
        "            self._initialize_random()\n",
        "        elif self.config[\"initialization\"] == \"xavier\":\n",
        "            self._initialize_xavier()\n",
        "\n",
        "    def _initialize_random(self):\n",
        "        \"\"\"Initializes weights and biases with small randomly.\"\"\"\n",
        "        for i in range(self.total_layers):\n",
        "            if i == 0:\n",
        "                layer_weights = np.random.randn(self.hidden_neurons, self.input_neurons) * 0.01\n",
        "                layer_biases = np.random.randn(self.hidden_neurons, 1) * 0.01\n",
        "            elif i == self.output_layer_index:\n",
        "                layer_weights = np.random.randn(self.output_neurons, self.hidden_neurons) * 0.01\n",
        "                layer_biases = np.random.randn(self.output_neurons, 1) * 0.01\n",
        "            else:\n",
        "                layer_weights = np.random.randn(self.hidden_neurons, self.hidden_neurons) * 0.01\n",
        "                layer_biases = np.random.randn(self.hidden_neurons, 1) * 0.01\n",
        "            self.weights.append(layer_weights)\n",
        "            self.biases.append(layer_biases)\n",
        "\n",
        "    def _initialize_xavier(self):\n",
        "        \"\"\"Initializes weights using Xavier initialization and biases randomly.\"\"\"\n",
        "        for i in range(self.total_layers):\n",
        "            if i == 0:\n",
        "                scale = np.sqrt(2.0 / (self.hidden_neurons + self.input_neurons))\n",
        "                layer_weights = np.random.randn(self.hidden_neurons, self.input_neurons) * scale\n",
        "                layer_biases = np.zeros((self.hidden_neurons, 1))\n",
        "            elif i == self.output_layer_index:\n",
        "                scale = np.sqrt(2.0 / (self.hidden_neurons + self.output_neurons))\n",
        "                layer_weights = np.random.randn(self.output_neurons, self.hidden_neurons) * scale\n",
        "                layer_biases = np.zeros((self.output_neurons, 1))\n",
        "            else:\n",
        "                scale = np.sqrt(2.0 / (self.hidden_neurons + self.hidden_neurons))\n",
        "                layer_weights = np.random.randn(self.hidden_neurons, self.hidden_neurons) * scale\n",
        "                layer_biases = np.zeros((self.hidden_neurons, 1))\n",
        "            self.weights.append(layer_weights)\n",
        "            self.biases.append(layer_biases)\n",
        "\n",
        "    # Activation functions and their derivatives\n",
        "    def sigmoid(self, x):\n",
        "        return 1. / (1. + np.exp(-x))\n",
        "\n",
        "    def sigmoid_derivative(self, x):\n",
        "        return self.sigmoid(x) * (1 - self.sigmoid(x))\n",
        "\n",
        "\n",
        "    def tanh(self, x):\n",
        "        return np.tanh(x)\n",
        "\n",
        "\n",
        "    def tanh_derivative(self, x):\n",
        "        return 1 - self.tanh(x) ** 2\n",
        "\n",
        "\n",
        "    def relu(self, x):\n",
        "        return np.maximum(0, x)\n",
        "\n",
        "\n",
        "    def relu_derivative(self, x):\n",
        "        result = np.zeros_like(x)\n",
        "        for i in range(len(x)):\n",
        "            if x[i] > 0:\n",
        "                result[i] = 1\n",
        "        return result\n",
        "\n",
        "\n",
        "    def softmax(self, x):\n",
        "        log_softmax = x - np.max(x)  # For Numerical stability\n",
        "        log_softmax -= np.log(np.sum(np.exp(log_softmax), axis=0))\n",
        "        return np.exp(log_softmax)\n",
        "\n",
        "\n",
        "    def apply_activation(self, activation_name, x):\n",
        "        activation_functions = {\n",
        "            \"sigmoid\": self.sigmoid,\n",
        "            \"relu\": self.relu,\n",
        "            \"tanh\": self.tanh,\n",
        "        }\n",
        "        if activation_name in activation_functions:\n",
        "            return activation_functions[activation_name](x)\n",
        "\n",
        "\n",
        "    # Method to compute activation derivative\n",
        "    def compute_activation_derivative(self, activation_name, x):\n",
        "        if activation_name == \"sigmoid\":\n",
        "            return self.sigmoid_derivative(x)\n",
        "        elif activation_name == \"relu\":\n",
        "            return self.relu_derivative(x)\n",
        "        elif activation_name == \"tanh\":\n",
        "            return self.tanh_derivative(x)\n",
        "\n",
        "    # Method to perform backpropagation and compute gradients for weights and biases\n",
        "    def compute_gradients(self, activations, pre_activations, true_label, input_data):\n",
        "        # Initialize lists to store gradients for activations, pre-activations, weights, and biases\n",
        "        grad_activations = [None] * self.total_layers\n",
        "        grad_pre_activations = [None] * self.total_layers\n",
        "        grad_weights = [None] * self.total_layers\n",
        "        grad_biases = [None] * self.total_layers\n",
        "\n",
        "        # Create one-hot encoded vector for the true label\n",
        "        one_hot_label = np.zeros((self.output_layer_neurons, 1))\n",
        "        one_hot_label[true_label] = 1\n",
        "\n",
        "        # Compute the gradient of the loss with respect to the output layer's pre-activations\n",
        "        if self.config[\"loss\"] == \"cross_entropy\":\n",
        "            grad_pre_activations[self.total_layers - 1] = -(one_hot_label - activations[self.total_layers - 1])\n",
        "        elif self.config[\"loss\"] == \"mean_squared_error\":\n",
        "            output_activation = activations[self.total_layers - 1]\n",
        "            grad_pre_activations[self.total_layers - 1] = (output_activation - one_hot_label) * output_activation * (1 - output_activation)\n",
        "\n",
        "        # Iterate through layers in reverse order to compute gradients\n",
        "        for layer_idx in range(self.total_layers - 1, -1, -1):\n",
        "            if layer_idx == 0:\n",
        "                # Compute weight gradients for the input layer\n",
        "                grad_weights[layer_idx] = np.matmul(grad_pre_activations[layer_idx], input_data.reshape(1, -1))\n",
        "            else:\n",
        "                # Compute weight gradients for hidden and output layers\n",
        "                grad_weights[layer_idx] = np.matmul(grad_pre_activations[layer_idx], activations[layer_idx - 1].T)\n",
        "\n",
        "            # Bias gradients are the same as the pre-activation gradients\n",
        "            grad_biases[layer_idx] = np.copy(grad_pre_activations[layer_idx])\n",
        "\n",
        "            if layer_idx - 1 >= 0:\n",
        "                # Compute gradients for the previous layer's activations\n",
        "                grad_activations[layer_idx - 1] = np.matmul(self.weights[layer_idx].T, grad_pre_activations[layer_idx])\n",
        "                # Compute gradients for the previous layer's pre-activations\n",
        "                grad_pre_activations[layer_idx - 1] = grad_activations[layer_idx - 1] * self.compute_activation_derivative(self.config[\"activation\"], pre_activations[layer_idx - 1])\n",
        "\n",
        "        # Return the computed gradients for weights and biases\n",
        "        return grad_weights, grad_biases\n",
        "\n",
        "    # Takes a flattened image as input and returns activations and pre-activations for all layers\n",
        "    def forward_propagate(self, input_data):\n",
        "        # Initialize lists to store pre-activations and activations for each layer\n",
        "        pre_activations = [None] * self.total_layers\n",
        "        activations = [None] * self.total_layers\n",
        "\n",
        "        # Iterate through each layer in the network\n",
        "        for layer_idx in range(self.total_layers):\n",
        "            if layer_idx == 0:\n",
        "                # Compute pre-activation for the input layer\n",
        "                pre_activations[layer_idx] = np.matmul(self.weights[layer_idx], input_data.reshape(self.input_layer_neurons, 1)) + self.biases[layer_idx]\n",
        "                # Apply activation function to get the activation for the input layer\n",
        "                activations[layer_idx] = self.apply_activation(self.config[\"activation\"], pre_activations[layer_idx])\n",
        "\n",
        "            elif layer_idx == self.total_layers - 1:\n",
        "                # Compute pre-activation for the output layer\n",
        "                pre_activations[layer_idx] = np.matmul(self.weights[layer_idx], activations[layer_idx - 1]) + self.biases[layer_idx]\n",
        "                # Apply softmax activation for the output layer\n",
        "                activations[layer_idx] = self.softmax(pre_activations[layer_idx])\n",
        "\n",
        "            else:\n",
        "                # Compute pre-activation for hidden layers\n",
        "                pre_activations[layer_idx] = np.matmul(self.weights[layer_idx], activations[layer_idx - 1]) + self.biases[layer_idx]\n",
        "                # Apply activation function for hidden layers\n",
        "                activations[layer_idx] = self.apply_activation(self.config[\"activation\"], pre_activations[layer_idx])\n",
        "\n",
        "        return activations, pre_activations\n",
        "\n",
        "    def update_parameters_with_momentum(self, weight_updates, bias_updates):\n",
        "        for layer_index in range(self.total_layers):\n",
        "            self.weights[layer_index] -= weight_updates[layer_index]\n",
        "            self.biases[layer_index] -= bias_updates[layer_index]\n",
        "\n",
        "    # Method to perform gradient descent with momentum optimization\n",
        "    def momentum_based_gradient_descent(self, training_data, training_labels, validation_data, validation_labels):\n",
        "        # Initialize previous updates for weights and biases with zeros\n",
        "        previous_weight_updates = [np.zeros_like(weight) for weight in self.weights]\n",
        "        previous_bias_updates = [np.zeros_like(bias) for bias in self.biases]\n",
        "\n",
        "        # Temporary variables to store current updates\n",
        "        current_weight_updates = [np.zeros_like(weight) for weight in self.weights]\n",
        "        current_bias_updates = [np.zeros_like(bias) for bias in self.biases]\n",
        "\n",
        "        # Hyperparameters\n",
        "        momentum_beta = self.config[\"momentum_beta\"]\n",
        "        batch_size = self.config[\"batch_size\"]\n",
        "        learning_rate = self.config[\"learning_rate\"]\n",
        "        weight_decay = self.config[\"weight_decay\"]\n",
        "\n",
        "        # Training loop over epochs\n",
        "        for epoch in range(self.config[\"epochs\"]):\n",
        "            # Process data in mini-batches\n",
        "            for batch_start in range(0, len(training_data), batch_size):\n",
        "                batch_data = training_data[batch_start:batch_start + batch_size]\n",
        "                batch_labels = training_labels[batch_start:batch_start + batch_size]\n",
        "\n",
        "                # Initialize gradients for weights and biases\n",
        "                weight_gradients = [np.zeros_like(weight) for weight in self.weights]\n",
        "                bias_gradients = [np.zeros_like(bias) for bias in self.biases]\n",
        "\n",
        "                # Compute gradients for each sample in the batch\n",
        "                for sample_index in range(len(batch_data)):\n",
        "                    activations, pre_activations = self.forward_propagate(batch_data[sample_index])\n",
        "                    sample_weight_gradients, sample_bias_gradients = self.compute_gradients(activations, pre_activations, batch_labels[sample_index], batch_data[sample_index])\n",
        "\n",
        "                    # Accumulate gradients\n",
        "                    for layer_index in range(self.total_layers):\n",
        "                        weight_gradients[layer_index] += sample_weight_gradients[layer_index]\n",
        "                        bias_gradients[layer_index] += sample_bias_gradients[layer_index]\n",
        "\n",
        "                # Update weights and biases using momentum\n",
        "                for layer_index in range(self.total_layers):\n",
        "                    # Update weights\n",
        "                    current_weight_updates[layer_index] = momentum_beta * previous_weight_updates[layer_index] + learning_rate * weight_gradients[layer_index]\n",
        "                    self.weights[layer_index] -= current_weight_updates[layer_index] + weight_decay * self.weights[layer_index]\n",
        "                    previous_weight_updates[layer_index] = current_weight_updates[layer_index]\n",
        "\n",
        "                    # Update biases\n",
        "                    current_bias_updates[layer_index] = momentum_beta * previous_bias_updates[layer_index] + learning_rate * bias_gradients[layer_index]\n",
        "                    self.biases[layer_index] -= current_bias_updates[layer_index]\n",
        "                    previous_bias_updates[layer_index] = current_bias_updates[layer_index]\n",
        "\n",
        "            # Calculate and log loss at specific intervals\n",
        "            if (self.config[\"epochs\"] == 10 and epoch % 2 == 1) or self.config[\"epochs\"] == 5:\n",
        "                self.calculate_loss(training_data, training_labels, validation_data, validation_labels, epoch)\n",
        "\n",
        "    # Method to perform stochastic gradient descent with mini-batches\n",
        "    def stochastic_gradient_descent(self, training_data, training_labels, validation_data, validation_labels):\n",
        "        # Hyperparameters\n",
        "        batch_size = self.config[\"batch_size\"]\n",
        "        learning_rate = self.config[\"learning_rate\"]\n",
        "        weight_decay = self.config[\"weight_decay\"]\n",
        "\n",
        "        # Training loop over epochs\n",
        "        for epoch in range(self.config[\"epochs\"]):\n",
        "            # Process data in mini-batches\n",
        "            for batch_start in range(0, len(training_data), batch_size):\n",
        "                batch_data = training_data[batch_start:batch_start + batch_size]\n",
        "                batch_labels = training_labels[batch_start:batch_start + batch_size]\n",
        "\n",
        "                # Initialize gradients for weights and biases\n",
        "                weight_gradients = [np.zeros_like(weight) for weight in self.weights]\n",
        "                bias_gradients = [np.zeros_like(bias) for bias in self.biases]\n",
        "\n",
        "                # Compute gradients for each sample in the batch\n",
        "                for sample_index in range(len(batch_data)):\n",
        "                    # Forward pass\n",
        "                    activations, pre_activations = self.forward_propagate(batch_data[sample_index])\n",
        "                    # Backward pass\n",
        "                    sample_weight_gradients, sample_bias_gradients = self.compute_gradients(activations, pre_activations, batch_labels[sample_index], batch_data[sample_index])\n",
        "\n",
        "                    # Accumulate gradients\n",
        "                    for layer_index in range(self.total_layers):\n",
        "                        weight_gradients[layer_index] += sample_weight_gradients[layer_index]\n",
        "                        bias_gradients[layer_index] += sample_bias_gradients[layer_index]\n",
        "\n",
        "                # Update weights and biases using the computed gradients\n",
        "                for layer_index in range(self.total_layers):\n",
        "                    # Update weights with weight decay\n",
        "                    self.weights[layer_index] -= learning_rate * weight_gradients[layer_index] + weight_decay * self.weights[layer_index]\n",
        "                    # Update biases\n",
        "                    self.biases[layer_index] -= learning_rate * bias_gradients[layer_index]\n",
        "\n",
        "            # Calculate and log loss at specific intervals\n",
        "            if (self.config[\"epochs\"] == 10 and epoch % 2 == 1) or self.config[\"epochs\"] == 5:\n",
        "                self.calculate_loss(training_data, training_labels, validation_data, validation_labels, epoch)\n",
        "\n",
        "    def nesterov_gradient_descent(self, training_data, training_labels, validation_data, validation_labels):\n",
        "        # Initialize previous updates for weights and biases with zeros\n",
        "        previous_weight_updates = [np.zeros_like(weight) for weight in self.weights]\n",
        "        previous_bias_updates = [np.zeros_like(bias) for bias in self.biases]\n",
        "\n",
        "        # Temporary variables to store current updates\n",
        "        current_weight_updates = [np.zeros_like(weight) for weight in self.weights]\n",
        "        current_bias_updates = [np.zeros_like(bias) for bias in self.biases]\n",
        "\n",
        "        # Hyperparameters\n",
        "        momentum_beta = self.config[\"momentum_beta\"]\n",
        "        batch_size = self.config[\"batch_size\"]\n",
        "        learning_rate = self.config[\"learning_rate\"]\n",
        "        weight_decay = self.config[\"weight_decay\"]\n",
        "\n",
        "        # Training loop over epochs\n",
        "        for epoch in range(self.config[\"epochs\"]):\n",
        "            # Process data in mini-batches\n",
        "            for batch_start in range(0, len(training_data), batch_size):\n",
        "                batch_data = training_data[batch_start:batch_start + batch_size]\n",
        "                batch_labels = training_labels[batch_start:batch_start + batch_size]\n",
        "\n",
        "                # Initialize gradients for weights and biases\n",
        "                weight_gradients = [np.zeros_like(weight) for weight in self.weights]\n",
        "                bias_gradients = [np.zeros_like(bias) for bias in self.biases]\n",
        "\n",
        "                # Compute lookahead updates for weights and biases\n",
        "                for layer_index in range(self.total_layers):\n",
        "                    current_weight_updates[layer_index] = momentum_beta * previous_weight_updates[layer_index]\n",
        "                    current_bias_updates[layer_index] = momentum_beta * previous_bias_updates[layer_index]\n",
        "\n",
        "                # Update parameters temporarily for lookahead gradient calculation\n",
        "                self.update_parameters_with_momentum(current_weight_updates, current_bias_updates)\n",
        "\n",
        "                # Compute gradients for each sample in the batch\n",
        "                for sample_index in range(len(batch_data)):\n",
        "                    # Forward pass\n",
        "                    activations, pre_activations = self.forward_propagate(batch_data[sample_index])\n",
        "                    # Backward pass\n",
        "                    sample_weight_gradients, sample_bias_gradients = self.compute_gradients(activations, pre_activations, batch_labels[sample_index], batch_data[sample_index])\n",
        "\n",
        "                    # Accumulate gradients\n",
        "                    for layer_index in range(self.total_layers):\n",
        "                        weight_gradients[layer_index] += sample_weight_gradients[layer_index]\n",
        "                        bias_gradients[layer_index] += sample_bias_gradients[layer_index]\n",
        "\n",
        "                # Update weights and biases using Nesterov Accelerated Gradient Descent\n",
        "                for layer_index in range(self.total_layers):\n",
        "                    # Update weights\n",
        "                    previous_weight_updates[layer_index] = current_weight_updates[layer_index] + learning_rate * weight_gradients[layer_index]\n",
        "                    self.weights[layer_index] -= previous_weight_updates[layer_index] + weight_decay * self.weights[layer_index]\n",
        "\n",
        "                    # Update biases\n",
        "                    previous_bias_updates[layer_index] = current_bias_updates[layer_index] + learning_rate * bias_gradients[layer_index]\n",
        "                    self.biases[layer_index] -= previous_bias_updates[layer_index]\n",
        "\n",
        "            # Calculate and log loss at specific intervals\n",
        "            if (self.config[\"epochs\"] == 10 and epoch % 2 == 1) or self.config[\"epochs\"] == 5:\n",
        "                self.calculate_loss(training_data, training_labels, validation_data, validation_labels, epoch)\n",
        "\n",
        "    # Method to perform RMSProp optimization\n",
        "    def rmsprop_optimization(self, training_data, training_labels, validation_data, validation_labels):\n",
        "        # Initialize exponentially weighted averages of squared gradients for weights and biases\n",
        "        squared_grad_weights = [np.zeros_like(weight) for weight in self.weights]\n",
        "        squared_grad_biases = [np.zeros_like(bias) for bias in self.biases]\n",
        "\n",
        "        # Hyperparameters\n",
        "        decay_rate = self.config[\"rms_beta\"]  # Decay rate for the moving average\n",
        "        epsilon = 1e-4  # Small constant to avoid division by zero\n",
        "        batch_size = self.config[\"batch_size\"]\n",
        "        learning_rate = self.config[\"learning_rate\"]\n",
        "        weight_decay = self.config[\"weight_decay\"]\n",
        "\n",
        "        # Training loop over epochs\n",
        "        for epoch in range(self.config[\"epochs\"]):\n",
        "            # Process data in mini-batches\n",
        "            for batch_start in range(0, len(training_data), batch_size):\n",
        "                batch_data = training_data[batch_start:batch_start + batch_size]\n",
        "                batch_labels = training_labels[batch_start:batch_start + batch_size]\n",
        "\n",
        "                # Initialize gradients for weights and biases\n",
        "                weight_gradients = [np.zeros_like(weight) for weight in self.weights]\n",
        "                bias_gradients = [np.zeros_like(bias) for bias in self.biases]\n",
        "\n",
        "                # Compute gradients for each sample in the batch\n",
        "                for sample_index in range(len(batch_data)):\n",
        "                    # Forward pass\n",
        "                    activations, pre_activations = self.forward_propagate(batch_data[sample_index])\n",
        "                    # Backward pass\n",
        "                    sample_weight_gradients, sample_bias_gradients = self.compute_gradients(activations, pre_activations, batch_labels[sample_index], batch_data[sample_index])\n",
        "\n",
        "                    # Accumulate gradients\n",
        "                    for layer_index in range(self.total_layers):\n",
        "                        weight_gradients[layer_index] += sample_weight_gradients[layer_index]\n",
        "                        bias_gradients[layer_index] += sample_bias_gradients[layer_index]\n",
        "\n",
        "                # Update exponentially weighted averages of squared gradients and parameters\n",
        "                for layer_index in range(self.total_layers):\n",
        "                    # Update squared gradients for weights\n",
        "                    squared_grad_weights[layer_index] = decay_rate * squared_grad_weights[layer_index] + (1 - decay_rate) * (weight_gradients[layer_index] ** 2)\n",
        "                    # Update weights with RMSProp and weight decay\n",
        "                    self.weights[layer_index] -= learning_rate * weight_gradients[layer_index] / (np.sqrt(squared_grad_weights[layer_index]) + epsilon) + weight_decay * self.weights[layer_index]\n",
        "\n",
        "                    # Update squared gradients for biases\n",
        "                    squared_grad_biases[layer_index] = decay_rate * squared_grad_biases[layer_index] + (1 - decay_rate) * (bias_gradients[layer_index] ** 2)\n",
        "                    # Update biases with RMSProp\n",
        "                    self.biases[layer_index] -= learning_rate * bias_gradients[layer_index] / (np.sqrt(squared_grad_biases[layer_index]) + epsilon)\n",
        "\n",
        "            # Calculate and log loss at specific intervals\n",
        "            if (self.config[\"epochs\"] == 10 and epoch % 2 == 1) or self.config[\"epochs\"] == 5:\n",
        "                self.calculate_loss(training_data, training_labels, validation_data, validation_labels, epoch)\n",
        "\n",
        "    # Method to perform Adam optimization\n",
        "    def adam_optimization(self, training_data, training_labels, validation_data, validation_labels):\n",
        "        # Initialize first and second moment estimates for weights and biases\n",
        "        first_moment_weights = [np.zeros_like(weight) for weight in self.weights]\n",
        "        first_moment_biases = [np.zeros_like(bias) for bias in self.biases]\n",
        "        second_moment_weights = [np.zeros_like(weight) for weight in self.weights]\n",
        "        second_moment_biases = [np.zeros_like(bias) for bias in self.biases]\n",
        "\n",
        "        # Initialize bias-corrected moment estimates\n",
        "        first_moment_weights_hat = [np.zeros_like(weight) for weight in self.weights]\n",
        "        first_moment_biases_hat = [np.zeros_like(bias) for bias in self.biases]\n",
        "        second_moment_weights_hat = [np.zeros_like(weight) for weight in self.weights]\n",
        "        second_moment_biases_hat = [np.zeros_like(bias) for bias in self.biases]\n",
        "\n",
        "        # Hyperparameters\n",
        "        beta1 = self.config[\"beta1\"]  # Exponential decay rate for the first moment estimates\n",
        "        beta2 = self.config[\"beta2\"]  # Exponential decay rate for the second moment estimates\n",
        "        epsilon = self.config[\"eps\"]  # Small constant to avoid division by zero\n",
        "        batch_size = self.config[\"batch_size\"]\n",
        "        learning_rate = self.config[\"learning_rate\"]\n",
        "        weight_decay = self.config[\"weight_decay\"]\n",
        "\n",
        "        # Training loop over epochs\n",
        "        for epoch in range(self.config[\"epochs\"]):\n",
        "            # Process data in mini-batches\n",
        "            for batch_start in range(0, len(training_data), batch_size):\n",
        "                batch_data = training_data[batch_start:batch_start + batch_size]\n",
        "                batch_labels = training_labels[batch_start:batch_start + batch_size]\n",
        "\n",
        "                # Initialize gradients for weights and biases\n",
        "                weight_gradients = [np.zeros_like(weight) for weight in self.weights]\n",
        "                bias_gradients = [np.zeros_like(bias) for bias in self.biases]\n",
        "\n",
        "                # Compute gradients for each sample in the batch\n",
        "                for sample_index in range(len(batch_data)):\n",
        "                    # Forward pass\n",
        "                    activations, pre_activations = self.forward_propagate(batch_data[sample_index])\n",
        "                    # Backward pass\n",
        "                    sample_weight_gradients, sample_bias_gradients = self.compute_gradients(activations, pre_activations, batch_labels[sample_index], batch_data[sample_index])\n",
        "\n",
        "                    # Accumulate gradients\n",
        "                    for layer_index in range(self.total_layers):\n",
        "                        weight_gradients[layer_index] += sample_weight_gradients[layer_index]\n",
        "                        bias_gradients[layer_index] += sample_bias_gradients[layer_index]\n",
        "\n",
        "                # Update first and second moment estimates and parameters\n",
        "                for layer_index in range(self.total_layers):\n",
        "                    # Update first moment estimates (mean)\n",
        "                    first_moment_weights[layer_index] = beta1 * first_moment_weights[layer_index] + (1 - beta1) * weight_gradients[layer_index]\n",
        "                    first_moment_biases[layer_index] = beta1 * first_moment_biases[layer_index] + (1 - beta1) * bias_gradients[layer_index]\n",
        "\n",
        "                    # Update second moment estimates (uncentered variance)\n",
        "                    second_moment_weights[layer_index] = beta2 * second_moment_weights[layer_index] + (1 - beta2) * (weight_gradients[layer_index] ** 2)\n",
        "                    second_moment_biases[layer_index] = beta2 * second_moment_biases[layer_index] + (1 - beta2) * (bias_gradients[layer_index] ** 2)\n",
        "\n",
        "                    # Compute bias-corrected moment estimates\n",
        "                    first_moment_weights_hat[layer_index] = first_moment_weights[layer_index] / (1 - np.power(beta1, epoch + 1))\n",
        "                    first_moment_biases_hat[layer_index] = first_moment_biases[layer_index] / (1 - np.power(beta1, epoch + 1))\n",
        "                    second_moment_weights_hat[layer_index] = second_moment_weights[layer_index] / (1 - np.power(beta2, epoch + 1))\n",
        "                    second_moment_biases_hat[layer_index] = second_moment_biases[layer_index] / (1 - np.power(beta2, epoch + 1))\n",
        "\n",
        "                    # Update weights and biases using Adam optimization\n",
        "                    self.weights[layer_index] -= learning_rate * first_moment_weights_hat[layer_index] / (np.sqrt(second_moment_weights_hat[layer_index]) + epsilon) + weight_decay * self.weights[layer_index]\n",
        "                    self.biases[layer_index] -= learning_rate * first_moment_biases_hat[layer_index] / (np.sqrt(second_moment_biases_hat[layer_index]) + epsilon)\n",
        "\n",
        "            # Calculate and log loss at specific intervals\n",
        "            if (self.config[\"epochs\"] == 10 and epoch % 2 == 1) or self.config[\"epochs\"] == 5:\n",
        "                self.calculate_loss(training_data, training_labels, validation_data, validation_labels, epoch)\n",
        "\n",
        "    # Method to perform NAdam optimization\n",
        "    def nadam_optimization(self, training_data, training_labels, validation_data, validation_labels):\n",
        "        # Initialize first and second moment estimates for weights and biases\n",
        "        first_moment_weights = [np.zeros_like(weight) for weight in self.weights]\n",
        "        first_moment_biases = [np.zeros_like(bias) for bias in self.biases]\n",
        "        second_moment_weights = [np.zeros_like(weight) for weight in self.weights]\n",
        "        second_moment_biases = [np.zeros_like(bias) for bias in self.biases]\n",
        "\n",
        "        # Initialize bias-corrected moment estimates\n",
        "        first_moment_weights_hat = [np.zeros_like(weight) for weight in self.weights]\n",
        "        first_moment_biases_hat = [np.zeros_like(bias) for bias in self.biases]\n",
        "        second_moment_weights_hat = [np.zeros_like(weight) for weight in self.weights]\n",
        "        second_moment_biases_hat = [np.zeros_like(bias) for bias in self.biases]\n",
        "\n",
        "        # Hyperparameters\n",
        "        beta1 = self.config[\"beta1\"]  # Exponential decay rate for the first moment estimates\n",
        "        beta2 = self.config[\"beta2\"]  # Exponential decay rate for the second moment estimates\n",
        "        epsilon = self.config[\"eps\"]  # Small constant to avoid division by zero\n",
        "        batch_size = self.config[\"batch_size\"]\n",
        "        learning_rate = self.config[\"learning_rate\"]\n",
        "        weight_decay = self.config[\"weight_decay\"]\n",
        "\n",
        "        # Training loop over epochs\n",
        "        for epoch in range(self.config[\"epochs\"]):\n",
        "            # Process data in mini-batches\n",
        "            for batch_start in range(0, len(training_data), batch_size):\n",
        "                batch_data = training_data[batch_start:batch_start + batch_size]\n",
        "                batch_labels = training_labels[batch_start:batch_start + batch_size]\n",
        "\n",
        "                # Initialize gradients for weights and biases\n",
        "                weight_gradients = [np.zeros_like(weight) for weight in self.weights]\n",
        "                bias_gradients = [np.zeros_like(bias) for bias in self.biases]\n",
        "\n",
        "                # Compute gradients for each sample in the batch\n",
        "                for sample_index in range(len(batch_data)):\n",
        "                    # Forward pass\n",
        "                    activations, pre_activations = self.forward_propagate(batch_data[sample_index])\n",
        "                    # Backward pass\n",
        "                    sample_weight_gradients, sample_bias_gradients = self.compute_gradients(activations, pre_activations, batch_labels[sample_index], batch_data[sample_index])\n",
        "\n",
        "                    # Accumulate gradients\n",
        "                    for layer_index in range(self.total_layers):\n",
        "                        weight_gradients[layer_index] += sample_weight_gradients[layer_index]\n",
        "                        bias_gradients[layer_index] += sample_bias_gradients[layer_index]\n",
        "\n",
        "                # Update first and second moment estimates and parameters\n",
        "                for layer_index in range(self.total_layers):\n",
        "                    # Update first moment estimates (mean)\n",
        "                    first_moment_weights[layer_index] = beta1 * first_moment_weights[layer_index] + (1 - beta1) * weight_gradients[layer_index]\n",
        "                    first_moment_biases[layer_index] = beta1 * first_moment_biases[layer_index] + (1 - beta1) * bias_gradients[layer_index]\n",
        "\n",
        "                    # Update second moment estimates (uncentered variance)\n",
        "                    second_moment_weights[layer_index] = beta2 * second_moment_weights[layer_index] + (1 - beta2) * (weight_gradients[layer_index] ** 2)\n",
        "                    second_moment_biases[layer_index] = beta2 * second_moment_biases[layer_index] + (1 - beta2) * (bias_gradients[layer_index] ** 2)\n",
        "\n",
        "                    # Compute bias-corrected moment estimates\n",
        "                    first_moment_weights_hat[layer_index] = first_moment_weights[layer_index] / (1 - np.power(beta1, epoch + 1))\n",
        "                    first_moment_biases_hat[layer_index] = first_moment_biases[layer_index] / (1 - np.power(beta1, epoch + 1))\n",
        "                    second_moment_weights_hat[layer_index] = second_moment_weights[layer_index] / (1 - np.power(beta2, epoch + 1))\n",
        "                    second_moment_biases_hat[layer_index] = second_moment_biases[layer_index] / (1 - np.power(beta2, epoch + 1))\n",
        "\n",
        "                    # Compute NAdam update terms\n",
        "                    weight_update_term = (beta1 * first_moment_weights_hat[layer_index] + (1 - beta1) * weight_gradients[layer_index] / (1 - np.power(beta1, epoch + 1)))\n",
        "                    bias_update_term = (beta1 * first_moment_biases_hat[layer_index] + (1 - beta1) * bias_gradients[layer_index] / (1 - np.power(beta1, epoch + 1)))\n",
        "\n",
        "                    # Update weights and biases using NAdam optimization\n",
        "                    self.weights[layer_index] -= (learning_rate / np.sqrt(second_moment_weights_hat[layer_index] + epsilon)) * weight_update_term + weight_decay * self.weights[layer_index]\n",
        "                    self.biases[layer_index] -= (learning_rate / np.sqrt(second_moment_biases_hat[layer_index] + epsilon)) * bias_update_term\n",
        "\n",
        "            # Calculate and log loss at specific intervals\n",
        "            if self.config[\"epochs\"] == 10 or self.config[\"epochs\"] == 5:\n",
        "                self.calculate_loss(training_data, training_labels, validation_data, validation_labels, epoch)\n",
        "\n",
        "    def gradient_descent(self,x_train_data, y_train_data, x_validation_data, y_validation_data):\n",
        "        if(self.config[\"optimizer\"] == \"sgd\"):\n",
        "            self.stochastic_gradient_descent(x_train_data, y_train_data, x_validation_data, y_validation_data)\n",
        "        elif(self.config[\"optimizer\"] == \"momentum\"):\n",
        "            self.momentum_based_gradient_descent(x_train_data, y_train_data, x_validation_data, y_validation_data)\n",
        "        elif(self.config[\"optimizer\"] == \"nestrov\"):\n",
        "            self.nesterov_gradient_descent(x_train_data, y_train_data, x_validation_data, y_validation_data)\n",
        "        elif(self.config[\"optimizer\"] == \"rmsprop\"):\n",
        "            self.rmsprop_optimization(x_train_data, y_train_data, x_validation_data, y_validation_data)\n",
        "        elif(self.config[\"optimizer\"] == \"adam\"):\n",
        "            self.adam_optimization(x_train_data, y_train_data, x_validation_data, y_validation_data)\n",
        "        elif(self.config[\"optimizer\"] == \"nadam\"):\n",
        "            self.nadam_optimization(x_train_data, y_train_data, x_validation_data, y_validation_data)\n",
        "\n",
        "    # Method to calculate training and validation loss and accuracy\n",
        "    def calculate_loss(self, train_data, train_labels, validation_data, validation_labels, epoch=0):\n",
        "        train_correct = 0\n",
        "        train_loss = 0\n",
        "        validation_correct = 0\n",
        "        validation_loss = 0\n",
        "        epsilon = 1e-10  # Small constant to avoid log(0)\n",
        "\n",
        "        # Calculate training loss and accuracy\n",
        "        for i in range(len(train_data)):\n",
        "            activations, _ = self.forward_propagate(train_data[i])\n",
        "            predicted_class = np.argmax(activations[self.total_layers - 1])\n",
        "            true_class = train_labels[i]\n",
        "\n",
        "            if predicted_class == true_class:\n",
        "                train_correct += 1\n",
        "\n",
        "            if self.config[\"loss\"] == \"cross_entropy\":\n",
        "                log_value = max(activations[self.total_layers - 1][true_class, 0], epsilon)\n",
        "                train_loss += -math.log10(log_value)\n",
        "            elif self.config[\"loss\"] == \"mean_squared_error\":\n",
        "                one_hot_label = np.zeros((10, 1))\n",
        "                one_hot_label[true_class] = 1\n",
        "                train_loss += np.sum((activations[self.total_layers - 1] - one_hot_label) ** 2)\n",
        "\n",
        "        # Calculate validation loss and accuracy\n",
        "        for i in range(len(validation_data)):\n",
        "            activations, _ = self.forward_propagate(validation_data[i])\n",
        "            predicted_class = np.argmax(activations[self.total_layers - 1])\n",
        "            true_class = validation_labels[i]\n",
        "\n",
        "            if predicted_class == true_class:\n",
        "                validation_correct += 1\n",
        "\n",
        "            if self.config[\"loss\"] == \"cross_entropy\":\n",
        "                log_value = max(activations[self.total_layers - 1][true_class, 0], epsilon)\n",
        "                validation_loss += -math.log10(log_value)\n",
        "            elif self.config[\"loss\"] == \"mean_squared_error\":\n",
        "                one_hot_label = np.zeros((10, 1))\n",
        "                one_hot_label[true_class] = 1\n",
        "                validation_loss += np.sum((activations[self.total_layers - 1] - one_hot_label) ** 2)\n",
        "\n",
        "        # Compute accuracy and average loss\n",
        "        train_accuracy = train_correct / len(train_data)\n",
        "        validation_accuracy = validation_correct / len(validation_data)\n",
        "        train_loss /= len(train_data)\n",
        "        validation_loss /= len(validation_data)\n",
        "\n",
        "        # Print results\n",
        "        print(f\"Epoch: {epoch}, Train Accuracy: {train_accuracy}, Train Cross Entropy Loss: {train_cross_entropy_loss}, \"\n",
        "              f\"Validation Accuracy: {validation_accuracy}, Validation Cross Entropy Loss: {validation_cross_entropy_loss}\")\n",
        "\n",
        "        # Log results to wandb if applicable\n",
        "        if (self.config[\"epochs\"] == 10 and epoch % 2 == 1) or self.config[\"epochs\"] == 5:\n",
        "            wandb.log({\n",
        "                \"train_accuracy\": train_accuracy,\n",
        "                \"train_cross_entropy_loss\": train_cross_entropy_loss,\n",
        "                \"val_accuracy\": validation_accuracy,\n",
        "                \"val_cross_entropy_loss\": validation_cross_entropy_loss,\n",
        "                \"epoch\": epoch\n",
        "            })\n",
        "\n",
        "\n",
        "    # Method to plot confusion matrix\n",
        "    def generate_confusion_matrix(self, test_data, test_labels):\n",
        "        predicted_labels = []\n",
        "        for i in range(len(test_data)):\n",
        "            activations, _ = self.forward_propagate(test_data[i])\n",
        "            predicted_class = np.argmax(activations[self.total_layers - 1])\n",
        "            predicted_labels.append(predicted_class)\n",
        "\n",
        "        # Create confusion matrix\n",
        "        confusion_matrix = np.zeros((10, 10))\n",
        "        for i in range(len(test_labels)):\n",
        "            confusion_matrix[test_labels[i]][predicted_labels[i]] += 1\n",
        "\n",
        "        # Plot confusion matrix\n",
        "        class_names = ['Ankle boot', 'T-shirt/top', 'Dress', 'Pullover', 'Sneaker', 'Sandal', 'Trouser', 'Shirt', 'Coat', 'Bag']\n",
        "        plt.figure(figsize=(10, 8))\n",
        "        sns.heatmap(confusion_matrix, annot=True, cmap=plt.cm.Blues, fmt='.2f', xticklabels=class_names, yticklabels=class_names)\n",
        "        plt.title(\"Confusion Matrix\")\n",
        "        plt.xlabel('Predicted Class')\n",
        "        plt.ylabel('True Class')\n",
        "        plt.savefig('confusion_matrix.png')\n",
        "        wandb.log({\"Confusion Matrix\": wandb.Image('confusion_matrix.png')})\n",
        "        plt.show()\n",
        "\n",
        "\n",
        "    # Method to update model parameters\n",
        "    def update_model_parameters(self, weight_gradients, bias_gradients, learning_rate):\n",
        "        for i in range(self.total_layers):\n",
        "            self.weights[i] -= learning_rate * weight_gradients[i]\n",
        "            self.biases[i] -= learning_rate * bias_gradients[i]\n"
      ],
      "metadata": {
        "id": "3k3fOHoQ_Qkz"
      },
      "execution_count": 4,
      "outputs": []
    },
    {
      "cell_type": "code",
      "source": [
        "# Define default hyperparameters for the neural network\n",
        "hyperparameter_defaults = {\n",
        "    \"epochs\": 10,\n",
        "    \"hidden_layers\": 4,\n",
        "    \"hl_size\": 128,\n",
        "    \"weight_decay\": 0,\n",
        "    \"learning_rate\": 0.001,\n",
        "    \"optimizer\": \"nadam\",\n",
        "    \"batch_size\": 64,\n",
        "    \"initialization\": \"xavier\",\n",
        "    \"activation\": \"relu\",\n",
        "    \"loss\": \"cross_entropy\",\n",
        "    \"wandb_project\": \"Deep_Learning_Assignment 1\",\n",
        "    \"wandb_entity\": \"\",\n",
        "    \"momentum_beta\": 0.8,\n",
        "    \"rms_beta\": 0.99,\n",
        "    \"beta1\": 0.8,\n",
        "    \"beta2\": 0.99,\n",
        "    \"eps\": 1e-8\n",
        "}\n"
      ],
      "metadata": {
        "id": "ymqMiAu6T12F"
      },
      "execution_count": 5,
      "outputs": []
    },
    {
      "cell_type": "code",
      "source": [
        "# Assign hyperparameters to a configuration variable\n",
        "configuration = hyperparameter_defaults\n",
        "\n",
        "loss_type = \"cross_entropy\" if configuration[\"loss\"] == \"cross_entropy\" else \"mean_squared_error\"\n",
        "\n",
        "wandb_run = wandb.init(\n",
        "    project=\"Deep_Learning_Assignment\",\n",
        "    name=f\"Graphs for best parameters of cross entropy\",\n",
        "    config=configuration\n",
        ")\n",
        "\n",
        "# Initialize the neural network\n",
        "neural_network = NeuralNetwork(784, 10, config=hyperparameter_defaults)\n",
        "\n",
        "# Train the neural network using gradient descent\n",
        "neural_network.gradient_descent(x_train_final,  y_train_final,  x_validation_final, y_validation_final)\n",
        "\n",
        "# Generate and plot the confusion matrix for test data\n",
        "neural_network.generate_confusion_matrix(\n",
        "    test_data=flattened_test_data,\n",
        "    test_labels=y_test_data\n",
        ")"
      ],
      "metadata": {
        "id": "a-x-FOwGSGVT"
      },
      "execution_count": null,
      "outputs": []
    },
    {
      "cell_type": "code",
      "source": [
        "sweep_params = {\n",
        "    'method' : 'bayes',\n",
        "    'name'   : 'sweep-2',\n",
        "    'metric' : {\n",
        "        'goal' : 'maximize',\n",
        "        'name' : 'train_accuracy',\n",
        "    },\n",
        "    'parameters' : {\n",
        "        'epochs':{'values' : [5, 10]},\n",
        "        'hidden_layers':{'values' : [3,4,5]},\n",
        "        'hl_size':{'values':[32,64,128]},\n",
        "        'weight_decay':{'values' : [0, 0.0005, 0.5] } ,\n",
        "        'learning_rate':{'values' : [0.0001,0.001]},\n",
        "        'optimizer':{'values':['sgd','momentum','nestrov','rmsprop','adam', 'nadam']},\n",
        "        'batch_size':{'values' : [16,32,64]},\n",
        "        'initialization':{'values': ['random','xavier']},\n",
        "        'activation':{'values' : ['sigmoid','tanh','relu']},\n",
        "        'momentum_beta': {'values': [0.8, 0.9, 0.99]},  # Added for momentum-based optimizers\n",
        "        'beta1': {'values': [0.8, 0.9, 0.99]},  # Added for Adam and Nadam\n",
        "        'beta2': {'values': [0.9, 0.99, 0.999]},  # Added for Adam and Nadam\n",
        "        'rms_beta': {'values': [0.8, 0.9, 0.99]},\n",
        "         'eps': {'values': [1e-8, 1e-7, 1e-6]},\n",
        "        'loss': {'values': ['cross_entropy']},\n",
        "    }\n",
        "}\n",
        "\n",
        "sweep_id = wandb.sweep(sweep=sweep_params, project=\"Deep_Learning_Assignment\")\n",
        "\n",
        "\n",
        "def train():\n",
        "    try:\n",
        "        run = wandb.init(project=\"Deep_Learning_Assignment\")\n",
        "        config = wandb.config\n",
        "        run_name = (\n",
        "            f\"lr_{config.learning_rate}_bs_{config.batch_size}_\"\n",
        "            f\"epochs_{config.epochs}_act_{config.activation}_\"\n",
        "            f\"opt_{config.optimizer}\"\n",
        "        )\n",
        "        run.name = run_name\n",
        "        n_network = NeuralNetwork(784, 10, config)\n",
        "        n_network.gradient_descent(x_train_final, y_train_final, x_validation_final, y_validation_final)\n",
        "    except Exception as e:\n",
        "        print(f\"An error occurred: {e}\")\n",
        "    finally:\n",
        "        wandb.finish()  # Ensure wandb.finish() is called\n",
        "wandb.agent(sweep_id, function=train, count = 125)\n"
      ],
      "metadata": {
        "colab": {
          "base_uri": "https://localhost:8080/",
          "height": 0
        },
        "collapsed": true,
        "id": "Z2ADhAZYLSch",
        "outputId": "ffe5bccb-f0df-4a00-a18e-c45edc422752"
      },
      "execution_count": null,
      "outputs": [
        {
          "output_type": "stream",
          "name": "stderr",
          "text": [
            "\u001b[34m\u001b[1mwandb\u001b[0m: Using wandb-core as the SDK backend.  Please refer to https://wandb.me/wandb-core for more information.\n"
          ]
        },
        {
          "output_type": "display_data",
          "data": {
            "text/plain": [
              "<IPython.core.display.Javascript object>"
            ],
            "application/javascript": [
              "\n",
              "        window._wandbApiKey = new Promise((resolve, reject) => {\n",
              "            function loadScript(url) {\n",
              "            return new Promise(function(resolve, reject) {\n",
              "                let newScript = document.createElement(\"script\");\n",
              "                newScript.onerror = reject;\n",
              "                newScript.onload = resolve;\n",
              "                document.body.appendChild(newScript);\n",
              "                newScript.src = url;\n",
              "            });\n",
              "            }\n",
              "            loadScript(\"https://cdn.jsdelivr.net/npm/postmate/build/postmate.min.js\").then(() => {\n",
              "            const iframe = document.createElement('iframe')\n",
              "            iframe.style.cssText = \"width:0;height:0;border:none\"\n",
              "            document.body.appendChild(iframe)\n",
              "            const handshake = new Postmate({\n",
              "                container: iframe,\n",
              "                url: 'https://wandb.ai/authorize'\n",
              "            });\n",
              "            const timeout = setTimeout(() => reject(\"Couldn't auto authenticate\"), 5000)\n",
              "            handshake.then(function(child) {\n",
              "                child.on('authorize', data => {\n",
              "                    clearTimeout(timeout)\n",
              "                    resolve(data)\n",
              "                });\n",
              "            });\n",
              "            })\n",
              "        });\n",
              "    "
            ]
          },
          "metadata": {}
        },
        {
          "output_type": "stream",
          "name": "stderr",
          "text": [
            "\u001b[34m\u001b[1mwandb\u001b[0m: Logging into wandb.ai. (Learn how to deploy a W&B server locally: https://wandb.me/wandb-server)\n",
            "\u001b[34m\u001b[1mwandb\u001b[0m: You can find your API key in your browser here: https://wandb.ai/authorize\n",
            "wandb: Paste an API key from your profile and hit enter:"
          ]
        },
        {
          "name": "stdout",
          "output_type": "stream",
          "text": [
            " ··········\n"
          ]
        },
        {
          "output_type": "stream",
          "name": "stderr",
          "text": [
            "\u001b[34m\u001b[1mwandb\u001b[0m: \u001b[33mWARNING\u001b[0m If you're specifying your api key in code, ensure this code is not shared publicly.\n",
            "\u001b[34m\u001b[1mwandb\u001b[0m: \u001b[33mWARNING\u001b[0m Consider setting the WANDB_API_KEY environment variable, or running `wandb login` from the command line.\n",
            "\u001b[34m\u001b[1mwandb\u001b[0m: No netrc file found, creating one.\n",
            "\u001b[34m\u001b[1mwandb\u001b[0m: Appending key for api.wandb.ai to your netrc file: /root/.netrc\n"
          ]
        },
        {
          "output_type": "stream",
          "name": "stdout",
          "text": [
            "Create sweep with ID: y23f6q1q\n",
            "Sweep URL: https://wandb.ai/m_dhamu2908/Deep_Learning_Assignment/sweeps/y23f6q1q\n"
          ]
        },
        {
          "output_type": "stream",
          "name": "stderr",
          "text": [
            "\u001b[34m\u001b[1mwandb\u001b[0m: Agent Starting Run: 0262hk5r with config:\n",
            "\u001b[34m\u001b[1mwandb\u001b[0m: \tactivation: tanh\n",
            "\u001b[34m\u001b[1mwandb\u001b[0m: \tbatch_size: 16\n",
            "\u001b[34m\u001b[1mwandb\u001b[0m: \tbeta1: 0.99\n",
            "\u001b[34m\u001b[1mwandb\u001b[0m: \tbeta2: 0.99\n",
            "\u001b[34m\u001b[1mwandb\u001b[0m: \tepochs: 10\n",
            "\u001b[34m\u001b[1mwandb\u001b[0m: \teps: 1e-06\n",
            "\u001b[34m\u001b[1mwandb\u001b[0m: \thidden_layers: 5\n",
            "\u001b[34m\u001b[1mwandb\u001b[0m: \thl_size: 32\n",
            "\u001b[34m\u001b[1mwandb\u001b[0m: \tinitialization: xavier\n",
            "\u001b[34m\u001b[1mwandb\u001b[0m: \tlearning_rate: 0.001\n",
            "\u001b[34m\u001b[1mwandb\u001b[0m: \tloss: cross_entropy\n",
            "\u001b[34m\u001b[1mwandb\u001b[0m: \tmomentum_beta: 0.9\n",
            "\u001b[34m\u001b[1mwandb\u001b[0m: \toptimizer: nadam\n",
            "\u001b[34m\u001b[1mwandb\u001b[0m: \trms_beta: 0.99\n",
            "\u001b[34m\u001b[1mwandb\u001b[0m: \tweight_decay: 0.5\n",
            "\u001b[34m\u001b[1mwandb\u001b[0m: Currently logged in as: \u001b[33mdhamu2908\u001b[0m (\u001b[33mm_dhamu2908\u001b[0m) to \u001b[32mhttps://api.wandb.ai\u001b[0m. Use \u001b[1m`wandb login --relogin`\u001b[0m to force relogin\n"
          ]
        },
        {
          "output_type": "display_data",
          "data": {
            "text/plain": [
              "<IPython.core.display.HTML object>"
            ],
            "text/html": [
              "Ignoring project 'Deep_Learning_Assignment' when running a sweep."
            ]
          },
          "metadata": {}
        },
        {
          "output_type": "display_data",
          "data": {
            "text/plain": [
              "<IPython.core.display.HTML object>"
            ],
            "text/html": [
              "Tracking run with wandb version 0.19.7"
            ]
          },
          "metadata": {}
        },
        {
          "output_type": "display_data",
          "data": {
            "text/plain": [
              "<IPython.core.display.HTML object>"
            ],
            "text/html": [
              "Run data is saved locally in <code>/content/wandb/run-20250316_195551-0262hk5r</code>"
            ]
          },
          "metadata": {}
        },
        {
          "output_type": "display_data",
          "data": {
            "text/plain": [
              "<IPython.core.display.HTML object>"
            ],
            "text/html": [
              "Syncing run <strong><a href='https://wandb.ai/m_dhamu2908/Deep_Learning_Assignment/runs/0262hk5r' target=\"_blank\">smooth-sweep-1</a></strong> to <a href='https://wandb.ai/m_dhamu2908/Deep_Learning_Assignment' target=\"_blank\">Weights & Biases</a> (<a href='https://wandb.me/developer-guide' target=\"_blank\">docs</a>)<br>Sweep page: <a href='https://wandb.ai/m_dhamu2908/Deep_Learning_Assignment/sweeps/y23f6q1q' target=\"_blank\">https://wandb.ai/m_dhamu2908/Deep_Learning_Assignment/sweeps/y23f6q1q</a>"
            ]
          },
          "metadata": {}
        },
        {
          "output_type": "display_data",
          "data": {
            "text/plain": [
              "<IPython.core.display.HTML object>"
            ],
            "text/html": [
              " View project at <a href='https://wandb.ai/m_dhamu2908/Deep_Learning_Assignment' target=\"_blank\">https://wandb.ai/m_dhamu2908/Deep_Learning_Assignment</a>"
            ]
          },
          "metadata": {}
        },
        {
          "output_type": "display_data",
          "data": {
            "text/plain": [
              "<IPython.core.display.HTML object>"
            ],
            "text/html": [
              " View sweep at <a href='https://wandb.ai/m_dhamu2908/Deep_Learning_Assignment/sweeps/y23f6q1q' target=\"_blank\">https://wandb.ai/m_dhamu2908/Deep_Learning_Assignment/sweeps/y23f6q1q</a>"
            ]
          },
          "metadata": {}
        },
        {
          "output_type": "display_data",
          "data": {
            "text/plain": [
              "<IPython.core.display.HTML object>"
            ],
            "text/html": [
              " View run at <a href='https://wandb.ai/m_dhamu2908/Deep_Learning_Assignment/runs/0262hk5r' target=\"_blank\">https://wandb.ai/m_dhamu2908/Deep_Learning_Assignment/runs/0262hk5r</a>"
            ]
          },
          "metadata": {}
        },
        {
          "output_type": "stream",
          "name": "stdout",
          "text": [
            "Epoch: 0, Train Accuracy: 0.09938888888888889, Train Loss: 1.0009026593568435, Validation Accuracy: 0.1055, Validation Loss: 1.0010577677320973\n",
            "Epoch: 1, Train Accuracy: 0.09938888888888889, Train Loss: 1.000445668131463, Validation Accuracy: 0.1055, Validation Loss: 1.0006374277388685\n",
            "Epoch: 2, Train Accuracy: 0.10016666666666667, Train Loss: 1.0003281622554696, Validation Accuracy: 0.0985, Validation Loss: 1.0005408506271447\n",
            "Epoch: 3, Train Accuracy: 0.10016666666666667, Train Loss: 1.000279922163249, Validation Accuracy: 0.0985, Validation Loss: 1.0005019072563108\n",
            "Epoch: 4, Train Accuracy: 0.09996296296296296, Train Loss: 1.0002601493539411, Validation Accuracy: 0.10033333333333333, Validation Loss: 1.000486161042524\n",
            "Epoch: 5, Train Accuracy: 0.09996296296296296, Train Loss: 1.0002457708374861, Validation Accuracy: 0.10033333333333333, Validation Loss: 1.0004716707082555\n",
            "Epoch: 6, Train Accuracy: 0.09996296296296296, Train Loss: 1.0002373858286002, Validation Accuracy: 0.10033333333333333, Validation Loss: 1.0004614887149361\n",
            "Epoch: 7, Train Accuracy: 0.09996296296296296, Train Loss: 1.0002283561630556, Validation Accuracy: 0.10033333333333333, Validation Loss: 1.0004485887542602\n",
            "Epoch: 8, Train Accuracy: 0.09996296296296296, Train Loss: 1.000218619987482, Validation Accuracy: 0.10033333333333333, Validation Loss: 1.000433901730885\n",
            "Epoch: 9, Train Accuracy: 0.09996296296296296, Train Loss: 1.000212714966569, Validation Accuracy: 0.10033333333333333, Validation Loss: 1.0004234965424779\n"
          ]
        },
        {
          "output_type": "display_data",
          "data": {
            "text/plain": [
              "<IPython.core.display.HTML object>"
            ],
            "text/html": []
          },
          "metadata": {}
        },
        {
          "output_type": "display_data",
          "data": {
            "text/plain": [
              "<IPython.core.display.HTML object>"
            ],
            "text/html": [
              "<br>    <style><br>        .wandb-row {<br>            display: flex;<br>            flex-direction: row;<br>            flex-wrap: wrap;<br>            justify-content: flex-start;<br>            width: 100%;<br>        }<br>        .wandb-col {<br>            display: flex;<br>            flex-direction: column;<br>            flex-basis: 100%;<br>            flex: 1;<br>            padding: 10px;<br>        }<br>    </style><br><div class=\"wandb-row\"><div class=\"wandb-col\"><h3>Run history:</h3><br/><table class=\"wandb\"><tr><td>epoch</td><td>▁▃▅▆█</td></tr><tr><td>train_accuracy</td><td>▁█▆▆▆</td></tr><tr><td>train_loss</td><td>█▃▂▁▁</td></tr><tr><td>val_accuracy</td><td>█▁▃▃▃</td></tr><tr><td>val_loss</td><td>█▄▃▂▁</td></tr></table><br/></div><div class=\"wandb-col\"><h3>Run summary:</h3><br/><table class=\"wandb\"><tr><td>epoch</td><td>9</td></tr><tr><td>train_accuracy</td><td>0.09996</td></tr><tr><td>train_loss</td><td>1.00021</td></tr><tr><td>val_accuracy</td><td>0.10033</td></tr><tr><td>val_loss</td><td>1.00042</td></tr></table><br/></div></div>"
            ]
          },
          "metadata": {}
        },
        {
          "output_type": "display_data",
          "data": {
            "text/plain": [
              "<IPython.core.display.HTML object>"
            ],
            "text/html": [
              " View run <strong style=\"color:#cdcd00\">lr_0.001_bs_16_epochs_10_act_tanh_opt_nadam</strong> at: <a href='https://wandb.ai/m_dhamu2908/Deep_Learning_Assignment/runs/0262hk5r' target=\"_blank\">https://wandb.ai/m_dhamu2908/Deep_Learning_Assignment/runs/0262hk5r</a><br> View project at: <a href='https://wandb.ai/m_dhamu2908/Deep_Learning_Assignment' target=\"_blank\">https://wandb.ai/m_dhamu2908/Deep_Learning_Assignment</a><br>Synced 5 W&B file(s), 0 media file(s), 0 artifact file(s) and 0 other file(s)"
            ]
          },
          "metadata": {}
        },
        {
          "output_type": "display_data",
          "data": {
            "text/plain": [
              "<IPython.core.display.HTML object>"
            ],
            "text/html": [
              "Find logs at: <code>./wandb/run-20250316_195551-0262hk5r/logs</code>"
            ]
          },
          "metadata": {}
        },
        {
          "output_type": "stream",
          "name": "stderr",
          "text": [
            "\u001b[34m\u001b[1mwandb\u001b[0m: Agent Starting Run: t8aefmut with config:\n",
            "\u001b[34m\u001b[1mwandb\u001b[0m: \tactivation: tanh\n",
            "\u001b[34m\u001b[1mwandb\u001b[0m: \tbatch_size: 32\n",
            "\u001b[34m\u001b[1mwandb\u001b[0m: \tbeta1: 0.99\n",
            "\u001b[34m\u001b[1mwandb\u001b[0m: \tbeta2: 0.9\n",
            "\u001b[34m\u001b[1mwandb\u001b[0m: \tepochs: 5\n",
            "\u001b[34m\u001b[1mwandb\u001b[0m: \teps: 1e-07\n",
            "\u001b[34m\u001b[1mwandb\u001b[0m: \thidden_layers: 5\n",
            "\u001b[34m\u001b[1mwandb\u001b[0m: \thl_size: 32\n",
            "\u001b[34m\u001b[1mwandb\u001b[0m: \tinitialization: random\n",
            "\u001b[34m\u001b[1mwandb\u001b[0m: \tlearning_rate: 0.0001\n",
            "\u001b[34m\u001b[1mwandb\u001b[0m: \tloss: cross_entropy\n",
            "\u001b[34m\u001b[1mwandb\u001b[0m: \tmomentum_beta: 0.99\n",
            "\u001b[34m\u001b[1mwandb\u001b[0m: \toptimizer: sgd\n",
            "\u001b[34m\u001b[1mwandb\u001b[0m: \trms_beta: 0.9\n",
            "\u001b[34m\u001b[1mwandb\u001b[0m: \tweight_decay: 0.5\n"
          ]
        },
        {
          "output_type": "display_data",
          "data": {
            "text/plain": [
              "<IPython.core.display.HTML object>"
            ],
            "text/html": [
              "Ignoring project 'Deep_Learning_Assignment' when running a sweep."
            ]
          },
          "metadata": {}
        },
        {
          "output_type": "display_data",
          "data": {
            "text/plain": [
              "<IPython.core.display.HTML object>"
            ],
            "text/html": [
              "Tracking run with wandb version 0.19.7"
            ]
          },
          "metadata": {}
        },
        {
          "output_type": "display_data",
          "data": {
            "text/plain": [
              "<IPython.core.display.HTML object>"
            ],
            "text/html": [
              "Run data is saved locally in <code>/content/wandb/run-20250316_200413-t8aefmut</code>"
            ]
          },
          "metadata": {}
        },
        {
          "output_type": "display_data",
          "data": {
            "text/plain": [
              "<IPython.core.display.HTML object>"
            ],
            "text/html": [
              "Syncing run <strong><a href='https://wandb.ai/m_dhamu2908/Deep_Learning_Assignment/runs/t8aefmut' target=\"_blank\">mild-sweep-2</a></strong> to <a href='https://wandb.ai/m_dhamu2908/Deep_Learning_Assignment' target=\"_blank\">Weights & Biases</a> (<a href='https://wandb.me/developer-guide' target=\"_blank\">docs</a>)<br>Sweep page: <a href='https://wandb.ai/m_dhamu2908/Deep_Learning_Assignment/sweeps/y23f6q1q' target=\"_blank\">https://wandb.ai/m_dhamu2908/Deep_Learning_Assignment/sweeps/y23f6q1q</a>"
            ]
          },
          "metadata": {}
        },
        {
          "output_type": "display_data",
          "data": {
            "text/plain": [
              "<IPython.core.display.HTML object>"
            ],
            "text/html": [
              " View project at <a href='https://wandb.ai/m_dhamu2908/Deep_Learning_Assignment' target=\"_blank\">https://wandb.ai/m_dhamu2908/Deep_Learning_Assignment</a>"
            ]
          },
          "metadata": {}
        },
        {
          "output_type": "display_data",
          "data": {
            "text/plain": [
              "<IPython.core.display.HTML object>"
            ],
            "text/html": [
              " View sweep at <a href='https://wandb.ai/m_dhamu2908/Deep_Learning_Assignment/sweeps/y23f6q1q' target=\"_blank\">https://wandb.ai/m_dhamu2908/Deep_Learning_Assignment/sweeps/y23f6q1q</a>"
            ]
          },
          "metadata": {}
        },
        {
          "output_type": "display_data",
          "data": {
            "text/plain": [
              "<IPython.core.display.HTML object>"
            ],
            "text/html": [
              " View run at <a href='https://wandb.ai/m_dhamu2908/Deep_Learning_Assignment/runs/t8aefmut' target=\"_blank\">https://wandb.ai/m_dhamu2908/Deep_Learning_Assignment/runs/t8aefmut</a>"
            ]
          },
          "metadata": {}
        },
        {
          "output_type": "stream",
          "name": "stdout",
          "text": [
            "Epoch: 0, Train Accuracy: 0.0999074074074074, Train Loss: 1.000008927633548, Validation Accuracy: 0.10083333333333333, Validation Loss: 1.0000067440818121\n",
            "Epoch: 1, Train Accuracy: 0.0999074074074074, Train Loss: 1.0000005539600703, Validation Accuracy: 0.10083333333333333, Validation Loss: 1.0000317736995115\n",
            "Epoch: 2, Train Accuracy: 0.10083333333333333, Train Loss: 0.9999976015966534, Validation Accuracy: 0.0925, Validation Loss: 1.000048249690766\n",
            "Epoch: 3, Train Accuracy: 0.10083333333333333, Train Loss: 0.999996533653319, Validation Accuracy: 0.0925, Validation Loss: 1.0000584823770484\n",
            "Epoch: 4, Train Accuracy: 0.10083333333333333, Train Loss: 0.9999961325478822, Validation Accuracy: 0.0925, Validation Loss: 1.0000646545764582\n"
          ]
        },
        {
          "output_type": "display_data",
          "data": {
            "text/plain": [
              "<IPython.core.display.HTML object>"
            ],
            "text/html": []
          },
          "metadata": {}
        },
        {
          "output_type": "display_data",
          "data": {
            "text/plain": [
              "<IPython.core.display.HTML object>"
            ],
            "text/html": [
              "<br>    <style><br>        .wandb-row {<br>            display: flex;<br>            flex-direction: row;<br>            flex-wrap: wrap;<br>            justify-content: flex-start;<br>            width: 100%;<br>        }<br>        .wandb-col {<br>            display: flex;<br>            flex-direction: column;<br>            flex-basis: 100%;<br>            flex: 1;<br>            padding: 10px;<br>        }<br>    </style><br><div class=\"wandb-row\"><div class=\"wandb-col\"><h3>Run history:</h3><br/><table class=\"wandb\"><tr><td>epoch</td><td>▁▃▅▆█</td></tr><tr><td>train_accuracy</td><td>▁▁███</td></tr><tr><td>train_loss</td><td>█▃▂▁▁</td></tr><tr><td>val_accuracy</td><td>██▁▁▁</td></tr><tr><td>val_loss</td><td>▁▄▆▇█</td></tr></table><br/></div><div class=\"wandb-col\"><h3>Run summary:</h3><br/><table class=\"wandb\"><tr><td>epoch</td><td>4</td></tr><tr><td>train_accuracy</td><td>0.10083</td></tr><tr><td>train_loss</td><td>1.0</td></tr><tr><td>val_accuracy</td><td>0.0925</td></tr><tr><td>val_loss</td><td>1.00006</td></tr></table><br/></div></div>"
            ]
          },
          "metadata": {}
        },
        {
          "output_type": "display_data",
          "data": {
            "text/plain": [
              "<IPython.core.display.HTML object>"
            ],
            "text/html": [
              " View run <strong style=\"color:#cdcd00\">lr_0.0001_bs_32_epochs_5_act_tanh_opt_sgd</strong> at: <a href='https://wandb.ai/m_dhamu2908/Deep_Learning_Assignment/runs/t8aefmut' target=\"_blank\">https://wandb.ai/m_dhamu2908/Deep_Learning_Assignment/runs/t8aefmut</a><br> View project at: <a href='https://wandb.ai/m_dhamu2908/Deep_Learning_Assignment' target=\"_blank\">https://wandb.ai/m_dhamu2908/Deep_Learning_Assignment</a><br>Synced 5 W&B file(s), 0 media file(s), 0 artifact file(s) and 0 other file(s)"
            ]
          },
          "metadata": {}
        },
        {
          "output_type": "display_data",
          "data": {
            "text/plain": [
              "<IPython.core.display.HTML object>"
            ],
            "text/html": [
              "Find logs at: <code>./wandb/run-20250316_200413-t8aefmut/logs</code>"
            ]
          },
          "metadata": {}
        },
        {
          "output_type": "stream",
          "name": "stderr",
          "text": [
            "\u001b[34m\u001b[1mwandb\u001b[0m: Agent Starting Run: 91c78cpx with config:\n",
            "\u001b[34m\u001b[1mwandb\u001b[0m: \tactivation: sigmoid\n",
            "\u001b[34m\u001b[1mwandb\u001b[0m: \tbatch_size: 16\n",
            "\u001b[34m\u001b[1mwandb\u001b[0m: \tbeta1: 0.8\n",
            "\u001b[34m\u001b[1mwandb\u001b[0m: \tbeta2: 0.999\n",
            "\u001b[34m\u001b[1mwandb\u001b[0m: \tepochs: 5\n",
            "\u001b[34m\u001b[1mwandb\u001b[0m: \teps: 1e-06\n",
            "\u001b[34m\u001b[1mwandb\u001b[0m: \thidden_layers: 5\n",
            "\u001b[34m\u001b[1mwandb\u001b[0m: \thl_size: 128\n",
            "\u001b[34m\u001b[1mwandb\u001b[0m: \tinitialization: xavier\n",
            "\u001b[34m\u001b[1mwandb\u001b[0m: \tlearning_rate: 0.0001\n",
            "\u001b[34m\u001b[1mwandb\u001b[0m: \tloss: cross_entropy\n",
            "\u001b[34m\u001b[1mwandb\u001b[0m: \tmomentum_beta: 0.8\n",
            "\u001b[34m\u001b[1mwandb\u001b[0m: \toptimizer: adam\n",
            "\u001b[34m\u001b[1mwandb\u001b[0m: \trms_beta: 0.9\n",
            "\u001b[34m\u001b[1mwandb\u001b[0m: \tweight_decay: 0.0005\n"
          ]
        },
        {
          "output_type": "display_data",
          "data": {
            "text/plain": [
              "<IPython.core.display.HTML object>"
            ],
            "text/html": [
              "Ignoring project 'Deep_Learning_Assignment' when running a sweep."
            ]
          },
          "metadata": {}
        },
        {
          "output_type": "display_data",
          "data": {
            "text/plain": [
              "<IPython.core.display.HTML object>"
            ],
            "text/html": [
              "Tracking run with wandb version 0.19.7"
            ]
          },
          "metadata": {}
        },
        {
          "output_type": "display_data",
          "data": {
            "text/plain": [
              "<IPython.core.display.HTML object>"
            ],
            "text/html": [
              "Run data is saved locally in <code>/content/wandb/run-20250316_200757-91c78cpx</code>"
            ]
          },
          "metadata": {}
        },
        {
          "output_type": "display_data",
          "data": {
            "text/plain": [
              "<IPython.core.display.HTML object>"
            ],
            "text/html": [
              "Syncing run <strong><a href='https://wandb.ai/m_dhamu2908/Deep_Learning_Assignment/runs/91c78cpx' target=\"_blank\">deep-sweep-3</a></strong> to <a href='https://wandb.ai/m_dhamu2908/Deep_Learning_Assignment' target=\"_blank\">Weights & Biases</a> (<a href='https://wandb.me/developer-guide' target=\"_blank\">docs</a>)<br>Sweep page: <a href='https://wandb.ai/m_dhamu2908/Deep_Learning_Assignment/sweeps/y23f6q1q' target=\"_blank\">https://wandb.ai/m_dhamu2908/Deep_Learning_Assignment/sweeps/y23f6q1q</a>"
            ]
          },
          "metadata": {}
        },
        {
          "output_type": "display_data",
          "data": {
            "text/plain": [
              "<IPython.core.display.HTML object>"
            ],
            "text/html": [
              " View project at <a href='https://wandb.ai/m_dhamu2908/Deep_Learning_Assignment' target=\"_blank\">https://wandb.ai/m_dhamu2908/Deep_Learning_Assignment</a>"
            ]
          },
          "metadata": {}
        },
        {
          "output_type": "display_data",
          "data": {
            "text/plain": [
              "<IPython.core.display.HTML object>"
            ],
            "text/html": [
              " View sweep at <a href='https://wandb.ai/m_dhamu2908/Deep_Learning_Assignment/sweeps/y23f6q1q' target=\"_blank\">https://wandb.ai/m_dhamu2908/Deep_Learning_Assignment/sweeps/y23f6q1q</a>"
            ]
          },
          "metadata": {}
        },
        {
          "output_type": "display_data",
          "data": {
            "text/plain": [
              "<IPython.core.display.HTML object>"
            ],
            "text/html": [
              " View run at <a href='https://wandb.ai/m_dhamu2908/Deep_Learning_Assignment/runs/91c78cpx' target=\"_blank\">https://wandb.ai/m_dhamu2908/Deep_Learning_Assignment/runs/91c78cpx</a>"
            ]
          },
          "metadata": {}
        },
        {
          "output_type": "stream",
          "name": "stdout",
          "text": [
            "Epoch: 0, Train Accuracy: 0.10083333333333333, Train Loss: 1.0000217954054398, Validation Accuracy: 0.0925, Validation Loss: 1.0001390715807361\n",
            "Epoch: 1, Train Accuracy: 0.09996296296296296, Train Loss: 1.0000138429256982, Validation Accuracy: 0.10033333333333333, Validation Loss: 1.0000626748800812\n",
            "Epoch: 2, Train Accuracy: 0.09996296296296296, Train Loss: 1.0000120862186495, Validation Accuracy: 0.10033333333333333, Validation Loss: 1.0000524497734395\n",
            "Epoch: 3, Train Accuracy: 0.09996296296296296, Train Loss: 1.000010991383622, Validation Accuracy: 0.10033333333333333, Validation Loss: 1.000048963716222\n",
            "Epoch: 4, Train Accuracy: 0.09996296296296296, Train Loss: 1.0000102365373664, Validation Accuracy: 0.10033333333333333, Validation Loss: 1.0000466571797533\n"
          ]
        },
        {
          "output_type": "display_data",
          "data": {
            "text/plain": [
              "<IPython.core.display.HTML object>"
            ],
            "text/html": []
          },
          "metadata": {}
        },
        {
          "output_type": "display_data",
          "data": {
            "text/plain": [
              "<IPython.core.display.HTML object>"
            ],
            "text/html": [
              "<br>    <style><br>        .wandb-row {<br>            display: flex;<br>            flex-direction: row;<br>            flex-wrap: wrap;<br>            justify-content: flex-start;<br>            width: 100%;<br>        }<br>        .wandb-col {<br>            display: flex;<br>            flex-direction: column;<br>            flex-basis: 100%;<br>            flex: 1;<br>            padding: 10px;<br>        }<br>    </style><br><div class=\"wandb-row\"><div class=\"wandb-col\"><h3>Run history:</h3><br/><table class=\"wandb\"><tr><td>epoch</td><td>▁▃▅▆█</td></tr><tr><td>train_accuracy</td><td>█▁▁▁▁</td></tr><tr><td>train_loss</td><td>█▃▂▁▁</td></tr><tr><td>val_accuracy</td><td>▁████</td></tr><tr><td>val_loss</td><td>█▂▁▁▁</td></tr></table><br/></div><div class=\"wandb-col\"><h3>Run summary:</h3><br/><table class=\"wandb\"><tr><td>epoch</td><td>4</td></tr><tr><td>train_accuracy</td><td>0.09996</td></tr><tr><td>train_loss</td><td>1.00001</td></tr><tr><td>val_accuracy</td><td>0.10033</td></tr><tr><td>val_loss</td><td>1.00005</td></tr></table><br/></div></div>"
            ]
          },
          "metadata": {}
        },
        {
          "output_type": "display_data",
          "data": {
            "text/plain": [
              "<IPython.core.display.HTML object>"
            ],
            "text/html": [
              " View run <strong style=\"color:#cdcd00\">lr_0.0001_bs_16_epochs_5_act_sigmoid_opt_adam</strong> at: <a href='https://wandb.ai/m_dhamu2908/Deep_Learning_Assignment/runs/91c78cpx' target=\"_blank\">https://wandb.ai/m_dhamu2908/Deep_Learning_Assignment/runs/91c78cpx</a><br> View project at: <a href='https://wandb.ai/m_dhamu2908/Deep_Learning_Assignment' target=\"_blank\">https://wandb.ai/m_dhamu2908/Deep_Learning_Assignment</a><br>Synced 5 W&B file(s), 0 media file(s), 0 artifact file(s) and 0 other file(s)"
            ]
          },
          "metadata": {}
        },
        {
          "output_type": "display_data",
          "data": {
            "text/plain": [
              "<IPython.core.display.HTML object>"
            ],
            "text/html": [
              "Find logs at: <code>./wandb/run-20250316_200757-91c78cpx/logs</code>"
            ]
          },
          "metadata": {}
        },
        {
          "output_type": "stream",
          "name": "stderr",
          "text": [
            "\u001b[34m\u001b[1mwandb\u001b[0m: Agent Starting Run: 525jcr3t with config:\n",
            "\u001b[34m\u001b[1mwandb\u001b[0m: \tactivation: relu\n",
            "\u001b[34m\u001b[1mwandb\u001b[0m: \tbatch_size: 16\n",
            "\u001b[34m\u001b[1mwandb\u001b[0m: \tbeta1: 0.9\n",
            "\u001b[34m\u001b[1mwandb\u001b[0m: \tbeta2: 0.9\n",
            "\u001b[34m\u001b[1mwandb\u001b[0m: \tepochs: 5\n",
            "\u001b[34m\u001b[1mwandb\u001b[0m: \teps: 1e-06\n",
            "\u001b[34m\u001b[1mwandb\u001b[0m: \thidden_layers: 4\n",
            "\u001b[34m\u001b[1mwandb\u001b[0m: \thl_size: 64\n",
            "\u001b[34m\u001b[1mwandb\u001b[0m: \tinitialization: random\n",
            "\u001b[34m\u001b[1mwandb\u001b[0m: \tlearning_rate: 0.001\n",
            "\u001b[34m\u001b[1mwandb\u001b[0m: \tloss: cross_entropy\n",
            "\u001b[34m\u001b[1mwandb\u001b[0m: \tmomentum_beta: 0.9\n",
            "\u001b[34m\u001b[1mwandb\u001b[0m: \toptimizer: momentum\n",
            "\u001b[34m\u001b[1mwandb\u001b[0m: \trms_beta: 0.9\n",
            "\u001b[34m\u001b[1mwandb\u001b[0m: \tweight_decay: 0\n"
          ]
        },
        {
          "output_type": "display_data",
          "data": {
            "text/plain": [
              "<IPython.core.display.HTML object>"
            ],
            "text/html": [
              "Ignoring project 'Deep_Learning_Assignment' when running a sweep."
            ]
          },
          "metadata": {}
        },
        {
          "output_type": "display_data",
          "data": {
            "text/plain": [
              "<IPython.core.display.HTML object>"
            ],
            "text/html": [
              "Tracking run with wandb version 0.19.7"
            ]
          },
          "metadata": {}
        },
        {
          "output_type": "display_data",
          "data": {
            "text/plain": [
              "<IPython.core.display.HTML object>"
            ],
            "text/html": [
              "Run data is saved locally in <code>/content/wandb/run-20250316_202217-525jcr3t</code>"
            ]
          },
          "metadata": {}
        },
        {
          "output_type": "display_data",
          "data": {
            "text/plain": [
              "<IPython.core.display.HTML object>"
            ],
            "text/html": [
              "Syncing run <strong><a href='https://wandb.ai/m_dhamu2908/Deep_Learning_Assignment/runs/525jcr3t' target=\"_blank\">true-sweep-4</a></strong> to <a href='https://wandb.ai/m_dhamu2908/Deep_Learning_Assignment' target=\"_blank\">Weights & Biases</a> (<a href='https://wandb.me/developer-guide' target=\"_blank\">docs</a>)<br>Sweep page: <a href='https://wandb.ai/m_dhamu2908/Deep_Learning_Assignment/sweeps/y23f6q1q' target=\"_blank\">https://wandb.ai/m_dhamu2908/Deep_Learning_Assignment/sweeps/y23f6q1q</a>"
            ]
          },
          "metadata": {}
        },
        {
          "output_type": "display_data",
          "data": {
            "text/plain": [
              "<IPython.core.display.HTML object>"
            ],
            "text/html": [
              " View project at <a href='https://wandb.ai/m_dhamu2908/Deep_Learning_Assignment' target=\"_blank\">https://wandb.ai/m_dhamu2908/Deep_Learning_Assignment</a>"
            ]
          },
          "metadata": {}
        },
        {
          "output_type": "display_data",
          "data": {
            "text/plain": [
              "<IPython.core.display.HTML object>"
            ],
            "text/html": [
              " View sweep at <a href='https://wandb.ai/m_dhamu2908/Deep_Learning_Assignment/sweeps/y23f6q1q' target=\"_blank\">https://wandb.ai/m_dhamu2908/Deep_Learning_Assignment/sweeps/y23f6q1q</a>"
            ]
          },
          "metadata": {}
        },
        {
          "output_type": "display_data",
          "data": {
            "text/plain": [
              "<IPython.core.display.HTML object>"
            ],
            "text/html": [
              " View run at <a href='https://wandb.ai/m_dhamu2908/Deep_Learning_Assignment/runs/525jcr3t' target=\"_blank\">https://wandb.ai/m_dhamu2908/Deep_Learning_Assignment/runs/525jcr3t</a>"
            ]
          },
          "metadata": {}
        },
        {
          "output_type": "stream",
          "name": "stdout",
          "text": [
            "Epoch: 0, Train Accuracy: 0.09964814814814815, Train Loss: 1.0008610023127635, Validation Accuracy: 0.10316666666666667, Validation Loss: 1.0013137582704803\n",
            "Epoch: 1, Train Accuracy: 0.09964814814814815, Train Loss: 1.0008609158601989, Validation Accuracy: 0.10316666666666667, Validation Loss: 1.0013136564788405\n",
            "Epoch: 2, Train Accuracy: 0.09964814814814815, Train Loss: 1.0008609158601989, Validation Accuracy: 0.10316666666666667, Validation Loss: 1.0013136564788405\n",
            "Epoch: 3, Train Accuracy: 0.09964814814814815, Train Loss: 1.0008609158601989, Validation Accuracy: 0.10316666666666667, Validation Loss: 1.0013136564788405\n",
            "Epoch: 4, Train Accuracy: 0.09964814814814815, Train Loss: 1.0008609158601989, Validation Accuracy: 0.10316666666666667, Validation Loss: 1.0013136564788405\n"
          ]
        },
        {
          "output_type": "display_data",
          "data": {
            "text/plain": [
              "<IPython.core.display.HTML object>"
            ],
            "text/html": []
          },
          "metadata": {}
        },
        {
          "output_type": "display_data",
          "data": {
            "text/plain": [
              "<IPython.core.display.HTML object>"
            ],
            "text/html": [
              "<br>    <style><br>        .wandb-row {<br>            display: flex;<br>            flex-direction: row;<br>            flex-wrap: wrap;<br>            justify-content: flex-start;<br>            width: 100%;<br>        }<br>        .wandb-col {<br>            display: flex;<br>            flex-direction: column;<br>            flex-basis: 100%;<br>            flex: 1;<br>            padding: 10px;<br>        }<br>    </style><br><div class=\"wandb-row\"><div class=\"wandb-col\"><h3>Run history:</h3><br/><table class=\"wandb\"><tr><td>epoch</td><td>▁▃▅▆█</td></tr><tr><td>train_accuracy</td><td>▁▁▁▁▁</td></tr><tr><td>train_loss</td><td>█▁▁▁▁</td></tr><tr><td>val_accuracy</td><td>▁▁▁▁▁</td></tr><tr><td>val_loss</td><td>█▁▁▁▁</td></tr></table><br/></div><div class=\"wandb-col\"><h3>Run summary:</h3><br/><table class=\"wandb\"><tr><td>epoch</td><td>4</td></tr><tr><td>train_accuracy</td><td>0.09965</td></tr><tr><td>train_loss</td><td>1.00086</td></tr><tr><td>val_accuracy</td><td>0.10317</td></tr><tr><td>val_loss</td><td>1.00131</td></tr></table><br/></div></div>"
            ]
          },
          "metadata": {}
        },
        {
          "output_type": "display_data",
          "data": {
            "text/plain": [
              "<IPython.core.display.HTML object>"
            ],
            "text/html": [
              " View run <strong style=\"color:#cdcd00\">lr_0.001_bs_16_epochs_5_act_relu_opt_momentum</strong> at: <a href='https://wandb.ai/m_dhamu2908/Deep_Learning_Assignment/runs/525jcr3t' target=\"_blank\">https://wandb.ai/m_dhamu2908/Deep_Learning_Assignment/runs/525jcr3t</a><br> View project at: <a href='https://wandb.ai/m_dhamu2908/Deep_Learning_Assignment' target=\"_blank\">https://wandb.ai/m_dhamu2908/Deep_Learning_Assignment</a><br>Synced 5 W&B file(s), 0 media file(s), 0 artifact file(s) and 0 other file(s)"
            ]
          },
          "metadata": {}
        },
        {
          "output_type": "display_data",
          "data": {
            "text/plain": [
              "<IPython.core.display.HTML object>"
            ],
            "text/html": [
              "Find logs at: <code>./wandb/run-20250316_202217-525jcr3t/logs</code>"
            ]
          },
          "metadata": {}
        },
        {
          "output_type": "stream",
          "name": "stderr",
          "text": [
            "\u001b[34m\u001b[1mwandb\u001b[0m: Agent Starting Run: l566sbkb with config:\n",
            "\u001b[34m\u001b[1mwandb\u001b[0m: \tactivation: sigmoid\n",
            "\u001b[34m\u001b[1mwandb\u001b[0m: \tbatch_size: 16\n",
            "\u001b[34m\u001b[1mwandb\u001b[0m: \tbeta1: 0.8\n",
            "\u001b[34m\u001b[1mwandb\u001b[0m: \tbeta2: 0.999\n",
            "\u001b[34m\u001b[1mwandb\u001b[0m: \tepochs: 5\n",
            "\u001b[34m\u001b[1mwandb\u001b[0m: \teps: 1e-07\n",
            "\u001b[34m\u001b[1mwandb\u001b[0m: \thidden_layers: 3\n",
            "\u001b[34m\u001b[1mwandb\u001b[0m: \thl_size: 128\n",
            "\u001b[34m\u001b[1mwandb\u001b[0m: \tinitialization: xavier\n",
            "\u001b[34m\u001b[1mwandb\u001b[0m: \tlearning_rate: 0.001\n",
            "\u001b[34m\u001b[1mwandb\u001b[0m: \tloss: cross_entropy\n",
            "\u001b[34m\u001b[1mwandb\u001b[0m: \tmomentum_beta: 0.99\n",
            "\u001b[34m\u001b[1mwandb\u001b[0m: \toptimizer: sgd\n",
            "\u001b[34m\u001b[1mwandb\u001b[0m: \trms_beta: 0.8\n",
            "\u001b[34m\u001b[1mwandb\u001b[0m: \tweight_decay: 0\n"
          ]
        },
        {
          "output_type": "display_data",
          "data": {
            "text/plain": [
              "<IPython.core.display.HTML object>"
            ],
            "text/html": [
              "Ignoring project 'Deep_Learning_Assignment' when running a sweep."
            ]
          },
          "metadata": {}
        },
        {
          "output_type": "display_data",
          "data": {
            "text/plain": [
              "<IPython.core.display.HTML object>"
            ],
            "text/html": [
              "Tracking run with wandb version 0.19.7"
            ]
          },
          "metadata": {}
        },
        {
          "output_type": "display_data",
          "data": {
            "text/plain": [
              "<IPython.core.display.HTML object>"
            ],
            "text/html": [
              "Run data is saved locally in <code>/content/wandb/run-20250316_203427-l566sbkb</code>"
            ]
          },
          "metadata": {}
        },
        {
          "output_type": "display_data",
          "data": {
            "text/plain": [
              "<IPython.core.display.HTML object>"
            ],
            "text/html": [
              "Syncing run <strong><a href='https://wandb.ai/m_dhamu2908/Deep_Learning_Assignment/runs/l566sbkb' target=\"_blank\">devout-sweep-5</a></strong> to <a href='https://wandb.ai/m_dhamu2908/Deep_Learning_Assignment' target=\"_blank\">Weights & Biases</a> (<a href='https://wandb.me/developer-guide' target=\"_blank\">docs</a>)<br>Sweep page: <a href='https://wandb.ai/m_dhamu2908/Deep_Learning_Assignment/sweeps/y23f6q1q' target=\"_blank\">https://wandb.ai/m_dhamu2908/Deep_Learning_Assignment/sweeps/y23f6q1q</a>"
            ]
          },
          "metadata": {}
        },
        {
          "output_type": "display_data",
          "data": {
            "text/plain": [
              "<IPython.core.display.HTML object>"
            ],
            "text/html": [
              " View project at <a href='https://wandb.ai/m_dhamu2908/Deep_Learning_Assignment' target=\"_blank\">https://wandb.ai/m_dhamu2908/Deep_Learning_Assignment</a>"
            ]
          },
          "metadata": {}
        },
        {
          "output_type": "display_data",
          "data": {
            "text/plain": [
              "<IPython.core.display.HTML object>"
            ],
            "text/html": [
              " View sweep at <a href='https://wandb.ai/m_dhamu2908/Deep_Learning_Assignment/sweeps/y23f6q1q' target=\"_blank\">https://wandb.ai/m_dhamu2908/Deep_Learning_Assignment/sweeps/y23f6q1q</a>"
            ]
          },
          "metadata": {}
        },
        {
          "output_type": "display_data",
          "data": {
            "text/plain": [
              "<IPython.core.display.HTML object>"
            ],
            "text/html": [
              " View run at <a href='https://wandb.ai/m_dhamu2908/Deep_Learning_Assignment/runs/l566sbkb' target=\"_blank\">https://wandb.ai/m_dhamu2908/Deep_Learning_Assignment/runs/l566sbkb</a>"
            ]
          },
          "metadata": {}
        },
        {
          "output_type": "stream",
          "name": "stdout",
          "text": [
            "Epoch: 0, Train Accuracy: 0.4386481481481482, Train Loss: 0.7219221776807143, Validation Accuracy: 0.4493333333333333, Validation Loss: 0.7222139276624258\n",
            "Epoch: 1, Train Accuracy: 0.6128703703703704, Train Loss: 0.4407911777895869, Validation Accuracy: 0.6161666666666666, Validation Loss: 0.436623620342049\n",
            "Epoch: 2, Train Accuracy: 0.6742037037037037, Train Loss: 0.3621774147532119, Validation Accuracy: 0.673, Validation Loss: 0.35979499603272447\n",
            "Epoch: 3, Train Accuracy: 0.7200185185185185, Train Loss: 0.31591923160439683, Validation Accuracy: 0.719, Validation Loss: 0.31523927637990307\n",
            "Epoch: 4, Train Accuracy: 0.7544259259259259, Train Loss: 0.28411777370663893, Validation Accuracy: 0.7518333333333334, Validation Loss: 0.2844787344530289\n"
          ]
        },
        {
          "output_type": "display_data",
          "data": {
            "text/plain": [
              "<IPython.core.display.HTML object>"
            ],
            "text/html": []
          },
          "metadata": {}
        },
        {
          "output_type": "display_data",
          "data": {
            "text/plain": [
              "<IPython.core.display.HTML object>"
            ],
            "text/html": [
              "<br>    <style><br>        .wandb-row {<br>            display: flex;<br>            flex-direction: row;<br>            flex-wrap: wrap;<br>            justify-content: flex-start;<br>            width: 100%;<br>        }<br>        .wandb-col {<br>            display: flex;<br>            flex-direction: column;<br>            flex-basis: 100%;<br>            flex: 1;<br>            padding: 10px;<br>        }<br>    </style><br><div class=\"wandb-row\"><div class=\"wandb-col\"><h3>Run history:</h3><br/><table class=\"wandb\"><tr><td>epoch</td><td>▁▃▅▆█</td></tr><tr><td>train_accuracy</td><td>▁▅▆▇█</td></tr><tr><td>train_loss</td><td>█▄▂▂▁</td></tr><tr><td>val_accuracy</td><td>▁▅▆▇█</td></tr><tr><td>val_loss</td><td>█▃▂▁▁</td></tr></table><br/></div><div class=\"wandb-col\"><h3>Run summary:</h3><br/><table class=\"wandb\"><tr><td>epoch</td><td>4</td></tr><tr><td>train_accuracy</td><td>0.75443</td></tr><tr><td>train_loss</td><td>0.28412</td></tr><tr><td>val_accuracy</td><td>0.75183</td></tr><tr><td>val_loss</td><td>0.28448</td></tr></table><br/></div></div>"
            ]
          },
          "metadata": {}
        },
        {
          "output_type": "display_data",
          "data": {
            "text/plain": [
              "<IPython.core.display.HTML object>"
            ],
            "text/html": [
              " View run <strong style=\"color:#cdcd00\">lr_0.001_bs_16_epochs_5_act_sigmoid_opt_sgd</strong> at: <a href='https://wandb.ai/m_dhamu2908/Deep_Learning_Assignment/runs/l566sbkb' target=\"_blank\">https://wandb.ai/m_dhamu2908/Deep_Learning_Assignment/runs/l566sbkb</a><br> View project at: <a href='https://wandb.ai/m_dhamu2908/Deep_Learning_Assignment' target=\"_blank\">https://wandb.ai/m_dhamu2908/Deep_Learning_Assignment</a><br>Synced 5 W&B file(s), 0 media file(s), 0 artifact file(s) and 0 other file(s)"
            ]
          },
          "metadata": {}
        },
        {
          "output_type": "display_data",
          "data": {
            "text/plain": [
              "<IPython.core.display.HTML object>"
            ],
            "text/html": [
              "Find logs at: <code>./wandb/run-20250316_203427-l566sbkb/logs</code>"
            ]
          },
          "metadata": {}
        },
        {
          "output_type": "stream",
          "name": "stderr",
          "text": [
            "\u001b[34m\u001b[1mwandb\u001b[0m: Agent Starting Run: rqc89h3j with config:\n",
            "\u001b[34m\u001b[1mwandb\u001b[0m: \tactivation: relu\n",
            "\u001b[34m\u001b[1mwandb\u001b[0m: \tbatch_size: 64\n",
            "\u001b[34m\u001b[1mwandb\u001b[0m: \tbeta1: 0.99\n",
            "\u001b[34m\u001b[1mwandb\u001b[0m: \tbeta2: 0.99\n",
            "\u001b[34m\u001b[1mwandb\u001b[0m: \tepochs: 5\n",
            "\u001b[34m\u001b[1mwandb\u001b[0m: \teps: 1e-07\n",
            "\u001b[34m\u001b[1mwandb\u001b[0m: \thidden_layers: 5\n",
            "\u001b[34m\u001b[1mwandb\u001b[0m: \thl_size: 128\n",
            "\u001b[34m\u001b[1mwandb\u001b[0m: \tinitialization: xavier\n",
            "\u001b[34m\u001b[1mwandb\u001b[0m: \tlearning_rate: 0.0001\n",
            "\u001b[34m\u001b[1mwandb\u001b[0m: \tloss: cross_entropy\n",
            "\u001b[34m\u001b[1mwandb\u001b[0m: \tmomentum_beta: 0.8\n",
            "\u001b[34m\u001b[1mwandb\u001b[0m: \toptimizer: rmsprop\n",
            "\u001b[34m\u001b[1mwandb\u001b[0m: \trms_beta: 0.9\n",
            "\u001b[34m\u001b[1mwandb\u001b[0m: \tweight_decay: 0\n"
          ]
        },
        {
          "output_type": "display_data",
          "data": {
            "text/plain": [
              "<IPython.core.display.HTML object>"
            ],
            "text/html": [
              "Ignoring project 'Deep_Learning_Assignment' when running a sweep."
            ]
          },
          "metadata": {}
        },
        {
          "output_type": "display_data",
          "data": {
            "text/plain": [
              "<IPython.core.display.HTML object>"
            ],
            "text/html": [
              "Tracking run with wandb version 0.19.7"
            ]
          },
          "metadata": {}
        },
        {
          "output_type": "display_data",
          "data": {
            "text/plain": [
              "<IPython.core.display.HTML object>"
            ],
            "text/html": [
              "Run data is saved locally in <code>/content/wandb/run-20250316_204356-rqc89h3j</code>"
            ]
          },
          "metadata": {}
        },
        {
          "output_type": "display_data",
          "data": {
            "text/plain": [
              "<IPython.core.display.HTML object>"
            ],
            "text/html": [
              "Syncing run <strong><a href='https://wandb.ai/m_dhamu2908/Deep_Learning_Assignment/runs/rqc89h3j' target=\"_blank\">expert-sweep-6</a></strong> to <a href='https://wandb.ai/m_dhamu2908/Deep_Learning_Assignment' target=\"_blank\">Weights & Biases</a> (<a href='https://wandb.me/developer-guide' target=\"_blank\">docs</a>)<br>Sweep page: <a href='https://wandb.ai/m_dhamu2908/Deep_Learning_Assignment/sweeps/y23f6q1q' target=\"_blank\">https://wandb.ai/m_dhamu2908/Deep_Learning_Assignment/sweeps/y23f6q1q</a>"
            ]
          },
          "metadata": {}
        },
        {
          "output_type": "display_data",
          "data": {
            "text/plain": [
              "<IPython.core.display.HTML object>"
            ],
            "text/html": [
              " View project at <a href='https://wandb.ai/m_dhamu2908/Deep_Learning_Assignment' target=\"_blank\">https://wandb.ai/m_dhamu2908/Deep_Learning_Assignment</a>"
            ]
          },
          "metadata": {}
        },
        {
          "output_type": "display_data",
          "data": {
            "text/plain": [
              "<IPython.core.display.HTML object>"
            ],
            "text/html": [
              " View sweep at <a href='https://wandb.ai/m_dhamu2908/Deep_Learning_Assignment/sweeps/y23f6q1q' target=\"_blank\">https://wandb.ai/m_dhamu2908/Deep_Learning_Assignment/sweeps/y23f6q1q</a>"
            ]
          },
          "metadata": {}
        },
        {
          "output_type": "display_data",
          "data": {
            "text/plain": [
              "<IPython.core.display.HTML object>"
            ],
            "text/html": [
              " View run at <a href='https://wandb.ai/m_dhamu2908/Deep_Learning_Assignment/runs/rqc89h3j' target=\"_blank\">https://wandb.ai/m_dhamu2908/Deep_Learning_Assignment/runs/rqc89h3j</a>"
            ]
          },
          "metadata": {}
        },
        {
          "output_type": "stream",
          "name": "stdout",
          "text": [
            "Epoch: 0, Train Accuracy: 0.8202777777777778, Train Loss: 0.22252622073044706, Validation Accuracy: 0.8168333333333333, Validation Loss: 0.2249346765519813\n",
            "Epoch: 1, Train Accuracy: 0.8398148148148148, Train Loss: 0.19339290751633248, Validation Accuracy: 0.8351666666666666, Validation Loss: 0.19954604631688735\n",
            "Epoch: 2, Train Accuracy: 0.851925925925926, Train Loss: 0.17741615918304418, Validation Accuracy: 0.8451666666666666, Validation Loss: 0.1860087831720295\n",
            "Epoch: 3, Train Accuracy: 0.864, Train Loss: 0.16480482236699845, Validation Accuracy: 0.8528333333333333, Validation Loss: 0.1750681853759878\n",
            "Epoch: 4, Train Accuracy: 0.872, Train Loss: 0.15516922435112432, Validation Accuracy: 0.86, Validation Loss: 0.16714668318768328\n"
          ]
        },
        {
          "output_type": "display_data",
          "data": {
            "text/plain": [
              "<IPython.core.display.HTML object>"
            ],
            "text/html": []
          },
          "metadata": {}
        },
        {
          "output_type": "display_data",
          "data": {
            "text/plain": [
              "<IPython.core.display.HTML object>"
            ],
            "text/html": [
              "<br>    <style><br>        .wandb-row {<br>            display: flex;<br>            flex-direction: row;<br>            flex-wrap: wrap;<br>            justify-content: flex-start;<br>            width: 100%;<br>        }<br>        .wandb-col {<br>            display: flex;<br>            flex-direction: column;<br>            flex-basis: 100%;<br>            flex: 1;<br>            padding: 10px;<br>        }<br>    </style><br><div class=\"wandb-row\"><div class=\"wandb-col\"><h3>Run history:</h3><br/><table class=\"wandb\"><tr><td>epoch</td><td>▁▃▅▆█</td></tr><tr><td>train_accuracy</td><td>▁▄▅▇█</td></tr><tr><td>train_loss</td><td>█▅▃▂▁</td></tr><tr><td>val_accuracy</td><td>▁▄▆▇█</td></tr><tr><td>val_loss</td><td>█▅▃▂▁</td></tr></table><br/></div><div class=\"wandb-col\"><h3>Run summary:</h3><br/><table class=\"wandb\"><tr><td>epoch</td><td>4</td></tr><tr><td>train_accuracy</td><td>0.872</td></tr><tr><td>train_loss</td><td>0.15517</td></tr><tr><td>val_accuracy</td><td>0.86</td></tr><tr><td>val_loss</td><td>0.16715</td></tr></table><br/></div></div>"
            ]
          },
          "metadata": {}
        },
        {
          "output_type": "display_data",
          "data": {
            "text/plain": [
              "<IPython.core.display.HTML object>"
            ],
            "text/html": [
              " View run <strong style=\"color:#cdcd00\">lr_0.0001_bs_64_epochs_5_act_relu_opt_rmsprop</strong> at: <a href='https://wandb.ai/m_dhamu2908/Deep_Learning_Assignment/runs/rqc89h3j' target=\"_blank\">https://wandb.ai/m_dhamu2908/Deep_Learning_Assignment/runs/rqc89h3j</a><br> View project at: <a href='https://wandb.ai/m_dhamu2908/Deep_Learning_Assignment' target=\"_blank\">https://wandb.ai/m_dhamu2908/Deep_Learning_Assignment</a><br>Synced 5 W&B file(s), 0 media file(s), 0 artifact file(s) and 0 other file(s)"
            ]
          },
          "metadata": {}
        },
        {
          "output_type": "display_data",
          "data": {
            "text/plain": [
              "<IPython.core.display.HTML object>"
            ],
            "text/html": [
              "Find logs at: <code>./wandb/run-20250316_204356-rqc89h3j/logs</code>"
            ]
          },
          "metadata": {}
        },
        {
          "output_type": "stream",
          "name": "stderr",
          "text": [
            "\u001b[34m\u001b[1mwandb\u001b[0m: Agent Starting Run: dp55r1xj with config:\n",
            "\u001b[34m\u001b[1mwandb\u001b[0m: \tactivation: sigmoid\n",
            "\u001b[34m\u001b[1mwandb\u001b[0m: \tbatch_size: 16\n",
            "\u001b[34m\u001b[1mwandb\u001b[0m: \tbeta1: 0.8\n",
            "\u001b[34m\u001b[1mwandb\u001b[0m: \tbeta2: 0.999\n",
            "\u001b[34m\u001b[1mwandb\u001b[0m: \tepochs: 10\n",
            "\u001b[34m\u001b[1mwandb\u001b[0m: \teps: 1e-06\n",
            "\u001b[34m\u001b[1mwandb\u001b[0m: \thidden_layers: 5\n",
            "\u001b[34m\u001b[1mwandb\u001b[0m: \thl_size: 128\n",
            "\u001b[34m\u001b[1mwandb\u001b[0m: \tinitialization: xavier\n",
            "\u001b[34m\u001b[1mwandb\u001b[0m: \tlearning_rate: 0.001\n",
            "\u001b[34m\u001b[1mwandb\u001b[0m: \tloss: cross_entropy\n",
            "\u001b[34m\u001b[1mwandb\u001b[0m: \tmomentum_beta: 0.99\n",
            "\u001b[34m\u001b[1mwandb\u001b[0m: \toptimizer: sgd\n",
            "\u001b[34m\u001b[1mwandb\u001b[0m: \trms_beta: 0.8\n",
            "\u001b[34m\u001b[1mwandb\u001b[0m: \tweight_decay: 0\n"
          ]
        },
        {
          "output_type": "display_data",
          "data": {
            "text/plain": [
              "<IPython.core.display.HTML object>"
            ],
            "text/html": [
              "Ignoring project 'Deep_Learning_Assignment' when running a sweep."
            ]
          },
          "metadata": {}
        },
        {
          "output_type": "display_data",
          "data": {
            "text/plain": [
              "<IPython.core.display.HTML object>"
            ],
            "text/html": [
              "Tracking run with wandb version 0.19.7"
            ]
          },
          "metadata": {}
        },
        {
          "output_type": "display_data",
          "data": {
            "text/plain": [
              "<IPython.core.display.HTML object>"
            ],
            "text/html": [
              "Run data is saved locally in <code>/content/wandb/run-20250316_211304-dp55r1xj</code>"
            ]
          },
          "metadata": {}
        },
        {
          "output_type": "display_data",
          "data": {
            "text/plain": [
              "<IPython.core.display.HTML object>"
            ],
            "text/html": [
              "Syncing run <strong><a href='https://wandb.ai/m_dhamu2908/Deep_Learning_Assignment/runs/dp55r1xj' target=\"_blank\">fine-sweep-7</a></strong> to <a href='https://wandb.ai/m_dhamu2908/Deep_Learning_Assignment' target=\"_blank\">Weights & Biases</a> (<a href='https://wandb.me/developer-guide' target=\"_blank\">docs</a>)<br>Sweep page: <a href='https://wandb.ai/m_dhamu2908/Deep_Learning_Assignment/sweeps/y23f6q1q' target=\"_blank\">https://wandb.ai/m_dhamu2908/Deep_Learning_Assignment/sweeps/y23f6q1q</a>"
            ]
          },
          "metadata": {}
        },
        {
          "output_type": "display_data",
          "data": {
            "text/plain": [
              "<IPython.core.display.HTML object>"
            ],
            "text/html": [
              " View project at <a href='https://wandb.ai/m_dhamu2908/Deep_Learning_Assignment' target=\"_blank\">https://wandb.ai/m_dhamu2908/Deep_Learning_Assignment</a>"
            ]
          },
          "metadata": {}
        },
        {
          "output_type": "display_data",
          "data": {
            "text/plain": [
              "<IPython.core.display.HTML object>"
            ],
            "text/html": [
              " View sweep at <a href='https://wandb.ai/m_dhamu2908/Deep_Learning_Assignment/sweeps/y23f6q1q' target=\"_blank\">https://wandb.ai/m_dhamu2908/Deep_Learning_Assignment/sweeps/y23f6q1q</a>"
            ]
          },
          "metadata": {}
        },
        {
          "output_type": "display_data",
          "data": {
            "text/plain": [
              "<IPython.core.display.HTML object>"
            ],
            "text/html": [
              " View run at <a href='https://wandb.ai/m_dhamu2908/Deep_Learning_Assignment/runs/dp55r1xj' target=\"_blank\">https://wandb.ai/m_dhamu2908/Deep_Learning_Assignment/runs/dp55r1xj</a>"
            ]
          },
          "metadata": {}
        },
        {
          "output_type": "stream",
          "name": "stdout",
          "text": [
            "Epoch: 1, Train Accuracy: 0.10064814814814815, Train Loss: 1.0019990067506974, Validation Accuracy: 0.09416666666666666, Validation Loss: 1.0018211335161797\n",
            "Epoch: 3, Train Accuracy: 0.10064814814814815, Train Loss: 1.0010714342986236, Validation Accuracy: 0.09416666666666666, Validation Loss: 1.0010068747246523\n",
            "Epoch: 5, Train Accuracy: 0.10068518518518518, Train Loss: 0.9978968793641737, Validation Accuracy: 0.0945, Validation Loss: 0.997940649240723\n",
            "Epoch: 7, Train Accuracy: 0.3452777777777778, Train Loss: 0.6567576094088737, Validation Accuracy: 0.3451666666666667, Validation Loss: 0.655599467196997\n",
            "Epoch: 9, Train Accuracy: 0.5336296296296297, Train Loss: 0.4859349478315248, Validation Accuracy: 0.5408333333333334, Validation Loss: 0.4836771458917757\n"
          ]
        },
        {
          "output_type": "display_data",
          "data": {
            "text/plain": [
              "<IPython.core.display.HTML object>"
            ],
            "text/html": []
          },
          "metadata": {}
        },
        {
          "output_type": "display_data",
          "data": {
            "text/plain": [
              "<IPython.core.display.HTML object>"
            ],
            "text/html": [
              "<br>    <style><br>        .wandb-row {<br>            display: flex;<br>            flex-direction: row;<br>            flex-wrap: wrap;<br>            justify-content: flex-start;<br>            width: 100%;<br>        }<br>        .wandb-col {<br>            display: flex;<br>            flex-direction: column;<br>            flex-basis: 100%;<br>            flex: 1;<br>            padding: 10px;<br>        }<br>    </style><br><div class=\"wandb-row\"><div class=\"wandb-col\"><h3>Run history:</h3><br/><table class=\"wandb\"><tr><td>epoch</td><td>▁▃▅▆█</td></tr><tr><td>train_accuracy</td><td>▁▁▁▅█</td></tr><tr><td>train_loss</td><td>███▃▁</td></tr><tr><td>val_accuracy</td><td>▁▁▁▅█</td></tr><tr><td>val_loss</td><td>███▃▁</td></tr></table><br/></div><div class=\"wandb-col\"><h3>Run summary:</h3><br/><table class=\"wandb\"><tr><td>epoch</td><td>9</td></tr><tr><td>train_accuracy</td><td>0.53363</td></tr><tr><td>train_loss</td><td>0.48593</td></tr><tr><td>val_accuracy</td><td>0.54083</td></tr><tr><td>val_loss</td><td>0.48368</td></tr></table><br/></div></div>"
            ]
          },
          "metadata": {}
        },
        {
          "output_type": "display_data",
          "data": {
            "text/plain": [
              "<IPython.core.display.HTML object>"
            ],
            "text/html": [
              " View run <strong style=\"color:#cdcd00\">lr_0.001_bs_16_epochs_10_act_sigmoid_opt_sgd</strong> at: <a href='https://wandb.ai/m_dhamu2908/Deep_Learning_Assignment/runs/dp55r1xj' target=\"_blank\">https://wandb.ai/m_dhamu2908/Deep_Learning_Assignment/runs/dp55r1xj</a><br> View project at: <a href='https://wandb.ai/m_dhamu2908/Deep_Learning_Assignment' target=\"_blank\">https://wandb.ai/m_dhamu2908/Deep_Learning_Assignment</a><br>Synced 5 W&B file(s), 0 media file(s), 0 artifact file(s) and 0 other file(s)"
            ]
          },
          "metadata": {}
        },
        {
          "output_type": "display_data",
          "data": {
            "text/plain": [
              "<IPython.core.display.HTML object>"
            ],
            "text/html": [
              "Find logs at: <code>./wandb/run-20250316_211304-dp55r1xj/logs</code>"
            ]
          },
          "metadata": {}
        },
        {
          "output_type": "stream",
          "name": "stderr",
          "text": [
            "\u001b[34m\u001b[1mwandb\u001b[0m: Agent Starting Run: 3jnvgmvl with config:\n",
            "\u001b[34m\u001b[1mwandb\u001b[0m: \tactivation: sigmoid\n",
            "\u001b[34m\u001b[1mwandb\u001b[0m: \tbatch_size: 32\n",
            "\u001b[34m\u001b[1mwandb\u001b[0m: \tbeta1: 0.8\n",
            "\u001b[34m\u001b[1mwandb\u001b[0m: \tbeta2: 0.99\n",
            "\u001b[34m\u001b[1mwandb\u001b[0m: \tepochs: 5\n",
            "\u001b[34m\u001b[1mwandb\u001b[0m: \teps: 1e-06\n",
            "\u001b[34m\u001b[1mwandb\u001b[0m: \thidden_layers: 3\n",
            "\u001b[34m\u001b[1mwandb\u001b[0m: \thl_size: 128\n",
            "\u001b[34m\u001b[1mwandb\u001b[0m: \tinitialization: xavier\n",
            "\u001b[34m\u001b[1mwandb\u001b[0m: \tlearning_rate: 0.001\n",
            "\u001b[34m\u001b[1mwandb\u001b[0m: \tloss: cross_entropy\n",
            "\u001b[34m\u001b[1mwandb\u001b[0m: \tmomentum_beta: 0.99\n",
            "\u001b[34m\u001b[1mwandb\u001b[0m: \toptimizer: nestrov\n",
            "\u001b[34m\u001b[1mwandb\u001b[0m: \trms_beta: 0.8\n",
            "\u001b[34m\u001b[1mwandb\u001b[0m: \tweight_decay: 0\n"
          ]
        },
        {
          "output_type": "display_data",
          "data": {
            "text/plain": [
              "<IPython.core.display.HTML object>"
            ],
            "text/html": [
              "Ignoring project 'Deep_Learning_Assignment' when running a sweep."
            ]
          },
          "metadata": {}
        },
        {
          "output_type": "display_data",
          "data": {
            "text/plain": [
              "<IPython.core.display.HTML object>"
            ],
            "text/html": [
              "Tracking run with wandb version 0.19.7"
            ]
          },
          "metadata": {}
        },
        {
          "output_type": "display_data",
          "data": {
            "text/plain": [
              "<IPython.core.display.HTML object>"
            ],
            "text/html": [
              "Run data is saved locally in <code>/content/wandb/run-20250316_213650-3jnvgmvl</code>"
            ]
          },
          "metadata": {}
        },
        {
          "output_type": "display_data",
          "data": {
            "text/plain": [
              "<IPython.core.display.HTML object>"
            ],
            "text/html": [
              "Syncing run <strong><a href='https://wandb.ai/m_dhamu2908/Deep_Learning_Assignment/runs/3jnvgmvl' target=\"_blank\">stilted-sweep-8</a></strong> to <a href='https://wandb.ai/m_dhamu2908/Deep_Learning_Assignment' target=\"_blank\">Weights & Biases</a> (<a href='https://wandb.me/developer-guide' target=\"_blank\">docs</a>)<br>Sweep page: <a href='https://wandb.ai/m_dhamu2908/Deep_Learning_Assignment/sweeps/y23f6q1q' target=\"_blank\">https://wandb.ai/m_dhamu2908/Deep_Learning_Assignment/sweeps/y23f6q1q</a>"
            ]
          },
          "metadata": {}
        },
        {
          "output_type": "display_data",
          "data": {
            "text/plain": [
              "<IPython.core.display.HTML object>"
            ],
            "text/html": [
              " View project at <a href='https://wandb.ai/m_dhamu2908/Deep_Learning_Assignment' target=\"_blank\">https://wandb.ai/m_dhamu2908/Deep_Learning_Assignment</a>"
            ]
          },
          "metadata": {}
        },
        {
          "output_type": "display_data",
          "data": {
            "text/plain": [
              "<IPython.core.display.HTML object>"
            ],
            "text/html": [
              " View sweep at <a href='https://wandb.ai/m_dhamu2908/Deep_Learning_Assignment/sweeps/y23f6q1q' target=\"_blank\">https://wandb.ai/m_dhamu2908/Deep_Learning_Assignment/sweeps/y23f6q1q</a>"
            ]
          },
          "metadata": {}
        },
        {
          "output_type": "display_data",
          "data": {
            "text/plain": [
              "<IPython.core.display.HTML object>"
            ],
            "text/html": [
              " View run at <a href='https://wandb.ai/m_dhamu2908/Deep_Learning_Assignment/runs/3jnvgmvl' target=\"_blank\">https://wandb.ai/m_dhamu2908/Deep_Learning_Assignment/runs/3jnvgmvl</a>"
            ]
          },
          "metadata": {}
        },
        {
          "output_type": "stream",
          "name": "stdout",
          "text": [
            "Epoch: 0, Train Accuracy: 0.2026851851851852, Train Loss: 0.8319561722880658, Validation Accuracy: 0.19916666666666666, Validation Loss: 0.8309922295952449\n",
            "Epoch: 1, Train Accuracy: 0.6373703703703704, Train Loss: 0.4356429983994865, Validation Accuracy: 0.645, Validation Loss: 0.434182808449405\n"
          ]
        },
        {
          "output_type": "stream",
          "name": "stderr",
          "text": [
            "<ipython-input-3-d2c8086c1441>:58: RuntimeWarning: overflow encountered in exp\n",
            "  return 1. / (1. + np.exp(-x))\n"
          ]
        },
        {
          "output_type": "stream",
          "name": "stdout",
          "text": [
            "Epoch: 2, Train Accuracy: 0.10016666666666667, Train Loss: 1.220448237142059, Validation Accuracy: 0.0985, Validation Loss: 1.2334644645125468\n",
            "Epoch: 3, Train Accuracy: 0.10083333333333333, Train Loss: 1.1344573897753616, Validation Accuracy: 0.0925, Validation Loss: 1.1492678558250262\n",
            "Epoch: 4, Train Accuracy: 0.10083333333333333, Train Loss: 1.1322118966331924, Validation Accuracy: 0.0925, Validation Loss: 1.1469987885496244\n"
          ]
        },
        {
          "output_type": "display_data",
          "data": {
            "text/plain": [
              "<IPython.core.display.HTML object>"
            ],
            "text/html": []
          },
          "metadata": {}
        },
        {
          "output_type": "display_data",
          "data": {
            "text/plain": [
              "<IPython.core.display.HTML object>"
            ],
            "text/html": [
              "<br>    <style><br>        .wandb-row {<br>            display: flex;<br>            flex-direction: row;<br>            flex-wrap: wrap;<br>            justify-content: flex-start;<br>            width: 100%;<br>        }<br>        .wandb-col {<br>            display: flex;<br>            flex-direction: column;<br>            flex-basis: 100%;<br>            flex: 1;<br>            padding: 10px;<br>        }<br>    </style><br><div class=\"wandb-row\"><div class=\"wandb-col\"><h3>Run history:</h3><br/><table class=\"wandb\"><tr><td>epoch</td><td>▁▃▅▆█</td></tr><tr><td>train_accuracy</td><td>▂█▁▁▁</td></tr><tr><td>train_loss</td><td>▅▁█▇▇</td></tr><tr><td>val_accuracy</td><td>▂█▁▁▁</td></tr><tr><td>val_loss</td><td>▄▁█▇▇</td></tr></table><br/></div><div class=\"wandb-col\"><h3>Run summary:</h3><br/><table class=\"wandb\"><tr><td>epoch</td><td>4</td></tr><tr><td>train_accuracy</td><td>0.10083</td></tr><tr><td>train_loss</td><td>1.13221</td></tr><tr><td>val_accuracy</td><td>0.0925</td></tr><tr><td>val_loss</td><td>1.147</td></tr></table><br/></div></div>"
            ]
          },
          "metadata": {}
        },
        {
          "output_type": "display_data",
          "data": {
            "text/plain": [
              "<IPython.core.display.HTML object>"
            ],
            "text/html": [
              " View run <strong style=\"color:#cdcd00\">lr_0.001_bs_32_epochs_5_act_sigmoid_opt_nestrov</strong> at: <a href='https://wandb.ai/m_dhamu2908/Deep_Learning_Assignment/runs/3jnvgmvl' target=\"_blank\">https://wandb.ai/m_dhamu2908/Deep_Learning_Assignment/runs/3jnvgmvl</a><br> View project at: <a href='https://wandb.ai/m_dhamu2908/Deep_Learning_Assignment' target=\"_blank\">https://wandb.ai/m_dhamu2908/Deep_Learning_Assignment</a><br>Synced 5 W&B file(s), 0 media file(s), 0 artifact file(s) and 0 other file(s)"
            ]
          },
          "metadata": {}
        },
        {
          "output_type": "display_data",
          "data": {
            "text/plain": [
              "<IPython.core.display.HTML object>"
            ],
            "text/html": [
              "Find logs at: <code>./wandb/run-20250316_213650-3jnvgmvl/logs</code>"
            ]
          },
          "metadata": {}
        },
        {
          "output_type": "stream",
          "name": "stderr",
          "text": [
            "\u001b[34m\u001b[1mwandb\u001b[0m: Agent Starting Run: k9zid7hc with config:\n",
            "\u001b[34m\u001b[1mwandb\u001b[0m: \tactivation: relu\n",
            "\u001b[34m\u001b[1mwandb\u001b[0m: \tbatch_size: 16\n",
            "\u001b[34m\u001b[1mwandb\u001b[0m: \tbeta1: 0.99\n",
            "\u001b[34m\u001b[1mwandb\u001b[0m: \tbeta2: 0.99\n",
            "\u001b[34m\u001b[1mwandb\u001b[0m: \tepochs: 10\n",
            "\u001b[34m\u001b[1mwandb\u001b[0m: \teps: 1e-06\n",
            "\u001b[34m\u001b[1mwandb\u001b[0m: \thidden_layers: 4\n",
            "\u001b[34m\u001b[1mwandb\u001b[0m: \thl_size: 64\n",
            "\u001b[34m\u001b[1mwandb\u001b[0m: \tinitialization: xavier\n",
            "\u001b[34m\u001b[1mwandb\u001b[0m: \tlearning_rate: 0.0001\n",
            "\u001b[34m\u001b[1mwandb\u001b[0m: \tloss: cross_entropy\n",
            "\u001b[34m\u001b[1mwandb\u001b[0m: \tmomentum_beta: 0.8\n",
            "\u001b[34m\u001b[1mwandb\u001b[0m: \toptimizer: nestrov\n",
            "\u001b[34m\u001b[1mwandb\u001b[0m: \trms_beta: 0.9\n",
            "\u001b[34m\u001b[1mwandb\u001b[0m: \tweight_decay: 0.5\n"
          ]
        },
        {
          "output_type": "display_data",
          "data": {
            "text/plain": [
              "<IPython.core.display.HTML object>"
            ],
            "text/html": [
              "Ignoring project 'Deep_Learning_Assignment' when running a sweep."
            ]
          },
          "metadata": {}
        },
        {
          "output_type": "display_data",
          "data": {
            "text/plain": [
              "<IPython.core.display.HTML object>"
            ],
            "text/html": [
              "Tracking run with wandb version 0.19.7"
            ]
          },
          "metadata": {}
        },
        {
          "output_type": "display_data",
          "data": {
            "text/plain": [
              "<IPython.core.display.HTML object>"
            ],
            "text/html": [
              "Run data is saved locally in <code>/content/wandb/run-20250316_214624-k9zid7hc</code>"
            ]
          },
          "metadata": {}
        },
        {
          "output_type": "display_data",
          "data": {
            "text/plain": [
              "<IPython.core.display.HTML object>"
            ],
            "text/html": [
              "Syncing run <strong><a href='https://wandb.ai/m_dhamu2908/Deep_Learning_Assignment/runs/k9zid7hc' target=\"_blank\">driven-sweep-9</a></strong> to <a href='https://wandb.ai/m_dhamu2908/Deep_Learning_Assignment' target=\"_blank\">Weights & Biases</a> (<a href='https://wandb.me/developer-guide' target=\"_blank\">docs</a>)<br>Sweep page: <a href='https://wandb.ai/m_dhamu2908/Deep_Learning_Assignment/sweeps/y23f6q1q' target=\"_blank\">https://wandb.ai/m_dhamu2908/Deep_Learning_Assignment/sweeps/y23f6q1q</a>"
            ]
          },
          "metadata": {}
        },
        {
          "output_type": "display_data",
          "data": {
            "text/plain": [
              "<IPython.core.display.HTML object>"
            ],
            "text/html": [
              " View project at <a href='https://wandb.ai/m_dhamu2908/Deep_Learning_Assignment' target=\"_blank\">https://wandb.ai/m_dhamu2908/Deep_Learning_Assignment</a>"
            ]
          },
          "metadata": {}
        },
        {
          "output_type": "display_data",
          "data": {
            "text/plain": [
              "<IPython.core.display.HTML object>"
            ],
            "text/html": [
              " View sweep at <a href='https://wandb.ai/m_dhamu2908/Deep_Learning_Assignment/sweeps/y23f6q1q' target=\"_blank\">https://wandb.ai/m_dhamu2908/Deep_Learning_Assignment/sweeps/y23f6q1q</a>"
            ]
          },
          "metadata": {}
        },
        {
          "output_type": "display_data",
          "data": {
            "text/plain": [
              "<IPython.core.display.HTML object>"
            ],
            "text/html": [
              " View run at <a href='https://wandb.ai/m_dhamu2908/Deep_Learning_Assignment/runs/k9zid7hc' target=\"_blank\">https://wandb.ai/m_dhamu2908/Deep_Learning_Assignment/runs/k9zid7hc</a>"
            ]
          },
          "metadata": {}
        },
        {
          "output_type": "stream",
          "name": "stdout",
          "text": [
            "Epoch: 1, Train Accuracy: 0.09996296296296296, Train Loss: 1.00002128805396, Validation Accuracy: 0.10033333333333333, Validation Loss: 1.0000931098253218\n",
            "Epoch: 3, Train Accuracy: 0.09996296296296296, Train Loss: 1.0000212909448387, Validation Accuracy: 0.10033333333333333, Validation Loss: 1.0000931163214553\n",
            "Epoch: 5, Train Accuracy: 0.09996296296296296, Train Loss: 1.0000212909455632, Validation Accuracy: 0.10033333333333333, Validation Loss: 1.0000931163218032\n",
            "Epoch: 7, Train Accuracy: 0.09996296296296296, Train Loss: 1.0000212909455781, Validation Accuracy: 0.10033333333333333, Validation Loss: 1.0000931163217524\n",
            "Epoch: 9, Train Accuracy: 0.09996296296296296, Train Loss: 1.0000212909451835, Validation Accuracy: 0.10033333333333333, Validation Loss: 1.0000931163217806\n"
          ]
        },
        {
          "output_type": "display_data",
          "data": {
            "text/plain": [
              "<IPython.core.display.HTML object>"
            ],
            "text/html": []
          },
          "metadata": {}
        },
        {
          "output_type": "display_data",
          "data": {
            "text/plain": [
              "<IPython.core.display.HTML object>"
            ],
            "text/html": [
              "<br>    <style><br>        .wandb-row {<br>            display: flex;<br>            flex-direction: row;<br>            flex-wrap: wrap;<br>            justify-content: flex-start;<br>            width: 100%;<br>        }<br>        .wandb-col {<br>            display: flex;<br>            flex-direction: column;<br>            flex-basis: 100%;<br>            flex: 1;<br>            padding: 10px;<br>        }<br>    </style><br><div class=\"wandb-row\"><div class=\"wandb-col\"><h3>Run history:</h3><br/><table class=\"wandb\"><tr><td>epoch</td><td>▁▃▅▆█</td></tr><tr><td>train_accuracy</td><td>▁▁▁▁▁</td></tr><tr><td>train_loss</td><td>▁▁▁▁▁</td></tr><tr><td>val_accuracy</td><td>▁▁▁▁▁</td></tr><tr><td>val_loss</td><td>▁▁▁▁▁</td></tr></table><br/></div><div class=\"wandb-col\"><h3>Run summary:</h3><br/><table class=\"wandb\"><tr><td>epoch</td><td>9</td></tr><tr><td>train_accuracy</td><td>0.09996</td></tr><tr><td>train_loss</td><td>1.00002</td></tr><tr><td>val_accuracy</td><td>0.10033</td></tr><tr><td>val_loss</td><td>1.00009</td></tr></table><br/></div></div>"
            ]
          },
          "metadata": {}
        },
        {
          "output_type": "display_data",
          "data": {
            "text/plain": [
              "<IPython.core.display.HTML object>"
            ],
            "text/html": [
              " View run <strong style=\"color:#cdcd00\">lr_0.0001_bs_16_epochs_10_act_relu_opt_nestrov</strong> at: <a href='https://wandb.ai/m_dhamu2908/Deep_Learning_Assignment/runs/k9zid7hc' target=\"_blank\">https://wandb.ai/m_dhamu2908/Deep_Learning_Assignment/runs/k9zid7hc</a><br> View project at: <a href='https://wandb.ai/m_dhamu2908/Deep_Learning_Assignment' target=\"_blank\">https://wandb.ai/m_dhamu2908/Deep_Learning_Assignment</a><br>Synced 5 W&B file(s), 0 media file(s), 0 artifact file(s) and 0 other file(s)"
            ]
          },
          "metadata": {}
        },
        {
          "output_type": "display_data",
          "data": {
            "text/plain": [
              "<IPython.core.display.HTML object>"
            ],
            "text/html": [
              "Find logs at: <code>./wandb/run-20250316_214624-k9zid7hc/logs</code>"
            ]
          },
          "metadata": {}
        },
        {
          "output_type": "stream",
          "name": "stderr",
          "text": [
            "\u001b[34m\u001b[1mwandb\u001b[0m: Agent Starting Run: 0thfv91j with config:\n",
            "\u001b[34m\u001b[1mwandb\u001b[0m: \tactivation: tanh\n",
            "\u001b[34m\u001b[1mwandb\u001b[0m: \tbatch_size: 16\n",
            "\u001b[34m\u001b[1mwandb\u001b[0m: \tbeta1: 0.99\n",
            "\u001b[34m\u001b[1mwandb\u001b[0m: \tbeta2: 0.9\n",
            "\u001b[34m\u001b[1mwandb\u001b[0m: \tepochs: 5\n",
            "\u001b[34m\u001b[1mwandb\u001b[0m: \teps: 1e-07\n",
            "\u001b[34m\u001b[1mwandb\u001b[0m: \thidden_layers: 4\n",
            "\u001b[34m\u001b[1mwandb\u001b[0m: \thl_size: 64\n",
            "\u001b[34m\u001b[1mwandb\u001b[0m: \tinitialization: xavier\n",
            "\u001b[34m\u001b[1mwandb\u001b[0m: \tlearning_rate: 0.0001\n",
            "\u001b[34m\u001b[1mwandb\u001b[0m: \tloss: cross_entropy\n",
            "\u001b[34m\u001b[1mwandb\u001b[0m: \tmomentum_beta: 0.8\n",
            "\u001b[34m\u001b[1mwandb\u001b[0m: \toptimizer: rmsprop\n",
            "\u001b[34m\u001b[1mwandb\u001b[0m: \trms_beta: 0.99\n",
            "\u001b[34m\u001b[1mwandb\u001b[0m: \tweight_decay: 0\n"
          ]
        },
        {
          "output_type": "display_data",
          "data": {
            "text/plain": [
              "<IPython.core.display.HTML object>"
            ],
            "text/html": [
              "Ignoring project 'Deep_Learning_Assignment' when running a sweep."
            ]
          },
          "metadata": {}
        },
        {
          "output_type": "display_data",
          "data": {
            "text/plain": [
              "<IPython.core.display.HTML object>"
            ],
            "text/html": [
              "Tracking run with wandb version 0.19.7"
            ]
          },
          "metadata": {}
        },
        {
          "output_type": "display_data",
          "data": {
            "text/plain": [
              "<IPython.core.display.HTML object>"
            ],
            "text/html": [
              "Run data is saved locally in <code>/content/wandb/run-20250316_221627-0thfv91j</code>"
            ]
          },
          "metadata": {}
        },
        {
          "output_type": "display_data",
          "data": {
            "text/plain": [
              "<IPython.core.display.HTML object>"
            ],
            "text/html": [
              "Syncing run <strong><a href='https://wandb.ai/m_dhamu2908/Deep_Learning_Assignment/runs/0thfv91j' target=\"_blank\">elated-sweep-10</a></strong> to <a href='https://wandb.ai/m_dhamu2908/Deep_Learning_Assignment' target=\"_blank\">Weights & Biases</a> (<a href='https://wandb.me/developer-guide' target=\"_blank\">docs</a>)<br>Sweep page: <a href='https://wandb.ai/m_dhamu2908/Deep_Learning_Assignment/sweeps/y23f6q1q' target=\"_blank\">https://wandb.ai/m_dhamu2908/Deep_Learning_Assignment/sweeps/y23f6q1q</a>"
            ]
          },
          "metadata": {}
        },
        {
          "output_type": "display_data",
          "data": {
            "text/plain": [
              "<IPython.core.display.HTML object>"
            ],
            "text/html": [
              " View project at <a href='https://wandb.ai/m_dhamu2908/Deep_Learning_Assignment' target=\"_blank\">https://wandb.ai/m_dhamu2908/Deep_Learning_Assignment</a>"
            ]
          },
          "metadata": {}
        },
        {
          "output_type": "display_data",
          "data": {
            "text/plain": [
              "<IPython.core.display.HTML object>"
            ],
            "text/html": [
              " View sweep at <a href='https://wandb.ai/m_dhamu2908/Deep_Learning_Assignment/sweeps/y23f6q1q' target=\"_blank\">https://wandb.ai/m_dhamu2908/Deep_Learning_Assignment/sweeps/y23f6q1q</a>"
            ]
          },
          "metadata": {}
        },
        {
          "output_type": "display_data",
          "data": {
            "text/plain": [
              "<IPython.core.display.HTML object>"
            ],
            "text/html": [
              " View run at <a href='https://wandb.ai/m_dhamu2908/Deep_Learning_Assignment/runs/0thfv91j' target=\"_blank\">https://wandb.ai/m_dhamu2908/Deep_Learning_Assignment/runs/0thfv91j</a>"
            ]
          },
          "metadata": {}
        },
        {
          "output_type": "stream",
          "name": "stdout",
          "text": [
            "Epoch: 0, Train Accuracy: 0.842037037037037, Train Loss: 0.19431554667935125, Validation Accuracy: 0.8345, Validation Loss: 0.19713005877442868\n",
            "Epoch: 1, Train Accuracy: 0.8596296296296296, Train Loss: 0.17047585166744986, Validation Accuracy: 0.8523333333333334, Validation Loss: 0.1766596154262974\n",
            "Epoch: 2, Train Accuracy: 0.870037037037037, Train Loss: 0.15741386371435043, Validation Accuracy: 0.861, Validation Loss: 0.16601389768243474\n",
            "Epoch: 3, Train Accuracy: 0.8773148148148148, Train Loss: 0.14858730048735638, Validation Accuracy: 0.8651666666666666, Validation Loss: 0.1595219090958556\n",
            "Epoch: 4, Train Accuracy: 0.8827037037037037, Train Loss: 0.1419676044568119, Validation Accuracy: 0.8711666666666666, Validation Loss: 0.15515259650129404\n"
          ]
        },
        {
          "output_type": "display_data",
          "data": {
            "text/plain": [
              "<IPython.core.display.HTML object>"
            ],
            "text/html": []
          },
          "metadata": {}
        },
        {
          "output_type": "display_data",
          "data": {
            "text/plain": [
              "<IPython.core.display.HTML object>"
            ],
            "text/html": [
              "<br>    <style><br>        .wandb-row {<br>            display: flex;<br>            flex-direction: row;<br>            flex-wrap: wrap;<br>            justify-content: flex-start;<br>            width: 100%;<br>        }<br>        .wandb-col {<br>            display: flex;<br>            flex-direction: column;<br>            flex-basis: 100%;<br>            flex: 1;<br>            padding: 10px;<br>        }<br>    </style><br><div class=\"wandb-row\"><div class=\"wandb-col\"><h3>Run history:</h3><br/><table class=\"wandb\"><tr><td>epoch</td><td>▁▃▅▆█</td></tr><tr><td>train_accuracy</td><td>▁▄▆▇█</td></tr><tr><td>train_loss</td><td>█▅▃▂▁</td></tr><tr><td>val_accuracy</td><td>▁▄▆▇█</td></tr><tr><td>val_loss</td><td>█▅▃▂▁</td></tr></table><br/></div><div class=\"wandb-col\"><h3>Run summary:</h3><br/><table class=\"wandb\"><tr><td>epoch</td><td>4</td></tr><tr><td>train_accuracy</td><td>0.8827</td></tr><tr><td>train_loss</td><td>0.14197</td></tr><tr><td>val_accuracy</td><td>0.87117</td></tr><tr><td>val_loss</td><td>0.15515</td></tr></table><br/></div></div>"
            ]
          },
          "metadata": {}
        },
        {
          "output_type": "display_data",
          "data": {
            "text/plain": [
              "<IPython.core.display.HTML object>"
            ],
            "text/html": [
              " View run <strong style=\"color:#cdcd00\">lr_0.0001_bs_16_epochs_5_act_tanh_opt_rmsprop</strong> at: <a href='https://wandb.ai/m_dhamu2908/Deep_Learning_Assignment/runs/0thfv91j' target=\"_blank\">https://wandb.ai/m_dhamu2908/Deep_Learning_Assignment/runs/0thfv91j</a><br> View project at: <a href='https://wandb.ai/m_dhamu2908/Deep_Learning_Assignment' target=\"_blank\">https://wandb.ai/m_dhamu2908/Deep_Learning_Assignment</a><br>Synced 5 W&B file(s), 0 media file(s), 0 artifact file(s) and 0 other file(s)"
            ]
          },
          "metadata": {}
        },
        {
          "output_type": "display_data",
          "data": {
            "text/plain": [
              "<IPython.core.display.HTML object>"
            ],
            "text/html": [
              "Find logs at: <code>./wandb/run-20250316_221627-0thfv91j/logs</code>"
            ]
          },
          "metadata": {}
        },
        {
          "output_type": "stream",
          "name": "stderr",
          "text": [
            "\u001b[34m\u001b[1mwandb\u001b[0m: Agent Starting Run: hz0vjnmo with config:\n",
            "\u001b[34m\u001b[1mwandb\u001b[0m: \tactivation: sigmoid\n",
            "\u001b[34m\u001b[1mwandb\u001b[0m: \tbatch_size: 64\n",
            "\u001b[34m\u001b[1mwandb\u001b[0m: \tbeta1: 0.9\n",
            "\u001b[34m\u001b[1mwandb\u001b[0m: \tbeta2: 0.9\n",
            "\u001b[34m\u001b[1mwandb\u001b[0m: \tepochs: 10\n",
            "\u001b[34m\u001b[1mwandb\u001b[0m: \teps: 1e-08\n",
            "\u001b[34m\u001b[1mwandb\u001b[0m: \thidden_layers: 3\n",
            "\u001b[34m\u001b[1mwandb\u001b[0m: \thl_size: 64\n",
            "\u001b[34m\u001b[1mwandb\u001b[0m: \tinitialization: xavier\n",
            "\u001b[34m\u001b[1mwandb\u001b[0m: \tlearning_rate: 0.0001\n",
            "\u001b[34m\u001b[1mwandb\u001b[0m: \tloss: cross_entropy\n",
            "\u001b[34m\u001b[1mwandb\u001b[0m: \tmomentum_beta: 0.8\n",
            "\u001b[34m\u001b[1mwandb\u001b[0m: \toptimizer: nadam\n",
            "\u001b[34m\u001b[1mwandb\u001b[0m: \trms_beta: 0.8\n",
            "\u001b[34m\u001b[1mwandb\u001b[0m: \tweight_decay: 0.5\n"
          ]
        },
        {
          "output_type": "display_data",
          "data": {
            "text/plain": [
              "<IPython.core.display.HTML object>"
            ],
            "text/html": [
              "Ignoring project 'Deep_Learning_Assignment' when running a sweep."
            ]
          },
          "metadata": {}
        },
        {
          "output_type": "display_data",
          "data": {
            "text/plain": [
              "<IPython.core.display.HTML object>"
            ],
            "text/html": [
              "Tracking run with wandb version 0.19.7"
            ]
          },
          "metadata": {}
        },
        {
          "output_type": "display_data",
          "data": {
            "text/plain": [
              "<IPython.core.display.HTML object>"
            ],
            "text/html": [
              "Run data is saved locally in <code>/content/wandb/run-20250316_222158-hz0vjnmo</code>"
            ]
          },
          "metadata": {}
        },
        {
          "output_type": "display_data",
          "data": {
            "text/plain": [
              "<IPython.core.display.HTML object>"
            ],
            "text/html": [
              "Syncing run <strong><a href='https://wandb.ai/m_dhamu2908/Deep_Learning_Assignment/runs/hz0vjnmo' target=\"_blank\">light-sweep-11</a></strong> to <a href='https://wandb.ai/m_dhamu2908/Deep_Learning_Assignment' target=\"_blank\">Weights & Biases</a> (<a href='https://wandb.me/developer-guide' target=\"_blank\">docs</a>)<br>Sweep page: <a href='https://wandb.ai/m_dhamu2908/Deep_Learning_Assignment/sweeps/y23f6q1q' target=\"_blank\">https://wandb.ai/m_dhamu2908/Deep_Learning_Assignment/sweeps/y23f6q1q</a>"
            ]
          },
          "metadata": {}
        },
        {
          "output_type": "display_data",
          "data": {
            "text/plain": [
              "<IPython.core.display.HTML object>"
            ],
            "text/html": [
              " View project at <a href='https://wandb.ai/m_dhamu2908/Deep_Learning_Assignment' target=\"_blank\">https://wandb.ai/m_dhamu2908/Deep_Learning_Assignment</a>"
            ]
          },
          "metadata": {}
        },
        {
          "output_type": "display_data",
          "data": {
            "text/plain": [
              "<IPython.core.display.HTML object>"
            ],
            "text/html": [
              " View sweep at <a href='https://wandb.ai/m_dhamu2908/Deep_Learning_Assignment/sweeps/y23f6q1q' target=\"_blank\">https://wandb.ai/m_dhamu2908/Deep_Learning_Assignment/sweeps/y23f6q1q</a>"
            ]
          },
          "metadata": {}
        },
        {
          "output_type": "display_data",
          "data": {
            "text/plain": [
              "<IPython.core.display.HTML object>"
            ],
            "text/html": [
              " View run at <a href='https://wandb.ai/m_dhamu2908/Deep_Learning_Assignment/runs/hz0vjnmo' target=\"_blank\">https://wandb.ai/m_dhamu2908/Deep_Learning_Assignment/runs/hz0vjnmo</a>"
            ]
          },
          "metadata": {}
        },
        {
          "output_type": "stream",
          "name": "stdout",
          "text": [
            "Epoch: 0, Train Accuracy: 0.10064814814814815, Train Loss: 0.999998890840152, Validation Accuracy: 0.09416666666666666, Validation Loss: 1.000054497018084\n",
            "Epoch: 1, Train Accuracy: 0.10064814814814815, Train Loss: 0.9999974351903073, Validation Accuracy: 0.09416666666666666, Validation Loss: 1.000064118501948\n",
            "Epoch: 2, Train Accuracy: 0.10064814814814815, Train Loss: 0.99999694141886, Validation Accuracy: 0.09416666666666666, Validation Loss: 1.0000707191486877\n",
            "Epoch: 3, Train Accuracy: 0.10064814814814815, Train Loss: 0.9999966977368011, Validation Accuracy: 0.09416666666666666, Validation Loss: 1.0000752079688142\n",
            "Epoch: 4, Train Accuracy: 0.10064814814814815, Train Loss: 0.9999965539635768, Validation Accuracy: 0.09416666666666666, Validation Loss: 1.000078364624334\n",
            "Epoch: 5, Train Accuracy: 0.10064814814814815, Train Loss: 0.9999964594672917, Validation Accuracy: 0.09416666666666666, Validation Loss: 1.0000806523968104\n",
            "Epoch: 6, Train Accuracy: 0.10064814814814815, Train Loss: 0.9999963927115497, Validation Accuracy: 0.09416666666666666, Validation Loss: 1.0000823516218746\n",
            "Epoch: 7, Train Accuracy: 0.10064814814814815, Train Loss: 0.9999963430918984, Validation Accuracy: 0.09416666666666666, Validation Loss: 1.0000836391793586\n",
            "Epoch: 8, Train Accuracy: 0.10064814814814815, Train Loss: 0.9999963048112966, Validation Accuracy: 0.09416666666666666, Validation Loss: 1.0000846310898084\n",
            "Epoch: 9, Train Accuracy: 0.10064814814814815, Train Loss: 0.9999962744434322, Validation Accuracy: 0.09416666666666666, Validation Loss: 1.0000854059977982\n"
          ]
        },
        {
          "output_type": "display_data",
          "data": {
            "text/plain": [
              "<IPython.core.display.HTML object>"
            ],
            "text/html": []
          },
          "metadata": {}
        },
        {
          "output_type": "display_data",
          "data": {
            "text/plain": [
              "<IPython.core.display.HTML object>"
            ],
            "text/html": [
              "<br>    <style><br>        .wandb-row {<br>            display: flex;<br>            flex-direction: row;<br>            flex-wrap: wrap;<br>            justify-content: flex-start;<br>            width: 100%;<br>        }<br>        .wandb-col {<br>            display: flex;<br>            flex-direction: column;<br>            flex-basis: 100%;<br>            flex: 1;<br>            padding: 10px;<br>        }<br>    </style><br><div class=\"wandb-row\"><div class=\"wandb-col\"><h3>Run history:</h3><br/><table class=\"wandb\"><tr><td>epoch</td><td>▁▃▅▆█</td></tr><tr><td>train_accuracy</td><td>▁▁▁▁▁</td></tr><tr><td>train_loss</td><td>█▄▂▂▁</td></tr><tr><td>val_accuracy</td><td>▁▁▁▁▁</td></tr><tr><td>val_loss</td><td>▁▅▆▇█</td></tr></table><br/></div><div class=\"wandb-col\"><h3>Run summary:</h3><br/><table class=\"wandb\"><tr><td>epoch</td><td>9</td></tr><tr><td>train_accuracy</td><td>0.10065</td></tr><tr><td>train_loss</td><td>1.0</td></tr><tr><td>val_accuracy</td><td>0.09417</td></tr><tr><td>val_loss</td><td>1.00009</td></tr></table><br/></div></div>"
            ]
          },
          "metadata": {}
        },
        {
          "output_type": "display_data",
          "data": {
            "text/plain": [
              "<IPython.core.display.HTML object>"
            ],
            "text/html": [
              " View run <strong style=\"color:#cdcd00\">lr_0.0001_bs_64_epochs_10_act_sigmoid_opt_nadam</strong> at: <a href='https://wandb.ai/m_dhamu2908/Deep_Learning_Assignment/runs/hz0vjnmo' target=\"_blank\">https://wandb.ai/m_dhamu2908/Deep_Learning_Assignment/runs/hz0vjnmo</a><br> View project at: <a href='https://wandb.ai/m_dhamu2908/Deep_Learning_Assignment' target=\"_blank\">https://wandb.ai/m_dhamu2908/Deep_Learning_Assignment</a><br>Synced 5 W&B file(s), 0 media file(s), 0 artifact file(s) and 0 other file(s)"
            ]
          },
          "metadata": {}
        },
        {
          "output_type": "display_data",
          "data": {
            "text/plain": [
              "<IPython.core.display.HTML object>"
            ],
            "text/html": [
              "Find logs at: <code>./wandb/run-20250316_222158-hz0vjnmo/logs</code>"
            ]
          },
          "metadata": {}
        },
        {
          "output_type": "stream",
          "name": "stderr",
          "text": [
            "\u001b[34m\u001b[1mwandb\u001b[0m: Agent Starting Run: pvm3uo46 with config:\n",
            "\u001b[34m\u001b[1mwandb\u001b[0m: \tactivation: sigmoid\n",
            "\u001b[34m\u001b[1mwandb\u001b[0m: \tbatch_size: 32\n",
            "\u001b[34m\u001b[1mwandb\u001b[0m: \tbeta1: 0.99\n",
            "\u001b[34m\u001b[1mwandb\u001b[0m: \tbeta2: 0.999\n",
            "\u001b[34m\u001b[1mwandb\u001b[0m: \tepochs: 10\n",
            "\u001b[34m\u001b[1mwandb\u001b[0m: \teps: 1e-07\n",
            "\u001b[34m\u001b[1mwandb\u001b[0m: \thidden_layers: 5\n",
            "\u001b[34m\u001b[1mwandb\u001b[0m: \thl_size: 64\n",
            "\u001b[34m\u001b[1mwandb\u001b[0m: \tinitialization: xavier\n",
            "\u001b[34m\u001b[1mwandb\u001b[0m: \tlearning_rate: 0.0001\n",
            "\u001b[34m\u001b[1mwandb\u001b[0m: \tloss: cross_entropy\n",
            "\u001b[34m\u001b[1mwandb\u001b[0m: \tmomentum_beta: 0.8\n",
            "\u001b[34m\u001b[1mwandb\u001b[0m: \toptimizer: adam\n",
            "\u001b[34m\u001b[1mwandb\u001b[0m: \trms_beta: 0.9\n",
            "\u001b[34m\u001b[1mwandb\u001b[0m: \tweight_decay: 0\n"
          ]
        },
        {
          "output_type": "display_data",
          "data": {
            "text/plain": [
              "<IPython.core.display.HTML object>"
            ],
            "text/html": [
              "Ignoring project 'Deep_Learning_Assignment' when running a sweep."
            ]
          },
          "metadata": {}
        },
        {
          "output_type": "display_data",
          "data": {
            "text/plain": [
              "<IPython.core.display.HTML object>"
            ],
            "text/html": [
              "Tracking run with wandb version 0.19.7"
            ]
          },
          "metadata": {}
        },
        {
          "output_type": "display_data",
          "data": {
            "text/plain": [
              "<IPython.core.display.HTML object>"
            ],
            "text/html": [
              "Run data is saved locally in <code>/content/wandb/run-20250316_223208-pvm3uo46</code>"
            ]
          },
          "metadata": {}
        },
        {
          "output_type": "display_data",
          "data": {
            "text/plain": [
              "<IPython.core.display.HTML object>"
            ],
            "text/html": [
              "Syncing run <strong><a href='https://wandb.ai/m_dhamu2908/Deep_Learning_Assignment/runs/pvm3uo46' target=\"_blank\">vocal-sweep-12</a></strong> to <a href='https://wandb.ai/m_dhamu2908/Deep_Learning_Assignment' target=\"_blank\">Weights & Biases</a> (<a href='https://wandb.me/developer-guide' target=\"_blank\">docs</a>)<br>Sweep page: <a href='https://wandb.ai/m_dhamu2908/Deep_Learning_Assignment/sweeps/y23f6q1q' target=\"_blank\">https://wandb.ai/m_dhamu2908/Deep_Learning_Assignment/sweeps/y23f6q1q</a>"
            ]
          },
          "metadata": {}
        },
        {
          "output_type": "display_data",
          "data": {
            "text/plain": [
              "<IPython.core.display.HTML object>"
            ],
            "text/html": [
              " View project at <a href='https://wandb.ai/m_dhamu2908/Deep_Learning_Assignment' target=\"_blank\">https://wandb.ai/m_dhamu2908/Deep_Learning_Assignment</a>"
            ]
          },
          "metadata": {}
        },
        {
          "output_type": "display_data",
          "data": {
            "text/plain": [
              "<IPython.core.display.HTML object>"
            ],
            "text/html": [
              " View sweep at <a href='https://wandb.ai/m_dhamu2908/Deep_Learning_Assignment/sweeps/y23f6q1q' target=\"_blank\">https://wandb.ai/m_dhamu2908/Deep_Learning_Assignment/sweeps/y23f6q1q</a>"
            ]
          },
          "metadata": {}
        },
        {
          "output_type": "display_data",
          "data": {
            "text/plain": [
              "<IPython.core.display.HTML object>"
            ],
            "text/html": [
              " View run at <a href='https://wandb.ai/m_dhamu2908/Deep_Learning_Assignment/runs/pvm3uo46' target=\"_blank\">https://wandb.ai/m_dhamu2908/Deep_Learning_Assignment/runs/pvm3uo46</a>"
            ]
          },
          "metadata": {}
        },
        {
          "output_type": "stream",
          "name": "stdout",
          "text": [
            "Epoch: 1, Train Accuracy: 0.5962407407407407, Train Loss: 0.3915851688511097, Validation Accuracy: 0.592, Validation Loss: 0.390615191054371\n",
            "Epoch: 3, Train Accuracy: 0.7727222222222222, Train Loss: 0.28412036950248176, Validation Accuracy: 0.7768333333333334, Validation Loss: 0.2853544091473879\n",
            "Epoch: 5, Train Accuracy: 0.7957037037037037, Train Loss: 0.2466337961975178, Validation Accuracy: 0.7991666666666667, Validation Loss: 0.2489969855669121\n",
            "Epoch: 7, Train Accuracy: 0.8082407407407407, Train Loss: 0.22838238973484462, Validation Accuracy: 0.8083333333333333, Validation Loss: 0.23208703061642633\n",
            "Epoch: 9, Train Accuracy: 0.8158333333333333, Train Loss: 0.21747138897391047, Validation Accuracy: 0.8126666666666666, Validation Loss: 0.22255234738315358\n"
          ]
        },
        {
          "output_type": "display_data",
          "data": {
            "text/plain": [
              "<IPython.core.display.HTML object>"
            ],
            "text/html": []
          },
          "metadata": {}
        },
        {
          "output_type": "display_data",
          "data": {
            "text/plain": [
              "<IPython.core.display.HTML object>"
            ],
            "text/html": [
              "<br>    <style><br>        .wandb-row {<br>            display: flex;<br>            flex-direction: row;<br>            flex-wrap: wrap;<br>            justify-content: flex-start;<br>            width: 100%;<br>        }<br>        .wandb-col {<br>            display: flex;<br>            flex-direction: column;<br>            flex-basis: 100%;<br>            flex: 1;<br>            padding: 10px;<br>        }<br>    </style><br><div class=\"wandb-row\"><div class=\"wandb-col\"><h3>Run history:</h3><br/><table class=\"wandb\"><tr><td>epoch</td><td>▁▃▅▆█</td></tr><tr><td>train_accuracy</td><td>▁▇▇██</td></tr><tr><td>train_loss</td><td>█▄▂▁▁</td></tr><tr><td>val_accuracy</td><td>▁▇███</td></tr><tr><td>val_loss</td><td>█▄▂▁▁</td></tr></table><br/></div><div class=\"wandb-col\"><h3>Run summary:</h3><br/><table class=\"wandb\"><tr><td>epoch</td><td>9</td></tr><tr><td>train_accuracy</td><td>0.81583</td></tr><tr><td>train_loss</td><td>0.21747</td></tr><tr><td>val_accuracy</td><td>0.81267</td></tr><tr><td>val_loss</td><td>0.22255</td></tr></table><br/></div></div>"
            ]
          },
          "metadata": {}
        },
        {
          "output_type": "display_data",
          "data": {
            "text/plain": [
              "<IPython.core.display.HTML object>"
            ],
            "text/html": [
              " View run <strong style=\"color:#cdcd00\">lr_0.0001_bs_32_epochs_10_act_sigmoid_opt_adam</strong> at: <a href='https://wandb.ai/m_dhamu2908/Deep_Learning_Assignment/runs/pvm3uo46' target=\"_blank\">https://wandb.ai/m_dhamu2908/Deep_Learning_Assignment/runs/pvm3uo46</a><br> View project at: <a href='https://wandb.ai/m_dhamu2908/Deep_Learning_Assignment' target=\"_blank\">https://wandb.ai/m_dhamu2908/Deep_Learning_Assignment</a><br>Synced 5 W&B file(s), 0 media file(s), 0 artifact file(s) and 0 other file(s)"
            ]
          },
          "metadata": {}
        },
        {
          "output_type": "display_data",
          "data": {
            "text/plain": [
              "<IPython.core.display.HTML object>"
            ],
            "text/html": [
              "Find logs at: <code>./wandb/run-20250316_223208-pvm3uo46/logs</code>"
            ]
          },
          "metadata": {}
        },
        {
          "output_type": "stream",
          "name": "stderr",
          "text": [
            "\u001b[34m\u001b[1mwandb\u001b[0m: Agent Starting Run: ef45qchd with config:\n",
            "\u001b[34m\u001b[1mwandb\u001b[0m: \tactivation: relu\n",
            "\u001b[34m\u001b[1mwandb\u001b[0m: \tbatch_size: 32\n",
            "\u001b[34m\u001b[1mwandb\u001b[0m: \tbeta1: 0.8\n",
            "\u001b[34m\u001b[1mwandb\u001b[0m: \tbeta2: 0.999\n",
            "\u001b[34m\u001b[1mwandb\u001b[0m: \tepochs: 5\n",
            "\u001b[34m\u001b[1mwandb\u001b[0m: \teps: 1e-06\n",
            "\u001b[34m\u001b[1mwandb\u001b[0m: \thidden_layers: 5\n",
            "\u001b[34m\u001b[1mwandb\u001b[0m: \thl_size: 128\n",
            "\u001b[34m\u001b[1mwandb\u001b[0m: \tinitialization: random\n",
            "\u001b[34m\u001b[1mwandb\u001b[0m: \tlearning_rate: 0.0001\n",
            "\u001b[34m\u001b[1mwandb\u001b[0m: \tloss: cross_entropy\n",
            "\u001b[34m\u001b[1mwandb\u001b[0m: \tmomentum_beta: 0.8\n",
            "\u001b[34m\u001b[1mwandb\u001b[0m: \toptimizer: nadam\n",
            "\u001b[34m\u001b[1mwandb\u001b[0m: \trms_beta: 0.8\n",
            "\u001b[34m\u001b[1mwandb\u001b[0m: \tweight_decay: 0.5\n"
          ]
        },
        {
          "output_type": "display_data",
          "data": {
            "text/plain": [
              "<IPython.core.display.HTML object>"
            ],
            "text/html": [
              "Ignoring project 'Deep_Learning_Assignment' when running a sweep."
            ]
          },
          "metadata": {}
        },
        {
          "output_type": "display_data",
          "data": {
            "text/plain": [
              "<IPython.core.display.HTML object>"
            ],
            "text/html": [
              "Tracking run with wandb version 0.19.7"
            ]
          },
          "metadata": {}
        },
        {
          "output_type": "display_data",
          "data": {
            "text/plain": [
              "<IPython.core.display.HTML object>"
            ],
            "text/html": [
              "Run data is saved locally in <code>/content/wandb/run-20250316_224424-ef45qchd</code>"
            ]
          },
          "metadata": {}
        },
        {
          "output_type": "display_data",
          "data": {
            "text/plain": [
              "<IPython.core.display.HTML object>"
            ],
            "text/html": [
              "Syncing run <strong><a href='https://wandb.ai/m_dhamu2908/Deep_Learning_Assignment/runs/ef45qchd' target=\"_blank\">ethereal-sweep-13</a></strong> to <a href='https://wandb.ai/m_dhamu2908/Deep_Learning_Assignment' target=\"_blank\">Weights & Biases</a> (<a href='https://wandb.me/developer-guide' target=\"_blank\">docs</a>)<br>Sweep page: <a href='https://wandb.ai/m_dhamu2908/Deep_Learning_Assignment/sweeps/y23f6q1q' target=\"_blank\">https://wandb.ai/m_dhamu2908/Deep_Learning_Assignment/sweeps/y23f6q1q</a>"
            ]
          },
          "metadata": {}
        },
        {
          "output_type": "display_data",
          "data": {
            "text/plain": [
              "<IPython.core.display.HTML object>"
            ],
            "text/html": [
              " View project at <a href='https://wandb.ai/m_dhamu2908/Deep_Learning_Assignment' target=\"_blank\">https://wandb.ai/m_dhamu2908/Deep_Learning_Assignment</a>"
            ]
          },
          "metadata": {}
        },
        {
          "output_type": "display_data",
          "data": {
            "text/plain": [
              "<IPython.core.display.HTML object>"
            ],
            "text/html": [
              " View sweep at <a href='https://wandb.ai/m_dhamu2908/Deep_Learning_Assignment/sweeps/y23f6q1q' target=\"_blank\">https://wandb.ai/m_dhamu2908/Deep_Learning_Assignment/sweeps/y23f6q1q</a>"
            ]
          },
          "metadata": {}
        },
        {
          "output_type": "display_data",
          "data": {
            "text/plain": [
              "<IPython.core.display.HTML object>"
            ],
            "text/html": [
              " View run at <a href='https://wandb.ai/m_dhamu2908/Deep_Learning_Assignment/runs/ef45qchd' target=\"_blank\">https://wandb.ai/m_dhamu2908/Deep_Learning_Assignment/runs/ef45qchd</a>"
            ]
          },
          "metadata": {}
        },
        {
          "output_type": "stream",
          "name": "stdout",
          "text": [
            "Epoch: 0, Train Accuracy: 0.09944444444444445, Train Loss: 1.0000283275944957, Validation Accuracy: 0.105, Validation Loss: 0.9999154979159917\n",
            "Epoch: 1, Train Accuracy: 0.09944444444444445, Train Loss: 1.0000256922076474, Validation Accuracy: 0.105, Validation Loss: 0.9999212948592892\n",
            "Epoch: 2, Train Accuracy: 0.09944444444444445, Train Loss: 1.0000235927862589, Validation Accuracy: 0.105, Validation Loss: 0.9999261551898516\n",
            "Epoch: 3, Train Accuracy: 0.09944444444444445, Train Loss: 1.0000217403437166, Validation Accuracy: 0.105, Validation Loss: 0.9999306582228651\n",
            "Epoch: 4, Train Accuracy: 0.09944444444444445, Train Loss: 1.0000200431880004, Validation Accuracy: 0.105, Validation Loss: 0.9999349819479798\n"
          ]
        },
        {
          "output_type": "display_data",
          "data": {
            "text/plain": [
              "<IPython.core.display.HTML object>"
            ],
            "text/html": []
          },
          "metadata": {}
        },
        {
          "output_type": "display_data",
          "data": {
            "text/plain": [
              "<IPython.core.display.HTML object>"
            ],
            "text/html": [
              "<br>    <style><br>        .wandb-row {<br>            display: flex;<br>            flex-direction: row;<br>            flex-wrap: wrap;<br>            justify-content: flex-start;<br>            width: 100%;<br>        }<br>        .wandb-col {<br>            display: flex;<br>            flex-direction: column;<br>            flex-basis: 100%;<br>            flex: 1;<br>            padding: 10px;<br>        }<br>    </style><br><div class=\"wandb-row\"><div class=\"wandb-col\"><h3>Run history:</h3><br/><table class=\"wandb\"><tr><td>epoch</td><td>▁▃▅▆█</td></tr><tr><td>train_accuracy</td><td>▁▁▁▁▁</td></tr><tr><td>train_loss</td><td>█▆▄▂▁</td></tr><tr><td>val_accuracy</td><td>▁▁▁▁▁</td></tr><tr><td>val_loss</td><td>▁▃▅▆█</td></tr></table><br/></div><div class=\"wandb-col\"><h3>Run summary:</h3><br/><table class=\"wandb\"><tr><td>epoch</td><td>4</td></tr><tr><td>train_accuracy</td><td>0.09944</td></tr><tr><td>train_loss</td><td>1.00002</td></tr><tr><td>val_accuracy</td><td>0.105</td></tr><tr><td>val_loss</td><td>0.99993</td></tr></table><br/></div></div>"
            ]
          },
          "metadata": {}
        },
        {
          "output_type": "display_data",
          "data": {
            "text/plain": [
              "<IPython.core.display.HTML object>"
            ],
            "text/html": [
              " View run <strong style=\"color:#cdcd00\">lr_0.0001_bs_32_epochs_5_act_relu_opt_nadam</strong> at: <a href='https://wandb.ai/m_dhamu2908/Deep_Learning_Assignment/runs/ef45qchd' target=\"_blank\">https://wandb.ai/m_dhamu2908/Deep_Learning_Assignment/runs/ef45qchd</a><br> View project at: <a href='https://wandb.ai/m_dhamu2908/Deep_Learning_Assignment' target=\"_blank\">https://wandb.ai/m_dhamu2908/Deep_Learning_Assignment</a><br>Synced 5 W&B file(s), 0 media file(s), 0 artifact file(s) and 0 other file(s)"
            ]
          },
          "metadata": {}
        },
        {
          "output_type": "display_data",
          "data": {
            "text/plain": [
              "<IPython.core.display.HTML object>"
            ],
            "text/html": [
              "Find logs at: <code>./wandb/run-20250316_224424-ef45qchd/logs</code>"
            ]
          },
          "metadata": {}
        },
        {
          "output_type": "stream",
          "name": "stderr",
          "text": [
            "\u001b[34m\u001b[1mwandb\u001b[0m: Agent Starting Run: xycmoub0 with config:\n",
            "\u001b[34m\u001b[1mwandb\u001b[0m: \tactivation: relu\n",
            "\u001b[34m\u001b[1mwandb\u001b[0m: \tbatch_size: 32\n",
            "\u001b[34m\u001b[1mwandb\u001b[0m: \tbeta1: 0.8\n",
            "\u001b[34m\u001b[1mwandb\u001b[0m: \tbeta2: 0.9\n",
            "\u001b[34m\u001b[1mwandb\u001b[0m: \tepochs: 5\n",
            "\u001b[34m\u001b[1mwandb\u001b[0m: \teps: 1e-07\n",
            "\u001b[34m\u001b[1mwandb\u001b[0m: \thidden_layers: 3\n",
            "\u001b[34m\u001b[1mwandb\u001b[0m: \thl_size: 128\n",
            "\u001b[34m\u001b[1mwandb\u001b[0m: \tinitialization: random\n",
            "\u001b[34m\u001b[1mwandb\u001b[0m: \tlearning_rate: 0.001\n",
            "\u001b[34m\u001b[1mwandb\u001b[0m: \tloss: cross_entropy\n",
            "\u001b[34m\u001b[1mwandb\u001b[0m: \tmomentum_beta: 0.8\n",
            "\u001b[34m\u001b[1mwandb\u001b[0m: \toptimizer: nadam\n",
            "\u001b[34m\u001b[1mwandb\u001b[0m: \trms_beta: 0.99\n",
            "\u001b[34m\u001b[1mwandb\u001b[0m: \tweight_decay: 0.0005\n"
          ]
        },
        {
          "output_type": "display_data",
          "data": {
            "text/plain": [
              "<IPython.core.display.HTML object>"
            ],
            "text/html": [
              "Ignoring project 'Deep_Learning_Assignment' when running a sweep."
            ]
          },
          "metadata": {}
        },
        {
          "output_type": "display_data",
          "data": {
            "text/plain": [
              "<IPython.core.display.HTML object>"
            ],
            "text/html": [
              "Tracking run with wandb version 0.19.7"
            ]
          },
          "metadata": {}
        },
        {
          "output_type": "display_data",
          "data": {
            "text/plain": [
              "<IPython.core.display.HTML object>"
            ],
            "text/html": [
              "Run data is saved locally in <code>/content/wandb/run-20250316_232114-xycmoub0</code>"
            ]
          },
          "metadata": {}
        },
        {
          "output_type": "display_data",
          "data": {
            "text/plain": [
              "<IPython.core.display.HTML object>"
            ],
            "text/html": [
              "Syncing run <strong><a href='https://wandb.ai/m_dhamu2908/Deep_Learning_Assignment/runs/xycmoub0' target=\"_blank\">polished-sweep-14</a></strong> to <a href='https://wandb.ai/m_dhamu2908/Deep_Learning_Assignment' target=\"_blank\">Weights & Biases</a> (<a href='https://wandb.me/developer-guide' target=\"_blank\">docs</a>)<br>Sweep page: <a href='https://wandb.ai/m_dhamu2908/Deep_Learning_Assignment/sweeps/y23f6q1q' target=\"_blank\">https://wandb.ai/m_dhamu2908/Deep_Learning_Assignment/sweeps/y23f6q1q</a>"
            ]
          },
          "metadata": {}
        },
        {
          "output_type": "display_data",
          "data": {
            "text/plain": [
              "<IPython.core.display.HTML object>"
            ],
            "text/html": [
              " View project at <a href='https://wandb.ai/m_dhamu2908/Deep_Learning_Assignment' target=\"_blank\">https://wandb.ai/m_dhamu2908/Deep_Learning_Assignment</a>"
            ]
          },
          "metadata": {}
        },
        {
          "output_type": "display_data",
          "data": {
            "text/plain": [
              "<IPython.core.display.HTML object>"
            ],
            "text/html": [
              " View sweep at <a href='https://wandb.ai/m_dhamu2908/Deep_Learning_Assignment/sweeps/y23f6q1q' target=\"_blank\">https://wandb.ai/m_dhamu2908/Deep_Learning_Assignment/sweeps/y23f6q1q</a>"
            ]
          },
          "metadata": {}
        },
        {
          "output_type": "display_data",
          "data": {
            "text/plain": [
              "<IPython.core.display.HTML object>"
            ],
            "text/html": [
              " View run at <a href='https://wandb.ai/m_dhamu2908/Deep_Learning_Assignment/runs/xycmoub0' target=\"_blank\">https://wandb.ai/m_dhamu2908/Deep_Learning_Assignment/runs/xycmoub0</a>"
            ]
          },
          "metadata": {}
        },
        {
          "output_type": "stream",
          "name": "stdout",
          "text": [
            "Epoch: 0, Train Accuracy: 0.8263148148148148, Train Loss: 0.2111175976905372, Validation Accuracy: 0.8186666666666667, Validation Loss: 0.21617338915430212\n",
            "Epoch: 1, Train Accuracy: 0.8537777777777777, Train Loss: 0.17592442259165345, Validation Accuracy: 0.8446666666666667, Validation Loss: 0.18387650334011096\n",
            "Epoch: 2, Train Accuracy: 0.8617037037037037, Train Loss: 0.16666201505387573, Validation Accuracy: 0.8511666666666666, Validation Loss: 0.17634868329995185\n",
            "Epoch: 3, Train Accuracy: 0.866462962962963, Train Loss: 0.16113427996393312, Validation Accuracy: 0.8538333333333333, Validation Loss: 0.1728363302023198\n",
            "Epoch: 4, Train Accuracy: 0.867, Train Loss: 0.16097482352220746, Validation Accuracy: 0.8573333333333333, Validation Loss: 0.1730229332468596\n"
          ]
        },
        {
          "output_type": "display_data",
          "data": {
            "text/plain": [
              "<IPython.core.display.HTML object>"
            ],
            "text/html": []
          },
          "metadata": {}
        },
        {
          "output_type": "display_data",
          "data": {
            "text/plain": [
              "<IPython.core.display.HTML object>"
            ],
            "text/html": [
              "<br>    <style><br>        .wandb-row {<br>            display: flex;<br>            flex-direction: row;<br>            flex-wrap: wrap;<br>            justify-content: flex-start;<br>            width: 100%;<br>        }<br>        .wandb-col {<br>            display: flex;<br>            flex-direction: column;<br>            flex-basis: 100%;<br>            flex: 1;<br>            padding: 10px;<br>        }<br>    </style><br><div class=\"wandb-row\"><div class=\"wandb-col\"><h3>Run history:</h3><br/><table class=\"wandb\"><tr><td>epoch</td><td>▁▃▅▆█</td></tr><tr><td>train_accuracy</td><td>▁▆▇██</td></tr><tr><td>train_loss</td><td>█▃▂▁▁</td></tr><tr><td>val_accuracy</td><td>▁▆▇▇█</td></tr><tr><td>val_loss</td><td>█▃▂▁▁</td></tr></table><br/></div><div class=\"wandb-col\"><h3>Run summary:</h3><br/><table class=\"wandb\"><tr><td>epoch</td><td>4</td></tr><tr><td>train_accuracy</td><td>0.867</td></tr><tr><td>train_loss</td><td>0.16097</td></tr><tr><td>val_accuracy</td><td>0.85733</td></tr><tr><td>val_loss</td><td>0.17302</td></tr></table><br/></div></div>"
            ]
          },
          "metadata": {}
        },
        {
          "output_type": "display_data",
          "data": {
            "text/plain": [
              "<IPython.core.display.HTML object>"
            ],
            "text/html": [
              " View run <strong style=\"color:#cdcd00\">lr_0.001_bs_32_epochs_5_act_relu_opt_nadam</strong> at: <a href='https://wandb.ai/m_dhamu2908/Deep_Learning_Assignment/runs/xycmoub0' target=\"_blank\">https://wandb.ai/m_dhamu2908/Deep_Learning_Assignment/runs/xycmoub0</a><br> View project at: <a href='https://wandb.ai/m_dhamu2908/Deep_Learning_Assignment' target=\"_blank\">https://wandb.ai/m_dhamu2908/Deep_Learning_Assignment</a><br>Synced 5 W&B file(s), 0 media file(s), 0 artifact file(s) and 0 other file(s)"
            ]
          },
          "metadata": {}
        },
        {
          "output_type": "display_data",
          "data": {
            "text/plain": [
              "<IPython.core.display.HTML object>"
            ],
            "text/html": [
              "Find logs at: <code>./wandb/run-20250316_232114-xycmoub0/logs</code>"
            ]
          },
          "metadata": {}
        },
        {
          "output_type": "stream",
          "name": "stderr",
          "text": [
            "\u001b[34m\u001b[1mwandb\u001b[0m: Agent Starting Run: mo2hb3t1 with config:\n",
            "\u001b[34m\u001b[1mwandb\u001b[0m: \tactivation: tanh\n",
            "\u001b[34m\u001b[1mwandb\u001b[0m: \tbatch_size: 32\n",
            "\u001b[34m\u001b[1mwandb\u001b[0m: \tbeta1: 0.8\n",
            "\u001b[34m\u001b[1mwandb\u001b[0m: \tbeta2: 0.99\n",
            "\u001b[34m\u001b[1mwandb\u001b[0m: \tepochs: 5\n",
            "\u001b[34m\u001b[1mwandb\u001b[0m: \teps: 1e-07\n",
            "\u001b[34m\u001b[1mwandb\u001b[0m: \thidden_layers: 4\n",
            "\u001b[34m\u001b[1mwandb\u001b[0m: \thl_size: 32\n",
            "\u001b[34m\u001b[1mwandb\u001b[0m: \tinitialization: random\n",
            "\u001b[34m\u001b[1mwandb\u001b[0m: \tlearning_rate: 0.001\n",
            "\u001b[34m\u001b[1mwandb\u001b[0m: \tloss: cross_entropy\n",
            "\u001b[34m\u001b[1mwandb\u001b[0m: \tmomentum_beta: 0.9\n",
            "\u001b[34m\u001b[1mwandb\u001b[0m: \toptimizer: rmsprop\n",
            "\u001b[34m\u001b[1mwandb\u001b[0m: \trms_beta: 0.99\n",
            "\u001b[34m\u001b[1mwandb\u001b[0m: \tweight_decay: 0\n"
          ]
        },
        {
          "output_type": "display_data",
          "data": {
            "text/plain": [
              "<IPython.core.display.HTML object>"
            ],
            "text/html": [
              "Ignoring project 'Deep_Learning_Assignment' when running a sweep."
            ]
          },
          "metadata": {}
        },
        {
          "output_type": "display_data",
          "data": {
            "text/plain": [
              "<IPython.core.display.HTML object>"
            ],
            "text/html": [
              "Tracking run with wandb version 0.19.7"
            ]
          },
          "metadata": {}
        },
        {
          "output_type": "display_data",
          "data": {
            "text/plain": [
              "<IPython.core.display.HTML object>"
            ],
            "text/html": [
              "Run data is saved locally in <code>/content/wandb/run-20250316_234052-mo2hb3t1</code>"
            ]
          },
          "metadata": {}
        },
        {
          "output_type": "display_data",
          "data": {
            "text/plain": [
              "<IPython.core.display.HTML object>"
            ],
            "text/html": [
              "Syncing run <strong><a href='https://wandb.ai/m_dhamu2908/Deep_Learning_Assignment/runs/mo2hb3t1' target=\"_blank\">skilled-sweep-15</a></strong> to <a href='https://wandb.ai/m_dhamu2908/Deep_Learning_Assignment' target=\"_blank\">Weights & Biases</a> (<a href='https://wandb.me/developer-guide' target=\"_blank\">docs</a>)<br>Sweep page: <a href='https://wandb.ai/m_dhamu2908/Deep_Learning_Assignment/sweeps/y23f6q1q' target=\"_blank\">https://wandb.ai/m_dhamu2908/Deep_Learning_Assignment/sweeps/y23f6q1q</a>"
            ]
          },
          "metadata": {}
        },
        {
          "output_type": "display_data",
          "data": {
            "text/plain": [
              "<IPython.core.display.HTML object>"
            ],
            "text/html": [
              " View project at <a href='https://wandb.ai/m_dhamu2908/Deep_Learning_Assignment' target=\"_blank\">https://wandb.ai/m_dhamu2908/Deep_Learning_Assignment</a>"
            ]
          },
          "metadata": {}
        },
        {
          "output_type": "display_data",
          "data": {
            "text/plain": [
              "<IPython.core.display.HTML object>"
            ],
            "text/html": [
              " View sweep at <a href='https://wandb.ai/m_dhamu2908/Deep_Learning_Assignment/sweeps/y23f6q1q' target=\"_blank\">https://wandb.ai/m_dhamu2908/Deep_Learning_Assignment/sweeps/y23f6q1q</a>"
            ]
          },
          "metadata": {}
        },
        {
          "output_type": "display_data",
          "data": {
            "text/plain": [
              "<IPython.core.display.HTML object>"
            ],
            "text/html": [
              " View run at <a href='https://wandb.ai/m_dhamu2908/Deep_Learning_Assignment/runs/mo2hb3t1' target=\"_blank\">https://wandb.ai/m_dhamu2908/Deep_Learning_Assignment/runs/mo2hb3t1</a>"
            ]
          },
          "metadata": {}
        },
        {
          "output_type": "stream",
          "name": "stdout",
          "text": [
            "Epoch: 0, Train Accuracy: 0.5504814814814815, Train Loss: 0.39846664037519675, Validation Accuracy: 0.5566666666666666, Validation Loss: 0.40072198936737224\n",
            "Epoch: 1, Train Accuracy: 0.7822222222222223, Train Loss: 0.25059505307067126, Validation Accuracy: 0.7686666666666667, Validation Loss: 0.26009022665012044\n",
            "Epoch: 2, Train Accuracy: 0.8415925925925926, Train Loss: 0.1962282855206511, Validation Accuracy: 0.8296666666666667, Validation Loss: 0.209258235419326\n",
            "Epoch: 3, Train Accuracy: 0.8514074074074074, Train Loss: 0.17884843529839678, Validation Accuracy: 0.8356666666666667, Validation Loss: 0.195217463652914\n",
            "Epoch: 4, Train Accuracy: 0.8555925925925926, Train Loss: 0.17197046339068675, Validation Accuracy: 0.8376666666666667, Validation Loss: 0.19097660149602555\n"
          ]
        },
        {
          "output_type": "display_data",
          "data": {
            "text/plain": [
              "<IPython.core.display.HTML object>"
            ],
            "text/html": []
          },
          "metadata": {}
        },
        {
          "output_type": "display_data",
          "data": {
            "text/plain": [
              "<IPython.core.display.HTML object>"
            ],
            "text/html": [
              "<br>    <style><br>        .wandb-row {<br>            display: flex;<br>            flex-direction: row;<br>            flex-wrap: wrap;<br>            justify-content: flex-start;<br>            width: 100%;<br>        }<br>        .wandb-col {<br>            display: flex;<br>            flex-direction: column;<br>            flex-basis: 100%;<br>            flex: 1;<br>            padding: 10px;<br>        }<br>    </style><br><div class=\"wandb-row\"><div class=\"wandb-col\"><h3>Run history:</h3><br/><table class=\"wandb\"><tr><td>epoch</td><td>▁▃▅▆█</td></tr><tr><td>train_accuracy</td><td>▁▆███</td></tr><tr><td>train_loss</td><td>█▃▂▁▁</td></tr><tr><td>val_accuracy</td><td>▁▆███</td></tr><tr><td>val_loss</td><td>█▃▂▁▁</td></tr></table><br/></div><div class=\"wandb-col\"><h3>Run summary:</h3><br/><table class=\"wandb\"><tr><td>epoch</td><td>4</td></tr><tr><td>train_accuracy</td><td>0.85559</td></tr><tr><td>train_loss</td><td>0.17197</td></tr><tr><td>val_accuracy</td><td>0.83767</td></tr><tr><td>val_loss</td><td>0.19098</td></tr></table><br/></div></div>"
            ]
          },
          "metadata": {}
        },
        {
          "output_type": "display_data",
          "data": {
            "text/plain": [
              "<IPython.core.display.HTML object>"
            ],
            "text/html": [
              " View run <strong style=\"color:#cdcd00\">lr_0.001_bs_32_epochs_5_act_tanh_opt_rmsprop</strong> at: <a href='https://wandb.ai/m_dhamu2908/Deep_Learning_Assignment/runs/mo2hb3t1' target=\"_blank\">https://wandb.ai/m_dhamu2908/Deep_Learning_Assignment/runs/mo2hb3t1</a><br> View project at: <a href='https://wandb.ai/m_dhamu2908/Deep_Learning_Assignment' target=\"_blank\">https://wandb.ai/m_dhamu2908/Deep_Learning_Assignment</a><br>Synced 5 W&B file(s), 0 media file(s), 0 artifact file(s) and 0 other file(s)"
            ]
          },
          "metadata": {}
        },
        {
          "output_type": "display_data",
          "data": {
            "text/plain": [
              "<IPython.core.display.HTML object>"
            ],
            "text/html": [
              "Find logs at: <code>./wandb/run-20250316_234052-mo2hb3t1/logs</code>"
            ]
          },
          "metadata": {}
        },
        {
          "output_type": "stream",
          "name": "stderr",
          "text": [
            "\u001b[34m\u001b[1mwandb\u001b[0m: Agent Starting Run: wmbz6k8o with config:\n",
            "\u001b[34m\u001b[1mwandb\u001b[0m: \tactivation: sigmoid\n",
            "\u001b[34m\u001b[1mwandb\u001b[0m: \tbatch_size: 32\n",
            "\u001b[34m\u001b[1mwandb\u001b[0m: \tbeta1: 0.9\n",
            "\u001b[34m\u001b[1mwandb\u001b[0m: \tbeta2: 0.99\n",
            "\u001b[34m\u001b[1mwandb\u001b[0m: \tepochs: 5\n",
            "\u001b[34m\u001b[1mwandb\u001b[0m: \teps: 1e-08\n",
            "\u001b[34m\u001b[1mwandb\u001b[0m: \thidden_layers: 5\n",
            "\u001b[34m\u001b[1mwandb\u001b[0m: \thl_size: 128\n",
            "\u001b[34m\u001b[1mwandb\u001b[0m: \tinitialization: random\n",
            "\u001b[34m\u001b[1mwandb\u001b[0m: \tlearning_rate: 0.001\n",
            "\u001b[34m\u001b[1mwandb\u001b[0m: \tloss: cross_entropy\n",
            "\u001b[34m\u001b[1mwandb\u001b[0m: \tmomentum_beta: 0.99\n",
            "\u001b[34m\u001b[1mwandb\u001b[0m: \toptimizer: nestrov\n",
            "\u001b[34m\u001b[1mwandb\u001b[0m: \trms_beta: 0.9\n",
            "\u001b[34m\u001b[1mwandb\u001b[0m: \tweight_decay: 0\n"
          ]
        },
        {
          "output_type": "display_data",
          "data": {
            "text/plain": [
              "<IPython.core.display.HTML object>"
            ],
            "text/html": [
              "Ignoring project 'Deep_Learning_Assignment' when running a sweep."
            ]
          },
          "metadata": {}
        },
        {
          "output_type": "display_data",
          "data": {
            "text/plain": [
              "<IPython.core.display.HTML object>"
            ],
            "text/html": [
              "Tracking run with wandb version 0.19.7"
            ]
          },
          "metadata": {}
        },
        {
          "output_type": "display_data",
          "data": {
            "text/plain": [
              "<IPython.core.display.HTML object>"
            ],
            "text/html": [
              "Run data is saved locally in <code>/content/wandb/run-20250316_234420-wmbz6k8o</code>"
            ]
          },
          "metadata": {}
        },
        {
          "output_type": "display_data",
          "data": {
            "text/plain": [
              "<IPython.core.display.HTML object>"
            ],
            "text/html": [
              "Syncing run <strong><a href='https://wandb.ai/m_dhamu2908/Deep_Learning_Assignment/runs/wmbz6k8o' target=\"_blank\">vague-sweep-16</a></strong> to <a href='https://wandb.ai/m_dhamu2908/Deep_Learning_Assignment' target=\"_blank\">Weights & Biases</a> (<a href='https://wandb.me/developer-guide' target=\"_blank\">docs</a>)<br>Sweep page: <a href='https://wandb.ai/m_dhamu2908/Deep_Learning_Assignment/sweeps/y23f6q1q' target=\"_blank\">https://wandb.ai/m_dhamu2908/Deep_Learning_Assignment/sweeps/y23f6q1q</a>"
            ]
          },
          "metadata": {}
        },
        {
          "output_type": "display_data",
          "data": {
            "text/plain": [
              "<IPython.core.display.HTML object>"
            ],
            "text/html": [
              " View project at <a href='https://wandb.ai/m_dhamu2908/Deep_Learning_Assignment' target=\"_blank\">https://wandb.ai/m_dhamu2908/Deep_Learning_Assignment</a>"
            ]
          },
          "metadata": {}
        },
        {
          "output_type": "display_data",
          "data": {
            "text/plain": [
              "<IPython.core.display.HTML object>"
            ],
            "text/html": [
              " View sweep at <a href='https://wandb.ai/m_dhamu2908/Deep_Learning_Assignment/sweeps/y23f6q1q' target=\"_blank\">https://wandb.ai/m_dhamu2908/Deep_Learning_Assignment/sweeps/y23f6q1q</a>"
            ]
          },
          "metadata": {}
        },
        {
          "output_type": "display_data",
          "data": {
            "text/plain": [
              "<IPython.core.display.HTML object>"
            ],
            "text/html": [
              " View run at <a href='https://wandb.ai/m_dhamu2908/Deep_Learning_Assignment/runs/wmbz6k8o' target=\"_blank\">https://wandb.ai/m_dhamu2908/Deep_Learning_Assignment/runs/wmbz6k8o</a>"
            ]
          },
          "metadata": {}
        },
        {
          "output_type": "stream",
          "name": "stdout",
          "text": [
            "Epoch: 0, Train Accuracy: 0.10064814814814815, Train Loss: 1.0255502309938969, Validation Accuracy: 0.09416666666666666, Validation Loss: 1.0291724788087278\n",
            "Epoch: 1, Train Accuracy: 0.10064814814814815, Train Loss: 1.0255354258591298, Validation Accuracy: 0.09416666666666666, Validation Loss: 1.0291579076432038\n",
            "Epoch: 2, Train Accuracy: 0.10064814814814815, Train Loss: 1.0255354148307947, Validation Accuracy: 0.09416666666666666, Validation Loss: 1.0291578963854964\n",
            "Epoch: 3, Train Accuracy: 0.10064814814814815, Train Loss: 1.0255354148261429, Validation Accuracy: 0.09416666666666666, Validation Loss: 1.0291578963800572\n",
            "Epoch: 4, Train Accuracy: 0.10064814814814815, Train Loss: 1.0255354148261415, Validation Accuracy: 0.09416666666666666, Validation Loss: 1.0291578963800538\n"
          ]
        },
        {
          "output_type": "display_data",
          "data": {
            "text/plain": [
              "<IPython.core.display.HTML object>"
            ],
            "text/html": []
          },
          "metadata": {}
        },
        {
          "output_type": "display_data",
          "data": {
            "text/plain": [
              "<IPython.core.display.HTML object>"
            ],
            "text/html": [
              "<br>    <style><br>        .wandb-row {<br>            display: flex;<br>            flex-direction: row;<br>            flex-wrap: wrap;<br>            justify-content: flex-start;<br>            width: 100%;<br>        }<br>        .wandb-col {<br>            display: flex;<br>            flex-direction: column;<br>            flex-basis: 100%;<br>            flex: 1;<br>            padding: 10px;<br>        }<br>    </style><br><div class=\"wandb-row\"><div class=\"wandb-col\"><h3>Run history:</h3><br/><table class=\"wandb\"><tr><td>epoch</td><td>▁▃▅▆█</td></tr><tr><td>train_accuracy</td><td>▁▁▁▁▁</td></tr><tr><td>train_loss</td><td>█▁▁▁▁</td></tr><tr><td>val_accuracy</td><td>▁▁▁▁▁</td></tr><tr><td>val_loss</td><td>█▁▁▁▁</td></tr></table><br/></div><div class=\"wandb-col\"><h3>Run summary:</h3><br/><table class=\"wandb\"><tr><td>epoch</td><td>4</td></tr><tr><td>train_accuracy</td><td>0.10065</td></tr><tr><td>train_loss</td><td>1.02554</td></tr><tr><td>val_accuracy</td><td>0.09417</td></tr><tr><td>val_loss</td><td>1.02916</td></tr></table><br/></div></div>"
            ]
          },
          "metadata": {}
        },
        {
          "output_type": "display_data",
          "data": {
            "text/plain": [
              "<IPython.core.display.HTML object>"
            ],
            "text/html": [
              " View run <strong style=\"color:#cdcd00\">lr_0.001_bs_32_epochs_5_act_sigmoid_opt_nestrov</strong> at: <a href='https://wandb.ai/m_dhamu2908/Deep_Learning_Assignment/runs/wmbz6k8o' target=\"_blank\">https://wandb.ai/m_dhamu2908/Deep_Learning_Assignment/runs/wmbz6k8o</a><br> View project at: <a href='https://wandb.ai/m_dhamu2908/Deep_Learning_Assignment' target=\"_blank\">https://wandb.ai/m_dhamu2908/Deep_Learning_Assignment</a><br>Synced 5 W&B file(s), 0 media file(s), 0 artifact file(s) and 0 other file(s)"
            ]
          },
          "metadata": {}
        },
        {
          "output_type": "display_data",
          "data": {
            "text/plain": [
              "<IPython.core.display.HTML object>"
            ],
            "text/html": [
              "Find logs at: <code>./wandb/run-20250316_234420-wmbz6k8o/logs</code>"
            ]
          },
          "metadata": {}
        },
        {
          "output_type": "stream",
          "name": "stderr",
          "text": [
            "\u001b[34m\u001b[1mwandb\u001b[0m: Agent Starting Run: xpr8eppg with config:\n",
            "\u001b[34m\u001b[1mwandb\u001b[0m: \tactivation: tanh\n",
            "\u001b[34m\u001b[1mwandb\u001b[0m: \tbatch_size: 32\n",
            "\u001b[34m\u001b[1mwandb\u001b[0m: \tbeta1: 0.9\n",
            "\u001b[34m\u001b[1mwandb\u001b[0m: \tbeta2: 0.99\n",
            "\u001b[34m\u001b[1mwandb\u001b[0m: \tepochs: 5\n",
            "\u001b[34m\u001b[1mwandb\u001b[0m: \teps: 1e-08\n",
            "\u001b[34m\u001b[1mwandb\u001b[0m: \thidden_layers: 5\n",
            "\u001b[34m\u001b[1mwandb\u001b[0m: \thl_size: 128\n",
            "\u001b[34m\u001b[1mwandb\u001b[0m: \tinitialization: xavier\n",
            "\u001b[34m\u001b[1mwandb\u001b[0m: \tlearning_rate: 0.0001\n",
            "\u001b[34m\u001b[1mwandb\u001b[0m: \tloss: cross_entropy\n",
            "\u001b[34m\u001b[1mwandb\u001b[0m: \tmomentum_beta: 0.99\n",
            "\u001b[34m\u001b[1mwandb\u001b[0m: \toptimizer: rmsprop\n",
            "\u001b[34m\u001b[1mwandb\u001b[0m: \trms_beta: 0.99\n",
            "\u001b[34m\u001b[1mwandb\u001b[0m: \tweight_decay: 0\n"
          ]
        },
        {
          "output_type": "display_data",
          "data": {
            "text/plain": [
              "<IPython.core.display.HTML object>"
            ],
            "text/html": [
              "Ignoring project 'Deep_Learning_Assignment' when running a sweep."
            ]
          },
          "metadata": {}
        },
        {
          "output_type": "display_data",
          "data": {
            "text/plain": [
              "<IPython.core.display.HTML object>"
            ],
            "text/html": [
              "Tracking run with wandb version 0.19.7"
            ]
          },
          "metadata": {}
        },
        {
          "output_type": "display_data",
          "data": {
            "text/plain": [
              "<IPython.core.display.HTML object>"
            ],
            "text/html": [
              "Run data is saved locally in <code>/content/wandb/run-20250316_235708-xpr8eppg</code>"
            ]
          },
          "metadata": {}
        },
        {
          "output_type": "display_data",
          "data": {
            "text/plain": [
              "<IPython.core.display.HTML object>"
            ],
            "text/html": [
              "Syncing run <strong><a href='https://wandb.ai/m_dhamu2908/Deep_Learning_Assignment/runs/xpr8eppg' target=\"_blank\">frosty-sweep-17</a></strong> to <a href='https://wandb.ai/m_dhamu2908/Deep_Learning_Assignment' target=\"_blank\">Weights & Biases</a> (<a href='https://wandb.me/developer-guide' target=\"_blank\">docs</a>)<br>Sweep page: <a href='https://wandb.ai/m_dhamu2908/Deep_Learning_Assignment/sweeps/y23f6q1q' target=\"_blank\">https://wandb.ai/m_dhamu2908/Deep_Learning_Assignment/sweeps/y23f6q1q</a>"
            ]
          },
          "metadata": {}
        },
        {
          "output_type": "display_data",
          "data": {
            "text/plain": [
              "<IPython.core.display.HTML object>"
            ],
            "text/html": [
              " View project at <a href='https://wandb.ai/m_dhamu2908/Deep_Learning_Assignment' target=\"_blank\">https://wandb.ai/m_dhamu2908/Deep_Learning_Assignment</a>"
            ]
          },
          "metadata": {}
        },
        {
          "output_type": "display_data",
          "data": {
            "text/plain": [
              "<IPython.core.display.HTML object>"
            ],
            "text/html": [
              " View sweep at <a href='https://wandb.ai/m_dhamu2908/Deep_Learning_Assignment/sweeps/y23f6q1q' target=\"_blank\">https://wandb.ai/m_dhamu2908/Deep_Learning_Assignment/sweeps/y23f6q1q</a>"
            ]
          },
          "metadata": {}
        },
        {
          "output_type": "display_data",
          "data": {
            "text/plain": [
              "<IPython.core.display.HTML object>"
            ],
            "text/html": [
              " View run at <a href='https://wandb.ai/m_dhamu2908/Deep_Learning_Assignment/runs/xpr8eppg' target=\"_blank\">https://wandb.ai/m_dhamu2908/Deep_Learning_Assignment/runs/xpr8eppg</a>"
            ]
          },
          "metadata": {}
        },
        {
          "output_type": "stream",
          "name": "stdout",
          "text": [
            "Epoch: 0, Train Accuracy: 0.8466851851851852, Train Loss: 0.18420257502473358, Validation Accuracy: 0.8371666666666666, Validation Loss: 0.18894092622404499\n",
            "Epoch: 1, Train Accuracy: 0.8632592592592593, Train Loss: 0.1645252036382334, Validation Accuracy: 0.8516666666666667, Validation Loss: 0.1720081163476361\n",
            "Epoch: 2, Train Accuracy: 0.8722407407407408, Train Loss: 0.15350736985952604, Validation Accuracy: 0.8615, Validation Loss: 0.1637246918862186\n",
            "Epoch: 3, Train Accuracy: 0.8781296296296296, Train Loss: 0.14567361910981705, Validation Accuracy: 0.866, Validation Loss: 0.1585798294724413\n",
            "Epoch: 4, Train Accuracy: 0.8831111111111111, Train Loss: 0.13938843966379078, Validation Accuracy: 0.8673333333333333, Validation Loss: 0.15483668595573538\n"
          ]
        },
        {
          "output_type": "display_data",
          "data": {
            "text/plain": [
              "<IPython.core.display.HTML object>"
            ],
            "text/html": []
          },
          "metadata": {}
        },
        {
          "output_type": "display_data",
          "data": {
            "text/plain": [
              "<IPython.core.display.HTML object>"
            ],
            "text/html": [
              "<br>    <style><br>        .wandb-row {<br>            display: flex;<br>            flex-direction: row;<br>            flex-wrap: wrap;<br>            justify-content: flex-start;<br>            width: 100%;<br>        }<br>        .wandb-col {<br>            display: flex;<br>            flex-direction: column;<br>            flex-basis: 100%;<br>            flex: 1;<br>            padding: 10px;<br>        }<br>    </style><br><div class=\"wandb-row\"><div class=\"wandb-col\"><h3>Run history:</h3><br/><table class=\"wandb\"><tr><td>epoch</td><td>▁▃▅▆█</td></tr><tr><td>train_accuracy</td><td>▁▄▆▇█</td></tr><tr><td>train_loss</td><td>█▅▃▂▁</td></tr><tr><td>val_accuracy</td><td>▁▄▇██</td></tr><tr><td>val_loss</td><td>█▅▃▂▁</td></tr></table><br/></div><div class=\"wandb-col\"><h3>Run summary:</h3><br/><table class=\"wandb\"><tr><td>epoch</td><td>4</td></tr><tr><td>train_accuracy</td><td>0.88311</td></tr><tr><td>train_loss</td><td>0.13939</td></tr><tr><td>val_accuracy</td><td>0.86733</td></tr><tr><td>val_loss</td><td>0.15484</td></tr></table><br/></div></div>"
            ]
          },
          "metadata": {}
        },
        {
          "output_type": "display_data",
          "data": {
            "text/plain": [
              "<IPython.core.display.HTML object>"
            ],
            "text/html": [
              " View run <strong style=\"color:#cdcd00\">lr_0.0001_bs_32_epochs_5_act_tanh_opt_rmsprop</strong> at: <a href='https://wandb.ai/m_dhamu2908/Deep_Learning_Assignment/runs/xpr8eppg' target=\"_blank\">https://wandb.ai/m_dhamu2908/Deep_Learning_Assignment/runs/xpr8eppg</a><br> View project at: <a href='https://wandb.ai/m_dhamu2908/Deep_Learning_Assignment' target=\"_blank\">https://wandb.ai/m_dhamu2908/Deep_Learning_Assignment</a><br>Synced 5 W&B file(s), 0 media file(s), 0 artifact file(s) and 0 other file(s)"
            ]
          },
          "metadata": {}
        },
        {
          "output_type": "display_data",
          "data": {
            "text/plain": [
              "<IPython.core.display.HTML object>"
            ],
            "text/html": [
              "Find logs at: <code>./wandb/run-20250316_235708-xpr8eppg/logs</code>"
            ]
          },
          "metadata": {}
        },
        {
          "output_type": "stream",
          "name": "stderr",
          "text": [
            "\u001b[34m\u001b[1mwandb\u001b[0m: Agent Starting Run: t9wcv8o5 with config:\n",
            "\u001b[34m\u001b[1mwandb\u001b[0m: \tactivation: sigmoid\n",
            "\u001b[34m\u001b[1mwandb\u001b[0m: \tbatch_size: 32\n",
            "\u001b[34m\u001b[1mwandb\u001b[0m: \tbeta1: 0.99\n",
            "\u001b[34m\u001b[1mwandb\u001b[0m: \tbeta2: 0.999\n",
            "\u001b[34m\u001b[1mwandb\u001b[0m: \tepochs: 10\n",
            "\u001b[34m\u001b[1mwandb\u001b[0m: \teps: 1e-07\n",
            "\u001b[34m\u001b[1mwandb\u001b[0m: \thidden_layers: 5\n",
            "\u001b[34m\u001b[1mwandb\u001b[0m: \thl_size: 128\n",
            "\u001b[34m\u001b[1mwandb\u001b[0m: \tinitialization: xavier\n",
            "\u001b[34m\u001b[1mwandb\u001b[0m: \tlearning_rate: 0.0001\n",
            "\u001b[34m\u001b[1mwandb\u001b[0m: \tloss: cross_entropy\n",
            "\u001b[34m\u001b[1mwandb\u001b[0m: \tmomentum_beta: 0.99\n",
            "\u001b[34m\u001b[1mwandb\u001b[0m: \toptimizer: momentum\n",
            "\u001b[34m\u001b[1mwandb\u001b[0m: \trms_beta: 0.9\n",
            "\u001b[34m\u001b[1mwandb\u001b[0m: \tweight_decay: 0.5\n"
          ]
        },
        {
          "output_type": "display_data",
          "data": {
            "text/plain": [
              "<IPython.core.display.HTML object>"
            ],
            "text/html": [
              "Ignoring project 'Deep_Learning_Assignment' when running a sweep."
            ]
          },
          "metadata": {}
        },
        {
          "output_type": "display_data",
          "data": {
            "text/plain": [
              "<IPython.core.display.HTML object>"
            ],
            "text/html": [
              "Tracking run with wandb version 0.19.7"
            ]
          },
          "metadata": {}
        },
        {
          "output_type": "display_data",
          "data": {
            "text/plain": [
              "<IPython.core.display.HTML object>"
            ],
            "text/html": [
              "Run data is saved locally in <code>/content/wandb/run-20250317_000931-t9wcv8o5</code>"
            ]
          },
          "metadata": {}
        },
        {
          "output_type": "display_data",
          "data": {
            "text/plain": [
              "<IPython.core.display.HTML object>"
            ],
            "text/html": [
              "Syncing run <strong><a href='https://wandb.ai/m_dhamu2908/Deep_Learning_Assignment/runs/t9wcv8o5' target=\"_blank\">bumbling-sweep-18</a></strong> to <a href='https://wandb.ai/m_dhamu2908/Deep_Learning_Assignment' target=\"_blank\">Weights & Biases</a> (<a href='https://wandb.me/developer-guide' target=\"_blank\">docs</a>)<br>Sweep page: <a href='https://wandb.ai/m_dhamu2908/Deep_Learning_Assignment/sweeps/y23f6q1q' target=\"_blank\">https://wandb.ai/m_dhamu2908/Deep_Learning_Assignment/sweeps/y23f6q1q</a>"
            ]
          },
          "metadata": {}
        },
        {
          "output_type": "display_data",
          "data": {
            "text/plain": [
              "<IPython.core.display.HTML object>"
            ],
            "text/html": [
              " View project at <a href='https://wandb.ai/m_dhamu2908/Deep_Learning_Assignment' target=\"_blank\">https://wandb.ai/m_dhamu2908/Deep_Learning_Assignment</a>"
            ]
          },
          "metadata": {}
        },
        {
          "output_type": "display_data",
          "data": {
            "text/plain": [
              "<IPython.core.display.HTML object>"
            ],
            "text/html": [
              " View sweep at <a href='https://wandb.ai/m_dhamu2908/Deep_Learning_Assignment/sweeps/y23f6q1q' target=\"_blank\">https://wandb.ai/m_dhamu2908/Deep_Learning_Assignment/sweeps/y23f6q1q</a>"
            ]
          },
          "metadata": {}
        },
        {
          "output_type": "display_data",
          "data": {
            "text/plain": [
              "<IPython.core.display.HTML object>"
            ],
            "text/html": [
              " View run at <a href='https://wandb.ai/m_dhamu2908/Deep_Learning_Assignment/runs/t9wcv8o5' target=\"_blank\">https://wandb.ai/m_dhamu2908/Deep_Learning_Assignment/runs/t9wcv8o5</a>"
            ]
          },
          "metadata": {}
        },
        {
          "output_type": "stream",
          "name": "stdout",
          "text": [
            "Epoch: 1, Train Accuracy: 0.10064814814814815, Train Loss: 1.0005393638436302, Validation Accuracy: 0.09416666666666666, Validation Loss: 1.0007968069146393\n",
            "Epoch: 3, Train Accuracy: 0.10064814814814815, Train Loss: 1.0005386245061865, Validation Accuracy: 0.09416666666666666, Validation Loss: 1.0007952917068632\n",
            "Epoch: 5, Train Accuracy: 0.10064814814814815, Train Loss: 1.0005379184549505, Validation Accuracy: 0.09416666666666666, Validation Loss: 1.000793806590888\n",
            "Epoch: 7, Train Accuracy: 0.10064814814814815, Train Loss: 1.0005372448657992, Validation Accuracy: 0.09416666666666666, Validation Loss: 1.00079235104848\n",
            "Epoch: 9, Train Accuracy: 0.10064814814814815, Train Loss: 1.0005366029182403, Validation Accuracy: 0.09416666666666666, Validation Loss: 1.0007909245607578\n"
          ]
        },
        {
          "output_type": "display_data",
          "data": {
            "text/plain": [
              "<IPython.core.display.HTML object>"
            ],
            "text/html": []
          },
          "metadata": {}
        },
        {
          "output_type": "display_data",
          "data": {
            "text/plain": [
              "<IPython.core.display.HTML object>"
            ],
            "text/html": [
              "<br>    <style><br>        .wandb-row {<br>            display: flex;<br>            flex-direction: row;<br>            flex-wrap: wrap;<br>            justify-content: flex-start;<br>            width: 100%;<br>        }<br>        .wandb-col {<br>            display: flex;<br>            flex-direction: column;<br>            flex-basis: 100%;<br>            flex: 1;<br>            padding: 10px;<br>        }<br>    </style><br><div class=\"wandb-row\"><div class=\"wandb-col\"><h3>Run history:</h3><br/><table class=\"wandb\"><tr><td>epoch</td><td>▁▃▅▆█</td></tr><tr><td>train_accuracy</td><td>▁▁▁▁▁</td></tr><tr><td>train_loss</td><td>█▆▄▃▁</td></tr><tr><td>val_accuracy</td><td>▁▁▁▁▁</td></tr><tr><td>val_loss</td><td>█▆▄▃▁</td></tr></table><br/></div><div class=\"wandb-col\"><h3>Run summary:</h3><br/><table class=\"wandb\"><tr><td>epoch</td><td>9</td></tr><tr><td>train_accuracy</td><td>0.10065</td></tr><tr><td>train_loss</td><td>1.00054</td></tr><tr><td>val_accuracy</td><td>0.09417</td></tr><tr><td>val_loss</td><td>1.00079</td></tr></table><br/></div></div>"
            ]
          },
          "metadata": {}
        },
        {
          "output_type": "display_data",
          "data": {
            "text/plain": [
              "<IPython.core.display.HTML object>"
            ],
            "text/html": [
              " View run <strong style=\"color:#cdcd00\">lr_0.0001_bs_32_epochs_10_act_sigmoid_opt_momentum</strong> at: <a href='https://wandb.ai/m_dhamu2908/Deep_Learning_Assignment/runs/t9wcv8o5' target=\"_blank\">https://wandb.ai/m_dhamu2908/Deep_Learning_Assignment/runs/t9wcv8o5</a><br> View project at: <a href='https://wandb.ai/m_dhamu2908/Deep_Learning_Assignment' target=\"_blank\">https://wandb.ai/m_dhamu2908/Deep_Learning_Assignment</a><br>Synced 5 W&B file(s), 0 media file(s), 0 artifact file(s) and 0 other file(s)"
            ]
          },
          "metadata": {}
        },
        {
          "output_type": "display_data",
          "data": {
            "text/plain": [
              "<IPython.core.display.HTML object>"
            ],
            "text/html": [
              "Find logs at: <code>./wandb/run-20250317_000931-t9wcv8o5/logs</code>"
            ]
          },
          "metadata": {}
        },
        {
          "output_type": "stream",
          "name": "stderr",
          "text": [
            "\u001b[34m\u001b[1mwandb\u001b[0m: Sweep Agent: Waiting for job.\n",
            "\u001b[34m\u001b[1mwandb\u001b[0m: Job received.\n",
            "\u001b[34m\u001b[1mwandb\u001b[0m: Agent Starting Run: gtam18fx with config:\n",
            "\u001b[34m\u001b[1mwandb\u001b[0m: \tactivation: tanh\n",
            "\u001b[34m\u001b[1mwandb\u001b[0m: \tbatch_size: 16\n",
            "\u001b[34m\u001b[1mwandb\u001b[0m: \tbeta1: 0.9\n",
            "\u001b[34m\u001b[1mwandb\u001b[0m: \tbeta2: 0.9\n",
            "\u001b[34m\u001b[1mwandb\u001b[0m: \tepochs: 5\n",
            "\u001b[34m\u001b[1mwandb\u001b[0m: \teps: 1e-06\n",
            "\u001b[34m\u001b[1mwandb\u001b[0m: \thidden_layers: 3\n",
            "\u001b[34m\u001b[1mwandb\u001b[0m: \thl_size: 32\n",
            "\u001b[34m\u001b[1mwandb\u001b[0m: \tinitialization: random\n",
            "\u001b[34m\u001b[1mwandb\u001b[0m: \tlearning_rate: 0.0001\n",
            "\u001b[34m\u001b[1mwandb\u001b[0m: \tloss: cross_entropy\n",
            "\u001b[34m\u001b[1mwandb\u001b[0m: \tmomentum_beta: 0.99\n",
            "\u001b[34m\u001b[1mwandb\u001b[0m: \toptimizer: rmsprop\n",
            "\u001b[34m\u001b[1mwandb\u001b[0m: \trms_beta: 0.9\n",
            "\u001b[34m\u001b[1mwandb\u001b[0m: \tweight_decay: 0.0005\n"
          ]
        },
        {
          "output_type": "display_data",
          "data": {
            "text/plain": [
              "<IPython.core.display.HTML object>"
            ],
            "text/html": [
              "Ignoring project 'Deep_Learning_Assignment' when running a sweep."
            ]
          },
          "metadata": {}
        },
        {
          "output_type": "display_data",
          "data": {
            "text/plain": [
              "<IPython.core.display.HTML object>"
            ],
            "text/html": [
              "Tracking run with wandb version 0.19.7"
            ]
          },
          "metadata": {}
        },
        {
          "output_type": "display_data",
          "data": {
            "text/plain": [
              "<IPython.core.display.HTML object>"
            ],
            "text/html": [
              "Run data is saved locally in <code>/content/wandb/run-20250317_003340-gtam18fx</code>"
            ]
          },
          "metadata": {}
        },
        {
          "output_type": "display_data",
          "data": {
            "text/plain": [
              "<IPython.core.display.HTML object>"
            ],
            "text/html": [
              "Syncing run <strong><a href='https://wandb.ai/m_dhamu2908/Deep_Learning_Assignment/runs/gtam18fx' target=\"_blank\">jumping-sweep-19</a></strong> to <a href='https://wandb.ai/m_dhamu2908/Deep_Learning_Assignment' target=\"_blank\">Weights & Biases</a> (<a href='https://wandb.me/developer-guide' target=\"_blank\">docs</a>)<br>Sweep page: <a href='https://wandb.ai/m_dhamu2908/Deep_Learning_Assignment/sweeps/y23f6q1q' target=\"_blank\">https://wandb.ai/m_dhamu2908/Deep_Learning_Assignment/sweeps/y23f6q1q</a>"
            ]
          },
          "metadata": {}
        },
        {
          "output_type": "display_data",
          "data": {
            "text/plain": [
              "<IPython.core.display.HTML object>"
            ],
            "text/html": [
              " View project at <a href='https://wandb.ai/m_dhamu2908/Deep_Learning_Assignment' target=\"_blank\">https://wandb.ai/m_dhamu2908/Deep_Learning_Assignment</a>"
            ]
          },
          "metadata": {}
        },
        {
          "output_type": "display_data",
          "data": {
            "text/plain": [
              "<IPython.core.display.HTML object>"
            ],
            "text/html": [
              " View sweep at <a href='https://wandb.ai/m_dhamu2908/Deep_Learning_Assignment/sweeps/y23f6q1q' target=\"_blank\">https://wandb.ai/m_dhamu2908/Deep_Learning_Assignment/sweeps/y23f6q1q</a>"
            ]
          },
          "metadata": {}
        },
        {
          "output_type": "display_data",
          "data": {
            "text/plain": [
              "<IPython.core.display.HTML object>"
            ],
            "text/html": [
              " View run at <a href='https://wandb.ai/m_dhamu2908/Deep_Learning_Assignment/runs/gtam18fx' target=\"_blank\">https://wandb.ai/m_dhamu2908/Deep_Learning_Assignment/runs/gtam18fx</a>"
            ]
          },
          "metadata": {}
        },
        {
          "output_type": "stream",
          "name": "stdout",
          "text": [
            "Epoch: 0, Train Accuracy: 0.20255555555555554, Train Loss: 0.7545830174842949, Validation Accuracy: 0.19233333333333333, Validation Loss: 0.7554897837203786\n",
            "Epoch: 1, Train Accuracy: 0.20351851851851852, Train Loss: 0.7536131307165163, Validation Accuracy: 0.1925, Validation Loss: 0.7545120345582419\n",
            "Epoch: 2, Train Accuracy: 0.20383333333333334, Train Loss: 0.7533791635463276, Validation Accuracy: 0.193, Validation Loss: 0.7543201094549662\n",
            "Epoch: 3, Train Accuracy: 0.20444444444444446, Train Loss: 0.753239727791826, Validation Accuracy: 0.19466666666666665, Validation Loss: 0.7542089685996167\n",
            "Epoch: 4, Train Accuracy: 0.20503703703703705, Train Loss: 0.7531331716084563, Validation Accuracy: 0.19483333333333333, Validation Loss: 0.7541236651334361\n"
          ]
        },
        {
          "output_type": "display_data",
          "data": {
            "text/plain": [
              "<IPython.core.display.HTML object>"
            ],
            "text/html": []
          },
          "metadata": {}
        },
        {
          "output_type": "display_data",
          "data": {
            "text/plain": [
              "<IPython.core.display.HTML object>"
            ],
            "text/html": [
              "<br>    <style><br>        .wandb-row {<br>            display: flex;<br>            flex-direction: row;<br>            flex-wrap: wrap;<br>            justify-content: flex-start;<br>            width: 100%;<br>        }<br>        .wandb-col {<br>            display: flex;<br>            flex-direction: column;<br>            flex-basis: 100%;<br>            flex: 1;<br>            padding: 10px;<br>        }<br>    </style><br><div class=\"wandb-row\"><div class=\"wandb-col\"><h3>Run history:</h3><br/><table class=\"wandb\"><tr><td>epoch</td><td>▁▃▅▆█</td></tr><tr><td>train_accuracy</td><td>▁▄▅▆█</td></tr><tr><td>train_loss</td><td>█▃▂▂▁</td></tr><tr><td>val_accuracy</td><td>▁▁▃██</td></tr><tr><td>val_loss</td><td>█▃▂▁▁</td></tr></table><br/></div><div class=\"wandb-col\"><h3>Run summary:</h3><br/><table class=\"wandb\"><tr><td>epoch</td><td>4</td></tr><tr><td>train_accuracy</td><td>0.20504</td></tr><tr><td>train_loss</td><td>0.75313</td></tr><tr><td>val_accuracy</td><td>0.19483</td></tr><tr><td>val_loss</td><td>0.75412</td></tr></table><br/></div></div>"
            ]
          },
          "metadata": {}
        },
        {
          "output_type": "display_data",
          "data": {
            "text/plain": [
              "<IPython.core.display.HTML object>"
            ],
            "text/html": [
              " View run <strong style=\"color:#cdcd00\">lr_0.0001_bs_16_epochs_5_act_tanh_opt_rmsprop</strong> at: <a href='https://wandb.ai/m_dhamu2908/Deep_Learning_Assignment/runs/gtam18fx' target=\"_blank\">https://wandb.ai/m_dhamu2908/Deep_Learning_Assignment/runs/gtam18fx</a><br> View project at: <a href='https://wandb.ai/m_dhamu2908/Deep_Learning_Assignment' target=\"_blank\">https://wandb.ai/m_dhamu2908/Deep_Learning_Assignment</a><br>Synced 5 W&B file(s), 0 media file(s), 0 artifact file(s) and 0 other file(s)"
            ]
          },
          "metadata": {}
        },
        {
          "output_type": "display_data",
          "data": {
            "text/plain": [
              "<IPython.core.display.HTML object>"
            ],
            "text/html": [
              "Find logs at: <code>./wandb/run-20250317_003340-gtam18fx/logs</code>"
            ]
          },
          "metadata": {}
        },
        {
          "output_type": "stream",
          "name": "stderr",
          "text": [
            "\u001b[34m\u001b[1mwandb\u001b[0m: Agent Starting Run: yypvn9cz with config:\n",
            "\u001b[34m\u001b[1mwandb\u001b[0m: \tactivation: relu\n",
            "\u001b[34m\u001b[1mwandb\u001b[0m: \tbatch_size: 16\n",
            "\u001b[34m\u001b[1mwandb\u001b[0m: \tbeta1: 0.9\n",
            "\u001b[34m\u001b[1mwandb\u001b[0m: \tbeta2: 0.999\n",
            "\u001b[34m\u001b[1mwandb\u001b[0m: \tepochs: 10\n",
            "\u001b[34m\u001b[1mwandb\u001b[0m: \teps: 1e-07\n",
            "\u001b[34m\u001b[1mwandb\u001b[0m: \thidden_layers: 3\n",
            "\u001b[34m\u001b[1mwandb\u001b[0m: \thl_size: 128\n",
            "\u001b[34m\u001b[1mwandb\u001b[0m: \tinitialization: xavier\n",
            "\u001b[34m\u001b[1mwandb\u001b[0m: \tlearning_rate: 0.0001\n",
            "\u001b[34m\u001b[1mwandb\u001b[0m: \tloss: cross_entropy\n",
            "\u001b[34m\u001b[1mwandb\u001b[0m: \tmomentum_beta: 0.8\n",
            "\u001b[34m\u001b[1mwandb\u001b[0m: \toptimizer: nadam\n",
            "\u001b[34m\u001b[1mwandb\u001b[0m: \trms_beta: 0.99\n",
            "\u001b[34m\u001b[1mwandb\u001b[0m: \tweight_decay: 0.0005\n"
          ]
        },
        {
          "output_type": "display_data",
          "data": {
            "text/plain": [
              "<IPython.core.display.HTML object>"
            ],
            "text/html": [
              "Ignoring project 'Deep_Learning_Assignment' when running a sweep."
            ]
          },
          "metadata": {}
        },
        {
          "output_type": "display_data",
          "data": {
            "text/plain": [
              "<IPython.core.display.HTML object>"
            ],
            "text/html": [
              "Tracking run with wandb version 0.19.7"
            ]
          },
          "metadata": {}
        },
        {
          "output_type": "display_data",
          "data": {
            "text/plain": [
              "<IPython.core.display.HTML object>"
            ],
            "text/html": [
              "Run data is saved locally in <code>/content/wandb/run-20250317_003655-yypvn9cz</code>"
            ]
          },
          "metadata": {}
        },
        {
          "output_type": "display_data",
          "data": {
            "text/plain": [
              "<IPython.core.display.HTML object>"
            ],
            "text/html": [
              "Syncing run <strong><a href='https://wandb.ai/m_dhamu2908/Deep_Learning_Assignment/runs/yypvn9cz' target=\"_blank\">likely-sweep-20</a></strong> to <a href='https://wandb.ai/m_dhamu2908/Deep_Learning_Assignment' target=\"_blank\">Weights & Biases</a> (<a href='https://wandb.me/developer-guide' target=\"_blank\">docs</a>)<br>Sweep page: <a href='https://wandb.ai/m_dhamu2908/Deep_Learning_Assignment/sweeps/y23f6q1q' target=\"_blank\">https://wandb.ai/m_dhamu2908/Deep_Learning_Assignment/sweeps/y23f6q1q</a>"
            ]
          },
          "metadata": {}
        },
        {
          "output_type": "display_data",
          "data": {
            "text/plain": [
              "<IPython.core.display.HTML object>"
            ],
            "text/html": [
              " View project at <a href='https://wandb.ai/m_dhamu2908/Deep_Learning_Assignment' target=\"_blank\">https://wandb.ai/m_dhamu2908/Deep_Learning_Assignment</a>"
            ]
          },
          "metadata": {}
        },
        {
          "output_type": "display_data",
          "data": {
            "text/plain": [
              "<IPython.core.display.HTML object>"
            ],
            "text/html": [
              " View sweep at <a href='https://wandb.ai/m_dhamu2908/Deep_Learning_Assignment/sweeps/y23f6q1q' target=\"_blank\">https://wandb.ai/m_dhamu2908/Deep_Learning_Assignment/sweeps/y23f6q1q</a>"
            ]
          },
          "metadata": {}
        },
        {
          "output_type": "display_data",
          "data": {
            "text/plain": [
              "<IPython.core.display.HTML object>"
            ],
            "text/html": [
              " View run at <a href='https://wandb.ai/m_dhamu2908/Deep_Learning_Assignment/runs/yypvn9cz' target=\"_blank\">https://wandb.ai/m_dhamu2908/Deep_Learning_Assignment/runs/yypvn9cz</a>"
            ]
          },
          "metadata": {}
        },
        {
          "output_type": "stream",
          "name": "stdout",
          "text": [
            "Epoch: 0, Train Accuracy: 0.6528518518518519, Train Loss: 0.49150225980681367, Validation Accuracy: 0.6658333333333334, Validation Loss: 0.4875093825116164\n",
            "Epoch: 1, Train Accuracy: 0.6084074074074074, Train Loss: 0.5515093185326604, Validation Accuracy: 0.6231666666666666, Validation Loss: 0.5478025121592045\n",
            "Epoch: 2, Train Accuracy: 0.5722037037037037, Train Loss: 0.5863938962334029, Validation Accuracy: 0.5816666666666667, Validation Loss: 0.5832898290354194\n",
            "Epoch: 3, Train Accuracy: 0.5632592592592592, Train Loss: 0.5942594006485397, Validation Accuracy: 0.5715, Validation Loss: 0.5913147628792701\n",
            "Epoch: 4, Train Accuracy: 0.5560185185185185, Train Loss: 0.6040447237202319, Validation Accuracy: 0.567, Validation Loss: 0.6012025833160308\n",
            "Epoch: 5, Train Accuracy: 0.5491851851851852, Train Loss: 0.6118059149730917, Validation Accuracy: 0.5626666666666666, Validation Loss: 0.6090940577744529\n",
            "Epoch: 6, Train Accuracy: 0.542425925925926, Train Loss: 0.6163837466493111, Validation Accuracy: 0.559, Validation Loss: 0.6137859996298175\n",
            "Epoch: 7, Train Accuracy: 0.537537037037037, Train Loss: 0.6205312342826219, Validation Accuracy: 0.553, Validation Loss: 0.6180104855715838\n",
            "Epoch: 8, Train Accuracy: 0.5347962962962963, Train Loss: 0.6232211744376729, Validation Accuracy: 0.5478333333333333, Validation Loss: 0.6207872256262235\n",
            "Epoch: 9, Train Accuracy: 0.5317592592592593, Train Loss: 0.6248194457843973, Validation Accuracy: 0.5453333333333333, Validation Loss: 0.622459796874024\n"
          ]
        },
        {
          "output_type": "display_data",
          "data": {
            "text/plain": [
              "<IPython.core.display.HTML object>"
            ],
            "text/html": []
          },
          "metadata": {}
        },
        {
          "output_type": "display_data",
          "data": {
            "text/plain": [
              "<IPython.core.display.HTML object>"
            ],
            "text/html": [
              "<br>    <style><br>        .wandb-row {<br>            display: flex;<br>            flex-direction: row;<br>            flex-wrap: wrap;<br>            justify-content: flex-start;<br>            width: 100%;<br>        }<br>        .wandb-col {<br>            display: flex;<br>            flex-direction: column;<br>            flex-basis: 100%;<br>            flex: 1;<br>            padding: 10px;<br>        }<br>    </style><br><div class=\"wandb-row\"><div class=\"wandb-col\"><h3>Run history:</h3><br/><table class=\"wandb\"><tr><td>epoch</td><td>▁▃▅▆█</td></tr><tr><td>train_accuracy</td><td>█▄▃▂▁</td></tr><tr><td>train_loss</td><td>▁▅▇██</td></tr><tr><td>val_accuracy</td><td>█▃▃▂▁</td></tr><tr><td>val_loss</td><td>▁▅▇██</td></tr></table><br/></div><div class=\"wandb-col\"><h3>Run summary:</h3><br/><table class=\"wandb\"><tr><td>epoch</td><td>9</td></tr><tr><td>train_accuracy</td><td>0.53176</td></tr><tr><td>train_loss</td><td>0.62482</td></tr><tr><td>val_accuracy</td><td>0.54533</td></tr><tr><td>val_loss</td><td>0.62246</td></tr></table><br/></div></div>"
            ]
          },
          "metadata": {}
        },
        {
          "output_type": "display_data",
          "data": {
            "text/plain": [
              "<IPython.core.display.HTML object>"
            ],
            "text/html": [
              " View run <strong style=\"color:#cdcd00\">lr_0.0001_bs_16_epochs_10_act_relu_opt_nadam</strong> at: <a href='https://wandb.ai/m_dhamu2908/Deep_Learning_Assignment/runs/yypvn9cz' target=\"_blank\">https://wandb.ai/m_dhamu2908/Deep_Learning_Assignment/runs/yypvn9cz</a><br> View project at: <a href='https://wandb.ai/m_dhamu2908/Deep_Learning_Assignment' target=\"_blank\">https://wandb.ai/m_dhamu2908/Deep_Learning_Assignment</a><br>Synced 5 W&B file(s), 0 media file(s), 0 artifact file(s) and 0 other file(s)"
            ]
          },
          "metadata": {}
        },
        {
          "output_type": "display_data",
          "data": {
            "text/plain": [
              "<IPython.core.display.HTML object>"
            ],
            "text/html": [
              "Find logs at: <code>./wandb/run-20250317_003655-yypvn9cz/logs</code>"
            ]
          },
          "metadata": {}
        },
        {
          "output_type": "stream",
          "name": "stderr",
          "text": [
            "\u001b[34m\u001b[1mwandb\u001b[0m: Agent Starting Run: mskba5v3 with config:\n",
            "\u001b[34m\u001b[1mwandb\u001b[0m: \tactivation: sigmoid\n",
            "\u001b[34m\u001b[1mwandb\u001b[0m: \tbatch_size: 64\n",
            "\u001b[34m\u001b[1mwandb\u001b[0m: \tbeta1: 0.9\n",
            "\u001b[34m\u001b[1mwandb\u001b[0m: \tbeta2: 0.99\n",
            "\u001b[34m\u001b[1mwandb\u001b[0m: \tepochs: 10\n",
            "\u001b[34m\u001b[1mwandb\u001b[0m: \teps: 1e-07\n",
            "\u001b[34m\u001b[1mwandb\u001b[0m: \thidden_layers: 5\n",
            "\u001b[34m\u001b[1mwandb\u001b[0m: \thl_size: 64\n",
            "\u001b[34m\u001b[1mwandb\u001b[0m: \tinitialization: xavier\n",
            "\u001b[34m\u001b[1mwandb\u001b[0m: \tlearning_rate: 0.0001\n",
            "\u001b[34m\u001b[1mwandb\u001b[0m: \tloss: cross_entropy\n",
            "\u001b[34m\u001b[1mwandb\u001b[0m: \tmomentum_beta: 0.9\n",
            "\u001b[34m\u001b[1mwandb\u001b[0m: \toptimizer: rmsprop\n",
            "\u001b[34m\u001b[1mwandb\u001b[0m: \trms_beta: 0.8\n",
            "\u001b[34m\u001b[1mwandb\u001b[0m: \tweight_decay: 0\n"
          ]
        },
        {
          "output_type": "display_data",
          "data": {
            "text/plain": [
              "<IPython.core.display.HTML object>"
            ],
            "text/html": [
              "Ignoring project 'Deep_Learning_Assignment' when running a sweep."
            ]
          },
          "metadata": {}
        },
        {
          "output_type": "display_data",
          "data": {
            "text/plain": [
              "<IPython.core.display.HTML object>"
            ],
            "text/html": [
              "Tracking run with wandb version 0.19.7"
            ]
          },
          "metadata": {}
        },
        {
          "output_type": "display_data",
          "data": {
            "text/plain": [
              "<IPython.core.display.HTML object>"
            ],
            "text/html": [
              "Run data is saved locally in <code>/content/wandb/run-20250317_011930-mskba5v3</code>"
            ]
          },
          "metadata": {}
        },
        {
          "output_type": "display_data",
          "data": {
            "text/plain": [
              "<IPython.core.display.HTML object>"
            ],
            "text/html": [
              "Syncing run <strong><a href='https://wandb.ai/m_dhamu2908/Deep_Learning_Assignment/runs/mskba5v3' target=\"_blank\">efficient-sweep-21</a></strong> to <a href='https://wandb.ai/m_dhamu2908/Deep_Learning_Assignment' target=\"_blank\">Weights & Biases</a> (<a href='https://wandb.me/developer-guide' target=\"_blank\">docs</a>)<br>Sweep page: <a href='https://wandb.ai/m_dhamu2908/Deep_Learning_Assignment/sweeps/y23f6q1q' target=\"_blank\">https://wandb.ai/m_dhamu2908/Deep_Learning_Assignment/sweeps/y23f6q1q</a>"
            ]
          },
          "metadata": {}
        },
        {
          "output_type": "display_data",
          "data": {
            "text/plain": [
              "<IPython.core.display.HTML object>"
            ],
            "text/html": [
              " View project at <a href='https://wandb.ai/m_dhamu2908/Deep_Learning_Assignment' target=\"_blank\">https://wandb.ai/m_dhamu2908/Deep_Learning_Assignment</a>"
            ]
          },
          "metadata": {}
        },
        {
          "output_type": "display_data",
          "data": {
            "text/plain": [
              "<IPython.core.display.HTML object>"
            ],
            "text/html": [
              " View sweep at <a href='https://wandb.ai/m_dhamu2908/Deep_Learning_Assignment/sweeps/y23f6q1q' target=\"_blank\">https://wandb.ai/m_dhamu2908/Deep_Learning_Assignment/sweeps/y23f6q1q</a>"
            ]
          },
          "metadata": {}
        },
        {
          "output_type": "display_data",
          "data": {
            "text/plain": [
              "<IPython.core.display.HTML object>"
            ],
            "text/html": [
              " View run at <a href='https://wandb.ai/m_dhamu2908/Deep_Learning_Assignment/runs/mskba5v3' target=\"_blank\">https://wandb.ai/m_dhamu2908/Deep_Learning_Assignment/runs/mskba5v3</a>"
            ]
          },
          "metadata": {}
        },
        {
          "output_type": "stream",
          "name": "stdout",
          "text": [
            "Epoch: 1, Train Accuracy: 0.2317962962962963, Train Loss: 0.7463729067778208, Validation Accuracy: 0.227, Validation Loss: 0.7482698738143246\n",
            "Epoch: 3, Train Accuracy: 0.42233333333333334, Train Loss: 0.6017103887323916, Validation Accuracy: 0.4171666666666667, Validation Loss: 0.6015712592433866\n",
            "Epoch: 5, Train Accuracy: 0.4916111111111111, Train Loss: 0.5181092972219462, Validation Accuracy: 0.4891666666666667, Validation Loss: 0.520218284707504\n",
            "Epoch: 7, Train Accuracy: 0.5158703703703704, Train Loss: 0.4798833865756852, Validation Accuracy: 0.511, Validation Loss: 0.4836793766538523\n",
            "Epoch: 9, Train Accuracy: 0.5981481481481481, Train Loss: 0.4416154075146334, Validation Accuracy: 0.5948333333333333, Validation Loss: 0.44603846463945535\n"
          ]
        },
        {
          "output_type": "display_data",
          "data": {
            "text/plain": [
              "<IPython.core.display.HTML object>"
            ],
            "text/html": []
          },
          "metadata": {}
        },
        {
          "output_type": "display_data",
          "data": {
            "text/plain": [
              "<IPython.core.display.HTML object>"
            ],
            "text/html": [
              "<br>    <style><br>        .wandb-row {<br>            display: flex;<br>            flex-direction: row;<br>            flex-wrap: wrap;<br>            justify-content: flex-start;<br>            width: 100%;<br>        }<br>        .wandb-col {<br>            display: flex;<br>            flex-direction: column;<br>            flex-basis: 100%;<br>            flex: 1;<br>            padding: 10px;<br>        }<br>    </style><br><div class=\"wandb-row\"><div class=\"wandb-col\"><h3>Run history:</h3><br/><table class=\"wandb\"><tr><td>epoch</td><td>▁▃▅▆█</td></tr><tr><td>train_accuracy</td><td>▁▅▆▆█</td></tr><tr><td>train_loss</td><td>█▅▃▂▁</td></tr><tr><td>val_accuracy</td><td>▁▅▆▆█</td></tr><tr><td>val_loss</td><td>█▅▃▂▁</td></tr></table><br/></div><div class=\"wandb-col\"><h3>Run summary:</h3><br/><table class=\"wandb\"><tr><td>epoch</td><td>9</td></tr><tr><td>train_accuracy</td><td>0.59815</td></tr><tr><td>train_loss</td><td>0.44162</td></tr><tr><td>val_accuracy</td><td>0.59483</td></tr><tr><td>val_loss</td><td>0.44604</td></tr></table><br/></div></div>"
            ]
          },
          "metadata": {}
        },
        {
          "output_type": "display_data",
          "data": {
            "text/plain": [
              "<IPython.core.display.HTML object>"
            ],
            "text/html": [
              " View run <strong style=\"color:#cdcd00\">lr_0.0001_bs_64_epochs_10_act_sigmoid_opt_rmsprop</strong> at: <a href='https://wandb.ai/m_dhamu2908/Deep_Learning_Assignment/runs/mskba5v3' target=\"_blank\">https://wandb.ai/m_dhamu2908/Deep_Learning_Assignment/runs/mskba5v3</a><br> View project at: <a href='https://wandb.ai/m_dhamu2908/Deep_Learning_Assignment' target=\"_blank\">https://wandb.ai/m_dhamu2908/Deep_Learning_Assignment</a><br>Synced 5 W&B file(s), 0 media file(s), 0 artifact file(s) and 0 other file(s)"
            ]
          },
          "metadata": {}
        },
        {
          "output_type": "display_data",
          "data": {
            "text/plain": [
              "<IPython.core.display.HTML object>"
            ],
            "text/html": [
              "Find logs at: <code>./wandb/run-20250317_011930-mskba5v3/logs</code>"
            ]
          },
          "metadata": {}
        },
        {
          "output_type": "stream",
          "name": "stderr",
          "text": [
            "\u001b[34m\u001b[1mwandb\u001b[0m: Agent Starting Run: u6u3mh19 with config:\n",
            "\u001b[34m\u001b[1mwandb\u001b[0m: \tactivation: sigmoid\n",
            "\u001b[34m\u001b[1mwandb\u001b[0m: \tbatch_size: 32\n",
            "\u001b[34m\u001b[1mwandb\u001b[0m: \tbeta1: 0.9\n",
            "\u001b[34m\u001b[1mwandb\u001b[0m: \tbeta2: 0.999\n",
            "\u001b[34m\u001b[1mwandb\u001b[0m: \tepochs: 10\n",
            "\u001b[34m\u001b[1mwandb\u001b[0m: \teps: 1e-06\n",
            "\u001b[34m\u001b[1mwandb\u001b[0m: \thidden_layers: 5\n",
            "\u001b[34m\u001b[1mwandb\u001b[0m: \thl_size: 128\n",
            "\u001b[34m\u001b[1mwandb\u001b[0m: \tinitialization: random\n",
            "\u001b[34m\u001b[1mwandb\u001b[0m: \tlearning_rate: 0.0001\n",
            "\u001b[34m\u001b[1mwandb\u001b[0m: \tloss: cross_entropy\n",
            "\u001b[34m\u001b[1mwandb\u001b[0m: \tmomentum_beta: 0.99\n",
            "\u001b[34m\u001b[1mwandb\u001b[0m: \toptimizer: rmsprop\n",
            "\u001b[34m\u001b[1mwandb\u001b[0m: \trms_beta: 0.8\n",
            "\u001b[34m\u001b[1mwandb\u001b[0m: \tweight_decay: 0\n"
          ]
        },
        {
          "output_type": "display_data",
          "data": {
            "text/plain": [
              "<IPython.core.display.HTML object>"
            ],
            "text/html": [
              "Ignoring project 'Deep_Learning_Assignment' when running a sweep."
            ]
          },
          "metadata": {}
        },
        {
          "output_type": "display_data",
          "data": {
            "text/plain": [
              "<IPython.core.display.HTML object>"
            ],
            "text/html": [
              "Tracking run with wandb version 0.19.7"
            ]
          },
          "metadata": {}
        },
        {
          "output_type": "display_data",
          "data": {
            "text/plain": [
              "<IPython.core.display.HTML object>"
            ],
            "text/html": [
              "Run data is saved locally in <code>/content/wandb/run-20250317_013130-u6u3mh19</code>"
            ]
          },
          "metadata": {}
        },
        {
          "output_type": "display_data",
          "data": {
            "text/plain": [
              "<IPython.core.display.HTML object>"
            ],
            "text/html": [
              "Syncing run <strong><a href='https://wandb.ai/m_dhamu2908/Deep_Learning_Assignment/runs/u6u3mh19' target=\"_blank\">frosty-sweep-22</a></strong> to <a href='https://wandb.ai/m_dhamu2908/Deep_Learning_Assignment' target=\"_blank\">Weights & Biases</a> (<a href='https://wandb.me/developer-guide' target=\"_blank\">docs</a>)<br>Sweep page: <a href='https://wandb.ai/m_dhamu2908/Deep_Learning_Assignment/sweeps/y23f6q1q' target=\"_blank\">https://wandb.ai/m_dhamu2908/Deep_Learning_Assignment/sweeps/y23f6q1q</a>"
            ]
          },
          "metadata": {}
        },
        {
          "output_type": "display_data",
          "data": {
            "text/plain": [
              "<IPython.core.display.HTML object>"
            ],
            "text/html": [
              " View project at <a href='https://wandb.ai/m_dhamu2908/Deep_Learning_Assignment' target=\"_blank\">https://wandb.ai/m_dhamu2908/Deep_Learning_Assignment</a>"
            ]
          },
          "metadata": {}
        },
        {
          "output_type": "display_data",
          "data": {
            "text/plain": [
              "<IPython.core.display.HTML object>"
            ],
            "text/html": [
              " View sweep at <a href='https://wandb.ai/m_dhamu2908/Deep_Learning_Assignment/sweeps/y23f6q1q' target=\"_blank\">https://wandb.ai/m_dhamu2908/Deep_Learning_Assignment/sweeps/y23f6q1q</a>"
            ]
          },
          "metadata": {}
        },
        {
          "output_type": "display_data",
          "data": {
            "text/plain": [
              "<IPython.core.display.HTML object>"
            ],
            "text/html": [
              " View run at <a href='https://wandb.ai/m_dhamu2908/Deep_Learning_Assignment/runs/u6u3mh19' target=\"_blank\">https://wandb.ai/m_dhamu2908/Deep_Learning_Assignment/runs/u6u3mh19</a>"
            ]
          },
          "metadata": {}
        },
        {
          "output_type": "stream",
          "name": "stdout",
          "text": [
            "Epoch: 1, Train Accuracy: 0.09964814814814815, Train Loss: 1.0002000576310432, Validation Accuracy: 0.10316666666666667, Validation Loss: 1.000427935914386\n",
            "Epoch: 3, Train Accuracy: 0.09996296296296296, Train Loss: 1.00013516299776, Validation Accuracy: 0.10033333333333333, Validation Loss: 1.0003320207103765\n",
            "Epoch: 5, Train Accuracy: 0.09996296296296296, Train Loss: 1.0000539115758644, Validation Accuracy: 0.10033333333333333, Validation Loss: 1.0001828518359075\n",
            "Epoch: 7, Train Accuracy: 0.2001851851851852, Train Loss: 0.9150315469682948, Validation Accuracy: 0.19166666666666668, Validation Loss: 0.9156783002011473\n",
            "Epoch: 9, Train Accuracy: 0.20214814814814816, Train Loss: 0.7355000259487711, Validation Accuracy: 0.1935, Validation Loss: 0.7368370992947338\n"
          ]
        },
        {
          "output_type": "display_data",
          "data": {
            "text/plain": [
              "<IPython.core.display.HTML object>"
            ],
            "text/html": []
          },
          "metadata": {}
        },
        {
          "output_type": "display_data",
          "data": {
            "text/plain": [
              "<IPython.core.display.HTML object>"
            ],
            "text/html": [
              "<br>    <style><br>        .wandb-row {<br>            display: flex;<br>            flex-direction: row;<br>            flex-wrap: wrap;<br>            justify-content: flex-start;<br>            width: 100%;<br>        }<br>        .wandb-col {<br>            display: flex;<br>            flex-direction: column;<br>            flex-basis: 100%;<br>            flex: 1;<br>            padding: 10px;<br>        }<br>    </style><br><div class=\"wandb-row\"><div class=\"wandb-col\"><h3>Run history:</h3><br/><table class=\"wandb\"><tr><td>epoch</td><td>▁▃▅▆█</td></tr><tr><td>train_accuracy</td><td>▁▁▁██</td></tr><tr><td>train_loss</td><td>███▆▁</td></tr><tr><td>val_accuracy</td><td>▁▁▁██</td></tr><tr><td>val_loss</td><td>███▆▁</td></tr></table><br/></div><div class=\"wandb-col\"><h3>Run summary:</h3><br/><table class=\"wandb\"><tr><td>epoch</td><td>9</td></tr><tr><td>train_accuracy</td><td>0.20215</td></tr><tr><td>train_loss</td><td>0.7355</td></tr><tr><td>val_accuracy</td><td>0.1935</td></tr><tr><td>val_loss</td><td>0.73684</td></tr></table><br/></div></div>"
            ]
          },
          "metadata": {}
        },
        {
          "output_type": "display_data",
          "data": {
            "text/plain": [
              "<IPython.core.display.HTML object>"
            ],
            "text/html": [
              " View run <strong style=\"color:#cdcd00\">lr_0.0001_bs_32_epochs_10_act_sigmoid_opt_rmsprop</strong> at: <a href='https://wandb.ai/m_dhamu2908/Deep_Learning_Assignment/runs/u6u3mh19' target=\"_blank\">https://wandb.ai/m_dhamu2908/Deep_Learning_Assignment/runs/u6u3mh19</a><br> View project at: <a href='https://wandb.ai/m_dhamu2908/Deep_Learning_Assignment' target=\"_blank\">https://wandb.ai/m_dhamu2908/Deep_Learning_Assignment</a><br>Synced 5 W&B file(s), 0 media file(s), 0 artifact file(s) and 0 other file(s)"
            ]
          },
          "metadata": {}
        },
        {
          "output_type": "display_data",
          "data": {
            "text/plain": [
              "<IPython.core.display.HTML object>"
            ],
            "text/html": [
              "Find logs at: <code>./wandb/run-20250317_013130-u6u3mh19/logs</code>"
            ]
          },
          "metadata": {}
        },
        {
          "output_type": "stream",
          "name": "stderr",
          "text": [
            "\u001b[34m\u001b[1mwandb\u001b[0m: Agent Starting Run: go9v3nfh with config:\n",
            "\u001b[34m\u001b[1mwandb\u001b[0m: \tactivation: relu\n",
            "\u001b[34m\u001b[1mwandb\u001b[0m: \tbatch_size: 16\n",
            "\u001b[34m\u001b[1mwandb\u001b[0m: \tbeta1: 0.99\n",
            "\u001b[34m\u001b[1mwandb\u001b[0m: \tbeta2: 0.999\n",
            "\u001b[34m\u001b[1mwandb\u001b[0m: \tepochs: 5\n",
            "\u001b[34m\u001b[1mwandb\u001b[0m: \teps: 1e-07\n",
            "\u001b[34m\u001b[1mwandb\u001b[0m: \thidden_layers: 4\n",
            "\u001b[34m\u001b[1mwandb\u001b[0m: \thl_size: 64\n",
            "\u001b[34m\u001b[1mwandb\u001b[0m: \tinitialization: random\n",
            "\u001b[34m\u001b[1mwandb\u001b[0m: \tlearning_rate: 0.001\n",
            "\u001b[34m\u001b[1mwandb\u001b[0m: \tloss: cross_entropy\n",
            "\u001b[34m\u001b[1mwandb\u001b[0m: \tmomentum_beta: 0.9\n",
            "\u001b[34m\u001b[1mwandb\u001b[0m: \toptimizer: rmsprop\n",
            "\u001b[34m\u001b[1mwandb\u001b[0m: \trms_beta: 0.9\n",
            "\u001b[34m\u001b[1mwandb\u001b[0m: \tweight_decay: 0.0005\n"
          ]
        },
        {
          "output_type": "display_data",
          "data": {
            "text/plain": [
              "<IPython.core.display.HTML object>"
            ],
            "text/html": [
              "Ignoring project 'Deep_Learning_Assignment' when running a sweep."
            ]
          },
          "metadata": {}
        },
        {
          "output_type": "display_data",
          "data": {
            "text/plain": [
              "<IPython.core.display.HTML object>"
            ],
            "text/html": [
              "Tracking run with wandb version 0.19.7"
            ]
          },
          "metadata": {}
        },
        {
          "output_type": "display_data",
          "data": {
            "text/plain": [
              "<IPython.core.display.HTML object>"
            ],
            "text/html": [
              "Run data is saved locally in <code>/content/wandb/run-20250317_015615-go9v3nfh</code>"
            ]
          },
          "metadata": {}
        },
        {
          "output_type": "display_data",
          "data": {
            "text/plain": [
              "<IPython.core.display.HTML object>"
            ],
            "text/html": [
              "Syncing run <strong><a href='https://wandb.ai/m_dhamu2908/Deep_Learning_Assignment/runs/go9v3nfh' target=\"_blank\">soft-sweep-23</a></strong> to <a href='https://wandb.ai/m_dhamu2908/Deep_Learning_Assignment' target=\"_blank\">Weights & Biases</a> (<a href='https://wandb.me/developer-guide' target=\"_blank\">docs</a>)<br>Sweep page: <a href='https://wandb.ai/m_dhamu2908/Deep_Learning_Assignment/sweeps/y23f6q1q' target=\"_blank\">https://wandb.ai/m_dhamu2908/Deep_Learning_Assignment/sweeps/y23f6q1q</a>"
            ]
          },
          "metadata": {}
        },
        {
          "output_type": "display_data",
          "data": {
            "text/plain": [
              "<IPython.core.display.HTML object>"
            ],
            "text/html": [
              " View project at <a href='https://wandb.ai/m_dhamu2908/Deep_Learning_Assignment' target=\"_blank\">https://wandb.ai/m_dhamu2908/Deep_Learning_Assignment</a>"
            ]
          },
          "metadata": {}
        },
        {
          "output_type": "display_data",
          "data": {
            "text/plain": [
              "<IPython.core.display.HTML object>"
            ],
            "text/html": [
              " View sweep at <a href='https://wandb.ai/m_dhamu2908/Deep_Learning_Assignment/sweeps/y23f6q1q' target=\"_blank\">https://wandb.ai/m_dhamu2908/Deep_Learning_Assignment/sweeps/y23f6q1q</a>"
            ]
          },
          "metadata": {}
        },
        {
          "output_type": "display_data",
          "data": {
            "text/plain": [
              "<IPython.core.display.HTML object>"
            ],
            "text/html": [
              " View run at <a href='https://wandb.ai/m_dhamu2908/Deep_Learning_Assignment/runs/go9v3nfh' target=\"_blank\">https://wandb.ai/m_dhamu2908/Deep_Learning_Assignment/runs/go9v3nfh</a>"
            ]
          },
          "metadata": {}
        },
        {
          "output_type": "stream",
          "name": "stdout",
          "text": [
            "Epoch: 0, Train Accuracy: 0.6965185185185185, Train Loss: 0.36231615642479537, Validation Accuracy: 0.6966666666666667, Validation Loss: 0.36298514090876044\n",
            "Epoch: 1, Train Accuracy: 0.7502777777777778, Train Loss: 0.31906569856079775, Validation Accuracy: 0.7498333333333334, Validation Loss: 0.3199984524332782\n",
            "Epoch: 2, Train Accuracy: 0.7823703703703704, Train Loss: 0.29159113571792544, Validation Accuracy: 0.7798333333333334, Validation Loss: 0.29183118735276503\n",
            "Epoch: 3, Train Accuracy: 0.7985555555555556, Train Loss: 0.27830327281702166, Validation Accuracy: 0.7945, Validation Loss: 0.2806542060665728\n",
            "Epoch: 4, Train Accuracy: 0.7958148148148149, Train Loss: 0.2738096058054277, Validation Accuracy: 0.7931666666666667, Validation Loss: 0.2779799408379905\n"
          ]
        },
        {
          "output_type": "display_data",
          "data": {
            "text/plain": [
              "<IPython.core.display.HTML object>"
            ],
            "text/html": []
          },
          "metadata": {}
        },
        {
          "output_type": "display_data",
          "data": {
            "text/plain": [
              "<IPython.core.display.HTML object>"
            ],
            "text/html": [
              "<br>    <style><br>        .wandb-row {<br>            display: flex;<br>            flex-direction: row;<br>            flex-wrap: wrap;<br>            justify-content: flex-start;<br>            width: 100%;<br>        }<br>        .wandb-col {<br>            display: flex;<br>            flex-direction: column;<br>            flex-basis: 100%;<br>            flex: 1;<br>            padding: 10px;<br>        }<br>    </style><br><div class=\"wandb-row\"><div class=\"wandb-col\"><h3>Run history:</h3><br/><table class=\"wandb\"><tr><td>epoch</td><td>▁▃▅▆█</td></tr><tr><td>train_accuracy</td><td>▁▅▇██</td></tr><tr><td>train_loss</td><td>█▅▂▁▁</td></tr><tr><td>val_accuracy</td><td>▁▅▇██</td></tr><tr><td>val_loss</td><td>█▄▂▁▁</td></tr></table><br/></div><div class=\"wandb-col\"><h3>Run summary:</h3><br/><table class=\"wandb\"><tr><td>epoch</td><td>4</td></tr><tr><td>train_accuracy</td><td>0.79581</td></tr><tr><td>train_loss</td><td>0.27381</td></tr><tr><td>val_accuracy</td><td>0.79317</td></tr><tr><td>val_loss</td><td>0.27798</td></tr></table><br/></div></div>"
            ]
          },
          "metadata": {}
        },
        {
          "output_type": "display_data",
          "data": {
            "text/plain": [
              "<IPython.core.display.HTML object>"
            ],
            "text/html": [
              " View run <strong style=\"color:#cdcd00\">lr_0.001_bs_16_epochs_5_act_relu_opt_rmsprop</strong> at: <a href='https://wandb.ai/m_dhamu2908/Deep_Learning_Assignment/runs/go9v3nfh' target=\"_blank\">https://wandb.ai/m_dhamu2908/Deep_Learning_Assignment/runs/go9v3nfh</a><br> View project at: <a href='https://wandb.ai/m_dhamu2908/Deep_Learning_Assignment' target=\"_blank\">https://wandb.ai/m_dhamu2908/Deep_Learning_Assignment</a><br>Synced 5 W&B file(s), 0 media file(s), 0 artifact file(s) and 0 other file(s)"
            ]
          },
          "metadata": {}
        },
        {
          "output_type": "display_data",
          "data": {
            "text/plain": [
              "<IPython.core.display.HTML object>"
            ],
            "text/html": [
              "Find logs at: <code>./wandb/run-20250317_015615-go9v3nfh/logs</code>"
            ]
          },
          "metadata": {}
        },
        {
          "output_type": "stream",
          "name": "stderr",
          "text": [
            "\u001b[34m\u001b[1mwandb\u001b[0m: Agent Starting Run: rwfgx1xn with config:\n",
            "\u001b[34m\u001b[1mwandb\u001b[0m: \tactivation: tanh\n",
            "\u001b[34m\u001b[1mwandb\u001b[0m: \tbatch_size: 64\n",
            "\u001b[34m\u001b[1mwandb\u001b[0m: \tbeta1: 0.9\n",
            "\u001b[34m\u001b[1mwandb\u001b[0m: \tbeta2: 0.999\n",
            "\u001b[34m\u001b[1mwandb\u001b[0m: \tepochs: 5\n",
            "\u001b[34m\u001b[1mwandb\u001b[0m: \teps: 1e-07\n",
            "\u001b[34m\u001b[1mwandb\u001b[0m: \thidden_layers: 4\n",
            "\u001b[34m\u001b[1mwandb\u001b[0m: \thl_size: 32\n",
            "\u001b[34m\u001b[1mwandb\u001b[0m: \tinitialization: xavier\n",
            "\u001b[34m\u001b[1mwandb\u001b[0m: \tlearning_rate: 0.001\n",
            "\u001b[34m\u001b[1mwandb\u001b[0m: \tloss: cross_entropy\n",
            "\u001b[34m\u001b[1mwandb\u001b[0m: \tmomentum_beta: 0.8\n",
            "\u001b[34m\u001b[1mwandb\u001b[0m: \toptimizer: sgd\n",
            "\u001b[34m\u001b[1mwandb\u001b[0m: \trms_beta: 0.99\n",
            "\u001b[34m\u001b[1mwandb\u001b[0m: \tweight_decay: 0.5\n"
          ]
        },
        {
          "output_type": "display_data",
          "data": {
            "text/plain": [
              "<IPython.core.display.HTML object>"
            ],
            "text/html": [
              "Ignoring project 'Deep_Learning_Assignment' when running a sweep."
            ]
          },
          "metadata": {}
        },
        {
          "output_type": "display_data",
          "data": {
            "text/plain": [
              "<IPython.core.display.HTML object>"
            ],
            "text/html": [
              "Tracking run with wandb version 0.19.7"
            ]
          },
          "metadata": {}
        },
        {
          "output_type": "display_data",
          "data": {
            "text/plain": [
              "<IPython.core.display.HTML object>"
            ],
            "text/html": [
              "Run data is saved locally in <code>/content/wandb/run-20250317_020857-rwfgx1xn</code>"
            ]
          },
          "metadata": {}
        },
        {
          "output_type": "display_data",
          "data": {
            "text/plain": [
              "<IPython.core.display.HTML object>"
            ],
            "text/html": [
              "Syncing run <strong><a href='https://wandb.ai/m_dhamu2908/Deep_Learning_Assignment/runs/rwfgx1xn' target=\"_blank\">pious-sweep-24</a></strong> to <a href='https://wandb.ai/m_dhamu2908/Deep_Learning_Assignment' target=\"_blank\">Weights & Biases</a> (<a href='https://wandb.me/developer-guide' target=\"_blank\">docs</a>)<br>Sweep page: <a href='https://wandb.ai/m_dhamu2908/Deep_Learning_Assignment/sweeps/y23f6q1q' target=\"_blank\">https://wandb.ai/m_dhamu2908/Deep_Learning_Assignment/sweeps/y23f6q1q</a>"
            ]
          },
          "metadata": {}
        },
        {
          "output_type": "display_data",
          "data": {
            "text/plain": [
              "<IPython.core.display.HTML object>"
            ],
            "text/html": [
              " View project at <a href='https://wandb.ai/m_dhamu2908/Deep_Learning_Assignment' target=\"_blank\">https://wandb.ai/m_dhamu2908/Deep_Learning_Assignment</a>"
            ]
          },
          "metadata": {}
        },
        {
          "output_type": "display_data",
          "data": {
            "text/plain": [
              "<IPython.core.display.HTML object>"
            ],
            "text/html": [
              " View sweep at <a href='https://wandb.ai/m_dhamu2908/Deep_Learning_Assignment/sweeps/y23f6q1q' target=\"_blank\">https://wandb.ai/m_dhamu2908/Deep_Learning_Assignment/sweeps/y23f6q1q</a>"
            ]
          },
          "metadata": {}
        },
        {
          "output_type": "display_data",
          "data": {
            "text/plain": [
              "<IPython.core.display.HTML object>"
            ],
            "text/html": [
              " View run at <a href='https://wandb.ai/m_dhamu2908/Deep_Learning_Assignment/runs/rwfgx1xn' target=\"_blank\">https://wandb.ai/m_dhamu2908/Deep_Learning_Assignment/runs/rwfgx1xn</a>"
            ]
          },
          "metadata": {}
        },
        {
          "output_type": "stream",
          "name": "stdout",
          "text": [
            "Epoch: 0, Train Accuracy: 0.09996296296296296, Train Loss: 1.0000266309715147, Validation Accuracy: 0.10033333333333333, Validation Loss: 1.0000969194046083\n",
            "Epoch: 1, Train Accuracy: 0.09996296296296296, Train Loss: 1.0000269035114093, Validation Accuracy: 0.10033333333333333, Validation Loss: 1.0000974539339387\n",
            "Epoch: 2, Train Accuracy: 0.09996296296296296, Train Loss: 1.0000269047235597, Validation Accuracy: 0.10033333333333333, Validation Loss: 1.0000974563092244\n",
            "Epoch: 3, Train Accuracy: 0.09996296296296296, Train Loss: 1.0000269047291714, Validation Accuracy: 0.10033333333333333, Validation Loss: 1.0000974563183056\n",
            "Epoch: 4, Train Accuracy: 0.09996296296296296, Train Loss: 1.0000269047300656, Validation Accuracy: 0.10033333333333333, Validation Loss: 1.0000974563168294\n"
          ]
        },
        {
          "output_type": "display_data",
          "data": {
            "text/plain": [
              "<IPython.core.display.HTML object>"
            ],
            "text/html": []
          },
          "metadata": {}
        },
        {
          "output_type": "display_data",
          "data": {
            "text/plain": [
              "<IPython.core.display.HTML object>"
            ],
            "text/html": [
              "<br>    <style><br>        .wandb-row {<br>            display: flex;<br>            flex-direction: row;<br>            flex-wrap: wrap;<br>            justify-content: flex-start;<br>            width: 100%;<br>        }<br>        .wandb-col {<br>            display: flex;<br>            flex-direction: column;<br>            flex-basis: 100%;<br>            flex: 1;<br>            padding: 10px;<br>        }<br>    </style><br><div class=\"wandb-row\"><div class=\"wandb-col\"><h3>Run history:</h3><br/><table class=\"wandb\"><tr><td>epoch</td><td>▁▃▅▆█</td></tr><tr><td>train_accuracy</td><td>▁▁▁▁▁</td></tr><tr><td>train_loss</td><td>▁████</td></tr><tr><td>val_accuracy</td><td>▁▁▁▁▁</td></tr><tr><td>val_loss</td><td>▁████</td></tr></table><br/></div><div class=\"wandb-col\"><h3>Run summary:</h3><br/><table class=\"wandb\"><tr><td>epoch</td><td>4</td></tr><tr><td>train_accuracy</td><td>0.09996</td></tr><tr><td>train_loss</td><td>1.00003</td></tr><tr><td>val_accuracy</td><td>0.10033</td></tr><tr><td>val_loss</td><td>1.0001</td></tr></table><br/></div></div>"
            ]
          },
          "metadata": {}
        },
        {
          "output_type": "display_data",
          "data": {
            "text/plain": [
              "<IPython.core.display.HTML object>"
            ],
            "text/html": [
              " View run <strong style=\"color:#cdcd00\">lr_0.001_bs_64_epochs_5_act_tanh_opt_sgd</strong> at: <a href='https://wandb.ai/m_dhamu2908/Deep_Learning_Assignment/runs/rwfgx1xn' target=\"_blank\">https://wandb.ai/m_dhamu2908/Deep_Learning_Assignment/runs/rwfgx1xn</a><br> View project at: <a href='https://wandb.ai/m_dhamu2908/Deep_Learning_Assignment' target=\"_blank\">https://wandb.ai/m_dhamu2908/Deep_Learning_Assignment</a><br>Synced 5 W&B file(s), 0 media file(s), 0 artifact file(s) and 0 other file(s)"
            ]
          },
          "metadata": {}
        },
        {
          "output_type": "display_data",
          "data": {
            "text/plain": [
              "<IPython.core.display.HTML object>"
            ],
            "text/html": [
              "Find logs at: <code>./wandb/run-20250317_020857-rwfgx1xn/logs</code>"
            ]
          },
          "metadata": {}
        },
        {
          "output_type": "stream",
          "name": "stderr",
          "text": [
            "\u001b[34m\u001b[1mwandb\u001b[0m: Sweep Agent: Waiting for job.\n",
            "\u001b[34m\u001b[1mwandb\u001b[0m: Job received.\n",
            "\u001b[34m\u001b[1mwandb\u001b[0m: Agent Starting Run: bh761ax9 with config:\n",
            "\u001b[34m\u001b[1mwandb\u001b[0m: \tactivation: relu\n",
            "\u001b[34m\u001b[1mwandb\u001b[0m: \tbatch_size: 16\n",
            "\u001b[34m\u001b[1mwandb\u001b[0m: \tbeta1: 0.8\n",
            "\u001b[34m\u001b[1mwandb\u001b[0m: \tbeta2: 0.9\n",
            "\u001b[34m\u001b[1mwandb\u001b[0m: \tepochs: 5\n",
            "\u001b[34m\u001b[1mwandb\u001b[0m: \teps: 1e-06\n",
            "\u001b[34m\u001b[1mwandb\u001b[0m: \thidden_layers: 3\n",
            "\u001b[34m\u001b[1mwandb\u001b[0m: \thl_size: 128\n",
            "\u001b[34m\u001b[1mwandb\u001b[0m: \tinitialization: xavier\n",
            "\u001b[34m\u001b[1mwandb\u001b[0m: \tlearning_rate: 0.001\n",
            "\u001b[34m\u001b[1mwandb\u001b[0m: \tloss: cross_entropy\n",
            "\u001b[34m\u001b[1mwandb\u001b[0m: \tmomentum_beta: 0.99\n",
            "\u001b[34m\u001b[1mwandb\u001b[0m: \toptimizer: rmsprop\n",
            "\u001b[34m\u001b[1mwandb\u001b[0m: \trms_beta: 0.99\n",
            "\u001b[34m\u001b[1mwandb\u001b[0m: \tweight_decay: 0\n"
          ]
        },
        {
          "output_type": "display_data",
          "data": {
            "text/plain": [
              "<IPython.core.display.HTML object>"
            ],
            "text/html": [
              "Ignoring project 'Deep_Learning_Assignment' when running a sweep."
            ]
          },
          "metadata": {}
        },
        {
          "output_type": "display_data",
          "data": {
            "text/plain": [
              "<IPython.core.display.HTML object>"
            ],
            "text/html": [
              "Tracking run with wandb version 0.19.7"
            ]
          },
          "metadata": {}
        },
        {
          "output_type": "display_data",
          "data": {
            "text/plain": [
              "<IPython.core.display.HTML object>"
            ],
            "text/html": [
              "Run data is saved locally in <code>/content/wandb/run-20250317_021225-bh761ax9</code>"
            ]
          },
          "metadata": {}
        },
        {
          "output_type": "display_data",
          "data": {
            "text/plain": [
              "<IPython.core.display.HTML object>"
            ],
            "text/html": [
              "Syncing run <strong><a href='https://wandb.ai/m_dhamu2908/Deep_Learning_Assignment/runs/bh761ax9' target=\"_blank\">fallen-sweep-25</a></strong> to <a href='https://wandb.ai/m_dhamu2908/Deep_Learning_Assignment' target=\"_blank\">Weights & Biases</a> (<a href='https://wandb.me/developer-guide' target=\"_blank\">docs</a>)<br>Sweep page: <a href='https://wandb.ai/m_dhamu2908/Deep_Learning_Assignment/sweeps/y23f6q1q' target=\"_blank\">https://wandb.ai/m_dhamu2908/Deep_Learning_Assignment/sweeps/y23f6q1q</a>"
            ]
          },
          "metadata": {}
        },
        {
          "output_type": "display_data",
          "data": {
            "text/plain": [
              "<IPython.core.display.HTML object>"
            ],
            "text/html": [
              " View project at <a href='https://wandb.ai/m_dhamu2908/Deep_Learning_Assignment' target=\"_blank\">https://wandb.ai/m_dhamu2908/Deep_Learning_Assignment</a>"
            ]
          },
          "metadata": {}
        },
        {
          "output_type": "display_data",
          "data": {
            "text/plain": [
              "<IPython.core.display.HTML object>"
            ],
            "text/html": [
              " View sweep at <a href='https://wandb.ai/m_dhamu2908/Deep_Learning_Assignment/sweeps/y23f6q1q' target=\"_blank\">https://wandb.ai/m_dhamu2908/Deep_Learning_Assignment/sweeps/y23f6q1q</a>"
            ]
          },
          "metadata": {}
        },
        {
          "output_type": "display_data",
          "data": {
            "text/plain": [
              "<IPython.core.display.HTML object>"
            ],
            "text/html": [
              " View run at <a href='https://wandb.ai/m_dhamu2908/Deep_Learning_Assignment/runs/bh761ax9' target=\"_blank\">https://wandb.ai/m_dhamu2908/Deep_Learning_Assignment/runs/bh761ax9</a>"
            ]
          },
          "metadata": {}
        },
        {
          "output_type": "stream",
          "name": "stdout",
          "text": [
            "Epoch: 0, Train Accuracy: 0.8626851851851852, Train Loss: 0.16421088298221392, Validation Accuracy: 0.8581666666666666, Validation Loss: 0.17467045366808426\n",
            "Epoch: 1, Train Accuracy: 0.87, Train Loss: 0.15097042247886824, Validation Accuracy: 0.8578333333333333, Validation Loss: 0.16928992146578292\n",
            "Epoch: 2, Train Accuracy: 0.8874444444444445, Train Loss: 0.1358194137119951, Validation Accuracy: 0.8748333333333334, Validation Loss: 0.1636174644036536\n",
            "Epoch: 3, Train Accuracy: 0.8879259259259259, Train Loss: 0.1337536674078389, Validation Accuracy: 0.8715, Validation Loss: 0.17087167057013733\n",
            "Epoch: 4, Train Accuracy: 0.892962962962963, Train Loss: 0.1283390630373251, Validation Accuracy: 0.8756666666666667, Validation Loss: 0.17780127986633343\n"
          ]
        },
        {
          "output_type": "display_data",
          "data": {
            "text/plain": [
              "<IPython.core.display.HTML object>"
            ],
            "text/html": []
          },
          "metadata": {}
        },
        {
          "output_type": "display_data",
          "data": {
            "text/plain": [
              "<IPython.core.display.HTML object>"
            ],
            "text/html": [
              "<br>    <style><br>        .wandb-row {<br>            display: flex;<br>            flex-direction: row;<br>            flex-wrap: wrap;<br>            justify-content: flex-start;<br>            width: 100%;<br>        }<br>        .wandb-col {<br>            display: flex;<br>            flex-direction: column;<br>            flex-basis: 100%;<br>            flex: 1;<br>            padding: 10px;<br>        }<br>    </style><br><div class=\"wandb-row\"><div class=\"wandb-col\"><h3>Run history:</h3><br/><table class=\"wandb\"><tr><td>epoch</td><td>▁▃▅▆█</td></tr><tr><td>train_accuracy</td><td>▁▃▇▇█</td></tr><tr><td>train_loss</td><td>█▅▂▂▁</td></tr><tr><td>val_accuracy</td><td>▁▁█▆█</td></tr><tr><td>val_loss</td><td>▆▄▁▅█</td></tr></table><br/></div><div class=\"wandb-col\"><h3>Run summary:</h3><br/><table class=\"wandb\"><tr><td>epoch</td><td>4</td></tr><tr><td>train_accuracy</td><td>0.89296</td></tr><tr><td>train_loss</td><td>0.12834</td></tr><tr><td>val_accuracy</td><td>0.87567</td></tr><tr><td>val_loss</td><td>0.1778</td></tr></table><br/></div></div>"
            ]
          },
          "metadata": {}
        },
        {
          "output_type": "display_data",
          "data": {
            "text/plain": [
              "<IPython.core.display.HTML object>"
            ],
            "text/html": [
              " View run <strong style=\"color:#cdcd00\">lr_0.001_bs_16_epochs_5_act_relu_opt_rmsprop</strong> at: <a href='https://wandb.ai/m_dhamu2908/Deep_Learning_Assignment/runs/bh761ax9' target=\"_blank\">https://wandb.ai/m_dhamu2908/Deep_Learning_Assignment/runs/bh761ax9</a><br> View project at: <a href='https://wandb.ai/m_dhamu2908/Deep_Learning_Assignment' target=\"_blank\">https://wandb.ai/m_dhamu2908/Deep_Learning_Assignment</a><br>Synced 5 W&B file(s), 0 media file(s), 0 artifact file(s) and 0 other file(s)"
            ]
          },
          "metadata": {}
        },
        {
          "output_type": "display_data",
          "data": {
            "text/plain": [
              "<IPython.core.display.HTML object>"
            ],
            "text/html": [
              "Find logs at: <code>./wandb/run-20250317_021225-bh761ax9/logs</code>"
            ]
          },
          "metadata": {}
        },
        {
          "output_type": "stream",
          "name": "stderr",
          "text": [
            "\u001b[34m\u001b[1mwandb\u001b[0m: Agent Starting Run: 6zf9bnmi with config:\n",
            "\u001b[34m\u001b[1mwandb\u001b[0m: \tactivation: tanh\n",
            "\u001b[34m\u001b[1mwandb\u001b[0m: \tbatch_size: 32\n",
            "\u001b[34m\u001b[1mwandb\u001b[0m: \tbeta1: 0.9\n",
            "\u001b[34m\u001b[1mwandb\u001b[0m: \tbeta2: 0.99\n",
            "\u001b[34m\u001b[1mwandb\u001b[0m: \tepochs: 5\n",
            "\u001b[34m\u001b[1mwandb\u001b[0m: \teps: 1e-08\n",
            "\u001b[34m\u001b[1mwandb\u001b[0m: \thidden_layers: 5\n",
            "\u001b[34m\u001b[1mwandb\u001b[0m: \thl_size: 32\n",
            "\u001b[34m\u001b[1mwandb\u001b[0m: \tinitialization: xavier\n",
            "\u001b[34m\u001b[1mwandb\u001b[0m: \tlearning_rate: 0.0001\n",
            "\u001b[34m\u001b[1mwandb\u001b[0m: \tloss: cross_entropy\n",
            "\u001b[34m\u001b[1mwandb\u001b[0m: \tmomentum_beta: 0.8\n",
            "\u001b[34m\u001b[1mwandb\u001b[0m: \toptimizer: adam\n",
            "\u001b[34m\u001b[1mwandb\u001b[0m: \trms_beta: 0.99\n",
            "\u001b[34m\u001b[1mwandb\u001b[0m: \tweight_decay: 0.0005\n"
          ]
        },
        {
          "output_type": "display_data",
          "data": {
            "text/plain": [
              "<IPython.core.display.HTML object>"
            ],
            "text/html": [
              "Ignoring project 'Deep_Learning_Assignment' when running a sweep."
            ]
          },
          "metadata": {}
        },
        {
          "output_type": "display_data",
          "data": {
            "text/plain": [
              "<IPython.core.display.HTML object>"
            ],
            "text/html": [
              "Tracking run with wandb version 0.19.7"
            ]
          },
          "metadata": {}
        },
        {
          "output_type": "display_data",
          "data": {
            "text/plain": [
              "<IPython.core.display.HTML object>"
            ],
            "text/html": [
              "Run data is saved locally in <code>/content/wandb/run-20250317_023122-6zf9bnmi</code>"
            ]
          },
          "metadata": {}
        },
        {
          "output_type": "display_data",
          "data": {
            "text/plain": [
              "<IPython.core.display.HTML object>"
            ],
            "text/html": [
              "Syncing run <strong><a href='https://wandb.ai/m_dhamu2908/Deep_Learning_Assignment/runs/6zf9bnmi' target=\"_blank\">stilted-sweep-26</a></strong> to <a href='https://wandb.ai/m_dhamu2908/Deep_Learning_Assignment' target=\"_blank\">Weights & Biases</a> (<a href='https://wandb.me/developer-guide' target=\"_blank\">docs</a>)<br>Sweep page: <a href='https://wandb.ai/m_dhamu2908/Deep_Learning_Assignment/sweeps/y23f6q1q' target=\"_blank\">https://wandb.ai/m_dhamu2908/Deep_Learning_Assignment/sweeps/y23f6q1q</a>"
            ]
          },
          "metadata": {}
        },
        {
          "output_type": "display_data",
          "data": {
            "text/plain": [
              "<IPython.core.display.HTML object>"
            ],
            "text/html": [
              " View project at <a href='https://wandb.ai/m_dhamu2908/Deep_Learning_Assignment' target=\"_blank\">https://wandb.ai/m_dhamu2908/Deep_Learning_Assignment</a>"
            ]
          },
          "metadata": {}
        },
        {
          "output_type": "display_data",
          "data": {
            "text/plain": [
              "<IPython.core.display.HTML object>"
            ],
            "text/html": [
              " View sweep at <a href='https://wandb.ai/m_dhamu2908/Deep_Learning_Assignment/sweeps/y23f6q1q' target=\"_blank\">https://wandb.ai/m_dhamu2908/Deep_Learning_Assignment/sweeps/y23f6q1q</a>"
            ]
          },
          "metadata": {}
        },
        {
          "output_type": "display_data",
          "data": {
            "text/plain": [
              "<IPython.core.display.HTML object>"
            ],
            "text/html": [
              " View run at <a href='https://wandb.ai/m_dhamu2908/Deep_Learning_Assignment/runs/6zf9bnmi' target=\"_blank\">https://wandb.ai/m_dhamu2908/Deep_Learning_Assignment/runs/6zf9bnmi</a>"
            ]
          },
          "metadata": {}
        },
        {
          "output_type": "stream",
          "name": "stdout",
          "text": [
            "Epoch: 0, Train Accuracy: 0.6872407407407407, Train Loss: 0.46728905961292355, Validation Accuracy: 0.6923333333333334, Validation Loss: 0.4645354444963505\n",
            "Epoch: 1, Train Accuracy: 0.6611666666666667, Train Loss: 0.49312474271867257, Validation Accuracy: 0.6695, Validation Loss: 0.49099397327162764\n",
            "Epoch: 2, Train Accuracy: 0.6392592592592593, Train Loss: 0.521891803753303, Validation Accuracy: 0.6511666666666667, Validation Loss: 0.5199146237808857\n",
            "Epoch: 3, Train Accuracy: 0.6233148148148148, Train Loss: 0.5468791050978311, Validation Accuracy: 0.635, Validation Loss: 0.5450589544704091\n",
            "Epoch: 4, Train Accuracy: 0.609037037037037, Train Loss: 0.5665230759995424, Validation Accuracy: 0.617, Validation Loss: 0.5648533944419624\n"
          ]
        },
        {
          "output_type": "display_data",
          "data": {
            "text/plain": [
              "<IPython.core.display.HTML object>"
            ],
            "text/html": []
          },
          "metadata": {}
        },
        {
          "output_type": "display_data",
          "data": {
            "text/plain": [
              "<IPython.core.display.HTML object>"
            ],
            "text/html": [
              "<br>    <style><br>        .wandb-row {<br>            display: flex;<br>            flex-direction: row;<br>            flex-wrap: wrap;<br>            justify-content: flex-start;<br>            width: 100%;<br>        }<br>        .wandb-col {<br>            display: flex;<br>            flex-direction: column;<br>            flex-basis: 100%;<br>            flex: 1;<br>            padding: 10px;<br>        }<br>    </style><br><div class=\"wandb-row\"><div class=\"wandb-col\"><h3>Run history:</h3><br/><table class=\"wandb\"><tr><td>epoch</td><td>▁▃▅▆█</td></tr><tr><td>train_accuracy</td><td>█▆▄▂▁</td></tr><tr><td>train_loss</td><td>▁▃▅▇█</td></tr><tr><td>val_accuracy</td><td>█▆▄▃▁</td></tr><tr><td>val_loss</td><td>▁▃▅▇█</td></tr></table><br/></div><div class=\"wandb-col\"><h3>Run summary:</h3><br/><table class=\"wandb\"><tr><td>epoch</td><td>4</td></tr><tr><td>train_accuracy</td><td>0.60904</td></tr><tr><td>train_loss</td><td>0.56652</td></tr><tr><td>val_accuracy</td><td>0.617</td></tr><tr><td>val_loss</td><td>0.56485</td></tr></table><br/></div></div>"
            ]
          },
          "metadata": {}
        },
        {
          "output_type": "display_data",
          "data": {
            "text/plain": [
              "<IPython.core.display.HTML object>"
            ],
            "text/html": [
              " View run <strong style=\"color:#cdcd00\">lr_0.0001_bs_32_epochs_5_act_tanh_opt_adam</strong> at: <a href='https://wandb.ai/m_dhamu2908/Deep_Learning_Assignment/runs/6zf9bnmi' target=\"_blank\">https://wandb.ai/m_dhamu2908/Deep_Learning_Assignment/runs/6zf9bnmi</a><br> View project at: <a href='https://wandb.ai/m_dhamu2908/Deep_Learning_Assignment' target=\"_blank\">https://wandb.ai/m_dhamu2908/Deep_Learning_Assignment</a><br>Synced 5 W&B file(s), 0 media file(s), 0 artifact file(s) and 0 other file(s)"
            ]
          },
          "metadata": {}
        },
        {
          "output_type": "display_data",
          "data": {
            "text/plain": [
              "<IPython.core.display.HTML object>"
            ],
            "text/html": [
              "Find logs at: <code>./wandb/run-20250317_023122-6zf9bnmi/logs</code>"
            ]
          },
          "metadata": {}
        },
        {
          "output_type": "stream",
          "name": "stderr",
          "text": [
            "\u001b[34m\u001b[1mwandb\u001b[0m: Agent Starting Run: vfegaa10 with config:\n",
            "\u001b[34m\u001b[1mwandb\u001b[0m: \tactivation: sigmoid\n",
            "\u001b[34m\u001b[1mwandb\u001b[0m: \tbatch_size: 16\n",
            "\u001b[34m\u001b[1mwandb\u001b[0m: \tbeta1: 0.99\n",
            "\u001b[34m\u001b[1mwandb\u001b[0m: \tbeta2: 0.9\n",
            "\u001b[34m\u001b[1mwandb\u001b[0m: \tepochs: 5\n",
            "\u001b[34m\u001b[1mwandb\u001b[0m: \teps: 1e-07\n",
            "\u001b[34m\u001b[1mwandb\u001b[0m: \thidden_layers: 3\n",
            "\u001b[34m\u001b[1mwandb\u001b[0m: \thl_size: 128\n",
            "\u001b[34m\u001b[1mwandb\u001b[0m: \tinitialization: xavier\n",
            "\u001b[34m\u001b[1mwandb\u001b[0m: \tlearning_rate: 0.001\n",
            "\u001b[34m\u001b[1mwandb\u001b[0m: \tloss: cross_entropy\n",
            "\u001b[34m\u001b[1mwandb\u001b[0m: \tmomentum_beta: 0.9\n",
            "\u001b[34m\u001b[1mwandb\u001b[0m: \toptimizer: nadam\n",
            "\u001b[34m\u001b[1mwandb\u001b[0m: \trms_beta: 0.9\n",
            "\u001b[34m\u001b[1mwandb\u001b[0m: \tweight_decay: 0.5\n"
          ]
        },
        {
          "output_type": "display_data",
          "data": {
            "text/plain": [
              "<IPython.core.display.HTML object>"
            ],
            "text/html": [
              "Ignoring project 'Deep_Learning_Assignment' when running a sweep."
            ]
          },
          "metadata": {}
        },
        {
          "output_type": "display_data",
          "data": {
            "text/plain": [
              "<IPython.core.display.HTML object>"
            ],
            "text/html": [
              "Tracking run with wandb version 0.19.7"
            ]
          },
          "metadata": {}
        },
        {
          "output_type": "display_data",
          "data": {
            "text/plain": [
              "<IPython.core.display.HTML object>"
            ],
            "text/html": [
              "Run data is saved locally in <code>/content/wandb/run-20250317_023516-vfegaa10</code>"
            ]
          },
          "metadata": {}
        },
        {
          "output_type": "display_data",
          "data": {
            "text/plain": [
              "<IPython.core.display.HTML object>"
            ],
            "text/html": [
              "Syncing run <strong><a href='https://wandb.ai/m_dhamu2908/Deep_Learning_Assignment/runs/vfegaa10' target=\"_blank\">vocal-sweep-27</a></strong> to <a href='https://wandb.ai/m_dhamu2908/Deep_Learning_Assignment' target=\"_blank\">Weights & Biases</a> (<a href='https://wandb.me/developer-guide' target=\"_blank\">docs</a>)<br>Sweep page: <a href='https://wandb.ai/m_dhamu2908/Deep_Learning_Assignment/sweeps/y23f6q1q' target=\"_blank\">https://wandb.ai/m_dhamu2908/Deep_Learning_Assignment/sweeps/y23f6q1q</a>"
            ]
          },
          "metadata": {}
        },
        {
          "output_type": "display_data",
          "data": {
            "text/plain": [
              "<IPython.core.display.HTML object>"
            ],
            "text/html": [
              " View project at <a href='https://wandb.ai/m_dhamu2908/Deep_Learning_Assignment' target=\"_blank\">https://wandb.ai/m_dhamu2908/Deep_Learning_Assignment</a>"
            ]
          },
          "metadata": {}
        },
        {
          "output_type": "display_data",
          "data": {
            "text/plain": [
              "<IPython.core.display.HTML object>"
            ],
            "text/html": [
              " View sweep at <a href='https://wandb.ai/m_dhamu2908/Deep_Learning_Assignment/sweeps/y23f6q1q' target=\"_blank\">https://wandb.ai/m_dhamu2908/Deep_Learning_Assignment/sweeps/y23f6q1q</a>"
            ]
          },
          "metadata": {}
        },
        {
          "output_type": "display_data",
          "data": {
            "text/plain": [
              "<IPython.core.display.HTML object>"
            ],
            "text/html": [
              " View run at <a href='https://wandb.ai/m_dhamu2908/Deep_Learning_Assignment/runs/vfegaa10' target=\"_blank\">https://wandb.ai/m_dhamu2908/Deep_Learning_Assignment/runs/vfegaa10</a>"
            ]
          },
          "metadata": {}
        },
        {
          "output_type": "stream",
          "name": "stdout",
          "text": [
            "Epoch: 0, Train Accuracy: 0.10064814814814815, Train Loss: 1.001509537648723, Validation Accuracy: 0.09416666666666666, Validation Loss: 1.0020801470366725\n",
            "Epoch: 1, Train Accuracy: 0.10064814814814815, Train Loss: 1.0015742268198595, Validation Accuracy: 0.09416666666666666, Validation Loss: 1.0018991661838355\n",
            "Epoch: 2, Train Accuracy: 0.09938888888888889, Train Loss: 1.0015624444351463, Validation Accuracy: 0.1055, Validation Loss: 1.0018253455845665\n",
            "Epoch: 3, Train Accuracy: 0.09938888888888889, Train Loss: 1.0014355610235826, Validation Accuracy: 0.1055, Validation Loss: 1.0016632347762426\n",
            "Epoch: 4, Train Accuracy: 0.09938888888888889, Train Loss: 1.0012697379797189, Validation Accuracy: 0.1055, Validation Loss: 1.001471378511392\n"
          ]
        },
        {
          "output_type": "display_data",
          "data": {
            "text/plain": [
              "<IPython.core.display.HTML object>"
            ],
            "text/html": []
          },
          "metadata": {}
        },
        {
          "output_type": "display_data",
          "data": {
            "text/plain": [
              "<IPython.core.display.HTML object>"
            ],
            "text/html": [
              "<br>    <style><br>        .wandb-row {<br>            display: flex;<br>            flex-direction: row;<br>            flex-wrap: wrap;<br>            justify-content: flex-start;<br>            width: 100%;<br>        }<br>        .wandb-col {<br>            display: flex;<br>            flex-direction: column;<br>            flex-basis: 100%;<br>            flex: 1;<br>            padding: 10px;<br>        }<br>    </style><br><div class=\"wandb-row\"><div class=\"wandb-col\"><h3>Run history:</h3><br/><table class=\"wandb\"><tr><td>epoch</td><td>▁▃▅▆█</td></tr><tr><td>train_accuracy</td><td>██▁▁▁</td></tr><tr><td>train_loss</td><td>▇██▅▁</td></tr><tr><td>val_accuracy</td><td>▁▁███</td></tr><tr><td>val_loss</td><td>█▆▅▃▁</td></tr></table><br/></div><div class=\"wandb-col\"><h3>Run summary:</h3><br/><table class=\"wandb\"><tr><td>epoch</td><td>4</td></tr><tr><td>train_accuracy</td><td>0.09939</td></tr><tr><td>train_loss</td><td>1.00127</td></tr><tr><td>val_accuracy</td><td>0.1055</td></tr><tr><td>val_loss</td><td>1.00147</td></tr></table><br/></div></div>"
            ]
          },
          "metadata": {}
        },
        {
          "output_type": "display_data",
          "data": {
            "text/plain": [
              "<IPython.core.display.HTML object>"
            ],
            "text/html": [
              " View run <strong style=\"color:#cdcd00\">lr_0.001_bs_16_epochs_5_act_sigmoid_opt_nadam</strong> at: <a href='https://wandb.ai/m_dhamu2908/Deep_Learning_Assignment/runs/vfegaa10' target=\"_blank\">https://wandb.ai/m_dhamu2908/Deep_Learning_Assignment/runs/vfegaa10</a><br> View project at: <a href='https://wandb.ai/m_dhamu2908/Deep_Learning_Assignment' target=\"_blank\">https://wandb.ai/m_dhamu2908/Deep_Learning_Assignment</a><br>Synced 5 W&B file(s), 0 media file(s), 0 artifact file(s) and 0 other file(s)"
            ]
          },
          "metadata": {}
        },
        {
          "output_type": "display_data",
          "data": {
            "text/plain": [
              "<IPython.core.display.HTML object>"
            ],
            "text/html": [
              "Find logs at: <code>./wandb/run-20250317_023516-vfegaa10/logs</code>"
            ]
          },
          "metadata": {}
        },
        {
          "output_type": "stream",
          "name": "stderr",
          "text": [
            "\u001b[34m\u001b[1mwandb\u001b[0m: Agent Starting Run: j9pfelkk with config:\n",
            "\u001b[34m\u001b[1mwandb\u001b[0m: \tactivation: tanh\n",
            "\u001b[34m\u001b[1mwandb\u001b[0m: \tbatch_size: 32\n",
            "\u001b[34m\u001b[1mwandb\u001b[0m: \tbeta1: 0.99\n",
            "\u001b[34m\u001b[1mwandb\u001b[0m: \tbeta2: 0.99\n",
            "\u001b[34m\u001b[1mwandb\u001b[0m: \tepochs: 10\n",
            "\u001b[34m\u001b[1mwandb\u001b[0m: \teps: 1e-06\n",
            "\u001b[34m\u001b[1mwandb\u001b[0m: \thidden_layers: 4\n",
            "\u001b[34m\u001b[1mwandb\u001b[0m: \thl_size: 64\n",
            "\u001b[34m\u001b[1mwandb\u001b[0m: \tinitialization: random\n",
            "\u001b[34m\u001b[1mwandb\u001b[0m: \tlearning_rate: 0.0001\n",
            "\u001b[34m\u001b[1mwandb\u001b[0m: \tloss: cross_entropy\n",
            "\u001b[34m\u001b[1mwandb\u001b[0m: \tmomentum_beta: 0.8\n",
            "\u001b[34m\u001b[1mwandb\u001b[0m: \toptimizer: rmsprop\n",
            "\u001b[34m\u001b[1mwandb\u001b[0m: \trms_beta: 0.9\n",
            "\u001b[34m\u001b[1mwandb\u001b[0m: \tweight_decay: 0\n"
          ]
        },
        {
          "output_type": "display_data",
          "data": {
            "text/plain": [
              "<IPython.core.display.HTML object>"
            ],
            "text/html": [
              "Ignoring project 'Deep_Learning_Assignment' when running a sweep."
            ]
          },
          "metadata": {}
        },
        {
          "output_type": "display_data",
          "data": {
            "text/plain": [
              "<IPython.core.display.HTML object>"
            ],
            "text/html": [
              "Tracking run with wandb version 0.19.7"
            ]
          },
          "metadata": {}
        },
        {
          "output_type": "display_data",
          "data": {
            "text/plain": [
              "<IPython.core.display.HTML object>"
            ],
            "text/html": [
              "Run data is saved locally in <code>/content/wandb/run-20250317_024618-j9pfelkk</code>"
            ]
          },
          "metadata": {}
        },
        {
          "output_type": "display_data",
          "data": {
            "text/plain": [
              "<IPython.core.display.HTML object>"
            ],
            "text/html": [
              "Syncing run <strong><a href='https://wandb.ai/m_dhamu2908/Deep_Learning_Assignment/runs/j9pfelkk' target=\"_blank\">fiery-sweep-28</a></strong> to <a href='https://wandb.ai/m_dhamu2908/Deep_Learning_Assignment' target=\"_blank\">Weights & Biases</a> (<a href='https://wandb.me/developer-guide' target=\"_blank\">docs</a>)<br>Sweep page: <a href='https://wandb.ai/m_dhamu2908/Deep_Learning_Assignment/sweeps/y23f6q1q' target=\"_blank\">https://wandb.ai/m_dhamu2908/Deep_Learning_Assignment/sweeps/y23f6q1q</a>"
            ]
          },
          "metadata": {}
        },
        {
          "output_type": "display_data",
          "data": {
            "text/plain": [
              "<IPython.core.display.HTML object>"
            ],
            "text/html": [
              " View project at <a href='https://wandb.ai/m_dhamu2908/Deep_Learning_Assignment' target=\"_blank\">https://wandb.ai/m_dhamu2908/Deep_Learning_Assignment</a>"
            ]
          },
          "metadata": {}
        },
        {
          "output_type": "display_data",
          "data": {
            "text/plain": [
              "<IPython.core.display.HTML object>"
            ],
            "text/html": [
              " View sweep at <a href='https://wandb.ai/m_dhamu2908/Deep_Learning_Assignment/sweeps/y23f6q1q' target=\"_blank\">https://wandb.ai/m_dhamu2908/Deep_Learning_Assignment/sweeps/y23f6q1q</a>"
            ]
          },
          "metadata": {}
        },
        {
          "output_type": "display_data",
          "data": {
            "text/plain": [
              "<IPython.core.display.HTML object>"
            ],
            "text/html": [
              " View run at <a href='https://wandb.ai/m_dhamu2908/Deep_Learning_Assignment/runs/j9pfelkk' target=\"_blank\">https://wandb.ai/m_dhamu2908/Deep_Learning_Assignment/runs/j9pfelkk</a>"
            ]
          },
          "metadata": {}
        },
        {
          "output_type": "stream",
          "name": "stdout",
          "text": [
            "Epoch: 1, Train Accuracy: 0.2690925925925926, Train Loss: 0.695750489755219, Validation Accuracy: 0.2743333333333333, Validation Loss: 0.6966419564990687\n",
            "Epoch: 3, Train Accuracy: 0.6202777777777778, Train Loss: 0.42594259439692567, Validation Accuracy: 0.6353333333333333, Validation Loss: 0.42555856845160883\n",
            "Epoch: 5, Train Accuracy: 0.7480555555555556, Train Loss: 0.3177484673374486, Validation Accuracy: 0.7573333333333333, Validation Loss: 0.3186518372518871\n",
            "Epoch: 7, Train Accuracy: 0.7899444444444444, Train Loss: 0.2586653878758224, Validation Accuracy: 0.7928333333333333, Validation Loss: 0.26370163465684954\n",
            "Epoch: 9, Train Accuracy: 0.8099074074074074, Train Loss: 0.23077853986954108, Validation Accuracy: 0.8055, Validation Loss: 0.23936514855383417\n"
          ]
        },
        {
          "output_type": "display_data",
          "data": {
            "text/plain": [
              "<IPython.core.display.HTML object>"
            ],
            "text/html": []
          },
          "metadata": {}
        },
        {
          "output_type": "display_data",
          "data": {
            "text/plain": [
              "<IPython.core.display.HTML object>"
            ],
            "text/html": [
              "<br>    <style><br>        .wandb-row {<br>            display: flex;<br>            flex-direction: row;<br>            flex-wrap: wrap;<br>            justify-content: flex-start;<br>            width: 100%;<br>        }<br>        .wandb-col {<br>            display: flex;<br>            flex-direction: column;<br>            flex-basis: 100%;<br>            flex: 1;<br>            padding: 10px;<br>        }<br>    </style><br><div class=\"wandb-row\"><div class=\"wandb-col\"><h3>Run history:</h3><br/><table class=\"wandb\"><tr><td>epoch</td><td>▁▃▅▆█</td></tr><tr><td>train_accuracy</td><td>▁▆▇██</td></tr><tr><td>train_loss</td><td>█▄▂▁▁</td></tr><tr><td>val_accuracy</td><td>▁▆▇██</td></tr><tr><td>val_loss</td><td>█▄▂▁▁</td></tr></table><br/></div><div class=\"wandb-col\"><h3>Run summary:</h3><br/><table class=\"wandb\"><tr><td>epoch</td><td>9</td></tr><tr><td>train_accuracy</td><td>0.80991</td></tr><tr><td>train_loss</td><td>0.23078</td></tr><tr><td>val_accuracy</td><td>0.8055</td></tr><tr><td>val_loss</td><td>0.23937</td></tr></table><br/></div></div>"
            ]
          },
          "metadata": {}
        },
        {
          "output_type": "display_data",
          "data": {
            "text/plain": [
              "<IPython.core.display.HTML object>"
            ],
            "text/html": [
              " View run <strong style=\"color:#cdcd00\">lr_0.0001_bs_32_epochs_10_act_tanh_opt_rmsprop</strong> at: <a href='https://wandb.ai/m_dhamu2908/Deep_Learning_Assignment/runs/j9pfelkk' target=\"_blank\">https://wandb.ai/m_dhamu2908/Deep_Learning_Assignment/runs/j9pfelkk</a><br> View project at: <a href='https://wandb.ai/m_dhamu2908/Deep_Learning_Assignment' target=\"_blank\">https://wandb.ai/m_dhamu2908/Deep_Learning_Assignment</a><br>Synced 5 W&B file(s), 0 media file(s), 0 artifact file(s) and 0 other file(s)"
            ]
          },
          "metadata": {}
        },
        {
          "output_type": "display_data",
          "data": {
            "text/plain": [
              "<IPython.core.display.HTML object>"
            ],
            "text/html": [
              "Find logs at: <code>./wandb/run-20250317_024618-j9pfelkk/logs</code>"
            ]
          },
          "metadata": {}
        },
        {
          "output_type": "stream",
          "name": "stderr",
          "text": [
            "\u001b[34m\u001b[1mwandb\u001b[0m: Agent Starting Run: bqlnnj91 with config:\n",
            "\u001b[34m\u001b[1mwandb\u001b[0m: \tactivation: relu\n",
            "\u001b[34m\u001b[1mwandb\u001b[0m: \tbatch_size: 64\n",
            "\u001b[34m\u001b[1mwandb\u001b[0m: \tbeta1: 0.8\n",
            "\u001b[34m\u001b[1mwandb\u001b[0m: \tbeta2: 0.99\n",
            "\u001b[34m\u001b[1mwandb\u001b[0m: \tepochs: 10\n",
            "\u001b[34m\u001b[1mwandb\u001b[0m: \teps: 1e-07\n",
            "\u001b[34m\u001b[1mwandb\u001b[0m: \thidden_layers: 4\n",
            "\u001b[34m\u001b[1mwandb\u001b[0m: \thl_size: 64\n",
            "\u001b[34m\u001b[1mwandb\u001b[0m: \tinitialization: random\n",
            "\u001b[34m\u001b[1mwandb\u001b[0m: \tlearning_rate: 0.001\n",
            "\u001b[34m\u001b[1mwandb\u001b[0m: \tloss: cross_entropy\n",
            "\u001b[34m\u001b[1mwandb\u001b[0m: \tmomentum_beta: 0.99\n",
            "\u001b[34m\u001b[1mwandb\u001b[0m: \toptimizer: adam\n",
            "\u001b[34m\u001b[1mwandb\u001b[0m: \trms_beta: 0.99\n",
            "\u001b[34m\u001b[1mwandb\u001b[0m: \tweight_decay: 0.0005\n"
          ]
        },
        {
          "output_type": "display_data",
          "data": {
            "text/plain": [
              "<IPython.core.display.HTML object>"
            ],
            "text/html": [
              "Ignoring project 'Deep_Learning_Assignment' when running a sweep."
            ]
          },
          "metadata": {}
        },
        {
          "output_type": "display_data",
          "data": {
            "text/plain": [
              "<IPython.core.display.HTML object>"
            ],
            "text/html": [
              "Tracking run with wandb version 0.19.7"
            ]
          },
          "metadata": {}
        },
        {
          "output_type": "display_data",
          "data": {
            "text/plain": [
              "<IPython.core.display.HTML object>"
            ],
            "text/html": [
              "Run data is saved locally in <code>/content/wandb/run-20250317_025613-bqlnnj91</code>"
            ]
          },
          "metadata": {}
        },
        {
          "output_type": "display_data",
          "data": {
            "text/plain": [
              "<IPython.core.display.HTML object>"
            ],
            "text/html": [
              "Syncing run <strong><a href='https://wandb.ai/m_dhamu2908/Deep_Learning_Assignment/runs/bqlnnj91' target=\"_blank\">dauntless-sweep-29</a></strong> to <a href='https://wandb.ai/m_dhamu2908/Deep_Learning_Assignment' target=\"_blank\">Weights & Biases</a> (<a href='https://wandb.me/developer-guide' target=\"_blank\">docs</a>)<br>Sweep page: <a href='https://wandb.ai/m_dhamu2908/Deep_Learning_Assignment/sweeps/y23f6q1q' target=\"_blank\">https://wandb.ai/m_dhamu2908/Deep_Learning_Assignment/sweeps/y23f6q1q</a>"
            ]
          },
          "metadata": {}
        },
        {
          "output_type": "display_data",
          "data": {
            "text/plain": [
              "<IPython.core.display.HTML object>"
            ],
            "text/html": [
              " View project at <a href='https://wandb.ai/m_dhamu2908/Deep_Learning_Assignment' target=\"_blank\">https://wandb.ai/m_dhamu2908/Deep_Learning_Assignment</a>"
            ]
          },
          "metadata": {}
        },
        {
          "output_type": "display_data",
          "data": {
            "text/plain": [
              "<IPython.core.display.HTML object>"
            ],
            "text/html": [
              " View sweep at <a href='https://wandb.ai/m_dhamu2908/Deep_Learning_Assignment/sweeps/y23f6q1q' target=\"_blank\">https://wandb.ai/m_dhamu2908/Deep_Learning_Assignment/sweeps/y23f6q1q</a>"
            ]
          },
          "metadata": {}
        },
        {
          "output_type": "display_data",
          "data": {
            "text/plain": [
              "<IPython.core.display.HTML object>"
            ],
            "text/html": [
              " View run at <a href='https://wandb.ai/m_dhamu2908/Deep_Learning_Assignment/runs/bqlnnj91' target=\"_blank\">https://wandb.ai/m_dhamu2908/Deep_Learning_Assignment/runs/bqlnnj91</a>"
            ]
          },
          "metadata": {}
        },
        {
          "output_type": "stream",
          "name": "stdout",
          "text": [
            "Epoch: 1, Train Accuracy: 0.6431111111111111, Train Loss: 0.40516535075287624, Validation Accuracy: 0.6461666666666667, Validation Loss: 0.4050333792647345\n",
            "Epoch: 3, Train Accuracy: 0.6921851851851852, Train Loss: 0.3736025374406651, Validation Accuracy: 0.692, Validation Loss: 0.3743692775094631\n",
            "Epoch: 5, Train Accuracy: 0.7008333333333333, Train Loss: 0.360693799502412, Validation Accuracy: 0.7028333333333333, Validation Loss: 0.36174232559874026\n",
            "Epoch: 7, Train Accuracy: 0.7051111111111111, Train Loss: 0.35210554271421607, Validation Accuracy: 0.7033333333333334, Validation Loss: 0.3533599538635568\n",
            "Epoch: 9, Train Accuracy: 0.7054444444444444, Train Loss: 0.3464831196880004, Validation Accuracy: 0.7043333333333334, Validation Loss: 0.3478488240014696\n"
          ]
        },
        {
          "output_type": "display_data",
          "data": {
            "text/plain": [
              "<IPython.core.display.HTML object>"
            ],
            "text/html": []
          },
          "metadata": {}
        },
        {
          "output_type": "display_data",
          "data": {
            "text/plain": [
              "<IPython.core.display.HTML object>"
            ],
            "text/html": [
              "<br>    <style><br>        .wandb-row {<br>            display: flex;<br>            flex-direction: row;<br>            flex-wrap: wrap;<br>            justify-content: flex-start;<br>            width: 100%;<br>        }<br>        .wandb-col {<br>            display: flex;<br>            flex-direction: column;<br>            flex-basis: 100%;<br>            flex: 1;<br>            padding: 10px;<br>        }<br>    </style><br><div class=\"wandb-row\"><div class=\"wandb-col\"><h3>Run history:</h3><br/><table class=\"wandb\"><tr><td>epoch</td><td>▁▃▅▆█</td></tr><tr><td>train_accuracy</td><td>▁▇▇██</td></tr><tr><td>train_loss</td><td>█▄▃▂▁</td></tr><tr><td>val_accuracy</td><td>▁▇███</td></tr><tr><td>val_loss</td><td>█▄▃▂▁</td></tr></table><br/></div><div class=\"wandb-col\"><h3>Run summary:</h3><br/><table class=\"wandb\"><tr><td>epoch</td><td>9</td></tr><tr><td>train_accuracy</td><td>0.70544</td></tr><tr><td>train_loss</td><td>0.34648</td></tr><tr><td>val_accuracy</td><td>0.70433</td></tr><tr><td>val_loss</td><td>0.34785</td></tr></table><br/></div></div>"
            ]
          },
          "metadata": {}
        },
        {
          "output_type": "display_data",
          "data": {
            "text/plain": [
              "<IPython.core.display.HTML object>"
            ],
            "text/html": [
              " View run <strong style=\"color:#cdcd00\">lr_0.001_bs_64_epochs_10_act_relu_opt_adam</strong> at: <a href='https://wandb.ai/m_dhamu2908/Deep_Learning_Assignment/runs/bqlnnj91' target=\"_blank\">https://wandb.ai/m_dhamu2908/Deep_Learning_Assignment/runs/bqlnnj91</a><br> View project at: <a href='https://wandb.ai/m_dhamu2908/Deep_Learning_Assignment' target=\"_blank\">https://wandb.ai/m_dhamu2908/Deep_Learning_Assignment</a><br>Synced 5 W&B file(s), 0 media file(s), 0 artifact file(s) and 0 other file(s)"
            ]
          },
          "metadata": {}
        },
        {
          "output_type": "display_data",
          "data": {
            "text/plain": [
              "<IPython.core.display.HTML object>"
            ],
            "text/html": [
              "Find logs at: <code>./wandb/run-20250317_025613-bqlnnj91/logs</code>"
            ]
          },
          "metadata": {}
        },
        {
          "output_type": "stream",
          "name": "stderr",
          "text": [
            "\u001b[34m\u001b[1mwandb\u001b[0m: Sweep Agent: Waiting for job.\n",
            "\u001b[34m\u001b[1mwandb\u001b[0m: Job received.\n",
            "\u001b[34m\u001b[1mwandb\u001b[0m: Agent Starting Run: l4xjek8a with config:\n",
            "\u001b[34m\u001b[1mwandb\u001b[0m: \tactivation: relu\n",
            "\u001b[34m\u001b[1mwandb\u001b[0m: \tbatch_size: 64\n",
            "\u001b[34m\u001b[1mwandb\u001b[0m: \tbeta1: 0.9\n",
            "\u001b[34m\u001b[1mwandb\u001b[0m: \tbeta2: 0.99\n",
            "\u001b[34m\u001b[1mwandb\u001b[0m: \tepochs: 10\n",
            "\u001b[34m\u001b[1mwandb\u001b[0m: \teps: 1e-07\n",
            "\u001b[34m\u001b[1mwandb\u001b[0m: \thidden_layers: 4\n",
            "\u001b[34m\u001b[1mwandb\u001b[0m: \thl_size: 128\n",
            "\u001b[34m\u001b[1mwandb\u001b[0m: \tinitialization: xavier\n",
            "\u001b[34m\u001b[1mwandb\u001b[0m: \tlearning_rate: 0.001\n",
            "\u001b[34m\u001b[1mwandb\u001b[0m: \tloss: cross_entropy\n",
            "\u001b[34m\u001b[1mwandb\u001b[0m: \tmomentum_beta: 0.99\n",
            "\u001b[34m\u001b[1mwandb\u001b[0m: \toptimizer: adam\n",
            "\u001b[34m\u001b[1mwandb\u001b[0m: \trms_beta: 0.99\n",
            "\u001b[34m\u001b[1mwandb\u001b[0m: \tweight_decay: 0\n"
          ]
        },
        {
          "output_type": "display_data",
          "data": {
            "text/plain": [
              "<IPython.core.display.HTML object>"
            ],
            "text/html": [
              "Ignoring project 'Deep_Learning_Assignment' when running a sweep."
            ]
          },
          "metadata": {}
        },
        {
          "output_type": "display_data",
          "data": {
            "text/plain": [
              "<IPython.core.display.HTML object>"
            ],
            "text/html": [
              "Tracking run with wandb version 0.19.7"
            ]
          },
          "metadata": {}
        },
        {
          "output_type": "display_data",
          "data": {
            "text/plain": [
              "<IPython.core.display.HTML object>"
            ],
            "text/html": [
              "Run data is saved locally in <code>/content/wandb/run-20250317_032032-l4xjek8a</code>"
            ]
          },
          "metadata": {}
        },
        {
          "output_type": "display_data",
          "data": {
            "text/plain": [
              "<IPython.core.display.HTML object>"
            ],
            "text/html": [
              "Syncing run <strong><a href='https://wandb.ai/m_dhamu2908/Deep_Learning_Assignment/runs/l4xjek8a' target=\"_blank\">deft-sweep-30</a></strong> to <a href='https://wandb.ai/m_dhamu2908/Deep_Learning_Assignment' target=\"_blank\">Weights & Biases</a> (<a href='https://wandb.me/developer-guide' target=\"_blank\">docs</a>)<br>Sweep page: <a href='https://wandb.ai/m_dhamu2908/Deep_Learning_Assignment/sweeps/y23f6q1q' target=\"_blank\">https://wandb.ai/m_dhamu2908/Deep_Learning_Assignment/sweeps/y23f6q1q</a>"
            ]
          },
          "metadata": {}
        },
        {
          "output_type": "display_data",
          "data": {
            "text/plain": [
              "<IPython.core.display.HTML object>"
            ],
            "text/html": [
              " View project at <a href='https://wandb.ai/m_dhamu2908/Deep_Learning_Assignment' target=\"_blank\">https://wandb.ai/m_dhamu2908/Deep_Learning_Assignment</a>"
            ]
          },
          "metadata": {}
        },
        {
          "output_type": "display_data",
          "data": {
            "text/plain": [
              "<IPython.core.display.HTML object>"
            ],
            "text/html": [
              " View sweep at <a href='https://wandb.ai/m_dhamu2908/Deep_Learning_Assignment/sweeps/y23f6q1q' target=\"_blank\">https://wandb.ai/m_dhamu2908/Deep_Learning_Assignment/sweeps/y23f6q1q</a>"
            ]
          },
          "metadata": {}
        },
        {
          "output_type": "display_data",
          "data": {
            "text/plain": [
              "<IPython.core.display.HTML object>"
            ],
            "text/html": [
              " View run at <a href='https://wandb.ai/m_dhamu2908/Deep_Learning_Assignment/runs/l4xjek8a' target=\"_blank\">https://wandb.ai/m_dhamu2908/Deep_Learning_Assignment/runs/l4xjek8a</a>"
            ]
          },
          "metadata": {}
        },
        {
          "output_type": "stream",
          "name": "stdout",
          "text": [
            "Epoch: 1, Train Accuracy: 0.8834444444444445, Train Loss: 0.13878371430544736, Validation Accuracy: 0.8746666666666667, Validation Loss: 0.15376373235253596\n",
            "Epoch: 3, Train Accuracy: 0.8996666666666666, Train Loss: 0.11979515721198666, Validation Accuracy: 0.8805, Validation Loss: 0.14621295048937907\n",
            "Epoch: 5, Train Accuracy: 0.9054629629629629, Train Loss: 0.1097406479578947, Validation Accuracy: 0.8831666666666667, Validation Loss: 0.14800023839410958\n",
            "Epoch: 7, Train Accuracy: 0.9122407407407407, Train Loss: 0.1009282149882893, Validation Accuracy: 0.8848333333333334, Validation Loss: 0.14934773257015965\n",
            "Epoch: 9, Train Accuracy: 0.9176481481481481, Train Loss: 0.09428148724542271, Validation Accuracy: 0.8855, Validation Loss: 0.15521199975294994\n"
          ]
        },
        {
          "output_type": "display_data",
          "data": {
            "text/plain": [
              "<IPython.core.display.HTML object>"
            ],
            "text/html": []
          },
          "metadata": {}
        },
        {
          "output_type": "display_data",
          "data": {
            "text/plain": [
              "<IPython.core.display.HTML object>"
            ],
            "text/html": [
              "<br>    <style><br>        .wandb-row {<br>            display: flex;<br>            flex-direction: row;<br>            flex-wrap: wrap;<br>            justify-content: flex-start;<br>            width: 100%;<br>        }<br>        .wandb-col {<br>            display: flex;<br>            flex-direction: column;<br>            flex-basis: 100%;<br>            flex: 1;<br>            padding: 10px;<br>        }<br>    </style><br><div class=\"wandb-row\"><div class=\"wandb-col\"><h3>Run history:</h3><br/><table class=\"wandb\"><tr><td>epoch</td><td>▁▃▅▆█</td></tr><tr><td>train_accuracy</td><td>▁▄▆▇█</td></tr><tr><td>train_loss</td><td>█▅▃▂▁</td></tr><tr><td>val_accuracy</td><td>▁▅▆██</td></tr><tr><td>val_loss</td><td>▇▁▂▃█</td></tr></table><br/></div><div class=\"wandb-col\"><h3>Run summary:</h3><br/><table class=\"wandb\"><tr><td>epoch</td><td>9</td></tr><tr><td>train_accuracy</td><td>0.91765</td></tr><tr><td>train_loss</td><td>0.09428</td></tr><tr><td>val_accuracy</td><td>0.8855</td></tr><tr><td>val_loss</td><td>0.15521</td></tr></table><br/></div></div>"
            ]
          },
          "metadata": {}
        },
        {
          "output_type": "display_data",
          "data": {
            "text/plain": [
              "<IPython.core.display.HTML object>"
            ],
            "text/html": [
              " View run <strong style=\"color:#cdcd00\">lr_0.001_bs_64_epochs_10_act_relu_opt_adam</strong> at: <a href='https://wandb.ai/m_dhamu2908/Deep_Learning_Assignment/runs/l4xjek8a' target=\"_blank\">https://wandb.ai/m_dhamu2908/Deep_Learning_Assignment/runs/l4xjek8a</a><br> View project at: <a href='https://wandb.ai/m_dhamu2908/Deep_Learning_Assignment' target=\"_blank\">https://wandb.ai/m_dhamu2908/Deep_Learning_Assignment</a><br>Synced 5 W&B file(s), 0 media file(s), 0 artifact file(s) and 0 other file(s)"
            ]
          },
          "metadata": {}
        },
        {
          "output_type": "display_data",
          "data": {
            "text/plain": [
              "<IPython.core.display.HTML object>"
            ],
            "text/html": [
              "Find logs at: <code>./wandb/run-20250317_032032-l4xjek8a/logs</code>"
            ]
          },
          "metadata": {}
        },
        {
          "output_type": "stream",
          "name": "stderr",
          "text": [
            "\u001b[34m\u001b[1mwandb\u001b[0m: Agent Starting Run: ntyrdiqg with config:\n",
            "\u001b[34m\u001b[1mwandb\u001b[0m: \tactivation: relu\n",
            "\u001b[34m\u001b[1mwandb\u001b[0m: \tbatch_size: 32\n",
            "\u001b[34m\u001b[1mwandb\u001b[0m: \tbeta1: 0.99\n",
            "\u001b[34m\u001b[1mwandb\u001b[0m: \tbeta2: 0.999\n",
            "\u001b[34m\u001b[1mwandb\u001b[0m: \tepochs: 10\n",
            "\u001b[34m\u001b[1mwandb\u001b[0m: \teps: 1e-06\n",
            "\u001b[34m\u001b[1mwandb\u001b[0m: \thidden_layers: 4\n",
            "\u001b[34m\u001b[1mwandb\u001b[0m: \thl_size: 128\n",
            "\u001b[34m\u001b[1mwandb\u001b[0m: \tinitialization: xavier\n",
            "\u001b[34m\u001b[1mwandb\u001b[0m: \tlearning_rate: 0.0001\n",
            "\u001b[34m\u001b[1mwandb\u001b[0m: \tloss: cross_entropy\n",
            "\u001b[34m\u001b[1mwandb\u001b[0m: \tmomentum_beta: 0.9\n",
            "\u001b[34m\u001b[1mwandb\u001b[0m: \toptimizer: adam\n",
            "\u001b[34m\u001b[1mwandb\u001b[0m: \trms_beta: 0.99\n",
            "\u001b[34m\u001b[1mwandb\u001b[0m: \tweight_decay: 0\n"
          ]
        },
        {
          "output_type": "display_data",
          "data": {
            "text/plain": [
              "<IPython.core.display.HTML object>"
            ],
            "text/html": [
              "Ignoring project 'Deep_Learning_Assignment' when running a sweep."
            ]
          },
          "metadata": {}
        },
        {
          "output_type": "display_data",
          "data": {
            "text/plain": [
              "<IPython.core.display.HTML object>"
            ],
            "text/html": [
              "Tracking run with wandb version 0.19.7"
            ]
          },
          "metadata": {}
        },
        {
          "output_type": "display_data",
          "data": {
            "text/plain": [
              "<IPython.core.display.HTML object>"
            ],
            "text/html": [
              "Run data is saved locally in <code>/content/wandb/run-20250317_040613-ntyrdiqg</code>"
            ]
          },
          "metadata": {}
        },
        {
          "output_type": "display_data",
          "data": {
            "text/plain": [
              "<IPython.core.display.HTML object>"
            ],
            "text/html": [
              "Syncing run <strong><a href='https://wandb.ai/m_dhamu2908/Deep_Learning_Assignment/runs/ntyrdiqg' target=\"_blank\">snowy-sweep-31</a></strong> to <a href='https://wandb.ai/m_dhamu2908/Deep_Learning_Assignment' target=\"_blank\">Weights & Biases</a> (<a href='https://wandb.me/developer-guide' target=\"_blank\">docs</a>)<br>Sweep page: <a href='https://wandb.ai/m_dhamu2908/Deep_Learning_Assignment/sweeps/y23f6q1q' target=\"_blank\">https://wandb.ai/m_dhamu2908/Deep_Learning_Assignment/sweeps/y23f6q1q</a>"
            ]
          },
          "metadata": {}
        },
        {
          "output_type": "display_data",
          "data": {
            "text/plain": [
              "<IPython.core.display.HTML object>"
            ],
            "text/html": [
              " View project at <a href='https://wandb.ai/m_dhamu2908/Deep_Learning_Assignment' target=\"_blank\">https://wandb.ai/m_dhamu2908/Deep_Learning_Assignment</a>"
            ]
          },
          "metadata": {}
        },
        {
          "output_type": "display_data",
          "data": {
            "text/plain": [
              "<IPython.core.display.HTML object>"
            ],
            "text/html": [
              " View sweep at <a href='https://wandb.ai/m_dhamu2908/Deep_Learning_Assignment/sweeps/y23f6q1q' target=\"_blank\">https://wandb.ai/m_dhamu2908/Deep_Learning_Assignment/sweeps/y23f6q1q</a>"
            ]
          },
          "metadata": {}
        },
        {
          "output_type": "display_data",
          "data": {
            "text/plain": [
              "<IPython.core.display.HTML object>"
            ],
            "text/html": [
              " View run at <a href='https://wandb.ai/m_dhamu2908/Deep_Learning_Assignment/runs/ntyrdiqg' target=\"_blank\">https://wandb.ai/m_dhamu2908/Deep_Learning_Assignment/runs/ntyrdiqg</a>"
            ]
          },
          "metadata": {}
        },
        {
          "output_type": "stream",
          "name": "stdout",
          "text": [
            "Epoch: 1, Train Accuracy: 0.8747592592592592, Train Loss: 0.14979850785588988, Validation Accuracy: 0.8641666666666666, Validation Loss: 0.15703090416749527\n",
            "Epoch: 3, Train Accuracy: 0.8914074074074074, Train Loss: 0.12856353629011616, Validation Accuracy: 0.8771666666666667, Validation Loss: 0.14592485420480497\n",
            "Epoch: 5, Train Accuracy: 0.8983148148148148, Train Loss: 0.11940702792891705, Validation Accuracy: 0.8788333333333334, Validation Loss: 0.14344354803640166\n",
            "Epoch: 7, Train Accuracy: 0.9013333333333333, Train Loss: 0.11492816812145623, Validation Accuracy: 0.8776666666666667, Validation Loss: 0.14427453998032055\n",
            "Epoch: 9, Train Accuracy: 0.9066666666666666, Train Loss: 0.10873280988999415, Validation Accuracy: 0.8806666666666667, Validation Loss: 0.1421075824049671\n"
          ]
        },
        {
          "output_type": "display_data",
          "data": {
            "text/plain": [
              "<IPython.core.display.HTML object>"
            ],
            "text/html": []
          },
          "metadata": {}
        },
        {
          "output_type": "display_data",
          "data": {
            "text/plain": [
              "<IPython.core.display.HTML object>"
            ],
            "text/html": [
              "<br>    <style><br>        .wandb-row {<br>            display: flex;<br>            flex-direction: row;<br>            flex-wrap: wrap;<br>            justify-content: flex-start;<br>            width: 100%;<br>        }<br>        .wandb-col {<br>            display: flex;<br>            flex-direction: column;<br>            flex-basis: 100%;<br>            flex: 1;<br>            padding: 10px;<br>        }<br>    </style><br><div class=\"wandb-row\"><div class=\"wandb-col\"><h3>Run history:</h3><br/><table class=\"wandb\"><tr><td>epoch</td><td>▁▃▅▆█</td></tr><tr><td>train_accuracy</td><td>▁▅▆▇█</td></tr><tr><td>train_loss</td><td>█▄▃▂▁</td></tr><tr><td>val_accuracy</td><td>▁▇▇▇█</td></tr><tr><td>val_loss</td><td>█▃▂▂▁</td></tr></table><br/></div><div class=\"wandb-col\"><h3>Run summary:</h3><br/><table class=\"wandb\"><tr><td>epoch</td><td>9</td></tr><tr><td>train_accuracy</td><td>0.90667</td></tr><tr><td>train_loss</td><td>0.10873</td></tr><tr><td>val_accuracy</td><td>0.88067</td></tr><tr><td>val_loss</td><td>0.14211</td></tr></table><br/></div></div>"
            ]
          },
          "metadata": {}
        },
        {
          "output_type": "display_data",
          "data": {
            "text/plain": [
              "<IPython.core.display.HTML object>"
            ],
            "text/html": [
              " View run <strong style=\"color:#cdcd00\">lr_0.0001_bs_32_epochs_10_act_relu_opt_adam</strong> at: <a href='https://wandb.ai/m_dhamu2908/Deep_Learning_Assignment/runs/ntyrdiqg' target=\"_blank\">https://wandb.ai/m_dhamu2908/Deep_Learning_Assignment/runs/ntyrdiqg</a><br> View project at: <a href='https://wandb.ai/m_dhamu2908/Deep_Learning_Assignment' target=\"_blank\">https://wandb.ai/m_dhamu2908/Deep_Learning_Assignment</a><br>Synced 5 W&B file(s), 0 media file(s), 0 artifact file(s) and 0 other file(s)"
            ]
          },
          "metadata": {}
        },
        {
          "output_type": "display_data",
          "data": {
            "text/plain": [
              "<IPython.core.display.HTML object>"
            ],
            "text/html": [
              "Find logs at: <code>./wandb/run-20250317_040613-ntyrdiqg/logs</code>"
            ]
          },
          "metadata": {}
        },
        {
          "output_type": "stream",
          "name": "stderr",
          "text": [
            "\u001b[34m\u001b[1mwandb\u001b[0m: Agent Starting Run: wnv7ry8w with config:\n",
            "\u001b[34m\u001b[1mwandb\u001b[0m: \tactivation: relu\n",
            "\u001b[34m\u001b[1mwandb\u001b[0m: \tbatch_size: 64\n",
            "\u001b[34m\u001b[1mwandb\u001b[0m: \tbeta1: 0.8\n",
            "\u001b[34m\u001b[1mwandb\u001b[0m: \tbeta2: 0.99\n",
            "\u001b[34m\u001b[1mwandb\u001b[0m: \tepochs: 10\n",
            "\u001b[34m\u001b[1mwandb\u001b[0m: \teps: 1e-06\n",
            "\u001b[34m\u001b[1mwandb\u001b[0m: \thidden_layers: 4\n",
            "\u001b[34m\u001b[1mwandb\u001b[0m: \thl_size: 128\n",
            "\u001b[34m\u001b[1mwandb\u001b[0m: \tinitialization: xavier\n",
            "\u001b[34m\u001b[1mwandb\u001b[0m: \tlearning_rate: 0.001\n",
            "\u001b[34m\u001b[1mwandb\u001b[0m: \tloss: cross_entropy\n",
            "\u001b[34m\u001b[1mwandb\u001b[0m: \tmomentum_beta: 0.9\n",
            "\u001b[34m\u001b[1mwandb\u001b[0m: \toptimizer: rmsprop\n",
            "\u001b[34m\u001b[1mwandb\u001b[0m: \trms_beta: 0.99\n",
            "\u001b[34m\u001b[1mwandb\u001b[0m: \tweight_decay: 0\n"
          ]
        },
        {
          "output_type": "display_data",
          "data": {
            "text/plain": [
              "<IPython.core.display.HTML object>"
            ],
            "text/html": [
              "Ignoring project 'Deep_Learning_Assignment' when running a sweep."
            ]
          },
          "metadata": {}
        },
        {
          "output_type": "display_data",
          "data": {
            "text/plain": [
              "<IPython.core.display.HTML object>"
            ],
            "text/html": [
              "Tracking run with wandb version 0.19.7"
            ]
          },
          "metadata": {}
        },
        {
          "output_type": "display_data",
          "data": {
            "text/plain": [
              "<IPython.core.display.HTML object>"
            ],
            "text/html": [
              "Run data is saved locally in <code>/content/wandb/run-20250317_045339-wnv7ry8w</code>"
            ]
          },
          "metadata": {}
        },
        {
          "output_type": "display_data",
          "data": {
            "text/plain": [
              "<IPython.core.display.HTML object>"
            ],
            "text/html": [
              "Syncing run <strong><a href='https://wandb.ai/m_dhamu2908/Deep_Learning_Assignment/runs/wnv7ry8w' target=\"_blank\">crisp-sweep-32</a></strong> to <a href='https://wandb.ai/m_dhamu2908/Deep_Learning_Assignment' target=\"_blank\">Weights & Biases</a> (<a href='https://wandb.me/developer-guide' target=\"_blank\">docs</a>)<br>Sweep page: <a href='https://wandb.ai/m_dhamu2908/Deep_Learning_Assignment/sweeps/y23f6q1q' target=\"_blank\">https://wandb.ai/m_dhamu2908/Deep_Learning_Assignment/sweeps/y23f6q1q</a>"
            ]
          },
          "metadata": {}
        },
        {
          "output_type": "display_data",
          "data": {
            "text/plain": [
              "<IPython.core.display.HTML object>"
            ],
            "text/html": [
              " View project at <a href='https://wandb.ai/m_dhamu2908/Deep_Learning_Assignment' target=\"_blank\">https://wandb.ai/m_dhamu2908/Deep_Learning_Assignment</a>"
            ]
          },
          "metadata": {}
        },
        {
          "output_type": "display_data",
          "data": {
            "text/plain": [
              "<IPython.core.display.HTML object>"
            ],
            "text/html": [
              " View sweep at <a href='https://wandb.ai/m_dhamu2908/Deep_Learning_Assignment/sweeps/y23f6q1q' target=\"_blank\">https://wandb.ai/m_dhamu2908/Deep_Learning_Assignment/sweeps/y23f6q1q</a>"
            ]
          },
          "metadata": {}
        },
        {
          "output_type": "display_data",
          "data": {
            "text/plain": [
              "<IPython.core.display.HTML object>"
            ],
            "text/html": [
              " View run at <a href='https://wandb.ai/m_dhamu2908/Deep_Learning_Assignment/runs/wnv7ry8w' target=\"_blank\">https://wandb.ai/m_dhamu2908/Deep_Learning_Assignment/runs/wnv7ry8w</a>"
            ]
          },
          "metadata": {}
        },
        {
          "output_type": "stream",
          "name": "stdout",
          "text": [
            "Epoch: 1, Train Accuracy: 0.878962962962963, Train Loss: 0.14093586046301665, Validation Accuracy: 0.8723333333333333, Validation Loss: 0.15381029130994422\n",
            "Epoch: 3, Train Accuracy: 0.8936481481481482, Train Loss: 0.12392457954194665, Validation Accuracy: 0.8788333333333334, Validation Loss: 0.14372442554177522\n",
            "Epoch: 5, Train Accuracy: 0.9007037037037037, Train Loss: 0.1139140769778023, Validation Accuracy: 0.8808333333333334, Validation Loss: 0.14548132912862716\n",
            "Epoch: 7, Train Accuracy: 0.9080925925925926, Train Loss: 0.10842432169732821, Validation Accuracy: 0.8808333333333334, Validation Loss: 0.15772911807449802\n",
            "Epoch: 9, Train Accuracy: 0.9089814814814815, Train Loss: 0.10657665033643587, Validation Accuracy: 0.8786666666666667, Validation Loss: 0.16781530237162906\n"
          ]
        },
        {
          "output_type": "display_data",
          "data": {
            "text/plain": [
              "<IPython.core.display.HTML object>"
            ],
            "text/html": []
          },
          "metadata": {}
        },
        {
          "output_type": "display_data",
          "data": {
            "text/plain": [
              "<IPython.core.display.HTML object>"
            ],
            "text/html": [
              "<br>    <style><br>        .wandb-row {<br>            display: flex;<br>            flex-direction: row;<br>            flex-wrap: wrap;<br>            justify-content: flex-start;<br>            width: 100%;<br>        }<br>        .wandb-col {<br>            display: flex;<br>            flex-direction: column;<br>            flex-basis: 100%;<br>            flex: 1;<br>            padding: 10px;<br>        }<br>    </style><br><div class=\"wandb-row\"><div class=\"wandb-col\"><h3>Run history:</h3><br/><table class=\"wandb\"><tr><td>epoch</td><td>▁▃▅▆█</td></tr><tr><td>train_accuracy</td><td>▁▄▆██</td></tr><tr><td>train_loss</td><td>█▅▂▁▁</td></tr><tr><td>val_accuracy</td><td>▁▆██▆</td></tr><tr><td>val_loss</td><td>▄▁▂▅█</td></tr></table><br/></div><div class=\"wandb-col\"><h3>Run summary:</h3><br/><table class=\"wandb\"><tr><td>epoch</td><td>9</td></tr><tr><td>train_accuracy</td><td>0.90898</td></tr><tr><td>train_loss</td><td>0.10658</td></tr><tr><td>val_accuracy</td><td>0.87867</td></tr><tr><td>val_loss</td><td>0.16782</td></tr></table><br/></div></div>"
            ]
          },
          "metadata": {}
        },
        {
          "output_type": "display_data",
          "data": {
            "text/plain": [
              "<IPython.core.display.HTML object>"
            ],
            "text/html": [
              " View run <strong style=\"color:#cdcd00\">lr_0.001_bs_64_epochs_10_act_relu_opt_rmsprop</strong> at: <a href='https://wandb.ai/m_dhamu2908/Deep_Learning_Assignment/runs/wnv7ry8w' target=\"_blank\">https://wandb.ai/m_dhamu2908/Deep_Learning_Assignment/runs/wnv7ry8w</a><br> View project at: <a href='https://wandb.ai/m_dhamu2908/Deep_Learning_Assignment' target=\"_blank\">https://wandb.ai/m_dhamu2908/Deep_Learning_Assignment</a><br>Synced 5 W&B file(s), 0 media file(s), 0 artifact file(s) and 0 other file(s)"
            ]
          },
          "metadata": {}
        },
        {
          "output_type": "display_data",
          "data": {
            "text/plain": [
              "<IPython.core.display.HTML object>"
            ],
            "text/html": [
              "Find logs at: <code>./wandb/run-20250317_045339-wnv7ry8w/logs</code>"
            ]
          },
          "metadata": {}
        },
        {
          "output_type": "stream",
          "name": "stderr",
          "text": [
            "\u001b[34m\u001b[1mwandb\u001b[0m: Agent Starting Run: 4n7o4irr with config:\n",
            "\u001b[34m\u001b[1mwandb\u001b[0m: \tactivation: relu\n",
            "\u001b[34m\u001b[1mwandb\u001b[0m: \tbatch_size: 64\n",
            "\u001b[34m\u001b[1mwandb\u001b[0m: \tbeta1: 0.8\n",
            "\u001b[34m\u001b[1mwandb\u001b[0m: \tbeta2: 0.99\n",
            "\u001b[34m\u001b[1mwandb\u001b[0m: \tepochs: 10\n",
            "\u001b[34m\u001b[1mwandb\u001b[0m: \teps: 1e-08\n",
            "\u001b[34m\u001b[1mwandb\u001b[0m: \thidden_layers: 4\n",
            "\u001b[34m\u001b[1mwandb\u001b[0m: \thl_size: 128\n",
            "\u001b[34m\u001b[1mwandb\u001b[0m: \tinitialization: xavier\n",
            "\u001b[34m\u001b[1mwandb\u001b[0m: \tlearning_rate: 0.001\n",
            "\u001b[34m\u001b[1mwandb\u001b[0m: \tloss: cross_entropy\n",
            "\u001b[34m\u001b[1mwandb\u001b[0m: \tmomentum_beta: 0.8\n",
            "\u001b[34m\u001b[1mwandb\u001b[0m: \toptimizer: nadam\n",
            "\u001b[34m\u001b[1mwandb\u001b[0m: \trms_beta: 0.99\n",
            "\u001b[34m\u001b[1mwandb\u001b[0m: \tweight_decay: 0\n"
          ]
        },
        {
          "output_type": "display_data",
          "data": {
            "text/plain": [
              "<IPython.core.display.HTML object>"
            ],
            "text/html": [
              "Ignoring project 'Deep_Learning_Assignment' when running a sweep."
            ]
          },
          "metadata": {}
        },
        {
          "output_type": "display_data",
          "data": {
            "text/plain": [
              "<IPython.core.display.HTML object>"
            ],
            "text/html": [
              "Tracking run with wandb version 0.19.7"
            ]
          },
          "metadata": {}
        },
        {
          "output_type": "display_data",
          "data": {
            "text/plain": [
              "<IPython.core.display.HTML object>"
            ],
            "text/html": [
              "Run data is saved locally in <code>/content/wandb/run-20250317_053902-4n7o4irr</code>"
            ]
          },
          "metadata": {}
        },
        {
          "output_type": "display_data",
          "data": {
            "text/plain": [
              "<IPython.core.display.HTML object>"
            ],
            "text/html": [
              "Syncing run <strong><a href='https://wandb.ai/m_dhamu2908/Deep_Learning_Assignment/runs/4n7o4irr' target=\"_blank\">crisp-sweep-33</a></strong> to <a href='https://wandb.ai/m_dhamu2908/Deep_Learning_Assignment' target=\"_blank\">Weights & Biases</a> (<a href='https://wandb.me/developer-guide' target=\"_blank\">docs</a>)<br>Sweep page: <a href='https://wandb.ai/m_dhamu2908/Deep_Learning_Assignment/sweeps/y23f6q1q' target=\"_blank\">https://wandb.ai/m_dhamu2908/Deep_Learning_Assignment/sweeps/y23f6q1q</a>"
            ]
          },
          "metadata": {}
        },
        {
          "output_type": "display_data",
          "data": {
            "text/plain": [
              "<IPython.core.display.HTML object>"
            ],
            "text/html": [
              " View project at <a href='https://wandb.ai/m_dhamu2908/Deep_Learning_Assignment' target=\"_blank\">https://wandb.ai/m_dhamu2908/Deep_Learning_Assignment</a>"
            ]
          },
          "metadata": {}
        },
        {
          "output_type": "display_data",
          "data": {
            "text/plain": [
              "<IPython.core.display.HTML object>"
            ],
            "text/html": [
              " View sweep at <a href='https://wandb.ai/m_dhamu2908/Deep_Learning_Assignment/sweeps/y23f6q1q' target=\"_blank\">https://wandb.ai/m_dhamu2908/Deep_Learning_Assignment/sweeps/y23f6q1q</a>"
            ]
          },
          "metadata": {}
        },
        {
          "output_type": "display_data",
          "data": {
            "text/plain": [
              "<IPython.core.display.HTML object>"
            ],
            "text/html": [
              " View run at <a href='https://wandb.ai/m_dhamu2908/Deep_Learning_Assignment/runs/4n7o4irr' target=\"_blank\">https://wandb.ai/m_dhamu2908/Deep_Learning_Assignment/runs/4n7o4irr</a>"
            ]
          },
          "metadata": {}
        },
        {
          "output_type": "stream",
          "name": "stdout",
          "text": [
            "Epoch: 0, Train Accuracy: 0.8632222222222222, Train Loss: 0.16556334029267142, Validation Accuracy: 0.8556666666666667, Validation Loss: 0.17348209372978204\n",
            "Epoch: 1, Train Accuracy: 0.8817407407407407, Train Loss: 0.14148702818436945, Validation Accuracy: 0.8715, Validation Loss: 0.15425998244767605\n",
            "Epoch: 2, Train Accuracy: 0.8917222222222222, Train Loss: 0.12904770587867354, Validation Accuracy: 0.8753333333333333, Validation Loss: 0.14690144078676493\n",
            "Epoch: 3, Train Accuracy: 0.8964074074074074, Train Loss: 0.12252725342925297, Validation Accuracy: 0.8783333333333333, Validation Loss: 0.14574836413960443\n",
            "Epoch: 4, Train Accuracy: 0.9011296296296296, Train Loss: 0.1157365066040903, Validation Accuracy: 0.883, Validation Loss: 0.14300571209185073\n",
            "Epoch: 5, Train Accuracy: 0.9052962962962963, Train Loss: 0.1105193432228094, Validation Accuracy: 0.8828333333333334, Validation Loss: 0.14207987750015313\n",
            "Epoch: 6, Train Accuracy: 0.9093333333333333, Train Loss: 0.10525022039188198, Validation Accuracy: 0.8856666666666667, Validation Loss: 0.14121258431152803\n",
            "Epoch: 7, Train Accuracy: 0.9124444444444444, Train Loss: 0.10160801300834489, Validation Accuracy: 0.8873333333333333, Validation Loss: 0.1423750912960883\n",
            "Epoch: 8, Train Accuracy: 0.9156481481481481, Train Loss: 0.09792379419081862, Validation Accuracy: 0.888, Validation Loss: 0.14490591701157882\n",
            "Epoch: 9, Train Accuracy: 0.917537037037037, Train Loss: 0.09678212672807095, Validation Accuracy: 0.8858333333333334, Validation Loss: 0.14830913175370014\n"
          ]
        },
        {
          "output_type": "display_data",
          "data": {
            "text/plain": [
              "<IPython.core.display.HTML object>"
            ],
            "text/html": []
          },
          "metadata": {}
        },
        {
          "output_type": "display_data",
          "data": {
            "text/plain": [
              "<IPython.core.display.HTML object>"
            ],
            "text/html": [
              "<br>    <style><br>        .wandb-row {<br>            display: flex;<br>            flex-direction: row;<br>            flex-wrap: wrap;<br>            justify-content: flex-start;<br>            width: 100%;<br>        }<br>        .wandb-col {<br>            display: flex;<br>            flex-direction: column;<br>            flex-basis: 100%;<br>            flex: 1;<br>            padding: 10px;<br>        }<br>    </style><br><div class=\"wandb-row\"><div class=\"wandb-col\"><h3>Run history:</h3><br/><table class=\"wandb\"><tr><td>epoch</td><td>▁▃▅▆█</td></tr><tr><td>train_accuracy</td><td>▁▄▆▇█</td></tr><tr><td>train_loss</td><td>█▅▃▂▁</td></tr><tr><td>val_accuracy</td><td>▁▄▆█▇</td></tr><tr><td>val_loss</td><td>█▃▁▁▅</td></tr></table><br/></div><div class=\"wandb-col\"><h3>Run summary:</h3><br/><table class=\"wandb\"><tr><td>epoch</td><td>9</td></tr><tr><td>train_accuracy</td><td>0.91754</td></tr><tr><td>train_loss</td><td>0.09678</td></tr><tr><td>val_accuracy</td><td>0.88583</td></tr><tr><td>val_loss</td><td>0.14831</td></tr></table><br/></div></div>"
            ]
          },
          "metadata": {}
        },
        {
          "output_type": "display_data",
          "data": {
            "text/plain": [
              "<IPython.core.display.HTML object>"
            ],
            "text/html": [
              " View run <strong style=\"color:#cdcd00\">lr_0.001_bs_64_epochs_10_act_relu_opt_nadam</strong> at: <a href='https://wandb.ai/m_dhamu2908/Deep_Learning_Assignment/runs/4n7o4irr' target=\"_blank\">https://wandb.ai/m_dhamu2908/Deep_Learning_Assignment/runs/4n7o4irr</a><br> View project at: <a href='https://wandb.ai/m_dhamu2908/Deep_Learning_Assignment' target=\"_blank\">https://wandb.ai/m_dhamu2908/Deep_Learning_Assignment</a><br>Synced 5 W&B file(s), 0 media file(s), 0 artifact file(s) and 0 other file(s)"
            ]
          },
          "metadata": {}
        },
        {
          "output_type": "display_data",
          "data": {
            "text/plain": [
              "<IPython.core.display.HTML object>"
            ],
            "text/html": [
              "Find logs at: <code>./wandb/run-20250317_053902-4n7o4irr/logs</code>"
            ]
          },
          "metadata": {}
        },
        {
          "output_type": "stream",
          "name": "stderr",
          "text": [
            "\u001b[34m\u001b[1mwandb\u001b[0m: Agent Starting Run: zrq6ex2d with config:\n",
            "\u001b[34m\u001b[1mwandb\u001b[0m: \tactivation: tanh\n",
            "\u001b[34m\u001b[1mwandb\u001b[0m: \tbatch_size: 64\n",
            "\u001b[34m\u001b[1mwandb\u001b[0m: \tbeta1: 0.99\n",
            "\u001b[34m\u001b[1mwandb\u001b[0m: \tbeta2: 0.99\n",
            "\u001b[34m\u001b[1mwandb\u001b[0m: \tepochs: 10\n",
            "\u001b[34m\u001b[1mwandb\u001b[0m: \teps: 1e-07\n",
            "\u001b[34m\u001b[1mwandb\u001b[0m: \thidden_layers: 3\n",
            "\u001b[34m\u001b[1mwandb\u001b[0m: \thl_size: 128\n",
            "\u001b[34m\u001b[1mwandb\u001b[0m: \tinitialization: xavier\n",
            "\u001b[34m\u001b[1mwandb\u001b[0m: \tlearning_rate: 0.001\n",
            "\u001b[34m\u001b[1mwandb\u001b[0m: \tloss: cross_entropy\n",
            "\u001b[34m\u001b[1mwandb\u001b[0m: \tmomentum_beta: 0.9\n",
            "\u001b[34m\u001b[1mwandb\u001b[0m: \toptimizer: nadam\n",
            "\u001b[34m\u001b[1mwandb\u001b[0m: \trms_beta: 0.99\n",
            "\u001b[34m\u001b[1mwandb\u001b[0m: \tweight_decay: 0\n"
          ]
        },
        {
          "output_type": "display_data",
          "data": {
            "text/plain": [
              "<IPython.core.display.HTML object>"
            ],
            "text/html": [
              "Ignoring project 'Deep_Learning_Assignment' when running a sweep."
            ]
          },
          "metadata": {}
        },
        {
          "output_type": "display_data",
          "data": {
            "text/plain": [
              "<IPython.core.display.HTML object>"
            ],
            "text/html": [
              "Tracking run with wandb version 0.19.7"
            ]
          },
          "metadata": {}
        },
        {
          "output_type": "display_data",
          "data": {
            "text/plain": [
              "<IPython.core.display.HTML object>"
            ],
            "text/html": [
              "Run data is saved locally in <code>/content/wandb/run-20250317_062702-zrq6ex2d</code>"
            ]
          },
          "metadata": {}
        },
        {
          "output_type": "display_data",
          "data": {
            "text/plain": [
              "<IPython.core.display.HTML object>"
            ],
            "text/html": [
              "Syncing run <strong><a href='https://wandb.ai/m_dhamu2908/Deep_Learning_Assignment/runs/zrq6ex2d' target=\"_blank\">mild-sweep-34</a></strong> to <a href='https://wandb.ai/m_dhamu2908/Deep_Learning_Assignment' target=\"_blank\">Weights & Biases</a> (<a href='https://wandb.me/developer-guide' target=\"_blank\">docs</a>)<br>Sweep page: <a href='https://wandb.ai/m_dhamu2908/Deep_Learning_Assignment/sweeps/y23f6q1q' target=\"_blank\">https://wandb.ai/m_dhamu2908/Deep_Learning_Assignment/sweeps/y23f6q1q</a>"
            ]
          },
          "metadata": {}
        },
        {
          "output_type": "display_data",
          "data": {
            "text/plain": [
              "<IPython.core.display.HTML object>"
            ],
            "text/html": [
              " View project at <a href='https://wandb.ai/m_dhamu2908/Deep_Learning_Assignment' target=\"_blank\">https://wandb.ai/m_dhamu2908/Deep_Learning_Assignment</a>"
            ]
          },
          "metadata": {}
        },
        {
          "output_type": "display_data",
          "data": {
            "text/plain": [
              "<IPython.core.display.HTML object>"
            ],
            "text/html": [
              " View sweep at <a href='https://wandb.ai/m_dhamu2908/Deep_Learning_Assignment/sweeps/y23f6q1q' target=\"_blank\">https://wandb.ai/m_dhamu2908/Deep_Learning_Assignment/sweeps/y23f6q1q</a>"
            ]
          },
          "metadata": {}
        },
        {
          "output_type": "display_data",
          "data": {
            "text/plain": [
              "<IPython.core.display.HTML object>"
            ],
            "text/html": [
              " View run at <a href='https://wandb.ai/m_dhamu2908/Deep_Learning_Assignment/runs/zrq6ex2d' target=\"_blank\">https://wandb.ai/m_dhamu2908/Deep_Learning_Assignment/runs/zrq6ex2d</a>"
            ]
          },
          "metadata": {}
        },
        {
          "output_type": "stream",
          "name": "stdout",
          "text": [
            "Epoch: 0, Train Accuracy: 0.8437777777777777, Train Loss: 0.19567629256980432, Validation Accuracy: 0.8353333333333334, Validation Loss: 0.2072238206915539\n",
            "Epoch: 1, Train Accuracy: 0.8407222222222223, Train Loss: 0.19556689192732157, Validation Accuracy: 0.8316666666666667, Validation Loss: 0.2078361915160574\n",
            "Epoch: 2, Train Accuracy: 0.8545, Train Loss: 0.18252642774676198, Validation Accuracy: 0.8418333333333333, Validation Loss: 0.19634903196790113\n",
            "Epoch: 3, Train Accuracy: 0.8450185185185185, Train Loss: 0.1884562745694076, Validation Accuracy: 0.8356666666666667, Validation Loss: 0.20078276687916655\n",
            "Epoch: 4, Train Accuracy: 0.8519444444444444, Train Loss: 0.18796937768704136, Validation Accuracy: 0.8395, Validation Loss: 0.19966320036014687\n",
            "Epoch: 5, Train Accuracy: 0.8689259259259259, Train Loss: 0.1667260076859143, Validation Accuracy: 0.8548333333333333, Validation Loss: 0.18065369838544817\n",
            "Epoch: 6, Train Accuracy: 0.8716851851851852, Train Loss: 0.1634573303771633, Validation Accuracy: 0.8558333333333333, Validation Loss: 0.18112237839515227\n",
            "Epoch: 7, Train Accuracy: 0.8693518518518518, Train Loss: 0.16440452301262104, Validation Accuracy: 0.854, Validation Loss: 0.18042637426402666\n",
            "Epoch: 8, Train Accuracy: 0.8656111111111111, Train Loss: 0.16368279448491135, Validation Accuracy: 0.8496666666666667, Validation Loss: 0.18433383279071586\n",
            "Epoch: 9, Train Accuracy: 0.8719444444444444, Train Loss: 0.1602906037045482, Validation Accuracy: 0.8605, Validation Loss: 0.1773436799183072\n"
          ]
        },
        {
          "output_type": "display_data",
          "data": {
            "text/plain": [
              "<IPython.core.display.HTML object>"
            ],
            "text/html": []
          },
          "metadata": {}
        },
        {
          "output_type": "display_data",
          "data": {
            "text/plain": [
              "<IPython.core.display.HTML object>"
            ],
            "text/html": [
              "<br>    <style><br>        .wandb-row {<br>            display: flex;<br>            flex-direction: row;<br>            flex-wrap: wrap;<br>            justify-content: flex-start;<br>            width: 100%;<br>        }<br>        .wandb-col {<br>            display: flex;<br>            flex-direction: column;<br>            flex-basis: 100%;<br>            flex: 1;<br>            padding: 10px;<br>        }<br>    </style><br><div class=\"wandb-row\"><div class=\"wandb-col\"><h3>Run history:</h3><br/><table class=\"wandb\"><tr><td>epoch</td><td>▁▃▅▆█</td></tr><tr><td>train_accuracy</td><td>▁▂▇▇█</td></tr><tr><td>train_loss</td><td>█▇▂▂▁</td></tr><tr><td>val_accuracy</td><td>▁▂▇▆█</td></tr><tr><td>val_loss</td><td>█▆▂▂▁</td></tr></table><br/></div><div class=\"wandb-col\"><h3>Run summary:</h3><br/><table class=\"wandb\"><tr><td>epoch</td><td>9</td></tr><tr><td>train_accuracy</td><td>0.87194</td></tr><tr><td>train_loss</td><td>0.16029</td></tr><tr><td>val_accuracy</td><td>0.8605</td></tr><tr><td>val_loss</td><td>0.17734</td></tr></table><br/></div></div>"
            ]
          },
          "metadata": {}
        },
        {
          "output_type": "display_data",
          "data": {
            "text/plain": [
              "<IPython.core.display.HTML object>"
            ],
            "text/html": [
              " View run <strong style=\"color:#cdcd00\">lr_0.001_bs_64_epochs_10_act_tanh_opt_nadam</strong> at: <a href='https://wandb.ai/m_dhamu2908/Deep_Learning_Assignment/runs/zrq6ex2d' target=\"_blank\">https://wandb.ai/m_dhamu2908/Deep_Learning_Assignment/runs/zrq6ex2d</a><br> View project at: <a href='https://wandb.ai/m_dhamu2908/Deep_Learning_Assignment' target=\"_blank\">https://wandb.ai/m_dhamu2908/Deep_Learning_Assignment</a><br>Synced 5 W&B file(s), 0 media file(s), 0 artifact file(s) and 0 other file(s)"
            ]
          },
          "metadata": {}
        },
        {
          "output_type": "display_data",
          "data": {
            "text/plain": [
              "<IPython.core.display.HTML object>"
            ],
            "text/html": [
              "Find logs at: <code>./wandb/run-20250317_062702-zrq6ex2d/logs</code>"
            ]
          },
          "metadata": {}
        },
        {
          "output_type": "stream",
          "name": "stderr",
          "text": [
            "\u001b[34m\u001b[1mwandb\u001b[0m: Agent Starting Run: xurt5dqa with config:\n",
            "\u001b[34m\u001b[1mwandb\u001b[0m: \tactivation: relu\n",
            "\u001b[34m\u001b[1mwandb\u001b[0m: \tbatch_size: 64\n",
            "\u001b[34m\u001b[1mwandb\u001b[0m: \tbeta1: 0.99\n",
            "\u001b[34m\u001b[1mwandb\u001b[0m: \tbeta2: 0.999\n",
            "\u001b[34m\u001b[1mwandb\u001b[0m: \tepochs: 5\n",
            "\u001b[34m\u001b[1mwandb\u001b[0m: \teps: 1e-07\n",
            "\u001b[34m\u001b[1mwandb\u001b[0m: \thidden_layers: 4\n",
            "\u001b[34m\u001b[1mwandb\u001b[0m: \thl_size: 32\n",
            "\u001b[34m\u001b[1mwandb\u001b[0m: \tinitialization: random\n",
            "\u001b[34m\u001b[1mwandb\u001b[0m: \tlearning_rate: 0.001\n",
            "\u001b[34m\u001b[1mwandb\u001b[0m: \tloss: cross_entropy\n",
            "\u001b[34m\u001b[1mwandb\u001b[0m: \tmomentum_beta: 0.8\n",
            "\u001b[34m\u001b[1mwandb\u001b[0m: \toptimizer: nadam\n",
            "\u001b[34m\u001b[1mwandb\u001b[0m: \trms_beta: 0.9\n",
            "\u001b[34m\u001b[1mwandb\u001b[0m: \tweight_decay: 0\n"
          ]
        },
        {
          "output_type": "display_data",
          "data": {
            "text/plain": [
              "<IPython.core.display.HTML object>"
            ],
            "text/html": [
              "Ignoring project 'Deep_Learning_Assignment' when running a sweep."
            ]
          },
          "metadata": {}
        },
        {
          "output_type": "display_data",
          "data": {
            "text/plain": [
              "<IPython.core.display.HTML object>"
            ],
            "text/html": [
              "Tracking run with wandb version 0.19.7"
            ]
          },
          "metadata": {}
        },
        {
          "output_type": "display_data",
          "data": {
            "text/plain": [
              "<IPython.core.display.HTML object>"
            ],
            "text/html": [
              "Run data is saved locally in <code>/content/wandb/run-20250317_064533-xurt5dqa</code>"
            ]
          },
          "metadata": {}
        },
        {
          "output_type": "display_data",
          "data": {
            "text/plain": [
              "<IPython.core.display.HTML object>"
            ],
            "text/html": [
              "Syncing run <strong><a href='https://wandb.ai/m_dhamu2908/Deep_Learning_Assignment/runs/xurt5dqa' target=\"_blank\">denim-sweep-35</a></strong> to <a href='https://wandb.ai/m_dhamu2908/Deep_Learning_Assignment' target=\"_blank\">Weights & Biases</a> (<a href='https://wandb.me/developer-guide' target=\"_blank\">docs</a>)<br>Sweep page: <a href='https://wandb.ai/m_dhamu2908/Deep_Learning_Assignment/sweeps/y23f6q1q' target=\"_blank\">https://wandb.ai/m_dhamu2908/Deep_Learning_Assignment/sweeps/y23f6q1q</a>"
            ]
          },
          "metadata": {}
        },
        {
          "output_type": "display_data",
          "data": {
            "text/plain": [
              "<IPython.core.display.HTML object>"
            ],
            "text/html": [
              " View project at <a href='https://wandb.ai/m_dhamu2908/Deep_Learning_Assignment' target=\"_blank\">https://wandb.ai/m_dhamu2908/Deep_Learning_Assignment</a>"
            ]
          },
          "metadata": {}
        },
        {
          "output_type": "display_data",
          "data": {
            "text/plain": [
              "<IPython.core.display.HTML object>"
            ],
            "text/html": [
              " View sweep at <a href='https://wandb.ai/m_dhamu2908/Deep_Learning_Assignment/sweeps/y23f6q1q' target=\"_blank\">https://wandb.ai/m_dhamu2908/Deep_Learning_Assignment/sweeps/y23f6q1q</a>"
            ]
          },
          "metadata": {}
        },
        {
          "output_type": "display_data",
          "data": {
            "text/plain": [
              "<IPython.core.display.HTML object>"
            ],
            "text/html": [
              " View run at <a href='https://wandb.ai/m_dhamu2908/Deep_Learning_Assignment/runs/xurt5dqa' target=\"_blank\">https://wandb.ai/m_dhamu2908/Deep_Learning_Assignment/runs/xurt5dqa</a>"
            ]
          },
          "metadata": {}
        },
        {
          "output_type": "stream",
          "name": "stdout",
          "text": [
            "Epoch: 0, Train Accuracy: 0.715037037037037, Train Loss: 0.32509645346864735, Validation Accuracy: 0.7106666666666667, Validation Loss: 0.3254066407015801\n",
            "Epoch: 1, Train Accuracy: 0.7743333333333333, Train Loss: 0.26444740974572084, Validation Accuracy: 0.7666666666666667, Validation Loss: 0.26962821428569456\n",
            "Epoch: 2, Train Accuracy: 0.7892222222222223, Train Loss: 0.244745207944273, Validation Accuracy: 0.7865, Validation Loss: 0.25092669173451004\n",
            "Epoch: 3, Train Accuracy: 0.8021851851851852, Train Loss: 0.22766057534636358, Validation Accuracy: 0.7986666666666666, Validation Loss: 0.23297648175885244\n",
            "Epoch: 4, Train Accuracy: 0.8208518518518518, Train Loss: 0.21123050762364542, Validation Accuracy: 0.8136666666666666, Validation Loss: 0.22022655878682212\n"
          ]
        },
        {
          "output_type": "display_data",
          "data": {
            "text/plain": [
              "<IPython.core.display.HTML object>"
            ],
            "text/html": []
          },
          "metadata": {}
        },
        {
          "output_type": "display_data",
          "data": {
            "text/plain": [
              "<IPython.core.display.HTML object>"
            ],
            "text/html": [
              "<br>    <style><br>        .wandb-row {<br>            display: flex;<br>            flex-direction: row;<br>            flex-wrap: wrap;<br>            justify-content: flex-start;<br>            width: 100%;<br>        }<br>        .wandb-col {<br>            display: flex;<br>            flex-direction: column;<br>            flex-basis: 100%;<br>            flex: 1;<br>            padding: 10px;<br>        }<br>    </style><br><div class=\"wandb-row\"><div class=\"wandb-col\"><h3>Run history:</h3><br/><table class=\"wandb\"><tr><td>epoch</td><td>▁▃▅▆█</td></tr><tr><td>train_accuracy</td><td>▁▅▆▇█</td></tr><tr><td>train_loss</td><td>█▄▃▂▁</td></tr><tr><td>val_accuracy</td><td>▁▅▆▇█</td></tr><tr><td>val_loss</td><td>█▄▃▂▁</td></tr></table><br/></div><div class=\"wandb-col\"><h3>Run summary:</h3><br/><table class=\"wandb\"><tr><td>epoch</td><td>4</td></tr><tr><td>train_accuracy</td><td>0.82085</td></tr><tr><td>train_loss</td><td>0.21123</td></tr><tr><td>val_accuracy</td><td>0.81367</td></tr><tr><td>val_loss</td><td>0.22023</td></tr></table><br/></div></div>"
            ]
          },
          "metadata": {}
        },
        {
          "output_type": "display_data",
          "data": {
            "text/plain": [
              "<IPython.core.display.HTML object>"
            ],
            "text/html": [
              " View run <strong style=\"color:#cdcd00\">lr_0.001_bs_64_epochs_5_act_relu_opt_nadam</strong> at: <a href='https://wandb.ai/m_dhamu2908/Deep_Learning_Assignment/runs/xurt5dqa' target=\"_blank\">https://wandb.ai/m_dhamu2908/Deep_Learning_Assignment/runs/xurt5dqa</a><br> View project at: <a href='https://wandb.ai/m_dhamu2908/Deep_Learning_Assignment' target=\"_blank\">https://wandb.ai/m_dhamu2908/Deep_Learning_Assignment</a><br>Synced 5 W&B file(s), 0 media file(s), 0 artifact file(s) and 0 other file(s)"
            ]
          },
          "metadata": {}
        },
        {
          "output_type": "display_data",
          "data": {
            "text/plain": [
              "<IPython.core.display.HTML object>"
            ],
            "text/html": [
              "Find logs at: <code>./wandb/run-20250317_064533-xurt5dqa/logs</code>"
            ]
          },
          "metadata": {}
        },
        {
          "output_type": "stream",
          "name": "stderr",
          "text": [
            "\u001b[34m\u001b[1mwandb\u001b[0m: Agent Starting Run: tne8trsl with config:\n",
            "\u001b[34m\u001b[1mwandb\u001b[0m: \tactivation: relu\n",
            "\u001b[34m\u001b[1mwandb\u001b[0m: \tbatch_size: 64\n",
            "\u001b[34m\u001b[1mwandb\u001b[0m: \tbeta1: 0.99\n",
            "\u001b[34m\u001b[1mwandb\u001b[0m: \tbeta2: 0.999\n",
            "\u001b[34m\u001b[1mwandb\u001b[0m: \tepochs: 5\n",
            "\u001b[34m\u001b[1mwandb\u001b[0m: \teps: 1e-08\n",
            "\u001b[34m\u001b[1mwandb\u001b[0m: \thidden_layers: 4\n",
            "\u001b[34m\u001b[1mwandb\u001b[0m: \thl_size: 32\n",
            "\u001b[34m\u001b[1mwandb\u001b[0m: \tinitialization: xavier\n",
            "\u001b[34m\u001b[1mwandb\u001b[0m: \tlearning_rate: 0.0001\n",
            "\u001b[34m\u001b[1mwandb\u001b[0m: \tloss: cross_entropy\n",
            "\u001b[34m\u001b[1mwandb\u001b[0m: \tmomentum_beta: 0.99\n",
            "\u001b[34m\u001b[1mwandb\u001b[0m: \toptimizer: rmsprop\n",
            "\u001b[34m\u001b[1mwandb\u001b[0m: \trms_beta: 0.99\n",
            "\u001b[34m\u001b[1mwandb\u001b[0m: \tweight_decay: 0\n"
          ]
        },
        {
          "output_type": "display_data",
          "data": {
            "text/plain": [
              "<IPython.core.display.HTML object>"
            ],
            "text/html": [
              "Ignoring project 'Deep_Learning_Assignment' when running a sweep."
            ]
          },
          "metadata": {}
        },
        {
          "output_type": "display_data",
          "data": {
            "text/plain": [
              "<IPython.core.display.HTML object>"
            ],
            "text/html": [
              "Tracking run with wandb version 0.19.7"
            ]
          },
          "metadata": {}
        },
        {
          "output_type": "display_data",
          "data": {
            "text/plain": [
              "<IPython.core.display.HTML object>"
            ],
            "text/html": [
              "Run data is saved locally in <code>/content/wandb/run-20250317_065235-tne8trsl</code>"
            ]
          },
          "metadata": {}
        },
        {
          "output_type": "display_data",
          "data": {
            "text/plain": [
              "<IPython.core.display.HTML object>"
            ],
            "text/html": [
              "Syncing run <strong><a href='https://wandb.ai/m_dhamu2908/Deep_Learning_Assignment/runs/tne8trsl' target=\"_blank\">pious-sweep-36</a></strong> to <a href='https://wandb.ai/m_dhamu2908/Deep_Learning_Assignment' target=\"_blank\">Weights & Biases</a> (<a href='https://wandb.me/developer-guide' target=\"_blank\">docs</a>)<br>Sweep page: <a href='https://wandb.ai/m_dhamu2908/Deep_Learning_Assignment/sweeps/y23f6q1q' target=\"_blank\">https://wandb.ai/m_dhamu2908/Deep_Learning_Assignment/sweeps/y23f6q1q</a>"
            ]
          },
          "metadata": {}
        },
        {
          "output_type": "display_data",
          "data": {
            "text/plain": [
              "<IPython.core.display.HTML object>"
            ],
            "text/html": [
              " View project at <a href='https://wandb.ai/m_dhamu2908/Deep_Learning_Assignment' target=\"_blank\">https://wandb.ai/m_dhamu2908/Deep_Learning_Assignment</a>"
            ]
          },
          "metadata": {}
        },
        {
          "output_type": "display_data",
          "data": {
            "text/plain": [
              "<IPython.core.display.HTML object>"
            ],
            "text/html": [
              " View sweep at <a href='https://wandb.ai/m_dhamu2908/Deep_Learning_Assignment/sweeps/y23f6q1q' target=\"_blank\">https://wandb.ai/m_dhamu2908/Deep_Learning_Assignment/sweeps/y23f6q1q</a>"
            ]
          },
          "metadata": {}
        },
        {
          "output_type": "display_data",
          "data": {
            "text/plain": [
              "<IPython.core.display.HTML object>"
            ],
            "text/html": [
              " View run at <a href='https://wandb.ai/m_dhamu2908/Deep_Learning_Assignment/runs/tne8trsl' target=\"_blank\">https://wandb.ai/m_dhamu2908/Deep_Learning_Assignment/runs/tne8trsl</a>"
            ]
          },
          "metadata": {}
        },
        {
          "output_type": "stream",
          "name": "stdout",
          "text": [
            "Epoch: 0, Train Accuracy: 0.7640740740740741, Train Loss: 0.3039944518667406, Validation Accuracy: 0.7645, Validation Loss: 0.2994032596192599\n",
            "Epoch: 1, Train Accuracy: 0.8046666666666666, Train Loss: 0.24609461836956475, Validation Accuracy: 0.8021666666666667, Validation Loss: 0.24457288665968493\n",
            "Epoch: 2, Train Accuracy: 0.8207407407407408, Train Loss: 0.22384584658068177, Validation Accuracy: 0.8161666666666667, Validation Loss: 0.2244057751999646\n",
            "Epoch: 3, Train Accuracy: 0.8315925925925925, Train Loss: 0.21050627257135707, Validation Accuracy: 0.8265, Validation Loss: 0.2127976808078951\n",
            "Epoch: 4, Train Accuracy: 0.8394259259259259, Train Loss: 0.20062401788702505, Validation Accuracy: 0.8345, Validation Loss: 0.20400524072721218\n"
          ]
        },
        {
          "output_type": "display_data",
          "data": {
            "text/plain": [
              "<IPython.core.display.HTML object>"
            ],
            "text/html": []
          },
          "metadata": {}
        },
        {
          "output_type": "display_data",
          "data": {
            "text/plain": [
              "<IPython.core.display.HTML object>"
            ],
            "text/html": [
              "<br>    <style><br>        .wandb-row {<br>            display: flex;<br>            flex-direction: row;<br>            flex-wrap: wrap;<br>            justify-content: flex-start;<br>            width: 100%;<br>        }<br>        .wandb-col {<br>            display: flex;<br>            flex-direction: column;<br>            flex-basis: 100%;<br>            flex: 1;<br>            padding: 10px;<br>        }<br>    </style><br><div class=\"wandb-row\"><div class=\"wandb-col\"><h3>Run history:</h3><br/><table class=\"wandb\"><tr><td>epoch</td><td>▁▃▅▆█</td></tr><tr><td>train_accuracy</td><td>▁▅▆▇█</td></tr><tr><td>train_loss</td><td>█▄▃▂▁</td></tr><tr><td>val_accuracy</td><td>▁▅▆▇█</td></tr><tr><td>val_loss</td><td>█▄▂▂▁</td></tr></table><br/></div><div class=\"wandb-col\"><h3>Run summary:</h3><br/><table class=\"wandb\"><tr><td>epoch</td><td>4</td></tr><tr><td>train_accuracy</td><td>0.83943</td></tr><tr><td>train_loss</td><td>0.20062</td></tr><tr><td>val_accuracy</td><td>0.8345</td></tr><tr><td>val_loss</td><td>0.20401</td></tr></table><br/></div></div>"
            ]
          },
          "metadata": {}
        },
        {
          "output_type": "display_data",
          "data": {
            "text/plain": [
              "<IPython.core.display.HTML object>"
            ],
            "text/html": [
              " View run <strong style=\"color:#cdcd00\">lr_0.0001_bs_64_epochs_5_act_relu_opt_rmsprop</strong> at: <a href='https://wandb.ai/m_dhamu2908/Deep_Learning_Assignment/runs/tne8trsl' target=\"_blank\">https://wandb.ai/m_dhamu2908/Deep_Learning_Assignment/runs/tne8trsl</a><br> View project at: <a href='https://wandb.ai/m_dhamu2908/Deep_Learning_Assignment' target=\"_blank\">https://wandb.ai/m_dhamu2908/Deep_Learning_Assignment</a><br>Synced 5 W&B file(s), 0 media file(s), 0 artifact file(s) and 0 other file(s)"
            ]
          },
          "metadata": {}
        },
        {
          "output_type": "display_data",
          "data": {
            "text/plain": [
              "<IPython.core.display.HTML object>"
            ],
            "text/html": [
              "Find logs at: <code>./wandb/run-20250317_065235-tne8trsl/logs</code>"
            ]
          },
          "metadata": {}
        },
        {
          "output_type": "stream",
          "name": "stderr",
          "text": [
            "\u001b[34m\u001b[1mwandb\u001b[0m: Agent Starting Run: w1c6a7xq with config:\n",
            "\u001b[34m\u001b[1mwandb\u001b[0m: \tactivation: relu\n",
            "\u001b[34m\u001b[1mwandb\u001b[0m: \tbatch_size: 64\n",
            "\u001b[34m\u001b[1mwandb\u001b[0m: \tbeta1: 0.99\n",
            "\u001b[34m\u001b[1mwandb\u001b[0m: \tbeta2: 0.99\n",
            "\u001b[34m\u001b[1mwandb\u001b[0m: \tepochs: 5\n",
            "\u001b[34m\u001b[1mwandb\u001b[0m: \teps: 1e-08\n",
            "\u001b[34m\u001b[1mwandb\u001b[0m: \thidden_layers: 5\n",
            "\u001b[34m\u001b[1mwandb\u001b[0m: \thl_size: 64\n",
            "\u001b[34m\u001b[1mwandb\u001b[0m: \tinitialization: random\n",
            "\u001b[34m\u001b[1mwandb\u001b[0m: \tlearning_rate: 0.0001\n",
            "\u001b[34m\u001b[1mwandb\u001b[0m: \tloss: cross_entropy\n",
            "\u001b[34m\u001b[1mwandb\u001b[0m: \tmomentum_beta: 0.9\n",
            "\u001b[34m\u001b[1mwandb\u001b[0m: \toptimizer: rmsprop\n",
            "\u001b[34m\u001b[1mwandb\u001b[0m: \trms_beta: 0.99\n",
            "\u001b[34m\u001b[1mwandb\u001b[0m: \tweight_decay: 0\n"
          ]
        },
        {
          "output_type": "display_data",
          "data": {
            "text/plain": [
              "<IPython.core.display.HTML object>"
            ],
            "text/html": [
              "Ignoring project 'Deep_Learning_Assignment' when running a sweep."
            ]
          },
          "metadata": {}
        },
        {
          "output_type": "display_data",
          "data": {
            "text/plain": [
              "<IPython.core.display.HTML object>"
            ],
            "text/html": [
              "Tracking run with wandb version 0.19.7"
            ]
          },
          "metadata": {}
        },
        {
          "output_type": "display_data",
          "data": {
            "text/plain": [
              "<IPython.core.display.HTML object>"
            ],
            "text/html": [
              "Run data is saved locally in <code>/content/wandb/run-20250317_065942-w1c6a7xq</code>"
            ]
          },
          "metadata": {}
        },
        {
          "output_type": "display_data",
          "data": {
            "text/plain": [
              "<IPython.core.display.HTML object>"
            ],
            "text/html": [
              "Syncing run <strong><a href='https://wandb.ai/m_dhamu2908/Deep_Learning_Assignment/runs/w1c6a7xq' target=\"_blank\">royal-sweep-37</a></strong> to <a href='https://wandb.ai/m_dhamu2908/Deep_Learning_Assignment' target=\"_blank\">Weights & Biases</a> (<a href='https://wandb.me/developer-guide' target=\"_blank\">docs</a>)<br>Sweep page: <a href='https://wandb.ai/m_dhamu2908/Deep_Learning_Assignment/sweeps/y23f6q1q' target=\"_blank\">https://wandb.ai/m_dhamu2908/Deep_Learning_Assignment/sweeps/y23f6q1q</a>"
            ]
          },
          "metadata": {}
        },
        {
          "output_type": "display_data",
          "data": {
            "text/plain": [
              "<IPython.core.display.HTML object>"
            ],
            "text/html": [
              " View project at <a href='https://wandb.ai/m_dhamu2908/Deep_Learning_Assignment' target=\"_blank\">https://wandb.ai/m_dhamu2908/Deep_Learning_Assignment</a>"
            ]
          },
          "metadata": {}
        },
        {
          "output_type": "display_data",
          "data": {
            "text/plain": [
              "<IPython.core.display.HTML object>"
            ],
            "text/html": [
              " View sweep at <a href='https://wandb.ai/m_dhamu2908/Deep_Learning_Assignment/sweeps/y23f6q1q' target=\"_blank\">https://wandb.ai/m_dhamu2908/Deep_Learning_Assignment/sweeps/y23f6q1q</a>"
            ]
          },
          "metadata": {}
        },
        {
          "output_type": "display_data",
          "data": {
            "text/plain": [
              "<IPython.core.display.HTML object>"
            ],
            "text/html": [
              " View run at <a href='https://wandb.ai/m_dhamu2908/Deep_Learning_Assignment/runs/w1c6a7xq' target=\"_blank\">https://wandb.ai/m_dhamu2908/Deep_Learning_Assignment/runs/w1c6a7xq</a>"
            ]
          },
          "metadata": {}
        },
        {
          "output_type": "stream",
          "name": "stdout",
          "text": [
            "Epoch: 0, Train Accuracy: 0.14025925925925925, Train Loss: 0.9994702396154365, Validation Accuracy: 0.1475, Validation Loss: 0.9993999614466043\n",
            "Epoch: 1, Train Accuracy: 0.49725925925925923, Train Loss: 0.555275452198967, Validation Accuracy: 0.49666666666666665, Validation Loss: 0.5531783473087152\n",
            "Epoch: 2, Train Accuracy: 0.5833518518518519, Train Loss: 0.45443238805332115, Validation Accuracy: 0.5835, Validation Loss: 0.45408805515456085\n",
            "Epoch: 3, Train Accuracy: 0.6152592592592593, Train Loss: 0.4036459955083562, Validation Accuracy: 0.6193333333333333, Validation Loss: 0.40350706693452615\n",
            "Epoch: 4, Train Accuracy: 0.6371481481481481, Train Loss: 0.3846242891989343, Validation Accuracy: 0.6416666666666667, Validation Loss: 0.38520202808740533\n"
          ]
        },
        {
          "output_type": "display_data",
          "data": {
            "text/plain": [
              "<IPython.core.display.HTML object>"
            ],
            "text/html": []
          },
          "metadata": {}
        },
        {
          "output_type": "display_data",
          "data": {
            "text/plain": [
              "<IPython.core.display.HTML object>"
            ],
            "text/html": [
              "<br>    <style><br>        .wandb-row {<br>            display: flex;<br>            flex-direction: row;<br>            flex-wrap: wrap;<br>            justify-content: flex-start;<br>            width: 100%;<br>        }<br>        .wandb-col {<br>            display: flex;<br>            flex-direction: column;<br>            flex-basis: 100%;<br>            flex: 1;<br>            padding: 10px;<br>        }<br>    </style><br><div class=\"wandb-row\"><div class=\"wandb-col\"><h3>Run history:</h3><br/><table class=\"wandb\"><tr><td>epoch</td><td>▁▃▅▆█</td></tr><tr><td>train_accuracy</td><td>▁▆▇██</td></tr><tr><td>train_loss</td><td>█▃▂▁▁</td></tr><tr><td>val_accuracy</td><td>▁▆▇██</td></tr><tr><td>val_loss</td><td>█▃▂▁▁</td></tr></table><br/></div><div class=\"wandb-col\"><h3>Run summary:</h3><br/><table class=\"wandb\"><tr><td>epoch</td><td>4</td></tr><tr><td>train_accuracy</td><td>0.63715</td></tr><tr><td>train_loss</td><td>0.38462</td></tr><tr><td>val_accuracy</td><td>0.64167</td></tr><tr><td>val_loss</td><td>0.3852</td></tr></table><br/></div></div>"
            ]
          },
          "metadata": {}
        },
        {
          "output_type": "display_data",
          "data": {
            "text/plain": [
              "<IPython.core.display.HTML object>"
            ],
            "text/html": [
              " View run <strong style=\"color:#cdcd00\">lr_0.0001_bs_64_epochs_5_act_relu_opt_rmsprop</strong> at: <a href='https://wandb.ai/m_dhamu2908/Deep_Learning_Assignment/runs/w1c6a7xq' target=\"_blank\">https://wandb.ai/m_dhamu2908/Deep_Learning_Assignment/runs/w1c6a7xq</a><br> View project at: <a href='https://wandb.ai/m_dhamu2908/Deep_Learning_Assignment' target=\"_blank\">https://wandb.ai/m_dhamu2908/Deep_Learning_Assignment</a><br>Synced 5 W&B file(s), 0 media file(s), 0 artifact file(s) and 0 other file(s)"
            ]
          },
          "metadata": {}
        },
        {
          "output_type": "display_data",
          "data": {
            "text/plain": [
              "<IPython.core.display.HTML object>"
            ],
            "text/html": [
              "Find logs at: <code>./wandb/run-20250317_065942-w1c6a7xq/logs</code>"
            ]
          },
          "metadata": {}
        },
        {
          "output_type": "stream",
          "name": "stderr",
          "text": [
            "\u001b[34m\u001b[1mwandb\u001b[0m: Sweep Agent: Waiting for job.\n",
            "\u001b[34m\u001b[1mwandb\u001b[0m: Job received.\n",
            "\u001b[34m\u001b[1mwandb\u001b[0m: Agent Starting Run: 6g1n8i3t with config:\n",
            "\u001b[34m\u001b[1mwandb\u001b[0m: \tactivation: relu\n",
            "\u001b[34m\u001b[1mwandb\u001b[0m: \tbatch_size: 16\n",
            "\u001b[34m\u001b[1mwandb\u001b[0m: \tbeta1: 0.99\n",
            "\u001b[34m\u001b[1mwandb\u001b[0m: \tbeta2: 0.999\n",
            "\u001b[34m\u001b[1mwandb\u001b[0m: \tepochs: 5\n",
            "\u001b[34m\u001b[1mwandb\u001b[0m: \teps: 1e-08\n",
            "\u001b[34m\u001b[1mwandb\u001b[0m: \thidden_layers: 3\n",
            "\u001b[34m\u001b[1mwandb\u001b[0m: \thl_size: 64\n",
            "\u001b[34m\u001b[1mwandb\u001b[0m: \tinitialization: xavier\n",
            "\u001b[34m\u001b[1mwandb\u001b[0m: \tlearning_rate: 0.001\n",
            "\u001b[34m\u001b[1mwandb\u001b[0m: \tloss: cross_entropy\n",
            "\u001b[34m\u001b[1mwandb\u001b[0m: \tmomentum_beta: 0.99\n",
            "\u001b[34m\u001b[1mwandb\u001b[0m: \toptimizer: rmsprop\n",
            "\u001b[34m\u001b[1mwandb\u001b[0m: \trms_beta: 0.99\n",
            "\u001b[34m\u001b[1mwandb\u001b[0m: \tweight_decay: 0\n"
          ]
        },
        {
          "output_type": "display_data",
          "data": {
            "text/plain": [
              "<IPython.core.display.HTML object>"
            ],
            "text/html": [
              "Ignoring project 'Deep_Learning_Assignment' when running a sweep."
            ]
          },
          "metadata": {}
        },
        {
          "output_type": "display_data",
          "data": {
            "text/plain": [
              "<IPython.core.display.HTML object>"
            ],
            "text/html": [
              "Tracking run with wandb version 0.19.7"
            ]
          },
          "metadata": {}
        },
        {
          "output_type": "display_data",
          "data": {
            "text/plain": [
              "<IPython.core.display.HTML object>"
            ],
            "text/html": [
              "Run data is saved locally in <code>/content/wandb/run-20250317_071455-6g1n8i3t</code>"
            ]
          },
          "metadata": {}
        },
        {
          "output_type": "display_data",
          "data": {
            "text/plain": [
              "<IPython.core.display.HTML object>"
            ],
            "text/html": [
              "Syncing run <strong><a href='https://wandb.ai/m_dhamu2908/Deep_Learning_Assignment/runs/6g1n8i3t' target=\"_blank\">celestial-sweep-38</a></strong> to <a href='https://wandb.ai/m_dhamu2908/Deep_Learning_Assignment' target=\"_blank\">Weights & Biases</a> (<a href='https://wandb.me/developer-guide' target=\"_blank\">docs</a>)<br>Sweep page: <a href='https://wandb.ai/m_dhamu2908/Deep_Learning_Assignment/sweeps/y23f6q1q' target=\"_blank\">https://wandb.ai/m_dhamu2908/Deep_Learning_Assignment/sweeps/y23f6q1q</a>"
            ]
          },
          "metadata": {}
        },
        {
          "output_type": "display_data",
          "data": {
            "text/plain": [
              "<IPython.core.display.HTML object>"
            ],
            "text/html": [
              " View project at <a href='https://wandb.ai/m_dhamu2908/Deep_Learning_Assignment' target=\"_blank\">https://wandb.ai/m_dhamu2908/Deep_Learning_Assignment</a>"
            ]
          },
          "metadata": {}
        },
        {
          "output_type": "display_data",
          "data": {
            "text/plain": [
              "<IPython.core.display.HTML object>"
            ],
            "text/html": [
              " View sweep at <a href='https://wandb.ai/m_dhamu2908/Deep_Learning_Assignment/sweeps/y23f6q1q' target=\"_blank\">https://wandb.ai/m_dhamu2908/Deep_Learning_Assignment/sweeps/y23f6q1q</a>"
            ]
          },
          "metadata": {}
        },
        {
          "output_type": "display_data",
          "data": {
            "text/plain": [
              "<IPython.core.display.HTML object>"
            ],
            "text/html": [
              " View run at <a href='https://wandb.ai/m_dhamu2908/Deep_Learning_Assignment/runs/6g1n8i3t' target=\"_blank\">https://wandb.ai/m_dhamu2908/Deep_Learning_Assignment/runs/6g1n8i3t</a>"
            ]
          },
          "metadata": {}
        },
        {
          "output_type": "stream",
          "name": "stdout",
          "text": [
            "Epoch: 0, Train Accuracy: 0.8553518518518518, Train Loss: 0.17080861111101855, Validation Accuracy: 0.8493333333333334, Validation Loss: 0.17923060962098716\n",
            "Epoch: 1, Train Accuracy: 0.8764074074074074, Train Loss: 0.14597616313863798, Validation Accuracy: 0.8653333333333333, Validation Loss: 0.16002555537783036\n",
            "Epoch: 2, Train Accuracy: 0.886, Train Loss: 0.13406820796143315, Validation Accuracy: 0.8695, Validation Loss: 0.15647311616250384\n",
            "Epoch: 3, Train Accuracy: 0.8877407407407407, Train Loss: 0.12956236049019004, Validation Accuracy: 0.8721666666666666, Validation Loss: 0.1571294840468308\n",
            "Epoch: 4, Train Accuracy: 0.8909814814814815, Train Loss: 0.12644875255642937, Validation Accuracy: 0.8726666666666667, Validation Loss: 0.15667838011266821\n"
          ]
        },
        {
          "output_type": "display_data",
          "data": {
            "text/plain": [
              "<IPython.core.display.HTML object>"
            ],
            "text/html": []
          },
          "metadata": {}
        },
        {
          "output_type": "display_data",
          "data": {
            "text/plain": [
              "<IPython.core.display.HTML object>"
            ],
            "text/html": [
              "<br>    <style><br>        .wandb-row {<br>            display: flex;<br>            flex-direction: row;<br>            flex-wrap: wrap;<br>            justify-content: flex-start;<br>            width: 100%;<br>        }<br>        .wandb-col {<br>            display: flex;<br>            flex-direction: column;<br>            flex-basis: 100%;<br>            flex: 1;<br>            padding: 10px;<br>        }<br>    </style><br><div class=\"wandb-row\"><div class=\"wandb-col\"><h3>Run history:</h3><br/><table class=\"wandb\"><tr><td>epoch</td><td>▁▃▅▆█</td></tr><tr><td>train_accuracy</td><td>▁▅▇▇█</td></tr><tr><td>train_loss</td><td>█▄▂▁▁</td></tr><tr><td>val_accuracy</td><td>▁▆▇██</td></tr><tr><td>val_loss</td><td>█▂▁▁▁</td></tr></table><br/></div><div class=\"wandb-col\"><h3>Run summary:</h3><br/><table class=\"wandb\"><tr><td>epoch</td><td>4</td></tr><tr><td>train_accuracy</td><td>0.89098</td></tr><tr><td>train_loss</td><td>0.12645</td></tr><tr><td>val_accuracy</td><td>0.87267</td></tr><tr><td>val_loss</td><td>0.15668</td></tr></table><br/></div></div>"
            ]
          },
          "metadata": {}
        },
        {
          "output_type": "display_data",
          "data": {
            "text/plain": [
              "<IPython.core.display.HTML object>"
            ],
            "text/html": [
              " View run <strong style=\"color:#cdcd00\">lr_0.001_bs_16_epochs_5_act_relu_opt_rmsprop</strong> at: <a href='https://wandb.ai/m_dhamu2908/Deep_Learning_Assignment/runs/6g1n8i3t' target=\"_blank\">https://wandb.ai/m_dhamu2908/Deep_Learning_Assignment/runs/6g1n8i3t</a><br> View project at: <a href='https://wandb.ai/m_dhamu2908/Deep_Learning_Assignment' target=\"_blank\">https://wandb.ai/m_dhamu2908/Deep_Learning_Assignment</a><br>Synced 5 W&B file(s), 0 media file(s), 0 artifact file(s) and 0 other file(s)"
            ]
          },
          "metadata": {}
        },
        {
          "output_type": "display_data",
          "data": {
            "text/plain": [
              "<IPython.core.display.HTML object>"
            ],
            "text/html": [
              "Find logs at: <code>./wandb/run-20250317_071455-6g1n8i3t/logs</code>"
            ]
          },
          "metadata": {}
        },
        {
          "output_type": "stream",
          "name": "stderr",
          "text": [
            "\u001b[34m\u001b[1mwandb\u001b[0m: Agent Starting Run: 9unbzjhq with config:\n",
            "\u001b[34m\u001b[1mwandb\u001b[0m: \tactivation: relu\n",
            "\u001b[34m\u001b[1mwandb\u001b[0m: \tbatch_size: 64\n",
            "\u001b[34m\u001b[1mwandb\u001b[0m: \tbeta1: 0.9\n",
            "\u001b[34m\u001b[1mwandb\u001b[0m: \tbeta2: 0.999\n",
            "\u001b[34m\u001b[1mwandb\u001b[0m: \tepochs: 10\n",
            "\u001b[34m\u001b[1mwandb\u001b[0m: \teps: 1e-07\n",
            "\u001b[34m\u001b[1mwandb\u001b[0m: \thidden_layers: 4\n",
            "\u001b[34m\u001b[1mwandb\u001b[0m: \thl_size: 64\n",
            "\u001b[34m\u001b[1mwandb\u001b[0m: \tinitialization: random\n",
            "\u001b[34m\u001b[1mwandb\u001b[0m: \tlearning_rate: 0.0001\n",
            "\u001b[34m\u001b[1mwandb\u001b[0m: \tloss: cross_entropy\n",
            "\u001b[34m\u001b[1mwandb\u001b[0m: \tmomentum_beta: 0.8\n",
            "\u001b[34m\u001b[1mwandb\u001b[0m: \toptimizer: nadam\n",
            "\u001b[34m\u001b[1mwandb\u001b[0m: \trms_beta: 0.9\n",
            "\u001b[34m\u001b[1mwandb\u001b[0m: \tweight_decay: 0\n"
          ]
        },
        {
          "output_type": "display_data",
          "data": {
            "text/plain": [
              "<IPython.core.display.HTML object>"
            ],
            "text/html": [
              "Ignoring project 'Deep_Learning_Assignment' when running a sweep."
            ]
          },
          "metadata": {}
        },
        {
          "output_type": "display_data",
          "data": {
            "text/plain": [
              "<IPython.core.display.HTML object>"
            ],
            "text/html": [
              "Tracking run with wandb version 0.19.7"
            ]
          },
          "metadata": {}
        },
        {
          "output_type": "display_data",
          "data": {
            "text/plain": [
              "<IPython.core.display.HTML object>"
            ],
            "text/html": [
              "Run data is saved locally in <code>/content/wandb/run-20250317_072457-9unbzjhq</code>"
            ]
          },
          "metadata": {}
        },
        {
          "output_type": "display_data",
          "data": {
            "text/plain": [
              "<IPython.core.display.HTML object>"
            ],
            "text/html": [
              "Syncing run <strong><a href='https://wandb.ai/m_dhamu2908/Deep_Learning_Assignment/runs/9unbzjhq' target=\"_blank\">happy-sweep-39</a></strong> to <a href='https://wandb.ai/m_dhamu2908/Deep_Learning_Assignment' target=\"_blank\">Weights & Biases</a> (<a href='https://wandb.me/developer-guide' target=\"_blank\">docs</a>)<br>Sweep page: <a href='https://wandb.ai/m_dhamu2908/Deep_Learning_Assignment/sweeps/y23f6q1q' target=\"_blank\">https://wandb.ai/m_dhamu2908/Deep_Learning_Assignment/sweeps/y23f6q1q</a>"
            ]
          },
          "metadata": {}
        },
        {
          "output_type": "display_data",
          "data": {
            "text/plain": [
              "<IPython.core.display.HTML object>"
            ],
            "text/html": [
              " View project at <a href='https://wandb.ai/m_dhamu2908/Deep_Learning_Assignment' target=\"_blank\">https://wandb.ai/m_dhamu2908/Deep_Learning_Assignment</a>"
            ]
          },
          "metadata": {}
        },
        {
          "output_type": "display_data",
          "data": {
            "text/plain": [
              "<IPython.core.display.HTML object>"
            ],
            "text/html": [
              " View sweep at <a href='https://wandb.ai/m_dhamu2908/Deep_Learning_Assignment/sweeps/y23f6q1q' target=\"_blank\">https://wandb.ai/m_dhamu2908/Deep_Learning_Assignment/sweeps/y23f6q1q</a>"
            ]
          },
          "metadata": {}
        },
        {
          "output_type": "display_data",
          "data": {
            "text/plain": [
              "<IPython.core.display.HTML object>"
            ],
            "text/html": [
              " View run at <a href='https://wandb.ai/m_dhamu2908/Deep_Learning_Assignment/runs/9unbzjhq' target=\"_blank\">https://wandb.ai/m_dhamu2908/Deep_Learning_Assignment/runs/9unbzjhq</a>"
            ]
          },
          "metadata": {}
        },
        {
          "output_type": "stream",
          "name": "stdout",
          "text": [
            "Epoch: 0, Train Accuracy: 0.43292592592592594, Train Loss: 0.514847127998728, Validation Accuracy: 0.44083333333333335, Validation Loss: 0.5135844053165214\n",
            "Epoch: 1, Train Accuracy: 0.5278333333333334, Train Loss: 0.4616305618446614, Validation Accuracy: 0.5348333333333334, Validation Loss: 0.4614305180105155\n",
            "Epoch: 2, Train Accuracy: 0.5409074074074074, Train Loss: 0.4446345775545277, Validation Accuracy: 0.549, Validation Loss: 0.4444172590170272\n",
            "Epoch: 3, Train Accuracy: 0.5530185185185185, Train Loss: 0.4361672838236169, Validation Accuracy: 0.5613333333333334, Validation Loss: 0.43587443976344625\n",
            "Epoch: 4, Train Accuracy: 0.5695, Train Loss: 0.43033616322844204, Validation Accuracy: 0.5761666666666667, Validation Loss: 0.4300521956997065\n",
            "Epoch: 5, Train Accuracy: 0.5823518518518519, Train Loss: 0.4257610706543821, Validation Accuracy: 0.59, Validation Loss: 0.4255382142753318\n",
            "Epoch: 6, Train Accuracy: 0.5906111111111111, Train Loss: 0.42192852085302746, Validation Accuracy: 0.6031666666666666, Validation Loss: 0.4217743565357993\n",
            "Epoch: 7, Train Accuracy: 0.5965370370370371, Train Loss: 0.4185804018715531, Validation Accuracy: 0.6091666666666666, Validation Loss: 0.41847776728522973\n",
            "Epoch: 8, Train Accuracy: 0.6018518518518519, Train Loss: 0.4155796175935875, Validation Accuracy: 0.6141666666666666, Validation Loss: 0.4155392077680283\n",
            "Epoch: 9, Train Accuracy: 0.6061481481481481, Train Loss: 0.4128503946475872, Validation Accuracy: 0.6203333333333333, Validation Loss: 0.4128724594733479\n"
          ]
        },
        {
          "output_type": "display_data",
          "data": {
            "text/plain": [
              "<IPython.core.display.HTML object>"
            ],
            "text/html": []
          },
          "metadata": {}
        },
        {
          "output_type": "display_data",
          "data": {
            "text/plain": [
              "<IPython.core.display.HTML object>"
            ],
            "text/html": [
              "<br>    <style><br>        .wandb-row {<br>            display: flex;<br>            flex-direction: row;<br>            flex-wrap: wrap;<br>            justify-content: flex-start;<br>            width: 100%;<br>        }<br>        .wandb-col {<br>            display: flex;<br>            flex-direction: column;<br>            flex-basis: 100%;<br>            flex: 1;<br>            padding: 10px;<br>        }<br>    </style><br><div class=\"wandb-row\"><div class=\"wandb-col\"><h3>Run history:</h3><br/><table class=\"wandb\"><tr><td>epoch</td><td>▁▃▅▆█</td></tr><tr><td>train_accuracy</td><td>▁▃▆▇█</td></tr><tr><td>train_loss</td><td>█▄▃▂▁</td></tr><tr><td>val_accuracy</td><td>▁▃▆▇█</td></tr><tr><td>val_loss</td><td>█▄▃▂▁</td></tr></table><br/></div><div class=\"wandb-col\"><h3>Run summary:</h3><br/><table class=\"wandb\"><tr><td>epoch</td><td>9</td></tr><tr><td>train_accuracy</td><td>0.60615</td></tr><tr><td>train_loss</td><td>0.41285</td></tr><tr><td>val_accuracy</td><td>0.62033</td></tr><tr><td>val_loss</td><td>0.41287</td></tr></table><br/></div></div>"
            ]
          },
          "metadata": {}
        },
        {
          "output_type": "display_data",
          "data": {
            "text/plain": [
              "<IPython.core.display.HTML object>"
            ],
            "text/html": [
              " View run <strong style=\"color:#cdcd00\">lr_0.0001_bs_64_epochs_10_act_relu_opt_nadam</strong> at: <a href='https://wandb.ai/m_dhamu2908/Deep_Learning_Assignment/runs/9unbzjhq' target=\"_blank\">https://wandb.ai/m_dhamu2908/Deep_Learning_Assignment/runs/9unbzjhq</a><br> View project at: <a href='https://wandb.ai/m_dhamu2908/Deep_Learning_Assignment' target=\"_blank\">https://wandb.ai/m_dhamu2908/Deep_Learning_Assignment</a><br>Synced 5 W&B file(s), 0 media file(s), 0 artifact file(s) and 0 other file(s)"
            ]
          },
          "metadata": {}
        },
        {
          "output_type": "display_data",
          "data": {
            "text/plain": [
              "<IPython.core.display.HTML object>"
            ],
            "text/html": [
              "Find logs at: <code>./wandb/run-20250317_072457-9unbzjhq/logs</code>"
            ]
          },
          "metadata": {}
        },
        {
          "output_type": "stream",
          "name": "stderr",
          "text": [
            "\u001b[34m\u001b[1mwandb\u001b[0m: Agent Starting Run: rcqqkf2s with config:\n",
            "\u001b[34m\u001b[1mwandb\u001b[0m: \tactivation: relu\n",
            "\u001b[34m\u001b[1mwandb\u001b[0m: \tbatch_size: 64\n",
            "\u001b[34m\u001b[1mwandb\u001b[0m: \tbeta1: 0.99\n",
            "\u001b[34m\u001b[1mwandb\u001b[0m: \tbeta2: 0.9\n",
            "\u001b[34m\u001b[1mwandb\u001b[0m: \tepochs: 10\n",
            "\u001b[34m\u001b[1mwandb\u001b[0m: \teps: 1e-08\n",
            "\u001b[34m\u001b[1mwandb\u001b[0m: \thidden_layers: 5\n",
            "\u001b[34m\u001b[1mwandb\u001b[0m: \thl_size: 128\n",
            "\u001b[34m\u001b[1mwandb\u001b[0m: \tinitialization: xavier\n",
            "\u001b[34m\u001b[1mwandb\u001b[0m: \tlearning_rate: 0.001\n",
            "\u001b[34m\u001b[1mwandb\u001b[0m: \tloss: cross_entropy\n",
            "\u001b[34m\u001b[1mwandb\u001b[0m: \tmomentum_beta: 0.8\n",
            "\u001b[34m\u001b[1mwandb\u001b[0m: \toptimizer: adam\n",
            "\u001b[34m\u001b[1mwandb\u001b[0m: \trms_beta: 0.99\n",
            "\u001b[34m\u001b[1mwandb\u001b[0m: \tweight_decay: 0\n"
          ]
        },
        {
          "output_type": "display_data",
          "data": {
            "text/plain": [
              "<IPython.core.display.HTML object>"
            ],
            "text/html": [
              "Ignoring project 'Deep_Learning_Assignment' when running a sweep."
            ]
          },
          "metadata": {}
        },
        {
          "output_type": "display_data",
          "data": {
            "text/plain": [
              "<IPython.core.display.HTML object>"
            ],
            "text/html": [
              "Tracking run with wandb version 0.19.7"
            ]
          },
          "metadata": {}
        },
        {
          "output_type": "display_data",
          "data": {
            "text/plain": [
              "<IPython.core.display.HTML object>"
            ],
            "text/html": [
              "Run data is saved locally in <code>/content/wandb/run-20250317_075106-rcqqkf2s</code>"
            ]
          },
          "metadata": {}
        },
        {
          "output_type": "display_data",
          "data": {
            "text/plain": [
              "<IPython.core.display.HTML object>"
            ],
            "text/html": [
              "Syncing run <strong><a href='https://wandb.ai/m_dhamu2908/Deep_Learning_Assignment/runs/rcqqkf2s' target=\"_blank\">fluent-sweep-40</a></strong> to <a href='https://wandb.ai/m_dhamu2908/Deep_Learning_Assignment' target=\"_blank\">Weights & Biases</a> (<a href='https://wandb.me/developer-guide' target=\"_blank\">docs</a>)<br>Sweep page: <a href='https://wandb.ai/m_dhamu2908/Deep_Learning_Assignment/sweeps/y23f6q1q' target=\"_blank\">https://wandb.ai/m_dhamu2908/Deep_Learning_Assignment/sweeps/y23f6q1q</a>"
            ]
          },
          "metadata": {}
        },
        {
          "output_type": "display_data",
          "data": {
            "text/plain": [
              "<IPython.core.display.HTML object>"
            ],
            "text/html": [
              " View project at <a href='https://wandb.ai/m_dhamu2908/Deep_Learning_Assignment' target=\"_blank\">https://wandb.ai/m_dhamu2908/Deep_Learning_Assignment</a>"
            ]
          },
          "metadata": {}
        },
        {
          "output_type": "display_data",
          "data": {
            "text/plain": [
              "<IPython.core.display.HTML object>"
            ],
            "text/html": [
              " View sweep at <a href='https://wandb.ai/m_dhamu2908/Deep_Learning_Assignment/sweeps/y23f6q1q' target=\"_blank\">https://wandb.ai/m_dhamu2908/Deep_Learning_Assignment/sweeps/y23f6q1q</a>"
            ]
          },
          "metadata": {}
        },
        {
          "output_type": "display_data",
          "data": {
            "text/plain": [
              "<IPython.core.display.HTML object>"
            ],
            "text/html": [
              " View run at <a href='https://wandb.ai/m_dhamu2908/Deep_Learning_Assignment/runs/rcqqkf2s' target=\"_blank\">https://wandb.ai/m_dhamu2908/Deep_Learning_Assignment/runs/rcqqkf2s</a>"
            ]
          },
          "metadata": {}
        }
      ]
    }
  ]
}